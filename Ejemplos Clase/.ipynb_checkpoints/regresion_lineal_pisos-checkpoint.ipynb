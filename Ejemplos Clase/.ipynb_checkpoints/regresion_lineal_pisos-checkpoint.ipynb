{
 "cells": [
  {
   "cell_type": "code",
   "execution_count": 1,
   "id": "8414ea71-6e6d-4df5-a3bb-5b698ba73820",
   "metadata": {},
   "outputs": [],
   "source": [
    "import numpy as np\n",
    "import pandas as pd\n",
    "import matplotlib.pyplot as plt\n",
    "import warnings\n",
    "import seaborn as sns\n",
    "from scipy.stats import linregress\n",
    "from sklearn.model_selection import train_test_split\n",
    "from sklearn.linear_model import LinearRegression\n",
    "from sklearn.metrics import mean_squared_error\n",
    "import statsmodels.api as sm\n",
    "from sklearn.preprocessing import StandardScaler\n",
    "from sklearn.linear_model import LogisticRegression\n",
    "\n",
    "\n",
    "random_state = 100\n",
    "warnings.filterwarnings('ignore')"
   ]
  },
  {
   "cell_type": "code",
   "execution_count": 2,
   "id": "53b7c047-45ad-41d6-a62c-3735a724182f",
   "metadata": {},
   "outputs": [],
   "source": [
    "# Leemos los datos\n",
    "data = pd.read_csv('BDpracticafinal.csv')\n",
    "data.columns = data.columns.str.replace(\" \",\"_\")\n",
    "# Escojemos solo las zona residenciales bajas, medias y altas\n",
    "data = data[data.MS_Zoning.isin(['RH','RL','RM'])]\n",
    "\n",
    "# Rellenamos valores missing\n",
    "data['Lot_Frontage'] = data['Lot_Frontage'].fillna(0)\n",
    "data['Mas_Vnr_Type']= data['Mas_Vnr_Type'].fillna('None')\n",
    "data['Garage_Cars']= data['Garage_Cars'].fillna(0)\n",
    "data['Garage_Area']= data['Garage_Area'].fillna(0)\n",
    "data['Garage_Cond']= data['Garage_Cond'].fillna('Sg')\n",
    "data = data.drop(columns='Order')"
   ]
  },
  {
   "cell_type": "code",
   "execution_count": 3,
   "id": "afd7da52-e88a-4534-971f-6d2b0d6cf11c",
   "metadata": {},
   "outputs": [],
   "source": [
    "pendiente = {'Gtl':0, 'Mod':1, 'Sev':2}\n",
    "calidad_sotano = {'Ex':5, 'Gd':4, 'TA':3, 'Fa':2, 'Po':1, 'Ss':0}\n",
    "calidad_garage = {'Ex':5, 'Gd':4, 'TA':3, 'Fa':2, 'Po':1, 'Sg':0}\n",
    "calidad_piscina = {'Ex':5, 'Gd':4, 'TA':3, 'Fa':2, 'Po':1, 'Sp':0}\n",
    "calidad_general = {'Ex':5, 'Gd':4, 'TA':3, 'Fa':2, 'Po':1}\n",
    "quality_columns = ['Exter_Qual', 'Heating_QC', 'Kitchen_Qual']\n",
    "\n",
    "data[quality_columns] = data[quality_columns].replace(calidad_general)\n",
    "data['Land_Slope'] = data['Land_Slope'].replace(pendiente)\n",
    "data['Bsmt_Cond'] = data['Bsmt_Cond'].replace(calidad_sotano)\n",
    "data['Garage_Cond'] = data['Garage_Cond'].replace(calidad_garage)\n",
    "data['Pool_QC'] = data['Pool_QC'].replace(calidad_piscina)\n",
    "data = pd.get_dummies(data)"
   ]
  },
  {
   "cell_type": "code",
   "execution_count": 4,
   "id": "28f072a6-5525-4a6c-924c-c0cd94b24aac",
   "metadata": {},
   "outputs": [],
   "source": [
    "data_train, data_test = train_test_split(data, test_size = 0.3, random_state = random_state)"
   ]
  },
  {
   "cell_type": "code",
   "execution_count": 5,
   "id": "18d55e81-f8f3-4779-9534-30422ae29815",
   "metadata": {},
   "outputs": [],
   "source": [
    "#2. mediante sklearn:\n",
    "from sklearn.preprocessing import StandardScaler\n",
    "\n",
    "# Esta segunda es más recomendable debido a que :\n",
    "# - Lo hacemos en dos pasos. Con el primer paso calculamos los parámetros mean and std que quedarán embbebidos en el objeto scaler:\n",
    "scaler = StandardScaler()\n",
    "train_scaler = scaler.fit(data_train)\n",
    "\n",
    "# - después normalizamos el conjunto de datos que queramos con dichos parámetros. Es necesario crear un dataframe nuevo ya que estos métodos\n",
    "# devuelven un array numpy\n",
    "data_train_norm = pd.DataFrame(index=data_train.index, columns=data_train.columns, data=train_scaler.transform(data_train))"
   ]
  },
  {
   "cell_type": "code",
   "execution_count": 6,
   "id": "d16ce3ee-63f3-4cc1-83a5-f68490713391",
   "metadata": {},
   "outputs": [],
   "source": [
    "X = data_train_norm.drop(columns='SalePrice')\n",
    "y = data_train_norm['SalePrice']"
   ]
  },
  {
   "cell_type": "code",
   "execution_count": 7,
   "id": "dba4daa6-3431-47b1-adff-7702320e0607",
   "metadata": {},
   "outputs": [],
   "source": [
    "lr = LinearRegression(normalize=False)"
   ]
  },
  {
   "cell_type": "code",
   "execution_count": 8,
   "id": "750fb50d-67c3-4599-9bd2-44466f607564",
   "metadata": {},
   "outputs": [
    {
     "data": {
      "text/plain": [
       "LinearRegression()"
      ]
     },
     "execution_count": 8,
     "metadata": {},
     "output_type": "execute_result"
    }
   ],
   "source": [
    "lr.fit(X,y)"
   ]
  },
  {
   "cell_type": "code",
   "execution_count": 9,
   "id": "c4f5061c-b722-42d4-9c4f-8664742fe955",
   "metadata": {},
   "outputs": [
    {
     "data": {
      "text/plain": [
       "0.798926849623524"
      ]
     },
     "execution_count": 9,
     "metadata": {},
     "output_type": "execute_result"
    }
   ],
   "source": [
    "lr.score(X,y)"
   ]
  },
  {
   "cell_type": "code",
   "execution_count": 12,
   "id": "ff1d3d7d-0735-40ca-8409-63111d944da9",
   "metadata": {},
   "outputs": [],
   "source": [
    "data_test_norm = pd.DataFrame(index=data_test.index,  columns=data_test.columns, data=train_scaler.transform(data_test))\n",
    "Xtest = data_test_norm.drop(columns='SalePrice')\n",
    "ytest = data_test_norm['SalePrice']"
   ]
  },
  {
   "cell_type": "code",
   "execution_count": 13,
   "id": "eedf2821-a691-4fe5-a809-69cd5ce71393",
   "metadata": {},
   "outputs": [],
   "source": [
    "predictions = lr.predict(Xtest)"
   ]
  },
  {
   "cell_type": "code",
   "execution_count": 14,
   "id": "79d97190-6967-49ce-9642-41307f1f183b",
   "metadata": {},
   "outputs": [
    {
     "data": {
      "text/plain": [
       "0.8201340699495896"
      ]
     },
     "execution_count": 14,
     "metadata": {},
     "output_type": "execute_result"
    }
   ],
   "source": [
    "lr.score(Xtest,ytest)"
   ]
  },
  {
   "cell_type": "code",
   "execution_count": 16,
   "id": "9e2c7093-7cf9-43a4-a24c-4fbc397861bc",
   "metadata": {},
   "outputs": [],
   "source": [
    "predicted_data_norm = data_test_norm.copy()\n",
    "predicted_data_norm['SalePrice'] = predictions"
   ]
  },
  {
   "cell_type": "code",
   "execution_count": 17,
   "id": "65efb4ce-1786-4e6e-9e5a-3845c09c92e4",
   "metadata": {},
   "outputs": [],
   "source": [
    "predicted_data_unorm = pd.DataFrame(index=predicted_data_norm.index, columns=predicted_data_norm.columns, data=train_scaler.inverse_transform(predicted_data_norm))"
   ]
  },
  {
   "cell_type": "code",
   "execution_count": 18,
   "id": "7b97dbdf-3fcc-4fb4-81bb-1a64ba81b5c9",
   "metadata": {},
   "outputs": [],
   "source": [
    "predicted_data_unorm['predicted_sale'] = predicted_data_unorm['SalePrice']\n",
    "predicted_data_unorm['SalePrice'] = data_test['SalePrice']"
   ]
  },
  {
   "cell_type": "code",
   "execution_count": 19,
   "id": "48aa0f38-9ca0-4dfa-a78f-64ce6094856f",
   "metadata": {},
   "outputs": [
    {
     "data": {
      "text/html": [
       "<div>\n",
       "<style scoped>\n",
       "    .dataframe tbody tr th:only-of-type {\n",
       "        vertical-align: middle;\n",
       "    }\n",
       "\n",
       "    .dataframe tbody tr th {\n",
       "        vertical-align: top;\n",
       "    }\n",
       "\n",
       "    .dataframe thead th {\n",
       "        text-align: right;\n",
       "    }\n",
       "</style>\n",
       "<table border=\"1\" class=\"dataframe\">\n",
       "  <thead>\n",
       "    <tr style=\"text-align: right;\">\n",
       "      <th></th>\n",
       "      <th>SalePrice</th>\n",
       "      <th>predicted_sale</th>\n",
       "    </tr>\n",
       "  </thead>\n",
       "  <tbody>\n",
       "    <tr>\n",
       "      <th>1490</th>\n",
       "      <td>135000</td>\n",
       "      <td>157785.485944</td>\n",
       "    </tr>\n",
       "    <tr>\n",
       "      <th>2156</th>\n",
       "      <td>131500</td>\n",
       "      <td>144461.366973</td>\n",
       "    </tr>\n",
       "    <tr>\n",
       "      <th>2530</th>\n",
       "      <td>140000</td>\n",
       "      <td>188915.472993</td>\n",
       "    </tr>\n",
       "    <tr>\n",
       "      <th>1599</th>\n",
       "      <td>98000</td>\n",
       "      <td>129326.878604</td>\n",
       "    </tr>\n",
       "    <tr>\n",
       "      <th>1508</th>\n",
       "      <td>130500</td>\n",
       "      <td>115148.617424</td>\n",
       "    </tr>\n",
       "    <tr>\n",
       "      <th>802</th>\n",
       "      <td>271900</td>\n",
       "      <td>276593.670302</td>\n",
       "    </tr>\n",
       "    <tr>\n",
       "      <th>2816</th>\n",
       "      <td>98000</td>\n",
       "      <td>115143.622440</td>\n",
       "    </tr>\n",
       "    <tr>\n",
       "      <th>1713</th>\n",
       "      <td>232698</td>\n",
       "      <td>263471.848171</td>\n",
       "    </tr>\n",
       "    <tr>\n",
       "      <th>334</th>\n",
       "      <td>157900</td>\n",
       "      <td>135425.441493</td>\n",
       "    </tr>\n",
       "    <tr>\n",
       "      <th>1538</th>\n",
       "      <td>311500</td>\n",
       "      <td>225323.909048</td>\n",
       "    </tr>\n",
       "    <tr>\n",
       "      <th>1037</th>\n",
       "      <td>111250</td>\n",
       "      <td>107467.581268</td>\n",
       "    </tr>\n",
       "    <tr>\n",
       "      <th>2223</th>\n",
       "      <td>201000</td>\n",
       "      <td>188286.105049</td>\n",
       "    </tr>\n",
       "    <tr>\n",
       "      <th>806</th>\n",
       "      <td>131000</td>\n",
       "      <td>143834.808707</td>\n",
       "    </tr>\n",
       "    <tr>\n",
       "      <th>24</th>\n",
       "      <td>149900</td>\n",
       "      <td>150881.481936</td>\n",
       "    </tr>\n",
       "  </tbody>\n",
       "</table>\n",
       "</div>"
      ],
      "text/plain": [
       "      SalePrice  predicted_sale\n",
       "1490     135000   157785.485944\n",
       "2156     131500   144461.366973\n",
       "2530     140000   188915.472993\n",
       "1599      98000   129326.878604\n",
       "1508     130500   115148.617424\n",
       "802      271900   276593.670302\n",
       "2816      98000   115143.622440\n",
       "1713     232698   263471.848171\n",
       "334      157900   135425.441493\n",
       "1538     311500   225323.909048\n",
       "1037     111250   107467.581268\n",
       "2223     201000   188286.105049\n",
       "806      131000   143834.808707\n",
       "24       149900   150881.481936"
      ]
     },
     "execution_count": 19,
     "metadata": {},
     "output_type": "execute_result"
    }
   ],
   "source": [
    "predicted_data_unorm[['SalePrice','predicted_sale']].head(14)"
   ]
  },
  {
   "cell_type": "code",
   "execution_count": 20,
   "id": "83a84652-e13e-4049-bf77-b8c737d3bc75",
   "metadata": {},
   "outputs": [],
   "source": [
    "rmse = np.sqrt(((predicted_data_unorm['SalePrice'] - predicted_data_unorm['predicted_sale'])**2).mean())"
   ]
  },
  {
   "cell_type": "code",
   "execution_count": 21,
   "id": "492a2c2c-7bbd-4e9d-aa54-11ee90f606c6",
   "metadata": {},
   "outputs": [
    {
     "data": {
      "text/plain": [
       "32336.181782678737"
      ]
     },
     "execution_count": 21,
     "metadata": {},
     "output_type": "execute_result"
    }
   ],
   "source": [
    "rmse"
   ]
  },
  {
   "cell_type": "code",
   "execution_count": 22,
   "id": "c7a33cf9-32a6-425e-b092-663139d4b252",
   "metadata": {},
   "outputs": [
    {
     "data": {
      "text/plain": [
       "32336.181782678726"
      ]
     },
     "execution_count": 22,
     "metadata": {},
     "output_type": "execute_result"
    }
   ],
   "source": [
    "mean_squared_error(predicted_data_unorm['SalePrice'], predicted_data_unorm['predicted_sale'], squared=False)"
   ]
  },
  {
   "cell_type": "code",
   "execution_count": 23,
   "id": "2b959ec8-c118-4352-94dc-68292e3c13a5",
   "metadata": {},
   "outputs": [
    {
     "name": "stdout",
     "output_type": "stream",
     "text": [
      "33103.79326640242\n"
     ]
    },
    {
     "data": {
      "text/plain": [
       "18.52836980462726"
      ]
     },
     "execution_count": 23,
     "metadata": {},
     "output_type": "execute_result"
    }
   ],
   "source": [
    "n = data_test.shape[0]\n",
    "parameters = data_test.shape[1]\n",
    "rse =  np.sqrt(((predicted_data_unorm['SalePrice'] - predicted_data_unorm['predicted_sale'])**2).sum()/(n-parameters))\n",
    "print(rse)\n",
    "100*rse/data_test['SalePrice'].mean()"
   ]
  },
  {
   "cell_type": "code",
   "execution_count": null,
   "id": "4512e2b5-b766-4668-852e-d0b4e1dfef1b",
   "metadata": {},
   "outputs": [],
   "source": []
  },
  {
   "cell_type": "markdown",
   "id": "5a1beb74-a16e-432d-b34a-6d738fd7a656",
   "metadata": {},
   "source": [
    "# Logistic Regression #"
   ]
  },
  {
   "cell_type": "code",
   "execution_count": 56,
   "id": "2886df64-eefd-459a-ab4a-d448d26a80c8",
   "metadata": {},
   "outputs": [],
   "source": [
    "data_test_logistic_2 = data_test.copy()\n",
    "data_training_logistic_2 = data_train.copy()"
   ]
  },
  {
   "cell_type": "code",
   "execution_count": 57,
   "id": "32afb1d2-fce4-4e4f-a3ca-586fec4513bf",
   "metadata": {},
   "outputs": [],
   "source": [
    "\n",
    "logistic_scaler_2 = StandardScaler()\n",
    "train_logistic_scaler_2 = logistic_scaler.fit(data_training_logistic_2)\n",
    "\n",
    "data_training_logistic_norm_2 = pd.DataFrame(index=data_training_logistic_2.index, columns=data_training_logistic_2.columns, data=train_logistic_scaler_2.transform(data_training_logistic_2))"
   ]
  },
  {
   "cell_type": "code",
   "execution_count": 58,
   "id": "80ad68e4-dae5-4b33-8178-94482df089d8",
   "metadata": {},
   "outputs": [],
   "source": [
    "X_logistic_2 = data_training_logistic_norm_2.drop(columns=['Mas_Vnr_Type_BrkCmn', 'Mas_Vnr_Type_BrkFace',\n",
    "       'Mas_Vnr_Type_CBlock', 'Mas_Vnr_Type_None', 'Mas_Vnr_Type_Stone'])\n",
    "y_logistic_2 = data_training_logistic_2['Mas_Vnr_Type_BrkFace']"
   ]
  },
  {
   "cell_type": "code",
   "execution_count": 59,
   "id": "d005f9ab-908b-4c22-8e22-5a1b48790841",
   "metadata": {},
   "outputs": [
    {
     "data": {
      "text/plain": [
       "LogisticRegression(random_state=100)"
      ]
     },
     "execution_count": 59,
     "metadata": {},
     "output_type": "execute_result"
    }
   ],
   "source": [
    "lr_2 = LogisticRegression(random_state=100)\n",
    "lr_2.fit(X_logistic_2, y_logistic_2)"
   ]
  },
  {
   "cell_type": "code",
   "execution_count": 60,
   "id": "eea7ef1b-8ca9-4359-9d6a-d5f9905b5c82",
   "metadata": {},
   "outputs": [
    {
     "data": {
      "text/plain": [
       "0.7113295395757889"
      ]
     },
     "execution_count": 60,
     "metadata": {},
     "output_type": "execute_result"
    }
   ],
   "source": [
    "accuracy = lr_2.score(X_logistic_2, y_logistic_2)\n",
    "accuracy"
   ]
  },
  {
   "cell_type": "code",
   "execution_count": 61,
   "id": "8f4a353e-f252-45dd-8d64-10cddde348cc",
   "metadata": {},
   "outputs": [],
   "source": [
    "data_test_logistic_norm_2 = pd.DataFrame(index=data_test_logistic_2.index,  columns=data_test_logistic_2.columns, data=train_logistic_scaler_2.transform(data_test_logistic_2))\n",
    "Xtest_logistic_2 = data_test_logistic_norm_2.drop(columns=['Mas_Vnr_Type_BrkCmn', 'Mas_Vnr_Type_BrkFace',\n",
    "       'Mas_Vnr_Type_CBlock', 'Mas_Vnr_Type_None', 'Mas_Vnr_Type_Stone'])\n",
    "ytest_logistic_2 = data_test_logistic_2['Mas_Vnr_Type_BrkFace']"
   ]
  },
  {
   "cell_type": "code",
   "execution_count": 62,
   "id": "12069982-4345-48d2-9659-bed5a75b8e94",
   "metadata": {},
   "outputs": [
    {
     "data": {
      "text/plain": [
       "array([0, 0], dtype=uint8)"
      ]
     },
     "execution_count": 62,
     "metadata": {},
     "output_type": "execute_result"
    }
   ],
   "source": [
    "lr_2.predict(Xtest_logistic_2.iloc[0:2,:])"
   ]
  },
  {
   "cell_type": "code",
   "execution_count": 63,
   "id": "e481f016-4ab3-48e8-afbb-61f68dc3b533",
   "metadata": {},
   "outputs": [
    {
     "data": {
      "text/plain": [
       "array([[0.60315905, 0.39684095],\n",
       "       [0.75029443, 0.24970557]])"
      ]
     },
     "execution_count": 63,
     "metadata": {},
     "output_type": "execute_result"
    }
   ],
   "source": [
    "lr_2.predict_proba(Xtest_logistic_2.iloc[0:2,:])"
   ]
  },
  {
   "cell_type": "code",
   "execution_count": 64,
   "id": "7c856fac-d8dc-48be-8e88-194cc31860f5",
   "metadata": {},
   "outputs": [
    {
     "data": {
      "text/plain": [
       "0.7020506634499397"
      ]
     },
     "execution_count": 64,
     "metadata": {},
     "output_type": "execute_result"
    }
   ],
   "source": [
    "lr_2.score(Xtest_logistic_2,ytest_logistic_2)"
   ]
  },
  {
   "cell_type": "code",
   "execution_count": 65,
   "id": "2a9bfaeb-3c27-4244-84a0-fb55ebdf2e7e",
   "metadata": {},
   "outputs": [],
   "source": [
    "from sklearn import metrics"
   ]
  },
  {
   "cell_type": "code",
   "execution_count": 67,
   "id": "e1ce23c9-c5d2-471b-8c04-9d1a41b61bfd",
   "metadata": {},
   "outputs": [],
   "source": [
    "predicted_2 = lr_2.predict(Xtest_logistic_2)"
   ]
  },
  {
   "cell_type": "code",
   "execution_count": 68,
   "id": "b665e13f-66f2-47fd-9ef1-8e7e8bff8bfb",
   "metadata": {},
   "outputs": [
    {
     "data": {
      "text/plain": [
       "0.7020506634499397"
      ]
     },
     "execution_count": 68,
     "metadata": {},
     "output_type": "execute_result"
    }
   ],
   "source": [
    "metrics.accuracy_score(predicted,ytest_logistic_2)"
   ]
  },
  {
   "cell_type": "code",
   "execution_count": 69,
   "id": "03c47f00-f500-485a-af40-5f10349fc22f",
   "metadata": {},
   "outputs": [
    {
     "data": {
      "text/plain": [
       "0.6449176842833836"
      ]
     },
     "execution_count": 69,
     "metadata": {},
     "output_type": "execute_result"
    }
   ],
   "source": [
    "metrics.balanced_accuracy_score(predicted_2,ytest_logistic_2)"
   ]
  },
  {
   "cell_type": "code",
   "execution_count": 70,
   "id": "7cd9e7a5-5cb5-4735-a382-286000af8780",
   "metadata": {},
   "outputs": [
    {
     "data": {
      "text/plain": [
       "0.24427480916030533"
      ]
     },
     "execution_count": 70,
     "metadata": {},
     "output_type": "execute_result"
    }
   ],
   "source": [
    "metrics.precision_score(predicted_2,ytest_logistic_2)"
   ]
  },
  {
   "cell_type": "code",
   "execution_count": 71,
   "id": "980f0aaf-3a21-4970-9258-d733fbe86e22",
   "metadata": {},
   "outputs": [
    {
     "data": {
      "text/plain": [
       "0.5663716814159292"
      ]
     },
     "execution_count": 71,
     "metadata": {},
     "output_type": "execute_result"
    }
   ],
   "source": [
    "metrics.recall_score(predicted_2,ytest_logistic_2)"
   ]
  },
  {
   "cell_type": "code",
   "execution_count": 72,
   "id": "018a356c-b3f5-482f-ab63-c100a388dc6e",
   "metadata": {},
   "outputs": [
    {
     "data": {
      "text/plain": [
       "0.3413333333333333"
      ]
     },
     "execution_count": 72,
     "metadata": {},
     "output_type": "execute_result"
    }
   ],
   "source": [
    "metrics.f1_score(predicted_2,ytest_logistic_2)"
   ]
  },
  {
   "cell_type": "markdown",
   "id": "fdff467f-fa49-49a2-b19a-a9c5e723ccd3",
   "metadata": {},
   "source": [
    "# Clase desbalanceada #"
   ]
  },
  {
   "cell_type": "code",
   "execution_count": 54,
   "id": "bf02b8a6-494d-4928-b785-cd4d8884d145",
   "metadata": {},
   "outputs": [
    {
     "data": {
      "text/plain": [
       "(1347, 38)"
      ]
     },
     "execution_count": 54,
     "metadata": {},
     "output_type": "execute_result"
    }
   ],
   "source": [
    "data_training_logistic[data_training_logistic['Mas_Vnr_Type_BrkFace'] == 0].shape"
   ]
  },
  {
   "cell_type": "code",
   "execution_count": 88,
   "id": "db17d2c6-f4da-4b07-ab58-b06639d77b16",
   "metadata": {},
   "outputs": [],
   "source": [
    "from sklearn.metrics import (roc_curve, RocCurveDisplay, auc)\n",
    "import matplotlib.pyplot as plt"
   ]
  },
  {
   "cell_type": "code",
   "execution_count": 89,
   "id": "471e88ef-213e-41ac-8771-7792042f12da",
   "metadata": {},
   "outputs": [
    {
     "data": {
      "image/png": "[encoded data removed]",
      "text/plain": [
       "<Figure size 432x288 with 1 Axes>"
      ]
     },
     "metadata": {
      "needs_background": "light"
     },
     "output_type": "display_data"
    }
   ],
   "source": [
    "fpr, tpr, _ = roc_curve(ytest_logistic_2, predicted_2)\n",
    "disp = RocCurveDisplay(fpr=fpr, tpr=tpr)\n",
    "disp.plot()\n",
    "plt.show()"
   ]
  },
  {
   "cell_type": "code",
   "execution_count": 90,
   "id": "4f40b813-b3cc-45bf-9c59-0d3d1dc0c30b",
   "metadata": {},
   "outputs": [
    {
     "data": {
      "text/plain": [
       "0.5789275280369428"
      ]
     },
     "execution_count": 90,
     "metadata": {},
     "output_type": "execute_result"
    }
   ],
   "source": [
    "auc(fpr, tpr)"
   ]
  },
  {
   "cell_type": "code",
   "execution_count": 91,
   "id": "8e3635fa-d2eb-42c2-ae2c-f7028a98c8d4",
   "metadata": {},
   "outputs": [
    {
     "data": {
      "text/plain": [
       "Index(['Lot_Frontage', 'Lot_Area', 'Land_Slope', 'Overall_Qual', 'Year_Built',\n",
       "       'Year_Remod/Add', 'Exter_Qual', 'Bsmt_Cond', 'Total_Bsmt_SF',\n",
       "       'Heating_QC', 'Full_Bath', 'Half_Bath', 'Bedroom_AbvGr',\n",
       "       'Kitchen_AbvGr', 'Kitchen_Qual', 'TotRms_AbvGrd', 'Garage_Cars',\n",
       "       'Garage_Area', 'Garage_Cond', 'Pool_Area', 'Pool_QC', 'Mo_Sold',\n",
       "       'Yr_Sold', 'SalePrice', 'MS_Zoning_RH', 'MS_Zoning_RL', 'MS_Zoning_RM',\n",
       "       'Land_Contour_Bnk', 'Land_Contour_HLS', 'Land_Contour_Low',\n",
       "       'Land_Contour_Lvl', 'Mas_Vnr_Type_BrkCmn', 'Mas_Vnr_Type_BrkFace',\n",
       "       'Mas_Vnr_Type_CBlock', 'Mas_Vnr_Type_None', 'Mas_Vnr_Type_Stone',\n",
       "       'Central_Air_N', 'Central_Air_Y'],\n",
       "      dtype='object')"
      ]
     },
     "execution_count": 91,
     "metadata": {},
     "output_type": "execute_result"
    }
   ],
   "source": [
    "data_training_logistic.columns"
   ]
  },
  {
   "cell_type": "code",
   "execution_count": 92,
   "id": "f65e6843-f87e-4a08-a1a2-6b3128f8d84c",
   "metadata": {},
   "outputs": [
    {
     "data": {
      "text/plain": [
       "1754    7\n",
       "2378    9\n",
       "609     5\n",
       "2704    7\n",
       "1705    8\n",
       "Name: Overall_Qual, dtype: int64"
      ]
     },
     "execution_count": 92,
     "metadata": {},
     "output_type": "execute_result"
    }
   ],
   "source": [
    "data_training_logistic['Overall_Qual'].head()"
   ]
  },
  {
   "cell_type": "code",
   "execution_count": null,
   "id": "8cab4867-d90c-4d03-a33f-cca5a7c8543e",
   "metadata": {},
   "outputs": [],
   "source": []
  }
 ],
 "metadata": {
  "kernelspec": {
   "display_name": "Python 3 (ipykernel)",
   "language": "python",
   "name": "python3"
  },
  "language_info": {
   "codemirror_mode": {
    "name": "ipython",
    "version": 3
   },
   "file_extension": ".py",
   "mimetype": "text/x-python",
   "name": "python",
   "nbconvert_exporter": "python",
   "pygments_lexer": "ipython3",
   "version": "3.9.7"
  }
 },
 "nbformat": 4,
 "nbformat_minor": 5
}
