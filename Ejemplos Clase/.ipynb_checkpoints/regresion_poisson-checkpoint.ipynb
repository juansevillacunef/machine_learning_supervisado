{
 "cells": [
  {
   "cell_type": "code",
   "execution_count": 79,
   "id": "8414ea71-6e6d-4df5-a3bb-5b698ba73820",
   "metadata": {},
   "outputs": [],
   "source": [
    "import numpy as np\n",
    "import pandas as pd\n",
    "import matplotlib.pyplot as plt\n",
    "import warnings\n",
    "import seaborn as sns\n",
    "from scipy.stats import linregress\n",
    "from sklearn.model_selection import train_test_split\n",
    "from sklearn.linear_model import LinearRegression\n",
    "from sklearn.metrics import mean_squared_error, mean_poisson_deviance\n",
    "import statsmodels.api as sm\n",
    "from sklearn.preprocessing import StandardScaler\n",
    "from sklearn.linear_model import LogisticRegression\n",
    "\n",
    "\n",
    "random_state = 100\n",
    "warnings.filterwarnings('ignore')"
   ]
  },
  {
   "cell_type": "code",
   "execution_count": 80,
   "id": "53b7c047-45ad-41d6-a62c-3735a724182f",
   "metadata": {},
   "outputs": [],
   "source": [
    "# Leemos los datos\n",
    "data = pd.read_csv('BDpracticafinal.csv')\n",
    "data.columns = data.columns.str.replace(\" \",\"_\")\n",
    "# Escojemos solo las zona residenciales bajas, medias y altas\n",
    "data = data[data.MS_Zoning.isin(['RH','RL','RM'])]\n",
    "\n",
    "# Rellenamos valores missing\n",
    "data['Lot_Frontage'] = data['Lot_Frontage'].fillna(0)\n",
    "data['Mas_Vnr_Type']= data['Mas_Vnr_Type'].fillna('None')\n",
    "data['Garage_Cars']= data['Garage_Cars'].fillna(0)\n",
    "data['Garage_Area']= data['Garage_Area'].fillna(0)\n",
    "data['Garage_Cond']= data['Garage_Cond'].fillna('Sg')\n",
    "data = data.drop(columns='Order')"
   ]
  },
  {
   "cell_type": "code",
   "execution_count": 81,
   "id": "afd7da52-e88a-4534-971f-6d2b0d6cf11c",
   "metadata": {},
   "outputs": [],
   "source": [
    "pendiente = {'Gtl':0, 'Mod':1, 'Sev':2}\n",
    "calidad_sotano = {'Ex':5, 'Gd':4, 'TA':3, 'Fa':2, 'Po':1, 'Ss':0}\n",
    "calidad_garage = {'Ex':5, 'Gd':4, 'TA':3, 'Fa':2, 'Po':1, 'Sg':0}\n",
    "calidad_piscina = {'Ex':5, 'Gd':4, 'TA':3, 'Fa':2, 'Po':1, 'Sp':0}\n",
    "calidad_general = {'Ex':5, 'Gd':4, 'TA':3, 'Fa':2, 'Po':1}\n",
    "quality_columns = ['Exter_Qual', 'Heating_QC', 'Kitchen_Qual']\n",
    "\n",
    "data[quality_columns] = data[quality_columns].replace(calidad_general)\n",
    "data['Land_Slope'] = data['Land_Slope'].replace(pendiente)\n",
    "data['Bsmt_Cond'] = data['Bsmt_Cond'].replace(calidad_sotano)\n",
    "data['Garage_Cond'] = data['Garage_Cond'].replace(calidad_garage)\n",
    "data['Pool_QC'] = data['Pool_QC'].replace(calidad_piscina)\n",
    "data = pd.get_dummies(data)"
   ]
  },
  {
   "cell_type": "code",
   "execution_count": 82,
   "id": "515c946a-34a7-4889-b10c-1d2b9beffaa8",
   "metadata": {},
   "outputs": [],
   "source": [
    "var_to_pred = 'Bedroom_AbvGr'"
   ]
  },
  {
   "cell_type": "code",
   "execution_count": 83,
   "id": "28f072a6-5525-4a6c-924c-c0cd94b24aac",
   "metadata": {},
   "outputs": [],
   "source": [
    "data_train, data_test = train_test_split(data, test_size = 0.3, random_state = random_state)"
   ]
  },
  {
   "cell_type": "code",
   "execution_count": 95,
   "id": "18d55e81-f8f3-4779-9534-30422ae29815",
   "metadata": {},
   "outputs": [],
   "source": [
    "#2. mediante sklearn:\n",
    "from sklearn.preprocessing import StandardScaler\n",
    "\n",
    "# Esta segunda es más recomendable debido a que :\n",
    "# - Lo hacemos en dos pasos. Con el primer paso calculamos los parámetros mean and std que quedarán embbebidos en el objeto scaler:\n",
    "scaler = StandardScaler()\n",
    "train_scaler = scaler.fit(data_train)\n",
    "\n",
    "# - después normalizamos el conjunto de datos que queramos con dichos parámetros. Es necesario crear un dataframe nuevo ya que estos métodos\n",
    "# devuelven un array numpy\n",
    "data_train_norm = pd.DataFrame(index=data_train.index, columns=data_train.columns, data=train_scaler.transform(data_train))"
   ]
  },
  {
   "cell_type": "code",
   "execution_count": 96,
   "id": "d16ce3ee-63f3-4cc1-83a5-f68490713391",
   "metadata": {},
   "outputs": [],
   "source": [
    "X = data_train_norm.drop(columns=var_to_pred)\n",
    "y = data_train_norm[var_to_pred]"
   ]
  },
  {
   "cell_type": "code",
   "execution_count": 97,
   "id": "dba4daa6-3431-47b1-adff-7702320e0607",
   "metadata": {},
   "outputs": [],
   "source": [
    "lr = LinearRegression(normalize=False)"
   ]
  },
  {
   "cell_type": "code",
   "execution_count": 98,
   "id": "750fb50d-67c3-4599-9bd2-44466f607564",
   "metadata": {},
   "outputs": [
    {
     "data": {
      "text/plain": [
       "LinearRegression()"
      ]
     },
     "execution_count": 98,
     "metadata": {},
     "output_type": "execute_result"
    }
   ],
   "source": [
    "lr.fit(X,y)"
   ]
  },
  {
   "cell_type": "code",
   "execution_count": 99,
   "id": "c4f5061c-b722-42d4-9c4f-8664742fe955",
   "metadata": {},
   "outputs": [
    {
     "data": {
      "text/plain": [
       "0.5554851263906644"
      ]
     },
     "execution_count": 99,
     "metadata": {},
     "output_type": "execute_result"
    }
   ],
   "source": [
    "lr.score(X,y)"
   ]
  },
  {
   "cell_type": "code",
   "execution_count": 100,
   "id": "ff1d3d7d-0735-40ca-8409-63111d944da9",
   "metadata": {},
   "outputs": [],
   "source": [
    "data_test_norm = pd.DataFrame(index=data_test.index,  columns=data_test.columns, data=train_scaler.transform(data_test))\n",
    "Xtest = data_test_norm.drop(columns=var_to_pred)\n",
    "ytest = data_test_norm[var_to_pred]"
   ]
  },
  {
   "cell_type": "code",
   "execution_count": 101,
   "id": "eedf2821-a691-4fe5-a809-69cd5ce71393",
   "metadata": {},
   "outputs": [],
   "source": [
    "predictions = lr.predict(Xtest)"
   ]
  },
  {
   "cell_type": "code",
   "execution_count": 102,
   "id": "79d97190-6967-49ce-9642-41307f1f183b",
   "metadata": {},
   "outputs": [
    {
     "data": {
      "text/plain": [
       "0.5489930211019133"
      ]
     },
     "execution_count": 102,
     "metadata": {},
     "output_type": "execute_result"
    }
   ],
   "source": [
    "lr.score(Xtest,ytest)"
   ]
  },
  {
   "cell_type": "code",
   "execution_count": 103,
   "id": "9e2c7093-7cf9-43a4-a24c-4fbc397861bc",
   "metadata": {},
   "outputs": [],
   "source": [
    "predicted_data_norm = data_test_norm.copy()\n",
    "predicted_data_norm[var_to_pred] = predictions"
   ]
  },
  {
   "cell_type": "code",
   "execution_count": 104,
   "id": "65efb4ce-1786-4e6e-9e5a-3845c09c92e4",
   "metadata": {},
   "outputs": [],
   "source": [
    "predicted_data_unorm = pd.DataFrame(index=predicted_data_norm.index, columns=predicted_data_norm.columns, data=train_scaler.inverse_transform(predicted_data_norm))"
   ]
  },
  {
   "cell_type": "code",
   "execution_count": 105,
   "id": "57f87fa0-8f33-428c-ba64-fd50bfcf6ba2",
   "metadata": {},
   "outputs": [
    {
     "data": {
      "text/plain": [
       "1490    3.100668\n",
       "2156    1.189870\n",
       "2530    2.905254\n",
       "1599    3.052293\n",
       "1508    2.798935\n",
       "Name: Bedroom_AbvGr, dtype: float64"
      ]
     },
     "execution_count": 105,
     "metadata": {},
     "output_type": "execute_result"
    }
   ],
   "source": [
    "predicted_data_unorm[var_to_pred].head()"
   ]
  },
  {
   "cell_type": "code",
   "execution_count": 106,
   "id": "90948c6d-b49b-451d-8e2d-f2ff08c77481",
   "metadata": {},
   "outputs": [
    {
     "data": {
      "text/plain": [
       "1490    3\n",
       "2156    1\n",
       "2530    3\n",
       "1599    3\n",
       "1508    3\n",
       "Name: Bedroom_AbvGr, dtype: int64"
      ]
     },
     "execution_count": 106,
     "metadata": {},
     "output_type": "execute_result"
    }
   ],
   "source": [
    "data_test[var_to_pred].head()"
   ]
  },
  {
   "cell_type": "code",
   "execution_count": 107,
   "id": "7b97dbdf-3fcc-4fb4-81bb-1a64ba81b5c9",
   "metadata": {},
   "outputs": [],
   "source": [
    "predicted_data_unorm['predicted'] = predicted_data_unorm[var_to_pred]\n",
    "predicted_data_unorm[var_to_pred] = data_test[var_to_pred]"
   ]
  },
  {
   "cell_type": "code",
   "execution_count": 108,
   "id": "48aa0f38-9ca0-4dfa-a78f-64ce6094856f",
   "metadata": {},
   "outputs": [
    {
     "data": {
      "text/html": [
       "<div>\n",
       "<style scoped>\n",
       "    .dataframe tbody tr th:only-of-type {\n",
       "        vertical-align: middle;\n",
       "    }\n",
       "\n",
       "    .dataframe tbody tr th {\n",
       "        vertical-align: top;\n",
       "    }\n",
       "\n",
       "    .dataframe thead th {\n",
       "        text-align: right;\n",
       "    }\n",
       "</style>\n",
       "<table border=\"1\" class=\"dataframe\">\n",
       "  <thead>\n",
       "    <tr style=\"text-align: right;\">\n",
       "      <th></th>\n",
       "      <th>Bedroom_AbvGr</th>\n",
       "      <th>predicted</th>\n",
       "    </tr>\n",
       "  </thead>\n",
       "  <tbody>\n",
       "    <tr>\n",
       "      <th>1490</th>\n",
       "      <td>3</td>\n",
       "      <td>3.100668</td>\n",
       "    </tr>\n",
       "    <tr>\n",
       "      <th>2156</th>\n",
       "      <td>1</td>\n",
       "      <td>1.189870</td>\n",
       "    </tr>\n",
       "    <tr>\n",
       "      <th>2530</th>\n",
       "      <td>3</td>\n",
       "      <td>2.905254</td>\n",
       "    </tr>\n",
       "    <tr>\n",
       "      <th>1599</th>\n",
       "      <td>3</td>\n",
       "      <td>3.052293</td>\n",
       "    </tr>\n",
       "    <tr>\n",
       "      <th>1508</th>\n",
       "      <td>3</td>\n",
       "      <td>2.798935</td>\n",
       "    </tr>\n",
       "    <tr>\n",
       "      <th>802</th>\n",
       "      <td>3</td>\n",
       "      <td>2.801101</td>\n",
       "    </tr>\n",
       "    <tr>\n",
       "      <th>2816</th>\n",
       "      <td>3</td>\n",
       "      <td>2.980373</td>\n",
       "    </tr>\n",
       "    <tr>\n",
       "      <th>1713</th>\n",
       "      <td>3</td>\n",
       "      <td>2.766752</td>\n",
       "    </tr>\n",
       "    <tr>\n",
       "      <th>334</th>\n",
       "      <td>3</td>\n",
       "      <td>2.836557</td>\n",
       "    </tr>\n",
       "    <tr>\n",
       "      <th>1538</th>\n",
       "      <td>3</td>\n",
       "      <td>3.095329</td>\n",
       "    </tr>\n",
       "    <tr>\n",
       "      <th>1037</th>\n",
       "      <td>3</td>\n",
       "      <td>2.430570</td>\n",
       "    </tr>\n",
       "    <tr>\n",
       "      <th>2223</th>\n",
       "      <td>3</td>\n",
       "      <td>2.934164</td>\n",
       "    </tr>\n",
       "    <tr>\n",
       "      <th>806</th>\n",
       "      <td>4</td>\n",
       "      <td>2.539584</td>\n",
       "    </tr>\n",
       "    <tr>\n",
       "      <th>24</th>\n",
       "      <td>3</td>\n",
       "      <td>2.747564</td>\n",
       "    </tr>\n",
       "  </tbody>\n",
       "</table>\n",
       "</div>"
      ],
      "text/plain": [
       "      Bedroom_AbvGr  predicted\n",
       "1490              3   3.100668\n",
       "2156              1   1.189870\n",
       "2530              3   2.905254\n",
       "1599              3   3.052293\n",
       "1508              3   2.798935\n",
       "802               3   2.801101\n",
       "2816              3   2.980373\n",
       "1713              3   2.766752\n",
       "334               3   2.836557\n",
       "1538              3   3.095329\n",
       "1037              3   2.430570\n",
       "2223              3   2.934164\n",
       "806               4   2.539584\n",
       "24                3   2.747564"
      ]
     },
     "execution_count": 108,
     "metadata": {},
     "output_type": "execute_result"
    }
   ],
   "source": [
    "predicted_data_unorm[[var_to_pred,'predicted']].head(14)"
   ]
  },
  {
   "cell_type": "code",
   "execution_count": 109,
   "id": "c7a33cf9-32a6-425e-b092-663139d4b252",
   "metadata": {},
   "outputs": [
    {
     "data": {
      "text/plain": [
       "0.5679560969957662"
      ]
     },
     "execution_count": 109,
     "metadata": {},
     "output_type": "execute_result"
    }
   ],
   "source": [
    "mean_squared_error(predicted_data_unorm[var_to_pred], predicted_data_unorm['predicted'], squared=False)"
   ]
  },
  {
   "cell_type": "code",
   "execution_count": 110,
   "id": "70651813-9a8a-4151-a50f-c2fe0a359e1b",
   "metadata": {},
   "outputs": [
    {
     "data": {
      "text/plain": [
       "0.13601836799057423"
      ]
     },
     "execution_count": 110,
     "metadata": {},
     "output_type": "execute_result"
    }
   ],
   "source": [
    "mean_poisson_deviance(predicted_data_unorm[var_to_pred], predicted_data_unorm['predicted'])"
   ]
  },
  {
   "cell_type": "markdown",
   "id": "5a1beb74-a16e-432d-b34a-6d738fd7a656",
   "metadata": {},
   "source": [
    "# Poisson Regression #"
   ]
  },
  {
   "cell_type": "code",
   "execution_count": 111,
   "id": "2886df64-eefd-459a-ab4a-d448d26a80c8",
   "metadata": {},
   "outputs": [],
   "source": [
    "data_test_poisson = data_test.copy()\n",
    "data_training_poisson = data_train.copy()"
   ]
  },
  {
   "cell_type": "code",
   "execution_count": 112,
   "id": "2207b9af-334c-4916-bbc1-0f523fe59ab7",
   "metadata": {},
   "outputs": [],
   "source": [
    "X_poisson = data_training_poisson.drop(columns=var_to_pred)\n",
    "y_poisson = data_training_poisson[var_to_pred]"
   ]
  },
  {
   "cell_type": "code",
   "execution_count": 113,
   "id": "32afb1d2-fce4-4e4f-a3ca-586fec4513bf",
   "metadata": {},
   "outputs": [],
   "source": [
    "\n",
    "poisson_scaler = StandardScaler()\n",
    "train_poisson_scaler = poisson_scaler.fit(X_poisson)\n",
    "\n",
    "X_poisson_norm = pd.DataFrame(index=X_poisson.index, columns=X_poisson.columns, data=train_poisson_scaler.transform(X_poisson))"
   ]
  },
  {
   "cell_type": "code",
   "execution_count": 114,
   "id": "cb4612ed-969b-4496-bba0-0c0a421566be",
   "metadata": {},
   "outputs": [],
   "source": [
    "from sklearn.linear_model import PoissonRegressor"
   ]
  },
  {
   "cell_type": "code",
   "execution_count": 115,
   "id": "d005f9ab-908b-4c22-8e22-5a1b48790841",
   "metadata": {},
   "outputs": [
    {
     "data": {
      "text/plain": [
       "PoissonRegressor()"
      ]
     },
     "execution_count": 115,
     "metadata": {},
     "output_type": "execute_result"
    }
   ],
   "source": [
    "pr = PoissonRegressor()\n",
    "pr.fit(X_poisson_norm, y_poisson)"
   ]
  },
  {
   "cell_type": "code",
   "execution_count": 116,
   "id": "eea7ef1b-8ca9-4359-9d6a-d5f9905b5c82",
   "metadata": {},
   "outputs": [
    {
     "data": {
      "text/plain": [
       "0.48434420320271965"
      ]
     },
     "execution_count": 116,
     "metadata": {},
     "output_type": "execute_result"
    }
   ],
   "source": [
    "accuracy = pr.score(X_poisson_norm, y_poisson)\n",
    "accuracy"
   ]
  },
  {
   "cell_type": "code",
   "execution_count": 117,
   "id": "d6290c7e-2cd7-413c-af06-7fd9079f51d9",
   "metadata": {},
   "outputs": [],
   "source": [
    "Xtest_poisson = data_test_poisson.drop(columns=var_to_pred)\n",
    "ytest_poisson = data_test_poisson[var_to_pred]\n",
    "Xtest_poisson_norm = pd.DataFrame(index=Xtest_poisson.index,  columns=Xtest_poisson.columns, data=train_poisson_scaler.transform(Xtest_poisson))\n",
    "\n"
   ]
  },
  {
   "cell_type": "code",
   "execution_count": 118,
   "id": "5b164645-f5e9-4747-bfcf-aabd527b04e2",
   "metadata": {},
   "outputs": [
    {
     "data": {
      "text/plain": [
       "0.43379147324448797"
      ]
     },
     "execution_count": 118,
     "metadata": {},
     "output_type": "execute_result"
    }
   ],
   "source": [
    "pr.score(Xtest_poisson_norm, ytest_poisson)"
   ]
  },
  {
   "cell_type": "code",
   "execution_count": 119,
   "id": "c96ce42c-147b-4678-8d84-1527a584048d",
   "metadata": {},
   "outputs": [],
   "source": [
    "predictions = pr.predict(Xtest_poisson_norm)"
   ]
  },
  {
   "cell_type": "code",
   "execution_count": 122,
   "id": "89bcece5-f8a5-40b6-84f8-c0dcaa5ae086",
   "metadata": {},
   "outputs": [
    {
     "data": {
      "text/plain": [
       "array([3.01735067, 1.86900968, 2.94421885, 2.93138319, 2.74847584,\n",
       "       2.85637334, 2.98004025, 2.75870311, 2.80204574, 3.09210824,\n",
       "       2.4975372 , 2.99234773, 2.73889538, 2.74959646, 2.76906666,\n",
       "       3.22221086, 3.942886  , 3.54865843, 2.52469845, 2.58810734,\n",
       "       2.86525508, 2.91376545, 4.8965373 , 1.98931489, 2.7169204 ,\n",
       "       2.77469242, 2.73083286, 3.34027224, 3.678363  , 3.34285739,\n",
       "       2.57889337, 3.12165486, 3.44788109, 2.74685416, 2.9776927 ,\n",
       "       2.78088665, 3.26465036, 2.82477071, 2.47528418, 2.53896755,\n",
       "       2.49874981, 2.67704957, 3.16674045, 2.83114594, 2.9770135 ,\n",
       "       2.58909507, 3.31676482, 2.65987135, 2.94982821, 2.8228127 ,\n",
       "       2.66618818, 2.61535609, 2.60587788, 3.02768306, 2.36609909,\n",
       "       3.09517209, 2.80458856, 2.57325514, 3.05140941, 2.52498442,\n",
       "       2.41327857, 2.82905461, 2.07120743, 2.80778863, 3.06991581,\n",
       "       3.04055754, 2.80334471, 2.00367671, 2.60072281, 2.33549798,\n",
       "       2.8183122 , 2.61331605, 3.58677754, 3.022859  , 4.07771609,\n",
       "       3.07122971, 3.15297468, 2.75468223, 2.48729663, 2.6901902 ,\n",
       "       2.98481121, 3.6138521 , 2.82310951, 1.96352913, 4.11467206,\n",
       "       2.3639019 , 2.70724001, 2.36247261, 4.07520645, 3.35184087,\n",
       "       2.76979229, 2.56067247, 3.02900466, 2.3623666 , 2.6243544 ,\n",
       "       2.24527779, 2.68999198, 2.47835018, 3.2923699 , 3.22886138,\n",
       "       2.4776547 , 2.48848437, 2.72245406, 2.47618107, 2.73869203,\n",
       "       2.95685727, 3.39238537, 3.14717562, 2.43667172, 2.56824338,\n",
       "       2.69226503, 2.38351252, 2.58616136, 3.02626142, 2.40780528,\n",
       "       2.67436423, 2.79185533, 2.4157807 , 3.43473211, 2.55940763,\n",
       "       2.81045763, 2.88610448, 2.97337604, 2.44319863, 3.00616859,\n",
       "       2.78605481, 3.54366084, 2.58891062, 2.5954164 , 2.85345703,\n",
       "       2.41635007, 2.54791013, 3.68317785, 2.62590546, 3.10313607,\n",
       "       2.47145426, 2.58653457, 2.37922459, 2.99456699, 2.66979982,\n",
       "       3.17061913, 2.06680144, 3.3614072 , 3.42389325, 2.82823773,\n",
       "       2.85997629, 3.63010222, 2.62466014, 2.66336156, 2.4292148 ,\n",
       "       2.62767003, 4.20819701, 3.53398918, 4.53341466, 3.16675962,\n",
       "       4.34050721, 3.0356541 , 3.27287704, 3.02125884, 3.19698588,\n",
       "       3.04434354, 2.50969475, 3.21962559, 3.35314319, 2.5425444 ,\n",
       "       3.41185092, 2.96505844, 2.5712676 , 2.18031611, 2.97304593,\n",
       "       3.18048278, 3.16584005, 2.24872618, 2.98172517, 2.57578232,\n",
       "       3.08009753, 2.39224587, 2.54898157, 2.74799158, 3.21307486,\n",
       "       3.21052793, 2.47044354, 2.85160199, 2.64065527, 2.85787509,\n",
       "       2.81825204, 4.35297572, 2.3236688 , 2.52421281, 3.16461379,\n",
       "       3.26331525, 2.57436227, 3.0551913 , 2.62834559, 2.27780071,\n",
       "       3.58730229, 2.99559808, 3.25432591, 4.95349596, 2.45887936,\n",
       "       3.05624711, 2.96110171, 2.1158638 , 2.43306861, 2.87985651,\n",
       "       2.99535791, 3.1854238 , 2.9422691 , 2.83831202, 2.81254334,\n",
       "       2.59554263, 3.52314006, 2.49490269, 1.95491054, 2.56696221,\n",
       "       2.89282028, 3.43682876, 3.39923671, 4.27254827, 2.94590588,\n",
       "       2.61185823, 2.74214455, 3.20622898, 2.96004671, 2.58681655,\n",
       "       2.16885314, 1.88319378, 2.77419602, 3.34978079, 2.60490148,\n",
       "       2.73327376, 2.71733163, 3.41877832, 2.65509558, 2.59272115,\n",
       "       2.74130934, 2.4830526 , 2.44072946, 2.89056178, 2.67538408,\n",
       "       2.6862419 , 3.11474226, 2.81049559, 2.27248879, 2.75028677,\n",
       "       2.78976511, 3.27352824, 2.51438627, 3.14057538, 2.34177461,\n",
       "       3.26250472, 2.51846399, 2.68108126, 2.9049126 , 3.00523879,\n",
       "       2.40930836, 2.8001566 , 3.4380964 , 3.19919171, 2.66095644,\n",
       "       2.75802055, 2.73834889, 4.02808923, 3.11503938, 2.87934754,\n",
       "       2.75622606, 4.41313403, 4.14504401, 2.62283353, 2.53700877,\n",
       "       2.84133104, 3.21628505, 2.86492149, 3.14409445, 2.5609876 ,\n",
       "       3.28415053, 2.60505411, 2.76240098, 3.47246407, 2.48896217,\n",
       "       2.47843342, 2.58413842, 2.62609896, 2.96451225, 2.54793128,\n",
       "       2.3390101 , 2.16871491, 3.21173618, 2.89805014, 3.3590772 ,\n",
       "       3.17001826, 2.74408557, 3.15604716, 3.453684  , 3.05291912,\n",
       "       3.94878338, 2.67036576, 2.77227248, 2.97758726, 2.26854619,\n",
       "       2.48165818, 2.55939952, 3.43067395, 2.69985783, 3.22550473,\n",
       "       2.86661587, 2.87553985, 2.52045882, 3.12053396, 2.5191981 ,\n",
       "       2.25892466, 2.26686394, 4.10884441, 2.5531639 , 3.52601714,\n",
       "       2.53745247, 2.58276241, 2.61191746, 2.98217163, 3.79976041,\n",
       "       2.96704819, 3.59052105, 2.62612441, 2.28722335, 2.82956999,\n",
       "       3.13326984, 2.94047318, 3.76725163, 3.22634572, 3.27275054,\n",
       "       3.11330401, 2.41077258, 2.70180618, 3.07082615, 3.22131515,\n",
       "       2.73331995, 2.8830571 , 3.34788425, 3.00782378, 3.01154609,\n",
       "       2.79103687, 2.508316  , 2.89102013, 2.92679287, 2.76453392,\n",
       "       3.75599011, 2.71922588, 3.22991681, 3.4590978 , 2.50081046,\n",
       "       3.41774977, 3.30544218, 3.8339198 , 3.16524697, 3.38234633,\n",
       "       2.45246973, 3.18509225, 2.86488402, 3.2135399 , 2.64710774,\n",
       "       2.4830058 , 3.27977031, 2.62388597, 3.13752018, 2.56207547,\n",
       "       2.79373889, 5.03928479, 3.23783733, 2.68830282, 3.00384213,\n",
       "       3.39319101, 3.06715113, 2.56921207, 3.15732493, 3.01287353,\n",
       "       3.25451005, 2.56350979, 3.61801766, 3.23709774, 2.91496079,\n",
       "       2.22741656, 2.90640577, 2.85505182, 3.17047954, 2.78059237,\n",
       "       3.44840728, 2.98739505, 2.65384852, 2.8430767 , 2.92672278,\n",
       "       2.60207139, 2.41095801, 2.58391139, 2.89876148, 2.9425052 ,\n",
       "       4.04636131, 3.15960738, 2.98728432, 3.16443865, 3.62796805,\n",
       "       3.01225661, 2.64238538, 2.48564497, 3.2276214 , 2.41907134,\n",
       "       2.4731024 , 2.67806139, 3.70458053, 2.93353348, 2.89980112,\n",
       "       2.65665264, 2.80488774, 2.7740924 , 3.55126539, 2.76067069,\n",
       "       3.02480224, 3.14356241, 3.13747773, 3.08345097, 2.65133302,\n",
       "       3.00383913, 2.96650642, 3.08739447, 2.8137238 , 2.52076289,\n",
       "       2.4689628 , 3.73834483, 2.8321523 , 2.52155524, 3.40239596,\n",
       "       3.1250819 , 3.56742724, 3.01353175, 2.81257348, 2.77907392,\n",
       "       2.83116094, 2.66967888, 4.1700247 , 3.19619271, 2.40759733,\n",
       "       2.12693704, 3.28124674, 3.12645034, 3.27692405, 2.83515266,\n",
       "       2.76329649, 2.23822454, 2.06132823, 3.71328091, 2.72858868,\n",
       "       2.5800655 , 2.59697426, 3.01296028, 2.63366566, 3.52034244,\n",
       "       2.99104033, 2.94070785, 3.02976549, 3.28470502, 3.13684026,\n",
       "       2.89649991, 2.5713981 , 2.85107239, 2.65754129, 2.38978103,\n",
       "       2.70193285, 2.27609978, 3.53777261, 2.7724736 , 3.24078862,\n",
       "       2.64523803, 3.23620815, 2.80612208, 2.44822868, 3.40836076,\n",
       "       2.49782074, 2.35580243, 2.594179  , 2.87157642, 3.39831456,\n",
       "       3.70335178, 2.40655834, 3.38326968, 3.92956397, 2.80260858,\n",
       "       2.52071321, 2.32684414, 2.3731389 , 2.62089887, 2.83504477,\n",
       "       2.58385435, 2.60119348, 3.12252252, 2.61607228, 2.60195601,\n",
       "       2.79835955, 3.11521251, 2.50448952, 2.73742269, 2.63336111,\n",
       "       3.14388764, 2.95348017, 2.49222151, 2.79010716, 3.23987775,\n",
       "       2.7597429 , 2.661704  , 1.95886858, 2.44360719, 2.44971407,\n",
       "       3.44297858, 3.41597906, 3.1149032 , 2.57857011, 2.51584754,\n",
       "       3.28415075, 3.13732286, 2.7441006 , 3.96458534, 2.75799618,\n",
       "       2.78527167, 2.96989098, 2.8434033 , 2.63466664, 2.765132  ,\n",
       "       3.06666041, 2.48857157, 2.64727598, 3.23745393, 2.77901182,\n",
       "       3.01414968, 2.89064809, 2.42529735, 3.46481097, 3.47670423,\n",
       "       3.19100586, 2.70994467, 2.98692397, 2.63034156, 2.90548614,\n",
       "       3.00609642, 2.8372349 , 2.31384005, 2.83961383, 2.74272779,\n",
       "       2.7619971 , 3.52330278, 2.98396809, 2.50858195, 3.2329319 ,\n",
       "       2.16616355, 2.93525974, 3.42800899, 2.45086024, 2.92602165,\n",
       "       2.45899574, 2.54360385, 2.69881312, 3.45336532, 2.1612599 ,\n",
       "       3.02314009, 2.81069632, 2.40552747, 2.54751843, 3.09080234,\n",
       "       3.50994846, 3.18034991, 2.84651026, 2.68337236, 3.83129223,\n",
       "       3.00619902, 2.56384988, 2.41529341, 2.99777118, 2.60455599,\n",
       "       2.65694414, 3.63839183, 2.79796319, 2.68483333, 3.15268394,\n",
       "       3.33134806, 3.37335913, 2.47599972, 2.53026577, 2.88705588,\n",
       "       3.23065273, 2.41616853, 2.51718475, 2.53065133, 3.04067222,\n",
       "       2.52099371, 2.8491769 , 2.42047732, 2.99342422, 2.89699533,\n",
       "       2.54835797, 3.79177673, 2.50083463, 3.40461748, 4.33567694,\n",
       "       2.70550566, 2.32809154, 2.73017541, 2.68049358, 2.82904767,\n",
       "       2.38007401, 2.35478005, 2.22618144, 2.55550233, 3.21303754,\n",
       "       2.47428364, 2.58627841, 2.7693468 , 2.29134873, 2.80023804,\n",
       "       3.32625058, 3.54296464, 3.82456349, 2.6400002 , 3.0098448 ,\n",
       "       3.03434519, 3.25737659, 2.86591127, 2.96686225, 3.21103315,\n",
       "       2.68093736, 4.14182015, 2.51971885, 3.64543224, 2.91887489,\n",
       "       2.57401704, 2.54554073, 2.66708329, 2.44158956, 4.34396723,\n",
       "       3.53108354, 2.55394259, 3.2612354 , 2.80103321, 2.85173808,\n",
       "       2.56400706, 2.62261203, 2.6474626 , 2.44916263, 2.53158931,\n",
       "       3.61086866, 3.32987786, 2.46611965, 2.74439456, 2.33273336,\n",
       "       2.6403421 , 3.54224489, 3.03663852, 3.0520735 , 3.5713455 ,\n",
       "       2.67727989, 2.06171926, 2.50550492, 2.90667914, 2.97227431,\n",
       "       2.23916527, 2.81819361, 2.64925721, 2.79761809, 3.67140133,\n",
       "       4.11693782, 2.99663556, 3.20980439, 3.28773785, 3.08041021,\n",
       "       2.8863897 , 2.87682728, 2.94585443, 2.47583206, 3.30410034,\n",
       "       2.82812454, 2.74428044, 3.03623156, 2.53605603, 2.03166591,\n",
       "       2.3620363 , 2.59376927, 2.25736289, 3.0258655 , 2.74531647,\n",
       "       3.08709395, 2.55367564, 2.95565001, 3.34812141, 2.73318929,\n",
       "       2.79644245, 3.011902  , 2.38961941, 2.64980857, 3.01053978,\n",
       "       3.26836904, 3.04414182, 2.71026409, 3.4705283 , 2.34896845,\n",
       "       2.68648205, 2.47649939, 2.40159372, 2.66360893, 2.57736598,\n",
       "       2.89642233, 3.15623892, 4.28908912, 2.48869856, 3.81721058,\n",
       "       2.52345216, 2.96208301, 3.29061794, 2.50755885, 2.60190294,\n",
       "       3.2818552 , 2.72589097, 2.55255346, 2.32596895, 4.04617305,\n",
       "       2.90788848, 2.69619332, 2.00350902, 2.96178503, 2.17203122,\n",
       "       3.443601  , 2.50009869, 4.33473757, 2.57498233, 2.58005338,\n",
       "       1.83694631, 2.84261474, 2.54664421, 3.4129641 , 4.64597547,\n",
       "       2.69688505, 3.29959477, 2.71970313, 2.7984249 , 2.96629176,\n",
       "       2.84367174, 2.39128576, 3.00530038, 2.74653669, 3.09504364,\n",
       "       3.27386631, 2.65360674, 2.87150993, 2.39599754, 2.81002555,\n",
       "       2.80843662, 2.17018471, 2.60015948, 2.49252613, 3.33134019,\n",
       "       2.71717673, 2.96394664, 3.65276214, 2.46372506, 2.37234677,\n",
       "       3.22172993, 3.4322011 , 2.81209136, 2.80116695, 2.82802188,\n",
       "       2.50207937, 3.03273831, 3.08419204, 2.47588136, 2.99666678,\n",
       "       2.81674219, 2.61726121, 2.74801905, 2.45914385, 4.66085181,\n",
       "       2.71805096, 2.61098501, 2.8819621 , 2.50140835, 2.91096189,\n",
       "       2.66153385, 2.59172251, 3.97338729, 2.41395082, 2.56770569,\n",
       "       2.36745314, 2.82945738, 2.46002263, 2.78430256, 3.3974899 ,\n",
       "       3.49668554, 3.0767946 , 2.5150886 , 3.07786593, 2.39000796,\n",
       "       2.40172878, 2.94084843, 2.87793323, 2.2996337 , 2.98446133,\n",
       "       3.23406594, 2.72947446, 2.31898429, 2.64149557, 3.45081577,\n",
       "       2.7684323 , 2.50817647, 2.47067166, 2.03751886, 3.79642319,\n",
       "       2.47750454, 3.55582527, 2.86408337, 2.45556948, 1.80732823,\n",
       "       2.78859837, 2.36901439, 2.52306824, 2.43469746, 2.60912435,\n",
       "       2.4590069 , 2.4639132 , 2.56724551, 4.09004553, 2.62995717,\n",
       "       2.4851735 , 2.82138245, 2.86598013, 3.30405904])"
      ]
     },
     "execution_count": 122,
     "metadata": {},
     "output_type": "execute_result"
    }
   ],
   "source": [
    "predictions"
   ]
  },
  {
   "cell_type": "code",
   "execution_count": 120,
   "id": "fa1f695d-b0e5-4808-b606-c34b59047410",
   "metadata": {},
   "outputs": [
    {
     "data": {
      "text/plain": [
       "0.6060025468350156"
      ]
     },
     "execution_count": 120,
     "metadata": {},
     "output_type": "execute_result"
    }
   ],
   "source": [
    "mean_squared_error(ytest_poisson, predictions, squared=False)"
   ]
  },
  {
   "cell_type": "code",
   "execution_count": 121,
   "id": "344eaec8-ad41-446b-9b8d-1f5508a4cda2",
   "metadata": {},
   "outputs": [
    {
     "data": {
      "text/plain": [
       "0.1567373868651299"
      ]
     },
     "execution_count": 121,
     "metadata": {},
     "output_type": "execute_result"
    }
   ],
   "source": [
    "mean_poisson_deviance(ytest_poisson, predictions)"
   ]
  },
  {
   "cell_type": "code",
   "execution_count": null,
   "id": "f0b9009a-0119-47ca-9c2c-feed5dbe796d",
   "metadata": {},
   "outputs": [],
   "source": []
  }
 ],
 "metadata": {
  "kernelspec": {
   "display_name": "Python 3 (ipykernel)",
   "language": "python",
   "name": "python3"
  },
  "language_info": {
   "codemirror_mode": {
    "name": "ipython",
    "version": 3
   },
   "file_extension": ".py",
   "mimetype": "text/x-python",
   "name": "python",
   "nbconvert_exporter": "python",
   "pygments_lexer": "ipython3",
   "version": "3.9.7"
  }
 },
 "nbformat": 4,
 "nbformat_minor": 5
}
