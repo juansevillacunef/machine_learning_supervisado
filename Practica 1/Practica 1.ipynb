{
 "cells": [
  {
   "cell_type": "markdown",
   "id": "76dbd8fa",
   "metadata": {},
   "source": [
    "# Data Lending Club - Práctica 1\n",
    "## Juan Sevilla Fernandez\n",
    "\n",
    "Lending Club es una de las empresas P2P más grandes, publica regularmente conjuntos de datos anonimizados de sus clientes que contienen características de los préstamos y los prestatarios. Esta información se puede utilizar para clasificar si un prestatario incumplirá o no con su préstamo.\n",
    "\n",
    "Por ejemplo, los bancos suelen tener datos informativos para crear modelos que ayuden a decidir a quién conceder o denegar un préstamo. Es un problema de clasificación supervisado.\n"
   ]
  },
  {
   "cell_type": "markdown",
   "id": "f034640b",
   "metadata": {},
   "source": [
    "## Definición del problema:\n",
    "Se desea predecir, antes de conceder un préstamo a una persona, la probabilidad de que no se devuelva completamente. Por tanto, todas las variables del dataset que se empleen para el modelo, deben poderse utilizar en el momento de su llamada. Para ello, se empleará un algoritmo de clasificación supervisado.\n",
    "\n",
    "El fichero “Data_Dictionary.xls” contiene toda las variables y sus descripción a utilizar en el modelo de clasificación.\n",
    "\n",
    "El conjunto de datos se encuentra en el fichero “pd_data_initial_preprocessing.csv”\n",
    "\n",
    "La variable objetivo a predecir, que define si un cliente pagará una hipoteca o no es *loan_status* ."
   ]
  },
  {
   "cell_type": "code",
   "execution_count": 1,
   "id": "533d29a5",
   "metadata": {
    "scrolled": false
   },
   "outputs": [],
   "source": [
    "import numpy as np\n",
    "import pandas as pd\n",
    "import matplotlib.pyplot as plt\n",
    "import warnings\n",
    "import seaborn as sns\n",
    "from scipy.stats import linregress\n",
    "from sklearn.model_selection import train_test_split\n",
    "from sklearn.linear_model import LinearRegression\n",
    "from sklearn.metrics import mean_squared_error, mean_poisson_deviance\n",
    "import statsmodels.api as sm\n",
    "from sklearn.preprocessing import StandardScaler\n",
    "from sklearn.linear_model import LogisticRegression\n",
    "\n",
    "import sklearn\n",
    "warnings.filterwarnings('ignore')"
   ]
  },
  {
   "cell_type": "code",
   "execution_count": 2,
   "id": "e7585871",
   "metadata": {},
   "outputs": [],
   "source": [
    "random_state = 100"
   ]
  },
  {
   "cell_type": "code",
   "execution_count": 3,
   "id": "af18c590",
   "metadata": {
    "scrolled": false
   },
   "outputs": [],
   "source": [
    "# Read Data\n",
    "data_raw_raw = pd.read_csv('pd_data_initial_preprocessing.csv')"
   ]
  },
  {
   "cell_type": "code",
   "execution_count": 4,
   "id": "8c73a5cf",
   "metadata": {},
   "outputs": [],
   "source": [
    "# We only keep Charged off and Fully Paid loans\n",
    "data_raw = data_raw_raw[(data_raw_raw['loan_status']==\"Fully Paid\")|(data_raw_raw['loan_status']==\"Charged Off\")]"
   ]
  },
  {
   "cell_type": "markdown",
   "id": "02e1aa27",
   "metadata": {},
   "source": [
    "## Puntos a resolver en la práctica:\n",
    "\n",
    "Se pide realizar los siguientes puntos para resolver el problema de clasificación.\n",
    "\n",
    "#### EJERCICIO 1:\n",
    "Hacer un pequeño análisis descriptivo de los datos. Un análisis sencillo que incluya simplemente: (0,5 pts)\n",
    "\n",
    "        ⁃\tCantidad de valores nulos.\n",
    "        ⁃\ttipo de variables (cat, float, etc.)\n",
    "        ⁃\tEn la variable objetivo, distribución de sus valores.\n",
    "        ⁃\tMatriz de correlación en variables continuas.\n"
   ]
  },
  {
   "cell_type": "code",
   "execution_count": 5,
   "id": "35921a1b",
   "metadata": {
    "scrolled": false
   },
   "outputs": [
    {
     "data": {
      "text/html": [
       "<div>\n",
       "<style scoped>\n",
       "    .dataframe tbody tr th:only-of-type {\n",
       "        vertical-align: middle;\n",
       "    }\n",
       "\n",
       "    .dataframe tbody tr th {\n",
       "        vertical-align: top;\n",
       "    }\n",
       "\n",
       "    .dataframe thead th {\n",
       "        text-align: right;\n",
       "    }\n",
       "</style>\n",
       "<table border=\"1\" class=\"dataframe\">\n",
       "  <thead>\n",
       "    <tr style=\"text-align: right;\">\n",
       "      <th></th>\n",
       "      <th>Number_Missing</th>\n",
       "      <th>Percent_Missing</th>\n",
       "      <th>Type</th>\n",
       "    </tr>\n",
       "  </thead>\n",
       "  <tbody>\n",
       "    <tr>\n",
       "      <th>id</th>\n",
       "      <td>0</td>\n",
       "      <td>0.00</td>\n",
       "      <td>object</td>\n",
       "    </tr>\n",
       "    <tr>\n",
       "      <th>url</th>\n",
       "      <td>0</td>\n",
       "      <td>0.00</td>\n",
       "      <td>object</td>\n",
       "    </tr>\n",
       "    <tr>\n",
       "      <th>zip_code</th>\n",
       "      <td>0</td>\n",
       "      <td>0.00</td>\n",
       "      <td>object</td>\n",
       "    </tr>\n",
       "    <tr>\n",
       "      <th>mths_since_last_record</th>\n",
       "      <td>359529</td>\n",
       "      <td>81.24</td>\n",
       "      <td>float64</td>\n",
       "    </tr>\n",
       "    <tr>\n",
       "      <th>il_util</th>\n",
       "      <td>421002</td>\n",
       "      <td>95.13</td>\n",
       "      <td>float64</td>\n",
       "    </tr>\n",
       "    <tr>\n",
       "      <th>mths_since_recent_bc_dlq</th>\n",
       "      <td>326642</td>\n",
       "      <td>73.81</td>\n",
       "      <td>float64</td>\n",
       "    </tr>\n",
       "    <tr>\n",
       "      <th>mths_since_rcnt_il</th>\n",
       "      <td>418344</td>\n",
       "      <td>94.53</td>\n",
       "      <td>float64</td>\n",
       "    </tr>\n",
       "    <tr>\n",
       "      <th>all_util</th>\n",
       "      <td>417786</td>\n",
       "      <td>94.40</td>\n",
       "      <td>float64</td>\n",
       "    </tr>\n",
       "    <tr>\n",
       "      <th>inq_fi</th>\n",
       "      <td>417783</td>\n",
       "      <td>94.40</td>\n",
       "      <td>float64</td>\n",
       "    </tr>\n",
       "    <tr>\n",
       "      <th>max_bal_bc</th>\n",
       "      <td>417783</td>\n",
       "      <td>94.40</td>\n",
       "      <td>float64</td>\n",
       "    </tr>\n",
       "    <tr>\n",
       "      <th>total_cu_tl</th>\n",
       "      <td>417783</td>\n",
       "      <td>94.40</td>\n",
       "      <td>float64</td>\n",
       "    </tr>\n",
       "    <tr>\n",
       "      <th>open_acc_6m</th>\n",
       "      <td>417783</td>\n",
       "      <td>94.40</td>\n",
       "      <td>float64</td>\n",
       "    </tr>\n",
       "    <tr>\n",
       "      <th>open_act_il</th>\n",
       "      <td>417783</td>\n",
       "      <td>94.40</td>\n",
       "      <td>float64</td>\n",
       "    </tr>\n",
       "    <tr>\n",
       "      <th>open_il_12m</th>\n",
       "      <td>417783</td>\n",
       "      <td>94.40</td>\n",
       "      <td>float64</td>\n",
       "    </tr>\n",
       "    <tr>\n",
       "      <th>total_bal_il</th>\n",
       "      <td>417783</td>\n",
       "      <td>94.40</td>\n",
       "      <td>float64</td>\n",
       "    </tr>\n",
       "    <tr>\n",
       "      <th>open_rv_12m</th>\n",
       "      <td>417783</td>\n",
       "      <td>94.40</td>\n",
       "      <td>float64</td>\n",
       "    </tr>\n",
       "    <tr>\n",
       "      <th>open_rv_24m</th>\n",
       "      <td>417783</td>\n",
       "      <td>94.40</td>\n",
       "      <td>float64</td>\n",
       "    </tr>\n",
       "    <tr>\n",
       "      <th>open_il_24m</th>\n",
       "      <td>417783</td>\n",
       "      <td>94.40</td>\n",
       "      <td>float64</td>\n",
       "    </tr>\n",
       "    <tr>\n",
       "      <th>inq_last_12m</th>\n",
       "      <td>417783</td>\n",
       "      <td>94.40</td>\n",
       "      <td>float64</td>\n",
       "    </tr>\n",
       "    <tr>\n",
       "      <th>mths_since_last_major_derog</th>\n",
       "      <td>312697</td>\n",
       "      <td>70.66</td>\n",
       "      <td>float64</td>\n",
       "    </tr>\n",
       "    <tr>\n",
       "      <th>mths_since_recent_revol_delinq</th>\n",
       "      <td>283394</td>\n",
       "      <td>64.03</td>\n",
       "      <td>float64</td>\n",
       "    </tr>\n",
       "    <tr>\n",
       "      <th>mths_since_last_delinq</th>\n",
       "      <td>215680</td>\n",
       "      <td>48.73</td>\n",
       "      <td>float64</td>\n",
       "    </tr>\n",
       "    <tr>\n",
       "      <th>emp_title</th>\n",
       "      <td>25015</td>\n",
       "      <td>5.65</td>\n",
       "      <td>object</td>\n",
       "    </tr>\n",
       "    <tr>\n",
       "      <th>emp_length</th>\n",
       "      <td>23874</td>\n",
       "      <td>5.39</td>\n",
       "      <td>float64</td>\n",
       "    </tr>\n",
       "    <tr>\n",
       "      <th>mo_sin_old_il_acct</th>\n",
       "      <td>12680</td>\n",
       "      <td>2.87</td>\n",
       "      <td>float64</td>\n",
       "    </tr>\n",
       "    <tr>\n",
       "      <th>revol_util</th>\n",
       "      <td>214</td>\n",
       "      <td>0.05</td>\n",
       "      <td>float64</td>\n",
       "    </tr>\n",
       "    <tr>\n",
       "      <th>dti</th>\n",
       "      <td>18</td>\n",
       "      <td>0.00</td>\n",
       "      <td>float64</td>\n",
       "    </tr>\n",
       "    <tr>\n",
       "      <th>verification_status</th>\n",
       "      <td>0</td>\n",
       "      <td>0.00</td>\n",
       "      <td>object</td>\n",
       "    </tr>\n",
       "    <tr>\n",
       "      <th>annual_inc</th>\n",
       "      <td>0</td>\n",
       "      <td>0.00</td>\n",
       "      <td>float64</td>\n",
       "    </tr>\n",
       "    <tr>\n",
       "      <th>home_ownership</th>\n",
       "      <td>0</td>\n",
       "      <td>0.00</td>\n",
       "      <td>object</td>\n",
       "    </tr>\n",
       "    <tr>\n",
       "      <th>sub_grade</th>\n",
       "      <td>0</td>\n",
       "      <td>0.00</td>\n",
       "      <td>float64</td>\n",
       "    </tr>\n",
       "    <tr>\n",
       "      <th>grade</th>\n",
       "      <td>0</td>\n",
       "      <td>0.00</td>\n",
       "      <td>object</td>\n",
       "    </tr>\n",
       "    <tr>\n",
       "      <th>term</th>\n",
       "      <td>0</td>\n",
       "      <td>0.00</td>\n",
       "      <td>float64</td>\n",
       "    </tr>\n",
       "    <tr>\n",
       "      <th>int_rate</th>\n",
       "      <td>0</td>\n",
       "      <td>0.00</td>\n",
       "      <td>float64</td>\n",
       "    </tr>\n",
       "    <tr>\n",
       "      <th>installment</th>\n",
       "      <td>0</td>\n",
       "      <td>0.00</td>\n",
       "      <td>float64</td>\n",
       "    </tr>\n",
       "    <tr>\n",
       "      <th>loan_status</th>\n",
       "      <td>0</td>\n",
       "      <td>0.00</td>\n",
       "      <td>object</td>\n",
       "    </tr>\n",
       "    <tr>\n",
       "      <th>total_acc</th>\n",
       "      <td>0</td>\n",
       "      <td>0.00</td>\n",
       "      <td>float64</td>\n",
       "    </tr>\n",
       "    <tr>\n",
       "      <th>purpose</th>\n",
       "      <td>0</td>\n",
       "      <td>0.00</td>\n",
       "      <td>object</td>\n",
       "    </tr>\n",
       "    <tr>\n",
       "      <th>addr_state</th>\n",
       "      <td>0</td>\n",
       "      <td>0.00</td>\n",
       "      <td>object</td>\n",
       "    </tr>\n",
       "    <tr>\n",
       "      <th>fico_range_low</th>\n",
       "      <td>0</td>\n",
       "      <td>0.00</td>\n",
       "      <td>float64</td>\n",
       "    </tr>\n",
       "    <tr>\n",
       "      <th>fico_range_high</th>\n",
       "      <td>0</td>\n",
       "      <td>0.00</td>\n",
       "      <td>float64</td>\n",
       "    </tr>\n",
       "    <tr>\n",
       "      <th>initial_list_status</th>\n",
       "      <td>0</td>\n",
       "      <td>0.00</td>\n",
       "      <td>object</td>\n",
       "    </tr>\n",
       "    <tr>\n",
       "      <th>application_type</th>\n",
       "      <td>0</td>\n",
       "      <td>0.00</td>\n",
       "      <td>object</td>\n",
       "    </tr>\n",
       "    <tr>\n",
       "      <th>pub_rec</th>\n",
       "      <td>0</td>\n",
       "      <td>0.00</td>\n",
       "      <td>float64</td>\n",
       "    </tr>\n",
       "    <tr>\n",
       "      <th>pub_rec_bankruptcies</th>\n",
       "      <td>0</td>\n",
       "      <td>0.00</td>\n",
       "      <td>float64</td>\n",
       "    </tr>\n",
       "    <tr>\n",
       "      <th>loan_amnt</th>\n",
       "      <td>0</td>\n",
       "      <td>0.00</td>\n",
       "      <td>float64</td>\n",
       "    </tr>\n",
       "    <tr>\n",
       "      <th>mort_acc</th>\n",
       "      <td>0</td>\n",
       "      <td>0.00</td>\n",
       "      <td>float64</td>\n",
       "    </tr>\n",
       "    <tr>\n",
       "      <th>mo_sin_old_rev_tl_op</th>\n",
       "      <td>0</td>\n",
       "      <td>0.00</td>\n",
       "      <td>float64</td>\n",
       "    </tr>\n",
       "    <tr>\n",
       "      <th>open_acc</th>\n",
       "      <td>0</td>\n",
       "      <td>0.00</td>\n",
       "      <td>float64</td>\n",
       "    </tr>\n",
       "    <tr>\n",
       "      <th>earliest_cr_line_month</th>\n",
       "      <td>0</td>\n",
       "      <td>0.00</td>\n",
       "      <td>float64</td>\n",
       "    </tr>\n",
       "    <tr>\n",
       "      <th>earliest_cr_line_year</th>\n",
       "      <td>0</td>\n",
       "      <td>0.00</td>\n",
       "      <td>float64</td>\n",
       "    </tr>\n",
       "  </tbody>\n",
       "</table>\n",
       "</div>"
      ],
      "text/plain": [
       "                                Number_Missing  Percent_Missing     Type\n",
       "id                                           0             0.00   object\n",
       "url                                          0             0.00   object\n",
       "zip_code                                     0             0.00   object\n",
       "mths_since_last_record                  359529            81.24  float64\n",
       "il_util                                 421002            95.13  float64\n",
       "mths_since_recent_bc_dlq                326642            73.81  float64\n",
       "mths_since_rcnt_il                      418344            94.53  float64\n",
       "all_util                                417786            94.40  float64\n",
       "inq_fi                                  417783            94.40  float64\n",
       "max_bal_bc                              417783            94.40  float64\n",
       "total_cu_tl                             417783            94.40  float64\n",
       "open_acc_6m                             417783            94.40  float64\n",
       "open_act_il                             417783            94.40  float64\n",
       "open_il_12m                             417783            94.40  float64\n",
       "total_bal_il                            417783            94.40  float64\n",
       "open_rv_12m                             417783            94.40  float64\n",
       "open_rv_24m                             417783            94.40  float64\n",
       "open_il_24m                             417783            94.40  float64\n",
       "inq_last_12m                            417783            94.40  float64\n",
       "mths_since_last_major_derog             312697            70.66  float64\n",
       "mths_since_recent_revol_delinq          283394            64.03  float64\n",
       "mths_since_last_delinq                  215680            48.73  float64\n",
       "emp_title                                25015             5.65   object\n",
       "emp_length                               23874             5.39  float64\n",
       "mo_sin_old_il_acct                       12680             2.87  float64\n",
       "revol_util                                 214             0.05  float64\n",
       "dti                                         18             0.00  float64\n",
       "verification_status                          0             0.00   object\n",
       "annual_inc                                   0             0.00  float64\n",
       "home_ownership                               0             0.00   object\n",
       "sub_grade                                    0             0.00  float64\n",
       "grade                                        0             0.00   object\n",
       "term                                         0             0.00  float64\n",
       "int_rate                                     0             0.00  float64\n",
       "installment                                  0             0.00  float64\n",
       "loan_status                                  0             0.00   object\n",
       "total_acc                                    0             0.00  float64\n",
       "purpose                                      0             0.00   object\n",
       "addr_state                                   0             0.00   object\n",
       "fico_range_low                               0             0.00  float64\n",
       "fico_range_high                              0             0.00  float64\n",
       "initial_list_status                          0             0.00   object\n",
       "application_type                             0             0.00   object\n",
       "pub_rec                                      0             0.00  float64\n",
       "pub_rec_bankruptcies                         0             0.00  float64\n",
       "loan_amnt                                    0             0.00  float64\n",
       "mort_acc                                     0             0.00  float64\n",
       "mo_sin_old_rev_tl_op                         0             0.00  float64\n",
       "open_acc                                     0             0.00  float64\n",
       "earliest_cr_line_month                       0             0.00  float64\n",
       "earliest_cr_line_year                        0             0.00  float64"
      ]
     },
     "execution_count": 5,
     "metadata": {},
     "output_type": "execute_result"
    }
   ],
   "source": [
    "#Print table with column nammes, number of NAs, perentage of NAs and variable type\n",
    "pd.DataFrame({'Number_Missing': data_raw.isna().sum(),\n",
    "              'Percent_Missing': round(data_raw.isnull().sum() * 100 / len(data_raw),2),\n",
    "              'Type': data_raw.dtypes})"
   ]
  },
  {
   "cell_type": "markdown",
   "id": "b73dcc8b",
   "metadata": {},
   "source": [
    "Se puede observar variables que no nos aportan informacion como por ejemplo id, url y zip code que eliminamos del data. Además, hay variable con un alto numero de NAs que limpiaremos en el segundo ejercicio. Se puede observar ademas que hay variables tanto categoricas como numéricas cuyos NAs procesaremos de forma diferente. \n",
    "Por ultimo, la variable objetivo esta guardada como object pero la cambio a 1 si esta pagada y 0 si no para poder compararla mediante correlacion con el resto de variables"
   ]
  },
  {
   "cell_type": "code",
   "execution_count": 6,
   "id": "65ce385f",
   "metadata": {},
   "outputs": [
    {
     "data": {
      "text/plain": [
       "Fully Paid     345520\n",
       "Charged Off     97047\n",
       "Name: loan_status, dtype: int64"
      ]
     },
     "execution_count": 6,
     "metadata": {},
     "output_type": "execute_result"
    }
   ],
   "source": [
    "data_raw['loan_status'].value_counts()"
   ]
  },
  {
   "cell_type": "markdown",
   "id": "7546a2e4",
   "metadata": {},
   "source": [
    "La variable objetvio no esta distribuida de forma equilibrada, lo que significa que al separar los datos en train y test tendremos que tenerlo en cuenta y ala hora de evaluar los modelos tener en mente que si predice todos los prestamos como fully paid no será bueno estimando por alta que sea el area bajo la curva."
   ]
  },
  {
   "cell_type": "code",
   "execution_count": 20,
   "id": "4e4598b3",
   "metadata": {
    "scrolled": false
   },
   "outputs": [],
   "source": [
    "data = data_raw.copy()\n",
    "#delete unsued columns\n",
    "del data[\"id\"]\n",
    "del data[\"url\"]\n",
    "del data[\"zip_code\"]"
   ]
  },
  {
   "cell_type": "code",
   "execution_count": 21,
   "id": "a7882a43",
   "metadata": {
    "scrolled": false
   },
   "outputs": [],
   "source": [
    "data['loan_status'] = [1 if x == 'Fully Paid' else 0 for x in data['loan_status']]"
   ]
  },
  {
   "cell_type": "code",
   "execution_count": null,
   "id": "5b40dce7",
   "metadata": {},
   "outputs": [],
   "source": [
    "correlations = data.select_dtypes(exclude='object').corr()"
   ]
  },
  {
   "cell_type": "code",
   "execution_count": 40,
   "id": "9ef09e0a",
   "metadata": {},
   "outputs": [
    {
     "data": {
      "image/png": "[encoded data removed]",
      "text/plain": [
       "<Figure size 864x720 with 2 Axes>"
      ]
     },
     "metadata": {
      "needs_background": "light"
     },
     "output_type": "display_data"
    }
   ],
   "source": [
    "f, ax = plt.subplots(figsize=(12, 10))\n",
    "sns.heatmap(correlations,\n",
    "    vmin=-1, vmax=1, center=0,\n",
    "    cmap=sns.diverging_palette(20, 220, n=200),\n",
    "    annot=False,\n",
    "    square=True\n",
    "    );\n",
    "\n",
    "ax.set_title('Continuous Features Correlation Matrix', fontdict={'fontsize':18}, pad=16);"
   ]
  },
  {
   "cell_type": "code",
   "execution_count": 57,
   "id": "04296153",
   "metadata": {},
   "outputs": [
    {
     "data": {
      "image/png": "[encoded data removed]",
      "text/plain": [
       "<Figure size 288x432 with 2 Axes>"
      ]
     },
     "metadata": {
      "needs_background": "light"
     },
     "output_type": "display_data"
    }
   ],
   "source": [
    "f, ax = plt.subplots(figsize=(4, 6))\n",
    "sns.heatmap(\n",
    "    correlations[['loan_status']].sort_values(by='loan_status',ascending=False)[abs(correlations['loan_status'])>0.1],\n",
    "    vmin=-1, vmax=1,\n",
    "    cmap=sns.diverging_palette(20, 220, n=200),\n",
    "    annot=True\n",
    "    );\n",
    "\n",
    "ax.set_title('Continuous Features Correlating significantly with loan_status', fontdict={'fontsize':18}, pad=16);"
   ]
  },
  {
   "cell_type": "markdown",
   "id": "d2ae0f70",
   "metadata": {},
   "source": [
    "Filtramos las variables que tengan como minimo un valor absoluto de correlacion con loan_status del 10%. Vemos que las variables mas correlacionadas con el pago son los rangos de FICO (metrica para calcular la punuacion de credito del cliente) es decir, cuanta mayor puntuacion, mejor cliente es a priori.\n",
    "Por otro lado las variables mas negativamente correlacionadas son el tiempo del prestamo y el tipo de interes, lo que tiene sentido puesto que mayor tiempo mas incertidumbre y probabilidad de impago, y a mayor tipo de inters, mas caro es el prestamo por lo que mas dificil es de pagar."
   ]
  },
  {
   "cell_type": "markdown",
   "id": "026e7bc4",
   "metadata": {},
   "source": [
    "#### EJERCICIO 2:\n",
    "Tratar los valores missing tanto en las variables continuas como discretas de forma correcta. Recordad que si existen muchos valores missing no es adecuado eliminar dichas filas. Como guía, recordad que los valores missing: (0,5 pts)\n",
    "\n",
    "\t⁃\tEn variables continuas se puede  sustituir por  la media o mediana, o por un valor muy distinto al resto de cantidades, que refleje que de algún modo que es un valor missing.\n",
    "\t⁃\tEn variables discretas se pueden sustituir por la moda o una clase nueva que indique que no tienen valor, p.e. “SIN VALOR”.\n",
    "\t⁃\tPuede ser interesante, estudiar y evaluar algunos de los métodos de la librería sklearn.impute, como por ejemplo sklearn.impute.KNNimpute, que realiza una imputación mediante una regresión con KNN."
   ]
  },
  {
   "cell_type": "code",
   "execution_count": 65,
   "id": "d1ca38dd",
   "metadata": {
    "scrolled": false
   },
   "outputs": [],
   "source": [
    "for col in data:\n",
    "    #get dtype for column\n",
    "    dt = data[col].dtype \n",
    "    #check if it is a numerical variable\n",
    "    if dt == 'float64':\n",
    "        if data[col].isnull().mean() > 0.8:\n",
    "            data[col]=data[col].fillna(-10000)\n",
    "        elif data[col].isnull().mean() > 0.4:\n",
    "            data[col]=data[col].fillna(data[col].mean())\n",
    "    #check if it is a categorical variable\n",
    "    elif dt == 'object':\n",
    "        data[col]=data[col].fillna(\"SIN TITULO\")"
   ]
  },
  {
   "cell_type": "code",
   "execution_count": 67,
   "id": "94330d0a",
   "metadata": {},
   "outputs": [
    {
     "ename": "KeyboardInterrupt",
     "evalue": "",
     "output_type": "error",
     "traceback": [
      "\u001b[0;31m---------------------------------------------------------------------------\u001b[0m",
      "\u001b[0;31mKeyboardInterrupt\u001b[0m                         Traceback (most recent call last)",
      "\u001b[0;32m/var/folders/41/_wb9xl2j5mx33x3_7jr_cvx00000gp/T/ipykernel_48661/2327208743.py\u001b[0m in \u001b[0;36m<module>\u001b[0;34m\u001b[0m\n\u001b[1;32m      2\u001b[0m \u001b[0mimputer\u001b[0m \u001b[0;34m=\u001b[0m \u001b[0mKNNImputer\u001b[0m\u001b[0;34m(\u001b[0m\u001b[0mn_neighbors\u001b[0m\u001b[0;34m=\u001b[0m\u001b[0;36m5\u001b[0m\u001b[0;34m)\u001b[0m\u001b[0;34m\u001b[0m\u001b[0;34m\u001b[0m\u001b[0m\n\u001b[1;32m      3\u001b[0m \u001b[0mimputer\u001b[0m\u001b[0;34m.\u001b[0m\u001b[0mfit\u001b[0m\u001b[0;34m(\u001b[0m\u001b[0mdata\u001b[0m\u001b[0;34m.\u001b[0m\u001b[0mselect_dtypes\u001b[0m\u001b[0;34m(\u001b[0m\u001b[0mexclude\u001b[0m\u001b[0;34m=\u001b[0m\u001b[0;34m'object'\u001b[0m\u001b[0;34m)\u001b[0m\u001b[0;34m)\u001b[0m\u001b[0;34m\u001b[0m\u001b[0;34m\u001b[0m\u001b[0m\n\u001b[0;32m----> 4\u001b[0;31m \u001b[0mimputer\u001b[0m\u001b[0;34m.\u001b[0m\u001b[0mtransform\u001b[0m\u001b[0;34m(\u001b[0m\u001b[0mdata\u001b[0m\u001b[0;34m.\u001b[0m\u001b[0mselect_dtypes\u001b[0m\u001b[0;34m(\u001b[0m\u001b[0mexclude\u001b[0m\u001b[0;34m=\u001b[0m\u001b[0;34m'object'\u001b[0m\u001b[0;34m)\u001b[0m\u001b[0;34m)\u001b[0m\u001b[0;34m\u001b[0m\u001b[0;34m\u001b[0m\u001b[0m\n\u001b[0m",
      "\u001b[0;32m~/opt/anaconda3/lib/python3.9/site-packages/sklearn/impute/_knn.py\u001b[0m in \u001b[0;36mtransform\u001b[0;34m(self, X)\u001b[0m\n\u001b[1;32m    295\u001b[0m             \u001b[0mforce_all_finite\u001b[0m\u001b[0;34m=\u001b[0m\u001b[0mforce_all_finite\u001b[0m\u001b[0;34m,\u001b[0m\u001b[0;34m\u001b[0m\u001b[0;34m\u001b[0m\u001b[0m\n\u001b[1;32m    296\u001b[0m             reduce_func=process_chunk)\n\u001b[0;32m--> 297\u001b[0;31m         \u001b[0;32mfor\u001b[0m \u001b[0mchunk\u001b[0m \u001b[0;32min\u001b[0m \u001b[0mgen\u001b[0m\u001b[0;34m:\u001b[0m\u001b[0;34m\u001b[0m\u001b[0;34m\u001b[0m\u001b[0m\n\u001b[0m\u001b[1;32m    298\u001b[0m             \u001b[0;31m# process_chunk modifies X in place. No return value.\u001b[0m\u001b[0;34m\u001b[0m\u001b[0;34m\u001b[0m\u001b[0m\n\u001b[1;32m    299\u001b[0m             \u001b[0;32mpass\u001b[0m\u001b[0;34m\u001b[0m\u001b[0;34m\u001b[0m\u001b[0m\n",
      "\u001b[0;32m~/opt/anaconda3/lib/python3.9/site-packages/sklearn/metrics/pairwise.py\u001b[0m in \u001b[0;36mpairwise_distances_chunked\u001b[0;34m(X, Y, reduce_func, metric, n_jobs, working_memory, **kwds)\u001b[0m\n\u001b[1;32m   1631\u001b[0m         \u001b[0;32mif\u001b[0m \u001b[0mreduce_func\u001b[0m \u001b[0;32mis\u001b[0m \u001b[0;32mnot\u001b[0m \u001b[0;32mNone\u001b[0m\u001b[0;34m:\u001b[0m\u001b[0;34m\u001b[0m\u001b[0;34m\u001b[0m\u001b[0m\n\u001b[1;32m   1632\u001b[0m             \u001b[0mchunk_size\u001b[0m \u001b[0;34m=\u001b[0m \u001b[0mD_chunk\u001b[0m\u001b[0;34m.\u001b[0m\u001b[0mshape\u001b[0m\u001b[0;34m[\u001b[0m\u001b[0;36m0\u001b[0m\u001b[0;34m]\u001b[0m\u001b[0;34m\u001b[0m\u001b[0;34m\u001b[0m\u001b[0m\n\u001b[0;32m-> 1633\u001b[0;31m             \u001b[0mD_chunk\u001b[0m \u001b[0;34m=\u001b[0m \u001b[0mreduce_func\u001b[0m\u001b[0;34m(\u001b[0m\u001b[0mD_chunk\u001b[0m\u001b[0;34m,\u001b[0m \u001b[0msl\u001b[0m\u001b[0;34m.\u001b[0m\u001b[0mstart\u001b[0m\u001b[0;34m)\u001b[0m\u001b[0;34m\u001b[0m\u001b[0;34m\u001b[0m\u001b[0m\n\u001b[0m\u001b[1;32m   1634\u001b[0m             \u001b[0m_check_chunk_size\u001b[0m\u001b[0;34m(\u001b[0m\u001b[0mD_chunk\u001b[0m\u001b[0;34m,\u001b[0m \u001b[0mchunk_size\u001b[0m\u001b[0;34m)\u001b[0m\u001b[0;34m\u001b[0m\u001b[0;34m\u001b[0m\u001b[0m\n\u001b[1;32m   1635\u001b[0m         \u001b[0;32myield\u001b[0m \u001b[0mD_chunk\u001b[0m\u001b[0;34m\u001b[0m\u001b[0;34m\u001b[0m\u001b[0m\n",
      "\u001b[0;32m~/opt/anaconda3/lib/python3.9/site-packages/sklearn/impute/_knn.py\u001b[0m in \u001b[0;36mprocess_chunk\u001b[0;34m(dist_chunk, start)\u001b[0m\n\u001b[1;32m    280\u001b[0m \u001b[0;34m\u001b[0m\u001b[0m\n\u001b[1;32m    281\u001b[0m                 \u001b[0mn_neighbors\u001b[0m \u001b[0;34m=\u001b[0m \u001b[0mmin\u001b[0m\u001b[0;34m(\u001b[0m\u001b[0mself\u001b[0m\u001b[0;34m.\u001b[0m\u001b[0mn_neighbors\u001b[0m\u001b[0;34m,\u001b[0m \u001b[0mlen\u001b[0m\u001b[0;34m(\u001b[0m\u001b[0mpotential_donors_idx\u001b[0m\u001b[0;34m)\u001b[0m\u001b[0;34m)\u001b[0m\u001b[0;34m\u001b[0m\u001b[0;34m\u001b[0m\u001b[0m\n\u001b[0;32m--> 282\u001b[0;31m                 value = self._calc_impute(\n\u001b[0m\u001b[1;32m    283\u001b[0m                     \u001b[0mdist_subset\u001b[0m\u001b[0;34m,\u001b[0m\u001b[0;34m\u001b[0m\u001b[0;34m\u001b[0m\u001b[0m\n\u001b[1;32m    284\u001b[0m                     \u001b[0mn_neighbors\u001b[0m\u001b[0;34m,\u001b[0m\u001b[0;34m\u001b[0m\u001b[0;34m\u001b[0m\u001b[0m\n",
      "\u001b[0;32m~/opt/anaconda3/lib/python3.9/site-packages/sklearn/impute/_knn.py\u001b[0m in \u001b[0;36m_calc_impute\u001b[0;34m(self, dist_pot_donors, n_neighbors, fit_X_col, mask_fit_X_col)\u001b[0m\n\u001b[1;32m    136\u001b[0m         \"\"\"\n\u001b[1;32m    137\u001b[0m         \u001b[0;31m# Get donors\u001b[0m\u001b[0;34m\u001b[0m\u001b[0;34m\u001b[0m\u001b[0m\n\u001b[0;32m--> 138\u001b[0;31m         donors_idx = np.argpartition(dist_pot_donors, n_neighbors - 1,\n\u001b[0m\u001b[1;32m    139\u001b[0m                                      axis=1)[:, :n_neighbors]\n\u001b[1;32m    140\u001b[0m \u001b[0;34m\u001b[0m\u001b[0m\n",
      "\u001b[0;32m<__array_function__ internals>\u001b[0m in \u001b[0;36margpartition\u001b[0;34m(*args, **kwargs)\u001b[0m\n",
      "\u001b[0;32m~/opt/anaconda3/lib/python3.9/site-packages/numpy/core/fromnumeric.py\u001b[0m in \u001b[0;36margpartition\u001b[0;34m(a, kth, axis, kind, order)\u001b[0m\n\u001b[1;32m    835\u001b[0m \u001b[0;34m\u001b[0m\u001b[0m\n\u001b[1;32m    836\u001b[0m     \"\"\"\n\u001b[0;32m--> 837\u001b[0;31m     \u001b[0;32mreturn\u001b[0m \u001b[0m_wrapfunc\u001b[0m\u001b[0;34m(\u001b[0m\u001b[0ma\u001b[0m\u001b[0;34m,\u001b[0m \u001b[0;34m'argpartition'\u001b[0m\u001b[0;34m,\u001b[0m \u001b[0mkth\u001b[0m\u001b[0;34m,\u001b[0m \u001b[0maxis\u001b[0m\u001b[0;34m=\u001b[0m\u001b[0maxis\u001b[0m\u001b[0;34m,\u001b[0m \u001b[0mkind\u001b[0m\u001b[0;34m=\u001b[0m\u001b[0mkind\u001b[0m\u001b[0;34m,\u001b[0m \u001b[0morder\u001b[0m\u001b[0;34m=\u001b[0m\u001b[0morder\u001b[0m\u001b[0;34m)\u001b[0m\u001b[0;34m\u001b[0m\u001b[0;34m\u001b[0m\u001b[0m\n\u001b[0m\u001b[1;32m    838\u001b[0m \u001b[0;34m\u001b[0m\u001b[0m\n\u001b[1;32m    839\u001b[0m \u001b[0;34m\u001b[0m\u001b[0m\n",
      "\u001b[0;32m~/opt/anaconda3/lib/python3.9/site-packages/numpy/core/fromnumeric.py\u001b[0m in \u001b[0;36m_wrapfunc\u001b[0;34m(obj, method, *args, **kwds)\u001b[0m\n\u001b[1;32m     56\u001b[0m \u001b[0;34m\u001b[0m\u001b[0m\n\u001b[1;32m     57\u001b[0m     \u001b[0;32mtry\u001b[0m\u001b[0;34m:\u001b[0m\u001b[0;34m\u001b[0m\u001b[0;34m\u001b[0m\u001b[0m\n\u001b[0;32m---> 58\u001b[0;31m         \u001b[0;32mreturn\u001b[0m \u001b[0mbound\u001b[0m\u001b[0;34m(\u001b[0m\u001b[0;34m*\u001b[0m\u001b[0margs\u001b[0m\u001b[0;34m,\u001b[0m \u001b[0;34m**\u001b[0m\u001b[0mkwds\u001b[0m\u001b[0;34m)\u001b[0m\u001b[0;34m\u001b[0m\u001b[0;34m\u001b[0m\u001b[0m\n\u001b[0m\u001b[1;32m     59\u001b[0m     \u001b[0;32mexcept\u001b[0m \u001b[0mTypeError\u001b[0m\u001b[0;34m:\u001b[0m\u001b[0;34m\u001b[0m\u001b[0;34m\u001b[0m\u001b[0m\n\u001b[1;32m     60\u001b[0m         \u001b[0;31m# A TypeError occurs if the object does have such a method in its\u001b[0m\u001b[0;34m\u001b[0m\u001b[0;34m\u001b[0m\u001b[0m\n",
      "\u001b[0;31mKeyboardInterrupt\u001b[0m: "
     ]
    }
   ],
   "source": [
    "from sklearn.impute import KNNImputer\n",
    "imputer = KNNImputer(n_neighbors=5)\n",
    "imputer.fit(data.select_dtypes(exclude='object'))\n",
    "imputer.transform(data.select_dtypes(exclude='object'))"
   ]
  },
  {
   "cell_type": "markdown",
   "id": "eb4d261d",
   "metadata": {},
   "source": [
    "Para tratar los NAs, he decidio hacer un for loop que discrimina variables numericas y categroicas.\n",
    "\n",
    "    - Si la variable es numerica...\n",
    "        - y el porcentage de NAs es muy alto, sustituye el NA por un valor constante muy diferente\n",
    "        - y el porcentage de NAs es medianamente alto, sustituye el NA por la media de la variable\n",
    "        - y el porcentage de NAs es bajo, sustituye el NA por un valor imputado mediante KNN impute\n",
    "    - Si la variable es categorica, sustituye el NA por una etiqueta \"SIN TITULO\"\n",
    "        "
   ]
  },
  {
   "cell_type": "code",
   "execution_count": 66,
   "id": "e6de9133",
   "metadata": {},
   "outputs": [
    {
     "data": {
      "text/html": [
       "<div>\n",
       "<style scoped>\n",
       "    .dataframe tbody tr th:only-of-type {\n",
       "        vertical-align: middle;\n",
       "    }\n",
       "\n",
       "    .dataframe tbody tr th {\n",
       "        vertical-align: top;\n",
       "    }\n",
       "\n",
       "    .dataframe thead th {\n",
       "        text-align: right;\n",
       "    }\n",
       "</style>\n",
       "<table border=\"1\" class=\"dataframe\">\n",
       "  <thead>\n",
       "    <tr style=\"text-align: right;\">\n",
       "      <th></th>\n",
       "      <th>Number_Missing</th>\n",
       "      <th>Percent_Missing</th>\n",
       "      <th>Type</th>\n",
       "    </tr>\n",
       "  </thead>\n",
       "  <tbody>\n",
       "    <tr>\n",
       "      <th>mths_since_last_record</th>\n",
       "      <td>0</td>\n",
       "      <td>0.00</td>\n",
       "      <td>float64</td>\n",
       "    </tr>\n",
       "    <tr>\n",
       "      <th>il_util</th>\n",
       "      <td>0</td>\n",
       "      <td>0.00</td>\n",
       "      <td>float64</td>\n",
       "    </tr>\n",
       "    <tr>\n",
       "      <th>mths_since_recent_bc_dlq</th>\n",
       "      <td>0</td>\n",
       "      <td>0.00</td>\n",
       "      <td>float64</td>\n",
       "    </tr>\n",
       "    <tr>\n",
       "      <th>mths_since_rcnt_il</th>\n",
       "      <td>0</td>\n",
       "      <td>0.00</td>\n",
       "      <td>float64</td>\n",
       "    </tr>\n",
       "    <tr>\n",
       "      <th>all_util</th>\n",
       "      <td>0</td>\n",
       "      <td>0.00</td>\n",
       "      <td>float64</td>\n",
       "    </tr>\n",
       "    <tr>\n",
       "      <th>inq_fi</th>\n",
       "      <td>0</td>\n",
       "      <td>0.00</td>\n",
       "      <td>float64</td>\n",
       "    </tr>\n",
       "    <tr>\n",
       "      <th>max_bal_bc</th>\n",
       "      <td>0</td>\n",
       "      <td>0.00</td>\n",
       "      <td>float64</td>\n",
       "    </tr>\n",
       "    <tr>\n",
       "      <th>total_cu_tl</th>\n",
       "      <td>0</td>\n",
       "      <td>0.00</td>\n",
       "      <td>float64</td>\n",
       "    </tr>\n",
       "    <tr>\n",
       "      <th>open_acc_6m</th>\n",
       "      <td>0</td>\n",
       "      <td>0.00</td>\n",
       "      <td>float64</td>\n",
       "    </tr>\n",
       "    <tr>\n",
       "      <th>open_act_il</th>\n",
       "      <td>0</td>\n",
       "      <td>0.00</td>\n",
       "      <td>float64</td>\n",
       "    </tr>\n",
       "    <tr>\n",
       "      <th>open_il_12m</th>\n",
       "      <td>0</td>\n",
       "      <td>0.00</td>\n",
       "      <td>float64</td>\n",
       "    </tr>\n",
       "    <tr>\n",
       "      <th>total_bal_il</th>\n",
       "      <td>0</td>\n",
       "      <td>0.00</td>\n",
       "      <td>float64</td>\n",
       "    </tr>\n",
       "    <tr>\n",
       "      <th>open_rv_12m</th>\n",
       "      <td>0</td>\n",
       "      <td>0.00</td>\n",
       "      <td>float64</td>\n",
       "    </tr>\n",
       "    <tr>\n",
       "      <th>open_rv_24m</th>\n",
       "      <td>0</td>\n",
       "      <td>0.00</td>\n",
       "      <td>float64</td>\n",
       "    </tr>\n",
       "    <tr>\n",
       "      <th>open_il_24m</th>\n",
       "      <td>0</td>\n",
       "      <td>0.00</td>\n",
       "      <td>float64</td>\n",
       "    </tr>\n",
       "    <tr>\n",
       "      <th>inq_last_12m</th>\n",
       "      <td>0</td>\n",
       "      <td>0.00</td>\n",
       "      <td>float64</td>\n",
       "    </tr>\n",
       "    <tr>\n",
       "      <th>mths_since_last_major_derog</th>\n",
       "      <td>0</td>\n",
       "      <td>0.00</td>\n",
       "      <td>float64</td>\n",
       "    </tr>\n",
       "    <tr>\n",
       "      <th>mths_since_recent_revol_delinq</th>\n",
       "      <td>0</td>\n",
       "      <td>0.00</td>\n",
       "      <td>float64</td>\n",
       "    </tr>\n",
       "    <tr>\n",
       "      <th>mths_since_last_delinq</th>\n",
       "      <td>0</td>\n",
       "      <td>0.00</td>\n",
       "      <td>float64</td>\n",
       "    </tr>\n",
       "    <tr>\n",
       "      <th>emp_title</th>\n",
       "      <td>0</td>\n",
       "      <td>0.00</td>\n",
       "      <td>object</td>\n",
       "    </tr>\n",
       "    <tr>\n",
       "      <th>emp_length</th>\n",
       "      <td>23874</td>\n",
       "      <td>5.39</td>\n",
       "      <td>float64</td>\n",
       "    </tr>\n",
       "    <tr>\n",
       "      <th>mo_sin_old_il_acct</th>\n",
       "      <td>12680</td>\n",
       "      <td>2.87</td>\n",
       "      <td>float64</td>\n",
       "    </tr>\n",
       "    <tr>\n",
       "      <th>revol_util</th>\n",
       "      <td>214</td>\n",
       "      <td>0.05</td>\n",
       "      <td>float64</td>\n",
       "    </tr>\n",
       "    <tr>\n",
       "      <th>dti</th>\n",
       "      <td>18</td>\n",
       "      <td>0.00</td>\n",
       "      <td>float64</td>\n",
       "    </tr>\n",
       "    <tr>\n",
       "      <th>verification_status</th>\n",
       "      <td>0</td>\n",
       "      <td>0.00</td>\n",
       "      <td>object</td>\n",
       "    </tr>\n",
       "    <tr>\n",
       "      <th>annual_inc</th>\n",
       "      <td>0</td>\n",
       "      <td>0.00</td>\n",
       "      <td>float64</td>\n",
       "    </tr>\n",
       "    <tr>\n",
       "      <th>home_ownership</th>\n",
       "      <td>0</td>\n",
       "      <td>0.00</td>\n",
       "      <td>object</td>\n",
       "    </tr>\n",
       "    <tr>\n",
       "      <th>sub_grade</th>\n",
       "      <td>0</td>\n",
       "      <td>0.00</td>\n",
       "      <td>float64</td>\n",
       "    </tr>\n",
       "    <tr>\n",
       "      <th>grade</th>\n",
       "      <td>0</td>\n",
       "      <td>0.00</td>\n",
       "      <td>object</td>\n",
       "    </tr>\n",
       "    <tr>\n",
       "      <th>term</th>\n",
       "      <td>0</td>\n",
       "      <td>0.00</td>\n",
       "      <td>float64</td>\n",
       "    </tr>\n",
       "    <tr>\n",
       "      <th>int_rate</th>\n",
       "      <td>0</td>\n",
       "      <td>0.00</td>\n",
       "      <td>float64</td>\n",
       "    </tr>\n",
       "    <tr>\n",
       "      <th>installment</th>\n",
       "      <td>0</td>\n",
       "      <td>0.00</td>\n",
       "      <td>float64</td>\n",
       "    </tr>\n",
       "    <tr>\n",
       "      <th>loan_status</th>\n",
       "      <td>0</td>\n",
       "      <td>0.00</td>\n",
       "      <td>int64</td>\n",
       "    </tr>\n",
       "    <tr>\n",
       "      <th>total_acc</th>\n",
       "      <td>0</td>\n",
       "      <td>0.00</td>\n",
       "      <td>float64</td>\n",
       "    </tr>\n",
       "    <tr>\n",
       "      <th>purpose</th>\n",
       "      <td>0</td>\n",
       "      <td>0.00</td>\n",
       "      <td>object</td>\n",
       "    </tr>\n",
       "    <tr>\n",
       "      <th>addr_state</th>\n",
       "      <td>0</td>\n",
       "      <td>0.00</td>\n",
       "      <td>object</td>\n",
       "    </tr>\n",
       "    <tr>\n",
       "      <th>fico_range_low</th>\n",
       "      <td>0</td>\n",
       "      <td>0.00</td>\n",
       "      <td>float64</td>\n",
       "    </tr>\n",
       "    <tr>\n",
       "      <th>fico_range_high</th>\n",
       "      <td>0</td>\n",
       "      <td>0.00</td>\n",
       "      <td>float64</td>\n",
       "    </tr>\n",
       "    <tr>\n",
       "      <th>initial_list_status</th>\n",
       "      <td>0</td>\n",
       "      <td>0.00</td>\n",
       "      <td>object</td>\n",
       "    </tr>\n",
       "    <tr>\n",
       "      <th>application_type</th>\n",
       "      <td>0</td>\n",
       "      <td>0.00</td>\n",
       "      <td>object</td>\n",
       "    </tr>\n",
       "    <tr>\n",
       "      <th>pub_rec</th>\n",
       "      <td>0</td>\n",
       "      <td>0.00</td>\n",
       "      <td>float64</td>\n",
       "    </tr>\n",
       "    <tr>\n",
       "      <th>pub_rec_bankruptcies</th>\n",
       "      <td>0</td>\n",
       "      <td>0.00</td>\n",
       "      <td>float64</td>\n",
       "    </tr>\n",
       "    <tr>\n",
       "      <th>loan_amnt</th>\n",
       "      <td>0</td>\n",
       "      <td>0.00</td>\n",
       "      <td>float64</td>\n",
       "    </tr>\n",
       "    <tr>\n",
       "      <th>mort_acc</th>\n",
       "      <td>0</td>\n",
       "      <td>0.00</td>\n",
       "      <td>float64</td>\n",
       "    </tr>\n",
       "    <tr>\n",
       "      <th>mo_sin_old_rev_tl_op</th>\n",
       "      <td>0</td>\n",
       "      <td>0.00</td>\n",
       "      <td>float64</td>\n",
       "    </tr>\n",
       "    <tr>\n",
       "      <th>open_acc</th>\n",
       "      <td>0</td>\n",
       "      <td>0.00</td>\n",
       "      <td>float64</td>\n",
       "    </tr>\n",
       "    <tr>\n",
       "      <th>earliest_cr_line_month</th>\n",
       "      <td>0</td>\n",
       "      <td>0.00</td>\n",
       "      <td>float64</td>\n",
       "    </tr>\n",
       "    <tr>\n",
       "      <th>earliest_cr_line_year</th>\n",
       "      <td>0</td>\n",
       "      <td>0.00</td>\n",
       "      <td>float64</td>\n",
       "    </tr>\n",
       "  </tbody>\n",
       "</table>\n",
       "</div>"
      ],
      "text/plain": [
       "                                Number_Missing  Percent_Missing     Type\n",
       "mths_since_last_record                       0             0.00  float64\n",
       "il_util                                      0             0.00  float64\n",
       "mths_since_recent_bc_dlq                     0             0.00  float64\n",
       "mths_since_rcnt_il                           0             0.00  float64\n",
       "all_util                                     0             0.00  float64\n",
       "inq_fi                                       0             0.00  float64\n",
       "max_bal_bc                                   0             0.00  float64\n",
       "total_cu_tl                                  0             0.00  float64\n",
       "open_acc_6m                                  0             0.00  float64\n",
       "open_act_il                                  0             0.00  float64\n",
       "open_il_12m                                  0             0.00  float64\n",
       "total_bal_il                                 0             0.00  float64\n",
       "open_rv_12m                                  0             0.00  float64\n",
       "open_rv_24m                                  0             0.00  float64\n",
       "open_il_24m                                  0             0.00  float64\n",
       "inq_last_12m                                 0             0.00  float64\n",
       "mths_since_last_major_derog                  0             0.00  float64\n",
       "mths_since_recent_revol_delinq               0             0.00  float64\n",
       "mths_since_last_delinq                       0             0.00  float64\n",
       "emp_title                                    0             0.00   object\n",
       "emp_length                               23874             5.39  float64\n",
       "mo_sin_old_il_acct                       12680             2.87  float64\n",
       "revol_util                                 214             0.05  float64\n",
       "dti                                         18             0.00  float64\n",
       "verification_status                          0             0.00   object\n",
       "annual_inc                                   0             0.00  float64\n",
       "home_ownership                               0             0.00   object\n",
       "sub_grade                                    0             0.00  float64\n",
       "grade                                        0             0.00   object\n",
       "term                                         0             0.00  float64\n",
       "int_rate                                     0             0.00  float64\n",
       "installment                                  0             0.00  float64\n",
       "loan_status                                  0             0.00    int64\n",
       "total_acc                                    0             0.00  float64\n",
       "purpose                                      0             0.00   object\n",
       "addr_state                                   0             0.00   object\n",
       "fico_range_low                               0             0.00  float64\n",
       "fico_range_high                              0             0.00  float64\n",
       "initial_list_status                          0             0.00   object\n",
       "application_type                             0             0.00   object\n",
       "pub_rec                                      0             0.00  float64\n",
       "pub_rec_bankruptcies                         0             0.00  float64\n",
       "loan_amnt                                    0             0.00  float64\n",
       "mort_acc                                     0             0.00  float64\n",
       "mo_sin_old_rev_tl_op                         0             0.00  float64\n",
       "open_acc                                     0             0.00  float64\n",
       "earliest_cr_line_month                       0             0.00  float64\n",
       "earliest_cr_line_year                        0             0.00  float64"
      ]
     },
     "execution_count": 66,
     "metadata": {},
     "output_type": "execute_result"
    }
   ],
   "source": [
    "pd.DataFrame({'Number_Missing': data.isna().sum(),\n",
    "              'Percent_Missing': round(data.isnull().sum() * 100 / len(data),2),\n",
    "              'Type': data.dtypes})"
   ]
  },
  {
   "cell_type": "markdown",
   "id": "8d0d92bf",
   "metadata": {},
   "source": [
    "#### EJERCICIO 3:\n",
    "\n",
    "Transformar las variables continuas, si fuera necesario, y las categóricas correctamente. (0,5 pts)\n"
   ]
  },
  {
   "cell_type": "code",
   "execution_count": 61,
   "id": "bac7b89c",
   "metadata": {
    "scrolled": true
   },
   "outputs": [
    {
     "name": "stdout",
     "output_type": "stream",
     "text": [
      "Teacher                             7980\n",
      "Manager                             7273\n",
      "Registered Nurse                    3413\n",
      "RN                                  3220\n",
      "Supervisor                          3170\n",
      "                                    ... \n",
      "testman                                1\n",
      "S&D                                    1\n",
      "utilization review specialist          1\n",
      "Surgical Sterile Processing Tech       1\n",
      "Manager Hotel Operations Oasis         1\n",
      "Name: emp_title, Length: 125011, dtype: int64\n",
      "Source Verified    181936\n",
      "Not Verified       131307\n",
      "Verified           129324\n",
      "Name: verification_status, dtype: int64\n",
      "MORTGAGE    220489\n",
      "RENT        176094\n",
      "OWN          45982\n",
      "ANY              2\n",
      "Name: home_ownership, dtype: int64\n",
      "C    124956\n",
      "B    119191\n",
      "A     73568\n",
      "D     71974\n",
      "E     37618\n",
      "F     11996\n",
      "G      3264\n",
      "Name: grade, dtype: int64\n",
      "debt_consolidation    268151\n",
      "credit_card            99463\n",
      "home_improvement       26380\n",
      "other                  20965\n",
      "major_purchase          7852\n",
      "medical                 4548\n",
      "small_business          4046\n",
      "car                     3761\n",
      "moving                  2811\n",
      "vacation                2603\n",
      "house                   1717\n",
      "renewable_energy         258\n",
      "wedding                   11\n",
      "educational                1\n",
      "Name: purpose, dtype: int64\n",
      "CA    64890\n",
      "TX    36109\n",
      "NY    35504\n",
      "FL    30654\n",
      "IL    16959\n",
      "NJ    15742\n",
      "PA    15374\n",
      "OH    14526\n",
      "GA    14234\n",
      "VA    12773\n",
      "NC    12419\n",
      "MI    11845\n",
      "AZ    10789\n",
      "MD    10325\n",
      "CO    10168\n",
      "MA     9860\n",
      "WA     9773\n",
      "MN     8091\n",
      "IN     7707\n",
      "TN     7155\n",
      "MO     6938\n",
      "NV     6614\n",
      "CT     6053\n",
      "WI     5811\n",
      "AL     5637\n",
      "OR     5609\n",
      "SC     5175\n",
      "LA     5171\n",
      "KY     4290\n",
      "OK     4005\n",
      "KS     3690\n",
      "UT     3461\n",
      "AR     3289\n",
      "NM     2589\n",
      "MS     2322\n",
      "HI     2232\n",
      "NH     2052\n",
      "WV     1974\n",
      "RI     1910\n",
      "MT     1284\n",
      "DE     1256\n",
      "DC     1173\n",
      "AK     1094\n",
      "WY     1003\n",
      "SD      919\n",
      "VT      910\n",
      "NE      664\n",
      "ME      245\n",
      "ND      242\n",
      "ID       57\n",
      "IA        1\n",
      "Name: addr_state, dtype: int64\n",
      "w    249085\n",
      "f    193482\n",
      "Name: initial_list_status, dtype: int64\n",
      "Individual    441550\n",
      "Joint App       1017\n",
      "Name: application_type, dtype: int64\n"
     ]
    }
   ],
   "source": [
    "for col in data.select_dtypes(include='object'):\n",
    "    print(data.select_dtypes(include='object')[col].value_counts())"
   ]
  },
  {
   "cell_type": "code",
   "execution_count": 22,
   "id": "2236d0c1",
   "metadata": {
    "scrolled": true
   },
   "outputs": [],
   "source": [
    "cleanup_nums = {\"grade\": {\"A\": 7, \"B\": 6, \"C\": 5, \"D\": 4, \"E\": 3, \"F\": 2, \"G\": 1}}\n",
    "data = data.replace(cleanup_nums)"
   ]
  },
  {
   "cell_type": "code",
   "execution_count": 23,
   "id": "dc1e113f",
   "metadata": {},
   "outputs": [],
   "source": [
    "# SOLO NUMERICAS POR HACER CATEGORICAS!!!!!!!\n",
    "\n",
    "data = data.select_dtypes(exclude=['object'])"
   ]
  },
  {
   "cell_type": "code",
   "execution_count": 24,
   "id": "2b24f5e1",
   "metadata": {
    "scrolled": true
   },
   "outputs": [
    {
     "data": {
      "text/html": [
       "<div>\n",
       "<style scoped>\n",
       "    .dataframe tbody tr th:only-of-type {\n",
       "        vertical-align: middle;\n",
       "    }\n",
       "\n",
       "    .dataframe tbody tr th {\n",
       "        vertical-align: top;\n",
       "    }\n",
       "\n",
       "    .dataframe thead th {\n",
       "        text-align: right;\n",
       "    }\n",
       "</style>\n",
       "<table border=\"1\" class=\"dataframe\">\n",
       "  <thead>\n",
       "    <tr style=\"text-align: right;\">\n",
       "      <th></th>\n",
       "      <th>Number_Missing</th>\n",
       "      <th>Type</th>\n",
       "    </tr>\n",
       "  </thead>\n",
       "  <tbody>\n",
       "    <tr>\n",
       "      <th>mths_since_last_delinq</th>\n",
       "      <td>0</td>\n",
       "      <td>float64</td>\n",
       "    </tr>\n",
       "    <tr>\n",
       "      <th>emp_length</th>\n",
       "      <td>0</td>\n",
       "      <td>float64</td>\n",
       "    </tr>\n",
       "    <tr>\n",
       "      <th>mo_sin_old_il_acct</th>\n",
       "      <td>0</td>\n",
       "      <td>float64</td>\n",
       "    </tr>\n",
       "    <tr>\n",
       "      <th>revol_util</th>\n",
       "      <td>0</td>\n",
       "      <td>float64</td>\n",
       "    </tr>\n",
       "    <tr>\n",
       "      <th>dti</th>\n",
       "      <td>0</td>\n",
       "      <td>float64</td>\n",
       "    </tr>\n",
       "    <tr>\n",
       "      <th>annual_inc</th>\n",
       "      <td>0</td>\n",
       "      <td>float64</td>\n",
       "    </tr>\n",
       "    <tr>\n",
       "      <th>sub_grade</th>\n",
       "      <td>0</td>\n",
       "      <td>float64</td>\n",
       "    </tr>\n",
       "    <tr>\n",
       "      <th>grade</th>\n",
       "      <td>0</td>\n",
       "      <td>int64</td>\n",
       "    </tr>\n",
       "    <tr>\n",
       "      <th>term</th>\n",
       "      <td>0</td>\n",
       "      <td>float64</td>\n",
       "    </tr>\n",
       "    <tr>\n",
       "      <th>int_rate</th>\n",
       "      <td>0</td>\n",
       "      <td>float64</td>\n",
       "    </tr>\n",
       "    <tr>\n",
       "      <th>installment</th>\n",
       "      <td>0</td>\n",
       "      <td>float64</td>\n",
       "    </tr>\n",
       "    <tr>\n",
       "      <th>total_acc</th>\n",
       "      <td>0</td>\n",
       "      <td>float64</td>\n",
       "    </tr>\n",
       "    <tr>\n",
       "      <th>fico_range_low</th>\n",
       "      <td>0</td>\n",
       "      <td>float64</td>\n",
       "    </tr>\n",
       "    <tr>\n",
       "      <th>fico_range_high</th>\n",
       "      <td>0</td>\n",
       "      <td>float64</td>\n",
       "    </tr>\n",
       "    <tr>\n",
       "      <th>pub_rec</th>\n",
       "      <td>0</td>\n",
       "      <td>float64</td>\n",
       "    </tr>\n",
       "    <tr>\n",
       "      <th>pub_rec_bankruptcies</th>\n",
       "      <td>0</td>\n",
       "      <td>float64</td>\n",
       "    </tr>\n",
       "    <tr>\n",
       "      <th>loan_amnt</th>\n",
       "      <td>0</td>\n",
       "      <td>float64</td>\n",
       "    </tr>\n",
       "    <tr>\n",
       "      <th>mort_acc</th>\n",
       "      <td>0</td>\n",
       "      <td>float64</td>\n",
       "    </tr>\n",
       "    <tr>\n",
       "      <th>mo_sin_old_rev_tl_op</th>\n",
       "      <td>0</td>\n",
       "      <td>float64</td>\n",
       "    </tr>\n",
       "    <tr>\n",
       "      <th>open_acc</th>\n",
       "      <td>0</td>\n",
       "      <td>float64</td>\n",
       "    </tr>\n",
       "    <tr>\n",
       "      <th>earliest_cr_line_month</th>\n",
       "      <td>0</td>\n",
       "      <td>float64</td>\n",
       "    </tr>\n",
       "    <tr>\n",
       "      <th>earliest_cr_line_year</th>\n",
       "      <td>0</td>\n",
       "      <td>float64</td>\n",
       "    </tr>\n",
       "    <tr>\n",
       "      <th>loan_paid</th>\n",
       "      <td>0</td>\n",
       "      <td>bool</td>\n",
       "    </tr>\n",
       "  </tbody>\n",
       "</table>\n",
       "</div>"
      ],
      "text/plain": [
       "                        Number_Missing     Type\n",
       "mths_since_last_delinq               0  float64\n",
       "emp_length                           0  float64\n",
       "mo_sin_old_il_acct                   0  float64\n",
       "revol_util                           0  float64\n",
       "dti                                  0  float64\n",
       "annual_inc                           0  float64\n",
       "sub_grade                            0  float64\n",
       "grade                                0    int64\n",
       "term                                 0  float64\n",
       "int_rate                             0  float64\n",
       "installment                          0  float64\n",
       "total_acc                            0  float64\n",
       "fico_range_low                       0  float64\n",
       "fico_range_high                      0  float64\n",
       "pub_rec                              0  float64\n",
       "pub_rec_bankruptcies                 0  float64\n",
       "loan_amnt                            0  float64\n",
       "mort_acc                             0  float64\n",
       "mo_sin_old_rev_tl_op                 0  float64\n",
       "open_acc                             0  float64\n",
       "earliest_cr_line_month               0  float64\n",
       "earliest_cr_line_year                0  float64\n",
       "loan_paid                            0     bool"
      ]
     },
     "execution_count": 24,
     "metadata": {},
     "output_type": "execute_result"
    }
   ],
   "source": [
    "pd.DataFrame({'Number_Missing': data.isna().sum(),\n",
    "              'Type': data.dtypes})"
   ]
  },
  {
   "cell_type": "markdown",
   "id": "69e5a5fe",
   "metadata": {},
   "source": [
    "#### EJERCICIO 4:\n",
    "\n",
    "Partir el conjunto de datos en un subconjunto de entrenamiento y otro de test. Recordad, que si la variable objetivo está desbalanceada, es fundamental, realizar una partición que conserve las proporciones originales en cada subconjunto. (0,5pt)"
   ]
  },
  {
   "cell_type": "code",
   "execution_count": 25,
   "id": "fe8729ba",
   "metadata": {
    "scrolled": false
   },
   "outputs": [],
   "source": [
    "#Dividimos entre train y test en 70/30,\n",
    "#manteniendo el mismo equilibrio entre pagados y no pagados en ambos subconjuntos\n",
    "data_train, data_test = train_test_split(data, test_size = 0.3, \n",
    "                                         random_state = random_state, stratify=data['loan_paid'])"
   ]
  },
  {
   "cell_type": "markdown",
   "id": "6359b9e1",
   "metadata": {},
   "source": [
    "#### EJERCICIO 5: \n",
    "Vamos ha evaluar diferentes algoritmos de clasificación, para los cuales necesitaremos hacer los siguientes pasos:\n",
    "\n",
    "\t1.\tRealizar algún tipo de transformación como escalado o normalización, si el método lo necesita.\n",
    "\t2.\tEntrenar el modelo con el conjunto de datos de entrenamiento.\n",
    "\t3.\tMostrar cómo de bueno ha sido el entrenamiento.\n",
    "\t4.\tEvaluar el modelo con el conjunto de datos de test. Para ellos se pedirán las siguiente métricas:\n",
    "        ⁃\tAccuracy\n",
    "        ⁃\tPrecision\n",
    "        ⁃\tRecall\n",
    "        ⁃\tConfusion Matrix\n",
    "        ⁃\tF-SCORE\n",
    "        ⁃\tCurva ROC\n",
    "        ⁃\tArea bajo la curva."
   ]
  },
  {
   "cell_type": "code",
   "execution_count": 26,
   "id": "7970733c",
   "metadata": {},
   "outputs": [],
   "source": [
    "from sklearn import metrics\n",
    "from sklearn.metrics import (roc_curve, RocCurveDisplay, auc, confusion_matrix)\n",
    "import matplotlib.pyplot as plt\n",
    "from IPython.display import display\n",
    "from sklearn.preprocessing import StandardScaler\n",
    "from sklearn.neighbors import KNeighborsClassifier"
   ]
  },
  {
   "cell_type": "code",
   "execution_count": 27,
   "id": "cfe72dc4",
   "metadata": {
    "scrolled": false
   },
   "outputs": [],
   "source": [
    "#Normalizamos el conjunto de entrenamiento y test que seran usados si el algoritmo lo requiere\n",
    "scaler = StandardScaler()\n",
    "train_scaler = scaler.fit(data_train)\n",
    "data_train_norm = pd.DataFrame(index=data_train.index,\n",
    "                               columns=data_train.columns,\n",
    "                               data=train_scaler.transform(data_train))\n",
    "\n",
    "scaler_test = StandardScaler()\n",
    "test_scaler = scaler_test.fit(data_test)\n",
    "data_test_norm = pd.DataFrame(index=data_test.index,\n",
    "                               columns=data_test.columns,\n",
    "                               data=test_scaler.transform(data_test))"
   ]
  },
  {
   "cell_type": "markdown",
   "id": "4a436e07",
   "metadata": {},
   "source": [
    "Todos estos pasos serán necesarios evaluarlos para cada uno de los siguientes algoritmos:\n",
    " \n",
    "\tA.\tRegresión logística (1 pt)\n",
    "\tB.\tK-NN (1pt)\n",
    "\tC.\tArbol de decisión simple (1pt)\n",
    "\tD.\tBagging Classifier (1pt)\n",
    "\tE.\tRandom Forest (1pt)\n",
    "\tF.\tGradientBoost (1pt)\n",
    "\tG.\tXGBoost. (1pt)"
   ]
  },
  {
   "cell_type": "markdown",
   "id": "5e6b0225",
   "metadata": {},
   "source": [
    "##### A. Regresión logística (1 pt)"
   ]
  },
  {
   "cell_type": "code",
   "execution_count": 28,
   "id": "f1a7552a",
   "metadata": {},
   "outputs": [],
   "source": [
    "data_train_logit = data_train.copy()\n",
    "data_test_logit = data_test.copy()\n",
    "data_train_logit_norm = data_train_norm.copy()\n",
    "data_test_logit_norm = data_test_norm.copy()"
   ]
  },
  {
   "cell_type": "code",
   "execution_count": 29,
   "id": "4152cbec",
   "metadata": {},
   "outputs": [],
   "source": [
    "X_logit = data_train_logit_norm.drop(columns='loan_paid')\n",
    "Y_logit = data_train_logit['loan_paid']"
   ]
  },
  {
   "cell_type": "code",
   "execution_count": 30,
   "id": "c8cbcea5",
   "metadata": {},
   "outputs": [
    {
     "data": {
      "text/plain": [
       "0.6445457231281875"
      ]
     },
     "execution_count": 30,
     "metadata": {},
     "output_type": "execute_result"
    }
   ],
   "source": [
    "lr = LogisticRegression(random_state=random_state)\n",
    "lr.fit(X_logit, Y_logit)\n",
    "lr.score(X_logit, Y_logit)"
   ]
  },
  {
   "cell_type": "code",
   "execution_count": 31,
   "id": "54c5c464",
   "metadata": {},
   "outputs": [],
   "source": [
    "X_logit_test = data_test_logit_norm.drop(columns='loan_paid')\n",
    "Y_logit_test = data_test_logit['loan_paid']"
   ]
  },
  {
   "cell_type": "code",
   "execution_count": 32,
   "id": "12c653d0",
   "metadata": {},
   "outputs": [],
   "source": [
    "predicted_logit = lr.predict(X_logit_test)"
   ]
  },
  {
   "cell_type": "code",
   "execution_count": 33,
   "id": "7ac81309",
   "metadata": {},
   "outputs": [
    {
     "name": "stdout",
     "output_type": "stream",
     "text": [
      "Las métricas del modelo logístico son:\n",
      "        ⁃ Accuracy:  0.582 \n",
      "        ⁃ Precision:  0.587 \n",
      "        ⁃ Recall:  0.3 \n",
      "        ⁃ F-SCORE:  0.397 \n",
      "        ⁃ Area bajo la curva:  0.582 \n",
      "        ⁃ Confusion Matrix y Curva ROC: : \n",
      "\n",
      "\n"
     ]
    },
    {
     "data": {
      "image/png": "[encoded data removed]",
      "text/plain": [
       "<Figure size 432x288 with 2 Axes>"
      ]
     },
     "metadata": {
      "needs_background": "light"
     },
     "output_type": "display_data"
    },
    {
     "data": {
      "image/png": "[encoded data removed]",
      "text/plain": [
       "<Figure size 432x288 with 1 Axes>"
      ]
     },
     "metadata": {
      "needs_background": "light"
     },
     "output_type": "display_data"
    }
   ],
   "source": [
    "accuracy_logit = metrics.balanced_accuracy_score(y_true = Y_logit_test, y_pred = predicted_logit)\n",
    "precission_logit = metrics.precision_score(y_true = Y_logit_test, y_pred = predicted_logit)\n",
    "recall_logit = metrics.recall_score(y_true = Y_logit_test, y_pred = predicted_logit)\n",
    "f_score_logit = metrics.f1_score(y_true = Y_logit_test, y_pred = predicted_logit)\n",
    "\n",
    "cm_logit = metrics.confusion_matrix(y_true = Y_logit_test, y_pred = predicted_logit)\n",
    "cm_disp_logit = metrics.ConfusionMatrixDisplay(confusion_matrix=cm_logit)\n",
    "cm_disp_logit.plot()\n",
    "\n",
    "fpr, tpr, _ = roc_curve(Y_logit_test, predicted_logit)\n",
    "ROC_disp_logit = RocCurveDisplay(fpr=fpr, tpr=tpr)\n",
    "ROC_disp_logit.plot()\n",
    "\n",
    "auc_logit = metrics.auc(fpr, tpr)\n",
    "\n",
    "\n",
    "\n",
    "print(\n",
    "    \"\"\"\\\n",
    "Las métricas del modelo logístico son:\n",
    "        ⁃ Accuracy: \"\"\",round(accuracy_logit,3),\"\"\"\n",
    "        ⁃ Precision: \"\"\",round(precission_logit,3),\"\"\"\n",
    "        ⁃ Recall: \"\"\",round(recall_logit,3),\"\"\"\n",
    "        ⁃ F-SCORE: \"\"\",round(f_score_logit,3),\"\"\"\n",
    "        ⁃ Area bajo la curva: \"\"\",round(auc_logit,3),\"\"\"\n",
    "        ⁃ Confusion Matrix y Curva ROC: : \\n\n",
    "\"\"\")\n",
    "plt.show()"
   ]
  },
  {
   "cell_type": "markdown",
   "id": "a39102ea",
   "metadata": {},
   "source": [
    "##### B. K-NN (1pt)"
   ]
  },
  {
   "cell_type": "code",
   "execution_count": 34,
   "id": "0d854f47",
   "metadata": {},
   "outputs": [],
   "source": [
    "data_train_knn = data_train.copy()\n",
    "data_test_knn = data_test.copy()\n",
    "data_train_knn_norm = data_train_norm.copy()\n",
    "data_test_knn_norm = data_test_norm.copy()"
   ]
  },
  {
   "cell_type": "code",
   "execution_count": 35,
   "id": "6dcdcec4",
   "metadata": {},
   "outputs": [],
   "source": [
    "X_knn = data_train_knn_norm.drop(columns='loan_paid')\n",
    "Y_knn = data_train_knn['loan_paid']"
   ]
  },
  {
   "cell_type": "code",
   "execution_count": 37,
   "id": "80b2d8a4",
   "metadata": {},
   "outputs": [
    {
     "data": {
      "text/plain": [
       "KNeighborsClassifier(n_neighbors=3)"
      ]
     },
     "execution_count": 37,
     "metadata": {},
     "output_type": "execute_result"
    }
   ],
   "source": [
    "knn = KNeighborsClassifier(3)\n",
    "knn.fit(X_knn, Y_knn)"
   ]
  },
  {
   "cell_type": "code",
   "execution_count": 38,
   "id": "8fd8d982",
   "metadata": {},
   "outputs": [],
   "source": [
    "X_knn_test = data_test_knn_norm.drop(columns='loan_paid')\n",
    "Y_knn_test = data_test_knn['loan_paid']"
   ]
  },
  {
   "cell_type": "code",
   "execution_count": 39,
   "id": "05d4d71e",
   "metadata": {},
   "outputs": [
    {
     "ename": "KeyboardInterrupt",
     "evalue": "",
     "output_type": "error",
     "traceback": [
      "\u001b[0;31m---------------------------------------------------------------------------\u001b[0m",
      "\u001b[0;31mKeyboardInterrupt\u001b[0m                         Traceback (most recent call last)",
      "\u001b[0;32m/var/folders/41/_wb9xl2j5mx33x3_7jr_cvx00000gp/T/ipykernel_65945/981576696.py\u001b[0m in \u001b[0;36m<module>\u001b[0;34m\u001b[0m\n\u001b[0;32m----> 1\u001b[0;31m \u001b[0mpredicted_knn\u001b[0m \u001b[0;34m=\u001b[0m \u001b[0mknn\u001b[0m\u001b[0;34m.\u001b[0m\u001b[0mpredict\u001b[0m\u001b[0;34m(\u001b[0m\u001b[0mX_knn_test\u001b[0m\u001b[0;34m)\u001b[0m\u001b[0;34m\u001b[0m\u001b[0;34m\u001b[0m\u001b[0m\n\u001b[0m\u001b[1;32m      2\u001b[0m \u001b[0mpredicted_knn\u001b[0m\u001b[0;34m\u001b[0m\u001b[0;34m\u001b[0m\u001b[0m\n",
      "\u001b[0;32m~/opt/anaconda3/lib/python3.9/site-packages/sklearn/neighbors/_classification.py\u001b[0m in \u001b[0;36mpredict\u001b[0;34m(self, X)\u001b[0m\n\u001b[1;32m    195\u001b[0m         \u001b[0mX\u001b[0m \u001b[0;34m=\u001b[0m \u001b[0mcheck_array\u001b[0m\u001b[0;34m(\u001b[0m\u001b[0mX\u001b[0m\u001b[0;34m,\u001b[0m \u001b[0maccept_sparse\u001b[0m\u001b[0;34m=\u001b[0m\u001b[0;34m'csr'\u001b[0m\u001b[0;34m)\u001b[0m\u001b[0;34m\u001b[0m\u001b[0;34m\u001b[0m\u001b[0m\n\u001b[1;32m    196\u001b[0m \u001b[0;34m\u001b[0m\u001b[0m\n\u001b[0;32m--> 197\u001b[0;31m         \u001b[0mneigh_dist\u001b[0m\u001b[0;34m,\u001b[0m \u001b[0mneigh_ind\u001b[0m \u001b[0;34m=\u001b[0m \u001b[0mself\u001b[0m\u001b[0;34m.\u001b[0m\u001b[0mkneighbors\u001b[0m\u001b[0;34m(\u001b[0m\u001b[0mX\u001b[0m\u001b[0;34m)\u001b[0m\u001b[0;34m\u001b[0m\u001b[0;34m\u001b[0m\u001b[0m\n\u001b[0m\u001b[1;32m    198\u001b[0m         \u001b[0mclasses_\u001b[0m \u001b[0;34m=\u001b[0m \u001b[0mself\u001b[0m\u001b[0;34m.\u001b[0m\u001b[0mclasses_\u001b[0m\u001b[0;34m\u001b[0m\u001b[0;34m\u001b[0m\u001b[0m\n\u001b[1;32m    199\u001b[0m         \u001b[0m_y\u001b[0m \u001b[0;34m=\u001b[0m \u001b[0mself\u001b[0m\u001b[0;34m.\u001b[0m\u001b[0m_y\u001b[0m\u001b[0;34m\u001b[0m\u001b[0;34m\u001b[0m\u001b[0m\n",
      "\u001b[0;32m~/opt/anaconda3/lib/python3.9/site-packages/sklearn/neighbors/_base.py\u001b[0m in \u001b[0;36mkneighbors\u001b[0;34m(self, X, n_neighbors, return_distance)\u001b[0m\n\u001b[1;32m    703\u001b[0m                 \u001b[0mkwds\u001b[0m \u001b[0;34m=\u001b[0m \u001b[0mself\u001b[0m\u001b[0;34m.\u001b[0m\u001b[0meffective_metric_params_\u001b[0m\u001b[0;34m\u001b[0m\u001b[0;34m\u001b[0m\u001b[0m\n\u001b[1;32m    704\u001b[0m \u001b[0;34m\u001b[0m\u001b[0m\n\u001b[0;32m--> 705\u001b[0;31m             chunked_results = list(pairwise_distances_chunked(\n\u001b[0m\u001b[1;32m    706\u001b[0m                 \u001b[0mX\u001b[0m\u001b[0;34m,\u001b[0m \u001b[0mself\u001b[0m\u001b[0;34m.\u001b[0m\u001b[0m_fit_X\u001b[0m\u001b[0;34m,\u001b[0m \u001b[0mreduce_func\u001b[0m\u001b[0;34m=\u001b[0m\u001b[0mreduce_func\u001b[0m\u001b[0;34m,\u001b[0m\u001b[0;34m\u001b[0m\u001b[0;34m\u001b[0m\u001b[0m\n\u001b[1;32m    707\u001b[0m                 \u001b[0mmetric\u001b[0m\u001b[0;34m=\u001b[0m\u001b[0mself\u001b[0m\u001b[0;34m.\u001b[0m\u001b[0meffective_metric_\u001b[0m\u001b[0;34m,\u001b[0m \u001b[0mn_jobs\u001b[0m\u001b[0;34m=\u001b[0m\u001b[0mn_jobs\u001b[0m\u001b[0;34m,\u001b[0m\u001b[0;34m\u001b[0m\u001b[0;34m\u001b[0m\u001b[0m\n",
      "\u001b[0;32m~/opt/anaconda3/lib/python3.9/site-packages/sklearn/metrics/pairwise.py\u001b[0m in \u001b[0;36mpairwise_distances_chunked\u001b[0;34m(X, Y, reduce_func, metric, n_jobs, working_memory, **kwds)\u001b[0m\n\u001b[1;32m   1631\u001b[0m         \u001b[0;32mif\u001b[0m \u001b[0mreduce_func\u001b[0m \u001b[0;32mis\u001b[0m \u001b[0;32mnot\u001b[0m \u001b[0;32mNone\u001b[0m\u001b[0;34m:\u001b[0m\u001b[0;34m\u001b[0m\u001b[0;34m\u001b[0m\u001b[0m\n\u001b[1;32m   1632\u001b[0m             \u001b[0mchunk_size\u001b[0m \u001b[0;34m=\u001b[0m \u001b[0mD_chunk\u001b[0m\u001b[0;34m.\u001b[0m\u001b[0mshape\u001b[0m\u001b[0;34m[\u001b[0m\u001b[0;36m0\u001b[0m\u001b[0;34m]\u001b[0m\u001b[0;34m\u001b[0m\u001b[0;34m\u001b[0m\u001b[0m\n\u001b[0;32m-> 1633\u001b[0;31m             \u001b[0mD_chunk\u001b[0m \u001b[0;34m=\u001b[0m \u001b[0mreduce_func\u001b[0m\u001b[0;34m(\u001b[0m\u001b[0mD_chunk\u001b[0m\u001b[0;34m,\u001b[0m \u001b[0msl\u001b[0m\u001b[0;34m.\u001b[0m\u001b[0mstart\u001b[0m\u001b[0;34m)\u001b[0m\u001b[0;34m\u001b[0m\u001b[0;34m\u001b[0m\u001b[0m\n\u001b[0m\u001b[1;32m   1634\u001b[0m             \u001b[0m_check_chunk_size\u001b[0m\u001b[0;34m(\u001b[0m\u001b[0mD_chunk\u001b[0m\u001b[0;34m,\u001b[0m \u001b[0mchunk_size\u001b[0m\u001b[0;34m)\u001b[0m\u001b[0;34m\u001b[0m\u001b[0;34m\u001b[0m\u001b[0m\n\u001b[1;32m   1635\u001b[0m         \u001b[0;32myield\u001b[0m \u001b[0mD_chunk\u001b[0m\u001b[0;34m\u001b[0m\u001b[0;34m\u001b[0m\u001b[0m\n",
      "\u001b[0;32m~/opt/anaconda3/lib/python3.9/site-packages/sklearn/neighbors/_base.py\u001b[0m in \u001b[0;36m_kneighbors_reduce_func\u001b[0;34m(self, dist, start, n_neighbors, return_distance)\u001b[0m\n\u001b[1;32m    580\u001b[0m         \"\"\"\n\u001b[1;32m    581\u001b[0m         \u001b[0msample_range\u001b[0m \u001b[0;34m=\u001b[0m \u001b[0mnp\u001b[0m\u001b[0;34m.\u001b[0m\u001b[0marange\u001b[0m\u001b[0;34m(\u001b[0m\u001b[0mdist\u001b[0m\u001b[0;34m.\u001b[0m\u001b[0mshape\u001b[0m\u001b[0;34m[\u001b[0m\u001b[0;36m0\u001b[0m\u001b[0;34m]\u001b[0m\u001b[0;34m)\u001b[0m\u001b[0;34m[\u001b[0m\u001b[0;34m:\u001b[0m\u001b[0;34m,\u001b[0m \u001b[0;32mNone\u001b[0m\u001b[0;34m]\u001b[0m\u001b[0;34m\u001b[0m\u001b[0;34m\u001b[0m\u001b[0m\n\u001b[0;32m--> 582\u001b[0;31m         \u001b[0mneigh_ind\u001b[0m \u001b[0;34m=\u001b[0m \u001b[0mnp\u001b[0m\u001b[0;34m.\u001b[0m\u001b[0margpartition\u001b[0m\u001b[0;34m(\u001b[0m\u001b[0mdist\u001b[0m\u001b[0;34m,\u001b[0m \u001b[0mn_neighbors\u001b[0m \u001b[0;34m-\u001b[0m \u001b[0;36m1\u001b[0m\u001b[0;34m,\u001b[0m \u001b[0maxis\u001b[0m\u001b[0;34m=\u001b[0m\u001b[0;36m1\u001b[0m\u001b[0;34m)\u001b[0m\u001b[0;34m\u001b[0m\u001b[0;34m\u001b[0m\u001b[0m\n\u001b[0m\u001b[1;32m    583\u001b[0m         \u001b[0mneigh_ind\u001b[0m \u001b[0;34m=\u001b[0m \u001b[0mneigh_ind\u001b[0m\u001b[0;34m[\u001b[0m\u001b[0;34m:\u001b[0m\u001b[0;34m,\u001b[0m \u001b[0;34m:\u001b[0m\u001b[0mn_neighbors\u001b[0m\u001b[0;34m]\u001b[0m\u001b[0;34m\u001b[0m\u001b[0;34m\u001b[0m\u001b[0m\n\u001b[1;32m    584\u001b[0m         \u001b[0;31m# argpartition doesn't guarantee sorted order, so we sort again\u001b[0m\u001b[0;34m\u001b[0m\u001b[0;34m\u001b[0m\u001b[0m\n",
      "\u001b[0;32m<__array_function__ internals>\u001b[0m in \u001b[0;36margpartition\u001b[0;34m(*args, **kwargs)\u001b[0m\n",
      "\u001b[0;32m~/opt/anaconda3/lib/python3.9/site-packages/numpy/core/fromnumeric.py\u001b[0m in \u001b[0;36margpartition\u001b[0;34m(a, kth, axis, kind, order)\u001b[0m\n\u001b[1;32m    835\u001b[0m \u001b[0;34m\u001b[0m\u001b[0m\n\u001b[1;32m    836\u001b[0m     \"\"\"\n\u001b[0;32m--> 837\u001b[0;31m     \u001b[0;32mreturn\u001b[0m \u001b[0m_wrapfunc\u001b[0m\u001b[0;34m(\u001b[0m\u001b[0ma\u001b[0m\u001b[0;34m,\u001b[0m \u001b[0;34m'argpartition'\u001b[0m\u001b[0;34m,\u001b[0m \u001b[0mkth\u001b[0m\u001b[0;34m,\u001b[0m \u001b[0maxis\u001b[0m\u001b[0;34m=\u001b[0m\u001b[0maxis\u001b[0m\u001b[0;34m,\u001b[0m \u001b[0mkind\u001b[0m\u001b[0;34m=\u001b[0m\u001b[0mkind\u001b[0m\u001b[0;34m,\u001b[0m \u001b[0morder\u001b[0m\u001b[0;34m=\u001b[0m\u001b[0morder\u001b[0m\u001b[0;34m)\u001b[0m\u001b[0;34m\u001b[0m\u001b[0;34m\u001b[0m\u001b[0m\n\u001b[0m\u001b[1;32m    838\u001b[0m \u001b[0;34m\u001b[0m\u001b[0m\n\u001b[1;32m    839\u001b[0m \u001b[0;34m\u001b[0m\u001b[0m\n",
      "\u001b[0;32m~/opt/anaconda3/lib/python3.9/site-packages/numpy/core/fromnumeric.py\u001b[0m in \u001b[0;36m_wrapfunc\u001b[0;34m(obj, method, *args, **kwds)\u001b[0m\n\u001b[1;32m     56\u001b[0m \u001b[0;34m\u001b[0m\u001b[0m\n\u001b[1;32m     57\u001b[0m     \u001b[0;32mtry\u001b[0m\u001b[0;34m:\u001b[0m\u001b[0;34m\u001b[0m\u001b[0;34m\u001b[0m\u001b[0m\n\u001b[0;32m---> 58\u001b[0;31m         \u001b[0;32mreturn\u001b[0m \u001b[0mbound\u001b[0m\u001b[0;34m(\u001b[0m\u001b[0;34m*\u001b[0m\u001b[0margs\u001b[0m\u001b[0;34m,\u001b[0m \u001b[0;34m**\u001b[0m\u001b[0mkwds\u001b[0m\u001b[0;34m)\u001b[0m\u001b[0;34m\u001b[0m\u001b[0;34m\u001b[0m\u001b[0m\n\u001b[0m\u001b[1;32m     59\u001b[0m     \u001b[0;32mexcept\u001b[0m \u001b[0mTypeError\u001b[0m\u001b[0;34m:\u001b[0m\u001b[0;34m\u001b[0m\u001b[0;34m\u001b[0m\u001b[0m\n\u001b[1;32m     60\u001b[0m         \u001b[0;31m# A TypeError occurs if the object does have such a method in its\u001b[0m\u001b[0;34m\u001b[0m\u001b[0;34m\u001b[0m\u001b[0m\n",
      "\u001b[0;31mKeyboardInterrupt\u001b[0m: "
     ]
    }
   ],
   "source": [
    "predicted_knn = knn.predict(X_knn_test)\n",
    "predicted_knn"
   ]
  },
  {
   "cell_type": "code",
   "execution_count": null,
   "id": "863080b6",
   "metadata": {},
   "outputs": [],
   "source": [
    "accuracy_knn = metrics.balanced_accuracy_score(y_true = Y_knn_test, y_pred = predicted_knn)\n",
    "precission_knn = metrics.precision_score(y_true = Y_knn_test, y_pred = predicted_knn)\n",
    "recall_knn = metrics.recall_score(y_true = Y_knn_test, y_pred = predicted_knn)\n",
    "f_score_knn = metrics.f1_score(y_true = Y_knn_test, y_pred = predicted_knn)\n",
    "\n",
    "cm_knn = metrics.confusion_matrix(y_true = Y_knn_test, y_pred = predicted_knn)\n",
    "cm_disp_knn = metrics.ConfusionMatrixDisplay(confusion_matrix=cm_knn)\n",
    "cm_disp_knn.plot()\n",
    "\n",
    "fpr, tpr, _ = roc_curve(Y_knn_test, predicted_knn)\n",
    "ROC_disp_knn = RocCurveDisplay(fpr=fpr, tpr=tpr)\n",
    "ROC_disp_knn.plot()\n",
    "\n",
    "auc_knn = metrics.auc(fpr, tpr)\n",
    "\n",
    "\n",
    "\n",
    "print(\n",
    "    \"\"\"\\\n",
    "Las métricas del modelo KNN son:\n",
    "        ⁃ Accuracy: \"\"\",round(accuracy_knn,3),\"\"\"\n",
    "        ⁃ Precision: \"\"\",round(precission_knn,3),\"\"\"\n",
    "        ⁃ Recall: \"\"\",round(recall_knn,3),\"\"\"\n",
    "        ⁃ F-SCORE: \"\"\",round(f_score_knn,3),\"\"\"\n",
    "        ⁃ Area bajo la curva: \"\"\",round(auc_knn,3),\"\"\"\n",
    "        ⁃ Confusion Matrix y Curva ROC: : \\n\n",
    "\"\"\")\n",
    "plt.show()"
   ]
  },
  {
   "cell_type": "markdown",
   "id": "97a3cb9a",
   "metadata": {},
   "source": [
    "##### C. Arbol de decisión simple (1pt)"
   ]
  },
  {
   "cell_type": "code",
   "execution_count": 40,
   "id": "7e253335",
   "metadata": {},
   "outputs": [],
   "source": [
    "from sklearn.tree import DecisionTreeClassifier\n",
    "data_train_tree = data_train.copy()\n",
    "data_test_tree = data_test.copy()"
   ]
  },
  {
   "cell_type": "code",
   "execution_count": 41,
   "id": "120e7a34",
   "metadata": {},
   "outputs": [],
   "source": [
    "X_tree = data_train_tree.drop(columns='loan_paid')\n",
    "Y_tree = data_train_tree['loan_paid']"
   ]
  },
  {
   "cell_type": "code",
   "execution_count": 42,
   "id": "4911f5f3",
   "metadata": {},
   "outputs": [
    {
     "data": {
      "text/plain": [
       "0.6470287191260112"
      ]
     },
     "execution_count": 42,
     "metadata": {},
     "output_type": "execute_result"
    }
   ],
   "source": [
    "tree = DecisionTreeClassifier(random_state=random_state, max_depth=6)\n",
    "tree.fit(X_tree, Y_tree)\n",
    "tree.score(X_tree, Y_tree)"
   ]
  },
  {
   "cell_type": "code",
   "execution_count": 43,
   "id": "90566681",
   "metadata": {},
   "outputs": [],
   "source": [
    "X_tree_test = data_test_tree.drop(columns='loan_paid')\n",
    "Y_tree_test = data_test_tree['loan_paid']"
   ]
  },
  {
   "cell_type": "code",
   "execution_count": 44,
   "id": "dc293f55",
   "metadata": {},
   "outputs": [],
   "source": [
    "predicted_tree = tree.predict(X_tree_test)"
   ]
  },
  {
   "cell_type": "code",
   "execution_count": 45,
   "id": "2038bb74",
   "metadata": {
    "scrolled": false
   },
   "outputs": [
    {
     "name": "stdout",
     "output_type": "stream",
     "text": [
      "Las métricas del modelo tree son:\n",
      "        ⁃ Accuracy:  0.596 \n",
      "        ⁃ Precision:  0.576 \n",
      "        ⁃ Recall:  0.362 \n",
      "        ⁃ F-SCORE:  0.445 \n",
      "        ⁃ Area bajo la curva:  0.596 \n",
      "        ⁃ Confusion Matrix y Curva ROC: : \n",
      "\n",
      "\n"
     ]
    },
    {
     "data": {
      "image/png": "[encoded data removed]",
      "text/plain": [
       "<Figure size 432x288 with 2 Axes>"
      ]
     },
     "metadata": {
      "needs_background": "light"
     },
     "output_type": "display_data"
    },
    {
     "data": {
      "image/png": "[encoded data removed]",
      "text/plain": [
       "<Figure size 432x288 with 1 Axes>"
      ]
     },
     "metadata": {
      "needs_background": "light"
     },
     "output_type": "display_data"
    }
   ],
   "source": [
    "accuracy_tree = metrics.balanced_accuracy_score(y_true = Y_tree_test, y_pred = predicted_tree)\n",
    "precission_tree = metrics.precision_score(y_true = Y_tree_test, y_pred = predicted_tree)\n",
    "recall_tree = metrics.recall_score(y_true = Y_tree_test, y_pred = predicted_tree)\n",
    "f_score_tree = metrics.f1_score(y_true = Y_tree_test, y_pred = predicted_tree)\n",
    "\n",
    "cm_tree = metrics.confusion_matrix(y_true = Y_tree_test, y_pred = predicted_tree)\n",
    "cm_disp_tree = metrics.ConfusionMatrixDisplay(confusion_matrix=cm_tree)\n",
    "cm_disp_tree.plot()\n",
    "\n",
    "fpr, tpr, _ = roc_curve(Y_tree_test, predicted_tree)\n",
    "ROC_disp_tree = RocCurveDisplay(fpr=fpr, tpr=tpr)\n",
    "ROC_disp_tree.plot()\n",
    "\n",
    "auc_tree = metrics.auc(fpr, tpr)\n",
    "\n",
    "\n",
    "\n",
    "print(\n",
    "    \"\"\"\\\n",
    "Las métricas del modelo tree son:\n",
    "        ⁃ Accuracy: \"\"\",round(accuracy_tree,3),\"\"\"\n",
    "        ⁃ Precision: \"\"\",round(precission_tree,3),\"\"\"\n",
    "        ⁃ Recall: \"\"\",round(recall_tree,3),\"\"\"\n",
    "        ⁃ F-SCORE: \"\"\",round(f_score_tree,3),\"\"\"\n",
    "        ⁃ Area bajo la curva: \"\"\",round(auc_tree,3),\"\"\"\n",
    "        ⁃ Confusion Matrix y Curva ROC: : \\n\n",
    "\"\"\")\n",
    "plt.show()"
   ]
  },
  {
   "cell_type": "markdown",
   "id": "d321eb93",
   "metadata": {},
   "source": [
    "##### D. Bagging Classifier (1pt)"
   ]
  },
  {
   "cell_type": "code",
   "execution_count": 46,
   "id": "ec85c193",
   "metadata": {},
   "outputs": [],
   "source": [
    "from  sklearn.ensemble import BaggingClassifier\n",
    "data_train_bagging = data_train.copy()\n",
    "data_test_bagging = data_test.copy()"
   ]
  },
  {
   "cell_type": "code",
   "execution_count": 47,
   "id": "67f52652",
   "metadata": {},
   "outputs": [],
   "source": [
    "X_bagging = data_train_bagging.drop(columns='loan_paid')\n",
    "Y_bagging = data_train_bagging['loan_paid']"
   ]
  },
  {
   "cell_type": "code",
   "execution_count": 48,
   "id": "1706df4c",
   "metadata": {},
   "outputs": [
    {
     "data": {
      "text/plain": [
       "0.8711118429868279"
      ]
     },
     "execution_count": 48,
     "metadata": {},
     "output_type": "execute_result"
    }
   ],
   "source": [
    "bagging = BaggingClassifier(n_estimators=1)\n",
    "bagging.fit(X_bagging, Y_bagging)\n",
    "bagging.score(X_bagging, Y_bagging)"
   ]
  },
  {
   "cell_type": "code",
   "execution_count": 49,
   "id": "b96cf1b1",
   "metadata": {},
   "outputs": [],
   "source": [
    "X_bagging_test = data_test_bagging.drop(columns='loan_paid')\n",
    "Y_bagging_test = data_test_bagging['loan_paid']"
   ]
  },
  {
   "cell_type": "code",
   "execution_count": 50,
   "id": "86330cb1",
   "metadata": {},
   "outputs": [],
   "source": [
    "predicted_bagging = bagging.predict(X_bagging_test)"
   ]
  },
  {
   "cell_type": "code",
   "execution_count": 51,
   "id": "8cb24ba7",
   "metadata": {
    "scrolled": false
   },
   "outputs": [
    {
     "name": "stdout",
     "output_type": "stream",
     "text": [
      "Las métricas del modelo bagging son:\n",
      "        ⁃ Accuracy:  0.632 \n",
      "        ⁃ Precision:  0.549 \n",
      "        ⁃ Recall:  0.558 \n",
      "        ⁃ F-SCORE:  0.554 \n",
      "        ⁃ Area bajo la curva:  0.632 \n",
      "        ⁃ Confusion Matrix y Curva ROC: : \n",
      "\n",
      "\n"
     ]
    },
    {
     "data": {
      "image/png": "[encoded data removed]",
      "text/plain": [
       "<Figure size 432x288 with 2 Axes>"
      ]
     },
     "metadata": {
      "needs_background": "light"
     },
     "output_type": "display_data"
    },
    {
     "data": {
      "image/png": "[encoded data removed]",
      "text/plain": [
       "<Figure size 432x288 with 1 Axes>"
      ]
     },
     "metadata": {
      "needs_background": "light"
     },
     "output_type": "display_data"
    }
   ],
   "source": [
    "accuracy_bagging = metrics.balanced_accuracy_score(y_true = Y_bagging_test, y_pred = predicted_bagging)\n",
    "precission_bagging = metrics.precision_score(y_true = Y_bagging_test, y_pred = predicted_bagging)\n",
    "recall_bagging = metrics.recall_score(y_true = Y_bagging_test, y_pred = predicted_bagging)\n",
    "f_score_bagging = metrics.f1_score(y_true = Y_bagging_test, y_pred = predicted_bagging)\n",
    "\n",
    "cm_bagging = metrics.confusion_matrix(y_true = Y_bagging_test, y_pred = predicted_bagging)\n",
    "cm_disp_bagging = metrics.ConfusionMatrixDisplay(confusion_matrix=cm_bagging)\n",
    "cm_disp_bagging.plot()\n",
    "\n",
    "fpr, tpr, _ = roc_curve(Y_bagging_test, predicted_bagging)\n",
    "ROC_disp_bagging = RocCurveDisplay(fpr=fpr, tpr=tpr)\n",
    "ROC_disp_bagging.plot()\n",
    "\n",
    "auc_bagging = metrics.auc(fpr, tpr)\n",
    "\n",
    "\n",
    "\n",
    "print(\n",
    "    \"\"\"\\\n",
    "Las métricas del modelo bagging son:\n",
    "        ⁃ Accuracy: \"\"\",round(accuracy_bagging,3),\"\"\"\n",
    "        ⁃ Precision: \"\"\",round(precission_bagging,3),\"\"\"\n",
    "        ⁃ Recall: \"\"\",round(recall_bagging,3),\"\"\"\n",
    "        ⁃ F-SCORE: \"\"\",round(f_score_bagging,3),\"\"\"\n",
    "        ⁃ Area bajo la curva: \"\"\",round(auc_bagging,3),\"\"\"\n",
    "        ⁃ Confusion Matrix y Curva ROC: : \\n\n",
    "\"\"\")\n",
    "plt.show()"
   ]
  },
  {
   "cell_type": "markdown",
   "id": "43247721",
   "metadata": {},
   "source": [
    "##### E. Random Forest (1pt)"
   ]
  },
  {
   "cell_type": "code",
   "execution_count": 52,
   "id": "6c26f1b6",
   "metadata": {},
   "outputs": [],
   "source": [
    "from sklearn.ensemble import RandomForestClassifier\n",
    "data_train_forest = data_train.copy()\n",
    "data_test_forest = data_test.copy()"
   ]
  },
  {
   "cell_type": "code",
   "execution_count": 53,
   "id": "b17039d8",
   "metadata": {},
   "outputs": [],
   "source": [
    "X_forest = data_train_forest.drop(columns='loan_paid')\n",
    "Y_forest = data_train_forest['loan_paid']"
   ]
  },
  {
   "cell_type": "code",
   "execution_count": 54,
   "id": "fe27c913",
   "metadata": {},
   "outputs": [
    {
     "data": {
      "text/plain": [
       "0.9999935422730876"
      ]
     },
     "execution_count": 54,
     "metadata": {},
     "output_type": "execute_result"
    }
   ],
   "source": [
    "forest = RandomForestClassifier()\n",
    "forest.fit(X_forest, Y_forest)\n",
    "forest.score(X_forest, Y_forest)"
   ]
  },
  {
   "cell_type": "code",
   "execution_count": 55,
   "id": "fc896942",
   "metadata": {},
   "outputs": [],
   "source": [
    "X_forest_test = data_test_forest.drop(columns='loan_paid')\n",
    "Y_forest_test = data_test_forest['loan_paid']"
   ]
  },
  {
   "cell_type": "code",
   "execution_count": 56,
   "id": "3dae7682",
   "metadata": {},
   "outputs": [
    {
     "data": {
      "text/plain": [
       "array([ True, False, False, ..., False, False, False])"
      ]
     },
     "execution_count": 56,
     "metadata": {},
     "output_type": "execute_result"
    }
   ],
   "source": [
    "predicted_forest = forest.predict(X_forest_test)\n",
    "predicted_forest"
   ]
  },
  {
   "cell_type": "code",
   "execution_count": 57,
   "id": "d8a59dfe",
   "metadata": {
    "scrolled": false
   },
   "outputs": [
    {
     "name": "stdout",
     "output_type": "stream",
     "text": [
      "Las métricas del modelo forest son:\n",
      "        ⁃ Accuracy:  0.685 \n",
      "        ⁃ Precision:  0.708 \n",
      "        ⁃ Recall:  0.502 \n",
      "        ⁃ F-SCORE:  0.587 \n",
      "        ⁃ Area bajo la curva:  0.685 \n",
      "        ⁃ Confusion Matrix y Curva ROC: : \n",
      "\n",
      "\n"
     ]
    },
    {
     "data": {
      "image/png": "[encoded data removed]",
      "text/plain": [
       "<Figure size 432x288 with 2 Axes>"
      ]
     },
     "metadata": {
      "needs_background": "light"
     },
     "output_type": "display_data"
    },
    {
     "data": {
      "image/png": "[encoded data removed]",
      "text/plain": [
       "<Figure size 432x288 with 1 Axes>"
      ]
     },
     "metadata": {
      "needs_background": "light"
     },
     "output_type": "display_data"
    }
   ],
   "source": [
    "accuracy_forest = metrics.balanced_accuracy_score(y_true = Y_forest_test, y_pred = predicted_forest)\n",
    "precission_forest = metrics.precision_score(y_true = Y_forest_test, y_pred = predicted_forest)\n",
    "recall_forest = metrics.recall_score(y_true = Y_forest_test, y_pred = predicted_forest)\n",
    "f_score_forest = metrics.f1_score(y_true = Y_forest_test, y_pred = predicted_forest)\n",
    "\n",
    "cm_forest = metrics.confusion_matrix(y_true = Y_forest_test, y_pred = predicted_forest)\n",
    "cm_disp_forest = metrics.ConfusionMatrixDisplay(confusion_matrix=cm_forest)\n",
    "cm_disp_forest.plot()\n",
    "\n",
    "fpr, tpr, _ = roc_curve(Y_forest_test, predicted_forest)\n",
    "ROC_disp_forest = RocCurveDisplay(fpr=fpr, tpr=tpr)\n",
    "ROC_disp_forest.plot()\n",
    "\n",
    "auc_forest = metrics.auc(fpr, tpr)\n",
    "\n",
    "\n",
    "\n",
    "print(\n",
    "    \"\"\"\\\n",
    "Las métricas del modelo forest son:\n",
    "        ⁃ Accuracy: \"\"\",round(accuracy_forest,3),\"\"\"\n",
    "        ⁃ Precision: \"\"\",round(precission_forest,3),\"\"\"\n",
    "        ⁃ Recall: \"\"\",round(recall_forest,3),\"\"\"\n",
    "        ⁃ F-SCORE: \"\"\",round(f_score_forest,3),\"\"\"\n",
    "        ⁃ Area bajo la curva: \"\"\",round(auc_forest,3),\"\"\"\n",
    "        ⁃ Confusion Matrix y Curva ROC: : \\n\n",
    "\"\"\")\n",
    "plt.show()"
   ]
  },
  {
   "cell_type": "markdown",
   "id": "2d1a3253",
   "metadata": {},
   "source": [
    "##### F. GradientBoost (1pt)"
   ]
  },
  {
   "cell_type": "code",
   "execution_count": 58,
   "id": "2a0e1895",
   "metadata": {},
   "outputs": [],
   "source": [
    "from sklearn.ensemble import GradientBoostingClassifier\n",
    "data_train_gradient = data_train.copy()\n",
    "data_test_gradient = data_test.copy()"
   ]
  },
  {
   "cell_type": "code",
   "execution_count": 59,
   "id": "d952458b",
   "metadata": {},
   "outputs": [],
   "source": [
    "X_gradient = data_train_gradient.drop(columns='loan_paid')\n",
    "Y_gradient = data_train_gradient['loan_paid']"
   ]
  },
  {
   "cell_type": "code",
   "execution_count": 60,
   "id": "f9c9f0e8",
   "metadata": {},
   "outputs": [
    {
     "data": {
      "text/plain": [
       "0.7011606149693339"
      ]
     },
     "execution_count": 60,
     "metadata": {},
     "output_type": "execute_result"
    }
   ],
   "source": [
    "gradient = GradientBoostingClassifier()\n",
    "gradient.fit(X_gradient, Y_gradient)\n",
    "gradient.score(X_gradient, Y_gradient)"
   ]
  },
  {
   "cell_type": "code",
   "execution_count": 61,
   "id": "4188fa66",
   "metadata": {},
   "outputs": [],
   "source": [
    "X_gradient_test = data_test_gradient.drop(columns='loan_paid')\n",
    "Y_gradient_test = data_test_gradient['loan_paid']"
   ]
  },
  {
   "cell_type": "code",
   "execution_count": 62,
   "id": "b9d7999b",
   "metadata": {},
   "outputs": [
    {
     "data": {
      "text/plain": [
       "array([False, False, False, ..., False,  True, False])"
      ]
     },
     "execution_count": 62,
     "metadata": {},
     "output_type": "execute_result"
    }
   ],
   "source": [
    "predicted_gradient = gradient.predict(X_gradient_test)\n",
    "predicted_gradient"
   ]
  },
  {
   "cell_type": "code",
   "execution_count": 63,
   "id": "e8b6b185",
   "metadata": {
    "scrolled": false
   },
   "outputs": [
    {
     "name": "stdout",
     "output_type": "stream",
     "text": [
      "Las métricas del modelo gradient son:\n",
      "        ⁃ Accuracy:  0.65 \n",
      "        ⁃ Precision:  0.69 \n",
      "        ⁃ Recall:  0.421 \n",
      "        ⁃ F-SCORE:  0.523 \n",
      "        ⁃ Area bajo la curva:  0.65 \n",
      "        ⁃ Confusion Matrix y Curva ROC: : \n",
      "\n",
      "\n"
     ]
    },
    {
     "data": {
      "image/png": "[encoded data removed]",
      "text/plain": [
       "<Figure size 432x288 with 2 Axes>"
      ]
     },
     "metadata": {
      "needs_background": "light"
     },
     "output_type": "display_data"
    },
    {
     "data": {
      "image/png": "[encoded data removed]",
      "text/plain": [
       "<Figure size 432x288 with 1 Axes>"
      ]
     },
     "metadata": {
      "needs_background": "light"
     },
     "output_type": "display_data"
    }
   ],
   "source": [
    "accuracy_gradient = metrics.balanced_accuracy_score(y_true = Y_gradient_test, y_pred = predicted_gradient)\n",
    "precission_gradient = metrics.precision_score(y_true = Y_gradient_test, y_pred = predicted_gradient)\n",
    "recall_gradient = metrics.recall_score(y_true = Y_gradient_test, y_pred = predicted_gradient)\n",
    "f_score_gradient = metrics.f1_score(y_true = Y_gradient_test, y_pred = predicted_gradient)\n",
    "\n",
    "cm_gradient = metrics.confusion_matrix(y_true = Y_gradient_test, y_pred = predicted_gradient)\n",
    "cm_disp_gradient = metrics.ConfusionMatrixDisplay(confusion_matrix=cm_gradient)\n",
    "cm_disp_gradient.plot()\n",
    "\n",
    "fpr, tpr, _ = roc_curve(Y_gradient_test, predicted_gradient)\n",
    "ROC_disp_gradient = RocCurveDisplay(fpr=fpr, tpr=tpr)\n",
    "ROC_disp_gradient.plot()\n",
    "\n",
    "auc_gradient = metrics.auc(fpr, tpr)\n",
    "\n",
    "\n",
    "\n",
    "print(\n",
    "    \"\"\"\\\n",
    "Las métricas del modelo gradient son:\n",
    "        ⁃ Accuracy: \"\"\",round(accuracy_gradient,3),\"\"\"\n",
    "        ⁃ Precision: \"\"\",round(precission_gradient,3),\"\"\"\n",
    "        ⁃ Recall: \"\"\",round(recall_gradient,3),\"\"\"\n",
    "        ⁃ F-SCORE: \"\"\",round(f_score_gradient,3),\"\"\"\n",
    "        ⁃ Area bajo la curva: \"\"\",round(auc_gradient,3),\"\"\"\n",
    "        ⁃ Confusion Matrix y Curva ROC: : \\n\n",
    "\"\"\")\n",
    "plt.show()"
   ]
  },
  {
   "cell_type": "markdown",
   "id": "5be38999",
   "metadata": {},
   "source": [
    "##### G. XGBoost. (1pt)"
   ]
  },
  {
   "cell_type": "code",
   "execution_count": 64,
   "id": "433ebf40",
   "metadata": {},
   "outputs": [],
   "source": [
    "import xgboost as xgb\n",
    "data_train_xgb = data_train.copy()\n",
    "data_test_xgb = data_test.copy()"
   ]
  },
  {
   "cell_type": "code",
   "execution_count": 65,
   "id": "7f533272",
   "metadata": {},
   "outputs": [],
   "source": [
    "X_xgb = data_train_xgb.drop(columns='loan_paid')\n",
    "Y_xgb = data_train_xgb['loan_paid']"
   ]
  },
  {
   "cell_type": "code",
   "execution_count": null,
   "id": "012bb1fd",
   "metadata": {},
   "outputs": [],
   "source": [
    "xgb = xgb.XGBClassifier(n_estimators=6, objective='reg:squarederror')\n",
    "xgb.fit(X_xgb, Y_xgb)\n",
    "xgb.score(X_xgb, Y_xgb)"
   ]
  },
  {
   "cell_type": "code",
   "execution_count": null,
   "id": "aa7309e0",
   "metadata": {},
   "outputs": [],
   "source": [
    "X_xgb_test = data_test_xgb.drop(columns='loan_paid')\n",
    "Y_xgb_test = data_test_xgb['loan_paid']"
   ]
  },
  {
   "cell_type": "code",
   "execution_count": null,
   "id": "99ce9d52",
   "metadata": {},
   "outputs": [],
   "source": [
    "predicted_xgb = xgb.predict(X_xgb_test)\n",
    "predicted_xgb"
   ]
  },
  {
   "cell_type": "code",
   "execution_count": null,
   "id": "694b56d9",
   "metadata": {
    "scrolled": false
   },
   "outputs": [],
   "source": [
    "accuracy_xgb = metrics.balanced_accuracy_score(y_true = Y_xgb_test, y_pred = predicted_xgb)\n",
    "precission_xgb = metrics.precision_score(y_true = Y_xgb_test, y_pred = predicted_xgb)\n",
    "recall_xgb = metrics.recall_score(y_true = Y_xgb_test, y_pred = predicted_xgb)\n",
    "f_score_xgb = metrics.f1_score(y_true = Y_xgb_test, y_pred = predicted_xgb)\n",
    "\n",
    "cm_xgb = metrics.confusion_matrix(y_true = Y_xgb_test, y_pred = predicted_xgb)\n",
    "cm_disp_xgb = metrics.ConfusionMatrixDisplay(confusion_matrix=cm_xgb)\n",
    "cm_disp_xgb.plot()\n",
    "\n",
    "fpr, tpr, _ = roc_curve(Y_xgb_test, predicted_xgb)\n",
    "ROC_disp_xgb = RocCurveDisplay(fpr=fpr, tpr=tpr)\n",
    "ROC_disp_xgb.plot()\n",
    "\n",
    "auc_xgb = metrics.auc(fpr, tpr)\n",
    "\n",
    "\n",
    "\n",
    "print(\n",
    "    \"\"\"\\\n",
    "Las métricas del modelo xgb son:\n",
    "        ⁃ Accuracy: \"\"\",round(accuracy_xgb,3),\"\"\"\n",
    "        ⁃ Precision: \"\"\",round(precission_xgb,3),\"\"\"\n",
    "        ⁃ Recall: \"\"\",round(recall_xgb,3),\"\"\"\n",
    "        ⁃ F-SCORE: \"\"\",round(f_score_xgb,3),\"\"\"\n",
    "        ⁃ Area bajo la curva: \"\"\",round(auc_xgb,3),\"\"\"\n",
    "        ⁃ Confusion Matrix y Curva ROC: : \\n\n",
    "\"\"\")\n",
    "plt.show()"
   ]
  },
  {
   "cell_type": "code",
   "execution_count": null,
   "id": "d7fa795d",
   "metadata": {},
   "outputs": [],
   "source": []
  },
  {
   "cell_type": "markdown",
   "id": "a64261c2",
   "metadata": {},
   "source": [
    "#### EJERCICIO 6:\n",
    "Cual de todas las métricas crees que es la más conveniente?. Ordena todos los métodos de mejor a peor según dichas métricas. (0,5pt)"
   ]
  },
  {
   "cell_type": "markdown",
   "id": "581242fc",
   "metadata": {},
   "source": [
    "#### EJERCICIO 7:\n",
    "En esta práctica no hemos abordado todavía la importancia de hacer una correcta preselección y transformación de variables antes de entrenar un modelo. Sin embargo , los ensambladores nos pueden dar una buena pista, de que variables elegir a la hora de entrenar un modelo de clasificación o regresión.  ¿Cómo medirías que importancia tiene cada variable a la hora de clasificar correctamente la variable objetivo? Haciendo uso de alguno de los métodos propuestos, Muestra una gráfica que presente de forma ordenada la importancia que tiene cada variable en la clasificación (0,5pt)"
   ]
  },
  {
   "cell_type": "code",
   "execution_count": null,
   "id": "012f4cb3",
   "metadata": {},
   "outputs": [],
   "source": [
    "import subprocess\n",
    "\n",
    "applescript = \"\"\"\n",
    "display dialog \"CODE EXECUTED\" ¬\n",
    "with title \"This is a pop-up window\" ¬\n",
    "buttons {\"OK\"} \n",
    "\"\"\"\n",
    "\n",
    "subprocess.call(\"osascript -e '{}'\".format(applescript), shell=True)"
   ]
  },
  {
   "cell_type": "code",
   "execution_count": null,
   "id": "3cca3187",
   "metadata": {},
   "outputs": [],
   "source": []
  },
  {
   "cell_type": "code",
   "execution_count": null,
   "id": "94a093e5",
   "metadata": {},
   "outputs": [],
   "source": []
  },
  {
   "cell_type": "code",
   "execution_count": null,
   "id": "d364ff42",
   "metadata": {},
   "outputs": [],
   "source": []
  },
  {
   "cell_type": "code",
   "execution_count": null,
   "id": "66a6b3e0",
   "metadata": {},
   "outputs": [],
   "source": []
  },
  {
   "cell_type": "markdown",
   "id": "11abcb5e",
   "metadata": {},
   "source": [
    "Dudas:\n",
    "1. Los NAs son un 72% de los datos\n",
    "2. Las metrics se calculan sobre los datos de test?\n",
    "3. Como calcular metricas para agoritmos que devuelben decimal y no binario\n",
    "4. Cual es la mejor forma de podar arboles?\n"
   ]
  },
  {
   "cell_type": "code",
   "execution_count": null,
   "id": "8308bf59",
   "metadata": {},
   "outputs": [],
   "source": []
  },
  {
   "cell_type": "code",
   "execution_count": null,
   "id": "606b2ecd",
   "metadata": {},
   "outputs": [],
   "source": []
  },
  {
   "cell_type": "code",
   "execution_count": null,
   "id": "a79ed4d1",
   "metadata": {},
   "outputs": [],
   "source": []
  }
 ],
 "metadata": {
  "kernelspec": {
   "display_name": "Python 3 (ipykernel)",
   "language": "python",
   "name": "python3"
  },
  "language_info": {
   "codemirror_mode": {
    "name": "ipython",
    "version": 3
   },
   "file_extension": ".py",
   "mimetype": "text/x-python",
   "name": "python",
   "nbconvert_exporter": "python",
   "pygments_lexer": "ipython3",
   "version": "3.9.7"
  }
 },
 "nbformat": 4,
 "nbformat_minor": 5
}
