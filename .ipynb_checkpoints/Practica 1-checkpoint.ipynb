{
 "cells": [
  {
   "cell_type": "markdown",
   "id": "76dbd8fa",
   "metadata": {
    "id": "76dbd8fa"
   },
   "source": [
    "# Data Lending Club - Práctica 1\n",
    "## Juan Sevilla Fernandez\n",
    "\n",
    "Lending Club es una de las empresas P2P más grandes, publica regularmente conjuntos de datos anonimizados de sus clientes que contienen características de los préstamos y los prestatarios. Esta información se puede utilizar para clasificar si un prestatario incumplirá o no con su préstamo.\n",
    "\n",
    "Por ejemplo, los bancos suelen tener datos informativos para crear modelos que ayuden a decidir a quién conceder o denegar un préstamo. Es un problema de clasificación supervisado.\n"
   ]
  },
  {
   "cell_type": "markdown",
   "id": "f034640b",
   "metadata": {
    "id": "f034640b"
   },
   "source": [
    "## Definición del problema:\n",
    "Se desea predecir, antes de conceder un préstamo a una persona, la probabilidad de que no se devuelva completamente. Por tanto, todas las variables del dataset que se empleen para el modelo, deben poderse utilizar en el momento de su llamada. Para ello, se empleará un algoritmo de clasificación supervisado.\n",
    "\n",
    "El fichero “Data_Dictionary.xls” contiene toda las variables y sus descripción a utilizar en el modelo de clasificación.\n",
    "\n",
    "El conjunto de datos se encuentra en el fichero “pd_data_initial_preprocessing.csv”\n",
    "\n",
    "La variable objetivo a predecir, que define si un cliente pagará una hipoteca o no es *loan_status* ."
   ]
  },
  {
   "cell_type": "code",
   "execution_count": 1,
   "id": "533d29a5",
   "metadata": {
    "colab": {
     "base_uri": "https://localhost:8080/"
    },
    "executionInfo": {
     "elapsed": 1583,
     "status": "ok",
     "timestamp": 1651993642600,
     "user": {
      "displayName": "Juan Sevilla Fern�ndez",
      "userId": "01090246479958160618"
     },
     "user_tz": -480
    },
    "id": "533d29a5",
    "outputId": "bf651342-903d-429f-9c53-899aa4c31e49",
    "scrolled": false
   },
   "outputs": [
    {
     "name": "stderr",
     "output_type": "stream",
     "text": [
      "/usr/local/lib/python3.7/dist-packages/statsmodels/tools/_testing.py:19: FutureWarning: pandas.util.testing is deprecated. Use the functions in the public API at pandas.testing instead.\n",
      "  import pandas.util.testing as tm\n"
     ]
    }
   ],
   "source": [
    "import numpy as np\n",
    "import pandas as pd\n",
    "import matplotlib.pyplot as plt\n",
    "import warnings\n",
    "import seaborn as sns\n",
    "from scipy.stats import linregress\n",
    "from sklearn.model_selection import train_test_split\n",
    "from sklearn.linear_model import LinearRegression\n",
    "from sklearn.metrics import mean_squared_error, mean_poisson_deviance\n",
    "import statsmodels.api as sm\n",
    "from sklearn.preprocessing import StandardScaler\n",
    "from sklearn.linear_model import LogisticRegression\n",
    "\n",
    "import sklearn\n",
    "warnings.filterwarnings('ignore')"
   ]
  },
  {
   "cell_type": "code",
   "execution_count": 2,
   "id": "e7585871",
   "metadata": {
    "executionInfo": {
     "elapsed": 14,
     "status": "ok",
     "timestamp": 1651993642602,
     "user": {
      "displayName": "Juan Sevilla Fern�ndez",
      "userId": "01090246479958160618"
     },
     "user_tz": -480
    },
    "id": "e7585871"
   },
   "outputs": [],
   "source": [
    "random_state = 100"
   ]
  },
  {
   "cell_type": "code",
   "execution_count": 3,
   "id": "2d6RNd5iJsop",
   "metadata": {
    "colab": {
     "base_uri": "https://localhost:8080/"
    },
    "executionInfo": {
     "elapsed": 24907,
     "status": "ok",
     "timestamp": 1651993667496,
     "user": {
      "displayName": "Juan Sevilla Fern�ndez",
      "userId": "01090246479958160618"
     },
     "user_tz": -480
    },
    "id": "2d6RNd5iJsop",
    "outputId": "3af1a835-a7e9-4ed2-d0c5-2042b45af2e4"
   },
   "outputs": [
    {
     "name": "stdout",
     "output_type": "stream",
     "text": [
      "Mounted at /content/drive\n"
     ]
    }
   ],
   "source": [
    "from google.colab import drive\n",
    "drive.mount('/content/drive')"
   ]
  },
  {
   "cell_type": "code",
   "execution_count": 4,
   "id": "af18c590",
   "metadata": {
    "executionInfo": {
     "elapsed": 13908,
     "status": "ok",
     "timestamp": 1651993681393,
     "user": {
      "displayName": "Juan Sevilla Fern�ndez",
      "userId": "01090246479958160618"
     },
     "user_tz": -480
    },
    "id": "af18c590",
    "scrolled": false
   },
   "outputs": [],
   "source": [
    "# Read Data\n",
    "data_raw_raw = pd.read_csv('/content/drive/MyDrive/Colab Notebooks/pd_data_initial_preprocessing.csv')"
   ]
  },
  {
   "cell_type": "code",
   "execution_count": 5,
   "id": "8c73a5cf",
   "metadata": {
    "executionInfo": {
     "elapsed": 81,
     "status": "ok",
     "timestamp": 1651993681403,
     "user": {
      "displayName": "Juan Sevilla Fern�ndez",
      "userId": "01090246479958160618"
     },
     "user_tz": -480
    },
    "id": "8c73a5cf"
   },
   "outputs": [],
   "source": [
    "# We only keep Charged off and Fully Paid loans\n",
    "data_raw = data_raw_raw[(data_raw_raw['loan_status']==\"Fully Paid\")|(data_raw_raw['loan_status']==\"Charged Off\")]"
   ]
  },
  {
   "cell_type": "markdown",
   "id": "02e1aa27",
   "metadata": {
    "id": "02e1aa27"
   },
   "source": [
    "## Puntos a resolver en la práctica:\n",
    "\n",
    "Se pide realizar los siguientes puntos para resolver el problema de clasificación.\n",
    "\n",
    "#### EJERCICIO 1:\n",
    "Hacer un pequeño análisis descriptivo de los datos. Un análisis sencillo que incluya simplemente: (0,5 pts)\n",
    "\n",
    "        ⁃\tCantidad de valores nulos.\n",
    "        ⁃\ttipo de variables (cat, float, etc.)\n",
    "        ⁃\tEn la variable objetivo, distribución de sus valores.\n",
    "        ⁃\tMatriz de correlación en variables continuas.\n"
   ]
  },
  {
   "cell_type": "code",
   "execution_count": 6,
   "id": "35921a1b",
   "metadata": {
    "colab": {
     "base_uri": "https://localhost:8080/",
     "height": 1000
    },
    "executionInfo": {
     "elapsed": 2086,
     "status": "ok",
     "timestamp": 1651993683415,
     "user": {
      "displayName": "Juan Sevilla Fern�ndez",
      "userId": "01090246479958160618"
     },
     "user_tz": -480
    },
    "id": "35921a1b",
    "outputId": "457dfa16-3a1d-4564-dbbe-ab19cae88c81",
    "scrolled": false
   },
   "outputs": [
    {
     "data": {
      "text/html": [
       "\n",
       "  <div id=\"df-22e295ac-9652-4e6a-b697-03082ba0656a\">\n",
       "    <div class=\"colab-df-container\">\n",
       "      <div>\n",
       "<style scoped>\n",
       "    .dataframe tbody tr th:only-of-type {\n",
       "        vertical-align: middle;\n",
       "    }\n",
       "\n",
       "    .dataframe tbody tr th {\n",
       "        vertical-align: top;\n",
       "    }\n",
       "\n",
       "    .dataframe thead th {\n",
       "        text-align: right;\n",
       "    }\n",
       "</style>\n",
       "<table border=\"1\" class=\"dataframe\">\n",
       "  <thead>\n",
       "    <tr style=\"text-align: right;\">\n",
       "      <th></th>\n",
       "      <th>Number_Missing</th>\n",
       "      <th>Percent_Missing</th>\n",
       "      <th>Type</th>\n",
       "    </tr>\n",
       "  </thead>\n",
       "  <tbody>\n",
       "    <tr>\n",
       "      <th>id</th>\n",
       "      <td>0</td>\n",
       "      <td>0.00</td>\n",
       "      <td>object</td>\n",
       "    </tr>\n",
       "    <tr>\n",
       "      <th>url</th>\n",
       "      <td>0</td>\n",
       "      <td>0.00</td>\n",
       "      <td>object</td>\n",
       "    </tr>\n",
       "    <tr>\n",
       "      <th>zip_code</th>\n",
       "      <td>0</td>\n",
       "      <td>0.00</td>\n",
       "      <td>object</td>\n",
       "    </tr>\n",
       "    <tr>\n",
       "      <th>mths_since_last_record</th>\n",
       "      <td>359529</td>\n",
       "      <td>81.24</td>\n",
       "      <td>float64</td>\n",
       "    </tr>\n",
       "    <tr>\n",
       "      <th>il_util</th>\n",
       "      <td>421002</td>\n",
       "      <td>95.13</td>\n",
       "      <td>float64</td>\n",
       "    </tr>\n",
       "    <tr>\n",
       "      <th>mths_since_recent_bc_dlq</th>\n",
       "      <td>326642</td>\n",
       "      <td>73.81</td>\n",
       "      <td>float64</td>\n",
       "    </tr>\n",
       "    <tr>\n",
       "      <th>mths_since_rcnt_il</th>\n",
       "      <td>418344</td>\n",
       "      <td>94.53</td>\n",
       "      <td>float64</td>\n",
       "    </tr>\n",
       "    <tr>\n",
       "      <th>all_util</th>\n",
       "      <td>417786</td>\n",
       "      <td>94.40</td>\n",
       "      <td>float64</td>\n",
       "    </tr>\n",
       "    <tr>\n",
       "      <th>inq_fi</th>\n",
       "      <td>417783</td>\n",
       "      <td>94.40</td>\n",
       "      <td>float64</td>\n",
       "    </tr>\n",
       "    <tr>\n",
       "      <th>max_bal_bc</th>\n",
       "      <td>417783</td>\n",
       "      <td>94.40</td>\n",
       "      <td>float64</td>\n",
       "    </tr>\n",
       "    <tr>\n",
       "      <th>total_cu_tl</th>\n",
       "      <td>417783</td>\n",
       "      <td>94.40</td>\n",
       "      <td>float64</td>\n",
       "    </tr>\n",
       "    <tr>\n",
       "      <th>open_acc_6m</th>\n",
       "      <td>417783</td>\n",
       "      <td>94.40</td>\n",
       "      <td>float64</td>\n",
       "    </tr>\n",
       "    <tr>\n",
       "      <th>open_act_il</th>\n",
       "      <td>417783</td>\n",
       "      <td>94.40</td>\n",
       "      <td>float64</td>\n",
       "    </tr>\n",
       "    <tr>\n",
       "      <th>open_il_12m</th>\n",
       "      <td>417783</td>\n",
       "      <td>94.40</td>\n",
       "      <td>float64</td>\n",
       "    </tr>\n",
       "    <tr>\n",
       "      <th>total_bal_il</th>\n",
       "      <td>417783</td>\n",
       "      <td>94.40</td>\n",
       "      <td>float64</td>\n",
       "    </tr>\n",
       "    <tr>\n",
       "      <th>open_rv_12m</th>\n",
       "      <td>417783</td>\n",
       "      <td>94.40</td>\n",
       "      <td>float64</td>\n",
       "    </tr>\n",
       "    <tr>\n",
       "      <th>open_rv_24m</th>\n",
       "      <td>417783</td>\n",
       "      <td>94.40</td>\n",
       "      <td>float64</td>\n",
       "    </tr>\n",
       "    <tr>\n",
       "      <th>open_il_24m</th>\n",
       "      <td>417783</td>\n",
       "      <td>94.40</td>\n",
       "      <td>float64</td>\n",
       "    </tr>\n",
       "    <tr>\n",
       "      <th>inq_last_12m</th>\n",
       "      <td>417783</td>\n",
       "      <td>94.40</td>\n",
       "      <td>float64</td>\n",
       "    </tr>\n",
       "    <tr>\n",
       "      <th>mths_since_last_major_derog</th>\n",
       "      <td>312697</td>\n",
       "      <td>70.66</td>\n",
       "      <td>float64</td>\n",
       "    </tr>\n",
       "    <tr>\n",
       "      <th>mths_since_recent_revol_delinq</th>\n",
       "      <td>283394</td>\n",
       "      <td>64.03</td>\n",
       "      <td>float64</td>\n",
       "    </tr>\n",
       "    <tr>\n",
       "      <th>mths_since_last_delinq</th>\n",
       "      <td>215680</td>\n",
       "      <td>48.73</td>\n",
       "      <td>float64</td>\n",
       "    </tr>\n",
       "    <tr>\n",
       "      <th>emp_title</th>\n",
       "      <td>25015</td>\n",
       "      <td>5.65</td>\n",
       "      <td>object</td>\n",
       "    </tr>\n",
       "    <tr>\n",
       "      <th>emp_length</th>\n",
       "      <td>23874</td>\n",
       "      <td>5.39</td>\n",
       "      <td>float64</td>\n",
       "    </tr>\n",
       "    <tr>\n",
       "      <th>mo_sin_old_il_acct</th>\n",
       "      <td>12680</td>\n",
       "      <td>2.87</td>\n",
       "      <td>float64</td>\n",
       "    </tr>\n",
       "    <tr>\n",
       "      <th>revol_util</th>\n",
       "      <td>214</td>\n",
       "      <td>0.05</td>\n",
       "      <td>float64</td>\n",
       "    </tr>\n",
       "    <tr>\n",
       "      <th>dti</th>\n",
       "      <td>18</td>\n",
       "      <td>0.00</td>\n",
       "      <td>float64</td>\n",
       "    </tr>\n",
       "    <tr>\n",
       "      <th>verification_status</th>\n",
       "      <td>0</td>\n",
       "      <td>0.00</td>\n",
       "      <td>object</td>\n",
       "    </tr>\n",
       "    <tr>\n",
       "      <th>annual_inc</th>\n",
       "      <td>0</td>\n",
       "      <td>0.00</td>\n",
       "      <td>float64</td>\n",
       "    </tr>\n",
       "    <tr>\n",
       "      <th>home_ownership</th>\n",
       "      <td>0</td>\n",
       "      <td>0.00</td>\n",
       "      <td>object</td>\n",
       "    </tr>\n",
       "    <tr>\n",
       "      <th>sub_grade</th>\n",
       "      <td>0</td>\n",
       "      <td>0.00</td>\n",
       "      <td>float64</td>\n",
       "    </tr>\n",
       "    <tr>\n",
       "      <th>grade</th>\n",
       "      <td>0</td>\n",
       "      <td>0.00</td>\n",
       "      <td>object</td>\n",
       "    </tr>\n",
       "    <tr>\n",
       "      <th>term</th>\n",
       "      <td>0</td>\n",
       "      <td>0.00</td>\n",
       "      <td>float64</td>\n",
       "    </tr>\n",
       "    <tr>\n",
       "      <th>int_rate</th>\n",
       "      <td>0</td>\n",
       "      <td>0.00</td>\n",
       "      <td>float64</td>\n",
       "    </tr>\n",
       "    <tr>\n",
       "      <th>installment</th>\n",
       "      <td>0</td>\n",
       "      <td>0.00</td>\n",
       "      <td>float64</td>\n",
       "    </tr>\n",
       "    <tr>\n",
       "      <th>loan_status</th>\n",
       "      <td>0</td>\n",
       "      <td>0.00</td>\n",
       "      <td>object</td>\n",
       "    </tr>\n",
       "    <tr>\n",
       "      <th>total_acc</th>\n",
       "      <td>0</td>\n",
       "      <td>0.00</td>\n",
       "      <td>float64</td>\n",
       "    </tr>\n",
       "    <tr>\n",
       "      <th>purpose</th>\n",
       "      <td>0</td>\n",
       "      <td>0.00</td>\n",
       "      <td>object</td>\n",
       "    </tr>\n",
       "    <tr>\n",
       "      <th>addr_state</th>\n",
       "      <td>0</td>\n",
       "      <td>0.00</td>\n",
       "      <td>object</td>\n",
       "    </tr>\n",
       "    <tr>\n",
       "      <th>fico_range_low</th>\n",
       "      <td>0</td>\n",
       "      <td>0.00</td>\n",
       "      <td>float64</td>\n",
       "    </tr>\n",
       "    <tr>\n",
       "      <th>fico_range_high</th>\n",
       "      <td>0</td>\n",
       "      <td>0.00</td>\n",
       "      <td>float64</td>\n",
       "    </tr>\n",
       "    <tr>\n",
       "      <th>initial_list_status</th>\n",
       "      <td>0</td>\n",
       "      <td>0.00</td>\n",
       "      <td>object</td>\n",
       "    </tr>\n",
       "    <tr>\n",
       "      <th>application_type</th>\n",
       "      <td>0</td>\n",
       "      <td>0.00</td>\n",
       "      <td>object</td>\n",
       "    </tr>\n",
       "    <tr>\n",
       "      <th>pub_rec</th>\n",
       "      <td>0</td>\n",
       "      <td>0.00</td>\n",
       "      <td>float64</td>\n",
       "    </tr>\n",
       "    <tr>\n",
       "      <th>pub_rec_bankruptcies</th>\n",
       "      <td>0</td>\n",
       "      <td>0.00</td>\n",
       "      <td>float64</td>\n",
       "    </tr>\n",
       "    <tr>\n",
       "      <th>loan_amnt</th>\n",
       "      <td>0</td>\n",
       "      <td>0.00</td>\n",
       "      <td>float64</td>\n",
       "    </tr>\n",
       "    <tr>\n",
       "      <th>mort_acc</th>\n",
       "      <td>0</td>\n",
       "      <td>0.00</td>\n",
       "      <td>float64</td>\n",
       "    </tr>\n",
       "    <tr>\n",
       "      <th>mo_sin_old_rev_tl_op</th>\n",
       "      <td>0</td>\n",
       "      <td>0.00</td>\n",
       "      <td>float64</td>\n",
       "    </tr>\n",
       "    <tr>\n",
       "      <th>open_acc</th>\n",
       "      <td>0</td>\n",
       "      <td>0.00</td>\n",
       "      <td>float64</td>\n",
       "    </tr>\n",
       "    <tr>\n",
       "      <th>earliest_cr_line_month</th>\n",
       "      <td>0</td>\n",
       "      <td>0.00</td>\n",
       "      <td>float64</td>\n",
       "    </tr>\n",
       "    <tr>\n",
       "      <th>earliest_cr_line_year</th>\n",
       "      <td>0</td>\n",
       "      <td>0.00</td>\n",
       "      <td>float64</td>\n",
       "    </tr>\n",
       "  </tbody>\n",
       "</table>\n",
       "</div>\n",
       "      <button class=\"colab-df-convert\" onclick=\"convertToInteractive('df-22e295ac-9652-4e6a-b697-03082ba0656a')\"\n",
       "              title=\"Convert this dataframe to an interactive table.\"\n",
       "              style=\"display:none;\">\n",
       "        \n",
       "  <svg xmlns=\"http://www.w3.org/2000/svg\" height=\"24px\"viewBox=\"0 0 24 24\"\n",
       "       width=\"24px\">\n",
       "    <path d=\"M0 0h24v24H0V0z\" fill=\"none\"/>\n",
       "    <path d=\"M18.56 5.44l.94 2.06.94-2.06 2.06-.94-2.06-.94-.94-2.06-.94 2.06-2.06.94zm-11 1L8.5 8.5l.94-2.06 2.06-.94-2.06-.94L8.5 2.5l-.94 2.06-2.06.94zm10 10l.94 2.06.94-2.06 2.06-.94-2.06-.94-.94-2.06-.94 2.06-2.06.94z\"/><path d=\"M17.41 7.96l-1.37-1.37c-.4-.4-.92-.59-1.43-.59-.52 0-1.04.2-1.43.59L10.3 9.45l-7.72 7.72c-.78.78-.78 2.05 0 2.83L4 21.41c.39.39.9.59 1.41.59.51 0 1.02-.2 1.41-.59l7.78-7.78 2.81-2.81c.8-.78.8-2.07 0-2.86zM5.41 20L4 18.59l7.72-7.72 1.47 1.35L5.41 20z\"/>\n",
       "  </svg>\n",
       "      </button>\n",
       "      \n",
       "  <style>\n",
       "    .colab-df-container {\n",
       "      display:flex;\n",
       "      flex-wrap:wrap;\n",
       "      gap: 12px;\n",
       "    }\n",
       "\n",
       "    .colab-df-convert {\n",
       "      background-color: #E8F0FE;\n",
       "      border: none;\n",
       "      border-radius: 50%;\n",
       "      cursor: pointer;\n",
       "      display: none;\n",
       "      fill: #1967D2;\n",
       "      height: 32px;\n",
       "      padding: 0 0 0 0;\n",
       "      width: 32px;\n",
       "    }\n",
       "\n",
       "    .colab-df-convert:hover {\n",
       "      background-color: #E2EBFA;\n",
       "      box-shadow: 0px 1px 2px rgba(60, 64, 67, 0.3), 0px 1px 3px 1px rgba(60, 64, 67, 0.15);\n",
       "      fill: #174EA6;\n",
       "    }\n",
       "\n",
       "    [theme=dark] .colab-df-convert {\n",
       "      background-color: #3B4455;\n",
       "      fill: #D2E3FC;\n",
       "    }\n",
       "\n",
       "    [theme=dark] .colab-df-convert:hover {\n",
       "      background-color: #434B5C;\n",
       "      box-shadow: 0px 1px 3px 1px rgba(0, 0, 0, 0.15);\n",
       "      filter: drop-shadow(0px 1px 2px rgba(0, 0, 0, 0.3));\n",
       "      fill: #FFFFFF;\n",
       "    }\n",
       "  </style>\n",
       "\n",
       "      <script>\n",
       "        const buttonEl =\n",
       "          document.querySelector('#df-22e295ac-9652-4e6a-b697-03082ba0656a button.colab-df-convert');\n",
       "        buttonEl.style.display =\n",
       "          google.colab.kernel.accessAllowed ? 'block' : 'none';\n",
       "\n",
       "        async function convertToInteractive(key) {\n",
       "          const element = document.querySelector('#df-22e295ac-9652-4e6a-b697-03082ba0656a');\n",
       "          const dataTable =\n",
       "            await google.colab.kernel.invokeFunction('convertToInteractive',\n",
       "                                                     [key], {});\n",
       "          if (!dataTable) return;\n",
       "\n",
       "          const docLinkHtml = 'Like what you see? Visit the ' +\n",
       "            '<a target=\"_blank\" href=https://colab.research.google.com/notebooks/data_table.ipynb>data table notebook</a>'\n",
       "            + ' to learn more about interactive tables.';\n",
       "          element.innerHTML = '';\n",
       "          dataTable['output_type'] = 'display_data';\n",
       "          await google.colab.output.renderOutput(dataTable, element);\n",
       "          const docLink = document.createElement('div');\n",
       "          docLink.innerHTML = docLinkHtml;\n",
       "          element.appendChild(docLink);\n",
       "        }\n",
       "      </script>\n",
       "    </div>\n",
       "  </div>\n",
       "  "
      ],
      "text/plain": [
       "                                Number_Missing  Percent_Missing     Type\n",
       "id                                           0             0.00   object\n",
       "url                                          0             0.00   object\n",
       "zip_code                                     0             0.00   object\n",
       "mths_since_last_record                  359529            81.24  float64\n",
       "il_util                                 421002            95.13  float64\n",
       "mths_since_recent_bc_dlq                326642            73.81  float64\n",
       "mths_since_rcnt_il                      418344            94.53  float64\n",
       "all_util                                417786            94.40  float64\n",
       "inq_fi                                  417783            94.40  float64\n",
       "max_bal_bc                              417783            94.40  float64\n",
       "total_cu_tl                             417783            94.40  float64\n",
       "open_acc_6m                             417783            94.40  float64\n",
       "open_act_il                             417783            94.40  float64\n",
       "open_il_12m                             417783            94.40  float64\n",
       "total_bal_il                            417783            94.40  float64\n",
       "open_rv_12m                             417783            94.40  float64\n",
       "open_rv_24m                             417783            94.40  float64\n",
       "open_il_24m                             417783            94.40  float64\n",
       "inq_last_12m                            417783            94.40  float64\n",
       "mths_since_last_major_derog             312697            70.66  float64\n",
       "mths_since_recent_revol_delinq          283394            64.03  float64\n",
       "mths_since_last_delinq                  215680            48.73  float64\n",
       "emp_title                                25015             5.65   object\n",
       "emp_length                               23874             5.39  float64\n",
       "mo_sin_old_il_acct                       12680             2.87  float64\n",
       "revol_util                                 214             0.05  float64\n",
       "dti                                         18             0.00  float64\n",
       "verification_status                          0             0.00   object\n",
       "annual_inc                                   0             0.00  float64\n",
       "home_ownership                               0             0.00   object\n",
       "sub_grade                                    0             0.00  float64\n",
       "grade                                        0             0.00   object\n",
       "term                                         0             0.00  float64\n",
       "int_rate                                     0             0.00  float64\n",
       "installment                                  0             0.00  float64\n",
       "loan_status                                  0             0.00   object\n",
       "total_acc                                    0             0.00  float64\n",
       "purpose                                      0             0.00   object\n",
       "addr_state                                   0             0.00   object\n",
       "fico_range_low                               0             0.00  float64\n",
       "fico_range_high                              0             0.00  float64\n",
       "initial_list_status                          0             0.00   object\n",
       "application_type                             0             0.00   object\n",
       "pub_rec                                      0             0.00  float64\n",
       "pub_rec_bankruptcies                         0             0.00  float64\n",
       "loan_amnt                                    0             0.00  float64\n",
       "mort_acc                                     0             0.00  float64\n",
       "mo_sin_old_rev_tl_op                         0             0.00  float64\n",
       "open_acc                                     0             0.00  float64\n",
       "earliest_cr_line_month                       0             0.00  float64\n",
       "earliest_cr_line_year                        0             0.00  float64"
      ]
     },
     "execution_count": 6,
     "metadata": {},
     "output_type": "execute_result"
    }
   ],
   "source": [
    "#Print table with column nammes, number of NAs, perentage of NAs and variable type\n",
    "pd.DataFrame({'Number_Missing': data_raw.isna().sum(),\n",
    "              'Percent_Missing': round(data_raw.isnull().sum() * 100 / len(data_raw),2),\n",
    "              'Type': data_raw.dtypes})"
   ]
  },
  {
   "cell_type": "markdown",
   "id": "b73dcc8b",
   "metadata": {
    "id": "b73dcc8b"
   },
   "source": [
    "Se puede observar variables que no nos aportan informacion como por ejemplo id, url y zip code que eliminamos del data. Además, hay variable con un alto numero de NAs que limpiaremos en el segundo ejercicio. Se puede observar además que hay variables tanto categóricas como numéricas cuyos NAs procesaremos de forma diferente. \n",
    "Por último, la variable objetivo esta guardada como object pero la cambio a 1 si esta pagada y 0 si no para poder compararla mediante correlacion con el resto de variables"
   ]
  },
  {
   "cell_type": "code",
   "execution_count": 7,
   "id": "65ce385f",
   "metadata": {
    "colab": {
     "base_uri": "https://localhost:8080/"
    },
    "executionInfo": {
     "elapsed": 201,
     "status": "ok",
     "timestamp": 1651993683417,
     "user": {
      "displayName": "Juan Sevilla Fern�ndez",
      "userId": "01090246479958160618"
     },
     "user_tz": -480
    },
    "id": "65ce385f",
    "outputId": "c393a127-80bf-4cda-bba4-541d4cf7987b"
   },
   "outputs": [
    {
     "data": {
      "text/plain": [
       "Fully Paid     345520\n",
       "Charged Off     97047\n",
       "Name: loan_status, dtype: int64"
      ]
     },
     "execution_count": 7,
     "metadata": {},
     "output_type": "execute_result"
    }
   ],
   "source": [
    "data_raw['loan_status'].value_counts()"
   ]
  },
  {
   "cell_type": "markdown",
   "id": "7546a2e4",
   "metadata": {
    "id": "7546a2e4"
   },
   "source": [
    "La variable objetvio no esta distribuida de forma equilibrada, lo que significa que al separar los datos en train y test tendremos que tenerlo en cuenta y ala hora de evaluar los modelos tener en mente que si predice todos los prestamos como fully paid no será bueno estimando por alta que sea el area bajo la curva."
   ]
  },
  {
   "cell_type": "code",
   "execution_count": 8,
   "id": "4e4598b3",
   "metadata": {
    "executionInfo": {
     "elapsed": 221,
     "status": "ok",
     "timestamp": 1651993683448,
     "user": {
      "displayName": "Juan Sevilla Fern�ndez",
      "userId": "01090246479958160618"
     },
     "user_tz": -480
    },
    "id": "4e4598b3",
    "scrolled": false
   },
   "outputs": [],
   "source": [
    "data = data_raw.copy()\n",
    "#delete unsued columns\n",
    "del data[\"id\"]\n",
    "del data[\"url\"]\n",
    "del data[\"zip_code\"]"
   ]
  },
  {
   "cell_type": "markdown",
   "id": "BR6dAfLSkQZY",
   "metadata": {
    "id": "BR6dAfLSkQZY"
   },
   "source": [
    "Eliminamos las variables que son unicas para cada cliente por lo que no aportan capacidad predictiva alguna."
   ]
  },
  {
   "cell_type": "code",
   "execution_count": 9,
   "id": "a7882a43",
   "metadata": {
    "executionInfo": {
     "elapsed": 221,
     "status": "ok",
     "timestamp": 1651993683450,
     "user": {
      "displayName": "Juan Sevilla Fern�ndez",
      "userId": "01090246479958160618"
     },
     "user_tz": -480
    },
    "id": "a7882a43",
    "scrolled": false
   },
   "outputs": [],
   "source": [
    "data['loan_status'] = [1 if x == 'Fully Paid' else 0 for x in data['loan_status']]"
   ]
  },
  {
   "cell_type": "markdown",
   "id": "7wEwybk4kfhd",
   "metadata": {
    "id": "7wEwybk4kfhd"
   },
   "source": [
    "Codificamos la variable objetivo como binaria para poderla comparar con otras numercas facilmente ya que en este caso es una varibale ordinal\n"
   ]
  },
  {
   "cell_type": "code",
   "execution_count": 10,
   "id": "5b40dce7",
   "metadata": {
    "executionInfo": {
     "elapsed": 1619,
     "status": "ok",
     "timestamp": 1651993684850,
     "user": {
      "displayName": "Juan Sevilla Fern�ndez",
      "userId": "01090246479958160618"
     },
     "user_tz": -480
    },
    "id": "5b40dce7"
   },
   "outputs": [],
   "source": [
    "correlations = data.select_dtypes(exclude='object').corr()"
   ]
  },
  {
   "cell_type": "code",
   "execution_count": 11,
   "id": "9ef09e0a",
   "metadata": {
    "colab": {
     "base_uri": "https://localhost:8080/",
     "height": 762
    },
    "executionInfo": {
     "elapsed": 1819,
     "status": "ok",
     "timestamp": 1651993686651,
     "user": {
      "displayName": "Juan Sevilla Fern�ndez",
      "userId": "01090246479958160618"
     },
     "user_tz": -480
    },
    "id": "9ef09e0a",
    "outputId": "1c05c972-70cd-450c-ce84-657c2978ae7c"
   },
   "outputs": [
    {
     "data": {
      "image/png": "[encoded data removed]",
      "text/plain": [
       "<Figure size 864x720 with 2 Axes>"
      ]
     },
     "metadata": {
      "needs_background": "light"
     },
     "output_type": "display_data"
    }
   ],
   "source": [
    "f, ax = plt.subplots(figsize=(12, 10))\n",
    "sns.heatmap(correlations,\n",
    "    vmin=-1, vmax=1, center=0,\n",
    "    cmap=sns.diverging_palette(20, 220, n=200),\n",
    "    annot=False,\n",
    "    square=True\n",
    "    );\n",
    "\n",
    "ax.set_title('Numeric Features Correlation Matrix', fontdict={'fontsize':18}, pad=16);"
   ]
  },
  {
   "cell_type": "markdown",
   "id": "e451b863",
   "metadata": {},
   "source": [
    "La mayoria de las variables tienen muy poca correlacion entre sí.\n",
    "\n",
    "Se pueden observar pequeños clusters de correlacion en variables temporales como aquellas que empiezan por \"mths_since\".\n",
    "\n",
    "Sin embargo, nuestro interés es ver como las variables se correlacionan con la varibale objetivo. \n",
    "\n",
    "A continuación realizo un gráfico más claro."
   ]
  },
  {
   "cell_type": "code",
   "execution_count": 12,
   "id": "04296153",
   "metadata": {
    "colab": {
     "base_uri": "https://localhost:8080/",
     "height": 405
    },
    "executionInfo": {
     "elapsed": 43,
     "status": "ok",
     "timestamp": 1651993686654,
     "user": {
      "displayName": "Juan Sevilla Fern�ndez",
      "userId": "01090246479958160618"
     },
     "user_tz": -480
    },
    "id": "04296153",
    "outputId": "c826ea9c-0be6-4546-e127-b721f020dbe3"
   },
   "outputs": [
    {
     "data": {
      "image/png": "[encoded data removed]",
      "text/plain": [
       "<Figure size 288x432 with 2 Axes>"
      ]
     },
     "metadata": {
      "needs_background": "light"
     },
     "output_type": "display_data"
    }
   ],
   "source": [
    "f, ax = plt.subplots(figsize=(4, 6))\n",
    "sns.heatmap(\n",
    "    correlations[['loan_status']].sort_values(by='loan_status',ascending=False)[abs(correlations['loan_status'])>0.1],\n",
    "    vmin=-1, vmax=1,\n",
    "    cmap=sns.diverging_palette(20, 220, n=200),\n",
    "    annot=True\n",
    "    );\n",
    "\n",
    "ax.set_title('Numeric Features Correlating significantly with loan_status', fontdict={'fontsize':18}, pad=16);"
   ]
  },
  {
   "cell_type": "markdown",
   "id": "d2ae0f70",
   "metadata": {
    "id": "d2ae0f70"
   },
   "source": [
    "Filtramos las variables que tengan como minimo un valor absoluto de correlacion con loan_status del 10%. Vemos que las variables mas correlacionadas con el pago son los rangos de FICO (metrica para calcular la puntuacion de credito del cliente) es decir, cuanta mayor puntuacion, mejor cliente es a priori.\n",
    "Por otro lado las variables mas negativamente correlacionadas son el tiempo del prestamo y el tipo de interes, lo que tiene sentido puesto que a mayor tiempo, mas incertidumbre y probabilidad de impago, y a mayor tipo de inters, mas caro es el prestamo por lo que mas dificil es de pagar."
   ]
  },
  {
   "cell_type": "markdown",
   "id": "026e7bc4",
   "metadata": {
    "id": "026e7bc4"
   },
   "source": [
    "#### EJERCICIO 2:\n",
    "Tratar los valores missing tanto en las variables continuas como discretas de forma correcta. Recordad que si existen muchos valores missing no es adecuado eliminar dichas filas. Como guía, recordad que los valores missing: (0,5 pts)\n",
    "\n",
    "\t⁃\tEn variables continuas se puede  sustituir por  la media o mediana, o por un valor muy distinto al resto de cantidades, que refleje que de algún modo que es un valor missing.\n",
    "\t⁃\tEn variables discretas se pueden sustituir por la moda o una clase nueva que indique que no tienen valor, p.e. “SIN VALOR”.\n",
    "\t⁃\tPuede ser interesante, estudiar y evaluar algunos de los métodos de la librería sklearn.impute, como por ejemplo sklearn.impute.KNNimpute, que realiza una imputación mediante una regresión con KNN.\n",
    "\n"
   ]
  },
  {
   "cell_type": "code",
   "execution_count": 13,
   "id": "d1ca38dd",
   "metadata": {
    "executionInfo": {
     "elapsed": 41,
     "status": "ok",
     "timestamp": 1651993686659,
     "user": {
      "displayName": "Juan Sevilla Fern�ndez",
      "userId": "01090246479958160618"
     },
     "user_tz": -480
    },
    "id": "d1ca38dd",
    "scrolled": false
   },
   "outputs": [],
   "source": [
    "for col in data:\n",
    "    #get dtype for column\n",
    "    dt = data[col].dtype \n",
    "    #check if it is a numerical variable\n",
    "    if dt == 'float64':\n",
    "        if data[col].isnull().mean() > 0.8:\n",
    "          data[col]=data[col].fillna(-100000)\n",
    "        else:\n",
    "          data[col]=data[col].fillna(data[col].mean())\n",
    "    #check if it is a categorical variable\n",
    "    elif dt == 'object':\n",
    "        data[col]=data[col].fillna(\"SIN TITULO\")"
   ]
  },
  {
   "cell_type": "markdown",
   "id": "eb4d261d",
   "metadata": {
    "id": "eb4d261d"
   },
   "source": [
    "Para tratar los NAs, he decidio hacer un for loop que discrimina variables numericas y categroicas.\n",
    "\n",
    "    - Si la variable es numerica...\n",
    "        - y el porcentage de NAs esta por encima de 80%, sustituye el NA por un valor constante \n",
    "        - y el porcentage de NAs esta por debajo de 80%, sustituye el NA por la media de la variable\n",
    "    - Si la variable es categorica, sustituye el NA por una etiqueta \"SIN TITULO\"\n",
    "\n",
    "Tras un intento de usar KNN impute, me di cuenta que era inviable debido a la falta de capacidad computacional y memoria tanto de mi ordenador personal como de Google Colab.\n",
    "        "
   ]
  },
  {
   "cell_type": "code",
   "execution_count": 14,
   "id": "e6de9133",
   "metadata": {
    "colab": {
     "base_uri": "https://localhost:8080/",
     "height": 1000
    },
    "executionInfo": {
     "elapsed": 1329,
     "status": "ok",
     "timestamp": 1651993687949,
     "user": {
      "displayName": "Juan Sevilla Fern�ndez",
      "userId": "01090246479958160618"
     },
     "user_tz": -480
    },
    "id": "e6de9133",
    "outputId": "884d8bf7-d7a8-4c35-eed3-6ffd443bda62"
   },
   "outputs": [
    {
     "data": {
      "text/html": [
       "\n",
       "  <div id=\"df-3cea2196-cb59-4538-a90d-b8b972ab071a\">\n",
       "    <div class=\"colab-df-container\">\n",
       "      <div>\n",
       "<style scoped>\n",
       "    .dataframe tbody tr th:only-of-type {\n",
       "        vertical-align: middle;\n",
       "    }\n",
       "\n",
       "    .dataframe tbody tr th {\n",
       "        vertical-align: top;\n",
       "    }\n",
       "\n",
       "    .dataframe thead th {\n",
       "        text-align: right;\n",
       "    }\n",
       "</style>\n",
       "<table border=\"1\" class=\"dataframe\">\n",
       "  <thead>\n",
       "    <tr style=\"text-align: right;\">\n",
       "      <th></th>\n",
       "      <th>Number_Missing</th>\n",
       "      <th>Percent_Missing</th>\n",
       "      <th>Type</th>\n",
       "    </tr>\n",
       "  </thead>\n",
       "  <tbody>\n",
       "    <tr>\n",
       "      <th>mths_since_last_record</th>\n",
       "      <td>0</td>\n",
       "      <td>0.0</td>\n",
       "      <td>float64</td>\n",
       "    </tr>\n",
       "    <tr>\n",
       "      <th>il_util</th>\n",
       "      <td>0</td>\n",
       "      <td>0.0</td>\n",
       "      <td>float64</td>\n",
       "    </tr>\n",
       "    <tr>\n",
       "      <th>mths_since_recent_bc_dlq</th>\n",
       "      <td>0</td>\n",
       "      <td>0.0</td>\n",
       "      <td>float64</td>\n",
       "    </tr>\n",
       "    <tr>\n",
       "      <th>mths_since_rcnt_il</th>\n",
       "      <td>0</td>\n",
       "      <td>0.0</td>\n",
       "      <td>float64</td>\n",
       "    </tr>\n",
       "    <tr>\n",
       "      <th>all_util</th>\n",
       "      <td>0</td>\n",
       "      <td>0.0</td>\n",
       "      <td>float64</td>\n",
       "    </tr>\n",
       "    <tr>\n",
       "      <th>inq_fi</th>\n",
       "      <td>0</td>\n",
       "      <td>0.0</td>\n",
       "      <td>float64</td>\n",
       "    </tr>\n",
       "    <tr>\n",
       "      <th>max_bal_bc</th>\n",
       "      <td>0</td>\n",
       "      <td>0.0</td>\n",
       "      <td>float64</td>\n",
       "    </tr>\n",
       "    <tr>\n",
       "      <th>total_cu_tl</th>\n",
       "      <td>0</td>\n",
       "      <td>0.0</td>\n",
       "      <td>float64</td>\n",
       "    </tr>\n",
       "    <tr>\n",
       "      <th>open_acc_6m</th>\n",
       "      <td>0</td>\n",
       "      <td>0.0</td>\n",
       "      <td>float64</td>\n",
       "    </tr>\n",
       "    <tr>\n",
       "      <th>open_act_il</th>\n",
       "      <td>0</td>\n",
       "      <td>0.0</td>\n",
       "      <td>float64</td>\n",
       "    </tr>\n",
       "    <tr>\n",
       "      <th>open_il_12m</th>\n",
       "      <td>0</td>\n",
       "      <td>0.0</td>\n",
       "      <td>float64</td>\n",
       "    </tr>\n",
       "    <tr>\n",
       "      <th>total_bal_il</th>\n",
       "      <td>0</td>\n",
       "      <td>0.0</td>\n",
       "      <td>float64</td>\n",
       "    </tr>\n",
       "    <tr>\n",
       "      <th>open_rv_12m</th>\n",
       "      <td>0</td>\n",
       "      <td>0.0</td>\n",
       "      <td>float64</td>\n",
       "    </tr>\n",
       "    <tr>\n",
       "      <th>open_rv_24m</th>\n",
       "      <td>0</td>\n",
       "      <td>0.0</td>\n",
       "      <td>float64</td>\n",
       "    </tr>\n",
       "    <tr>\n",
       "      <th>open_il_24m</th>\n",
       "      <td>0</td>\n",
       "      <td>0.0</td>\n",
       "      <td>float64</td>\n",
       "    </tr>\n",
       "    <tr>\n",
       "      <th>inq_last_12m</th>\n",
       "      <td>0</td>\n",
       "      <td>0.0</td>\n",
       "      <td>float64</td>\n",
       "    </tr>\n",
       "    <tr>\n",
       "      <th>mths_since_last_major_derog</th>\n",
       "      <td>0</td>\n",
       "      <td>0.0</td>\n",
       "      <td>float64</td>\n",
       "    </tr>\n",
       "    <tr>\n",
       "      <th>mths_since_recent_revol_delinq</th>\n",
       "      <td>0</td>\n",
       "      <td>0.0</td>\n",
       "      <td>float64</td>\n",
       "    </tr>\n",
       "    <tr>\n",
       "      <th>mths_since_last_delinq</th>\n",
       "      <td>0</td>\n",
       "      <td>0.0</td>\n",
       "      <td>float64</td>\n",
       "    </tr>\n",
       "    <tr>\n",
       "      <th>emp_title</th>\n",
       "      <td>0</td>\n",
       "      <td>0.0</td>\n",
       "      <td>object</td>\n",
       "    </tr>\n",
       "    <tr>\n",
       "      <th>emp_length</th>\n",
       "      <td>0</td>\n",
       "      <td>0.0</td>\n",
       "      <td>float64</td>\n",
       "    </tr>\n",
       "    <tr>\n",
       "      <th>mo_sin_old_il_acct</th>\n",
       "      <td>0</td>\n",
       "      <td>0.0</td>\n",
       "      <td>float64</td>\n",
       "    </tr>\n",
       "    <tr>\n",
       "      <th>revol_util</th>\n",
       "      <td>0</td>\n",
       "      <td>0.0</td>\n",
       "      <td>float64</td>\n",
       "    </tr>\n",
       "    <tr>\n",
       "      <th>dti</th>\n",
       "      <td>0</td>\n",
       "      <td>0.0</td>\n",
       "      <td>float64</td>\n",
       "    </tr>\n",
       "    <tr>\n",
       "      <th>verification_status</th>\n",
       "      <td>0</td>\n",
       "      <td>0.0</td>\n",
       "      <td>object</td>\n",
       "    </tr>\n",
       "    <tr>\n",
       "      <th>annual_inc</th>\n",
       "      <td>0</td>\n",
       "      <td>0.0</td>\n",
       "      <td>float64</td>\n",
       "    </tr>\n",
       "    <tr>\n",
       "      <th>home_ownership</th>\n",
       "      <td>0</td>\n",
       "      <td>0.0</td>\n",
       "      <td>object</td>\n",
       "    </tr>\n",
       "    <tr>\n",
       "      <th>sub_grade</th>\n",
       "      <td>0</td>\n",
       "      <td>0.0</td>\n",
       "      <td>float64</td>\n",
       "    </tr>\n",
       "    <tr>\n",
       "      <th>grade</th>\n",
       "      <td>0</td>\n",
       "      <td>0.0</td>\n",
       "      <td>object</td>\n",
       "    </tr>\n",
       "    <tr>\n",
       "      <th>term</th>\n",
       "      <td>0</td>\n",
       "      <td>0.0</td>\n",
       "      <td>float64</td>\n",
       "    </tr>\n",
       "    <tr>\n",
       "      <th>int_rate</th>\n",
       "      <td>0</td>\n",
       "      <td>0.0</td>\n",
       "      <td>float64</td>\n",
       "    </tr>\n",
       "    <tr>\n",
       "      <th>installment</th>\n",
       "      <td>0</td>\n",
       "      <td>0.0</td>\n",
       "      <td>float64</td>\n",
       "    </tr>\n",
       "    <tr>\n",
       "      <th>loan_status</th>\n",
       "      <td>0</td>\n",
       "      <td>0.0</td>\n",
       "      <td>int64</td>\n",
       "    </tr>\n",
       "    <tr>\n",
       "      <th>total_acc</th>\n",
       "      <td>0</td>\n",
       "      <td>0.0</td>\n",
       "      <td>float64</td>\n",
       "    </tr>\n",
       "    <tr>\n",
       "      <th>purpose</th>\n",
       "      <td>0</td>\n",
       "      <td>0.0</td>\n",
       "      <td>object</td>\n",
       "    </tr>\n",
       "    <tr>\n",
       "      <th>addr_state</th>\n",
       "      <td>0</td>\n",
       "      <td>0.0</td>\n",
       "      <td>object</td>\n",
       "    </tr>\n",
       "    <tr>\n",
       "      <th>fico_range_low</th>\n",
       "      <td>0</td>\n",
       "      <td>0.0</td>\n",
       "      <td>float64</td>\n",
       "    </tr>\n",
       "    <tr>\n",
       "      <th>fico_range_high</th>\n",
       "      <td>0</td>\n",
       "      <td>0.0</td>\n",
       "      <td>float64</td>\n",
       "    </tr>\n",
       "    <tr>\n",
       "      <th>initial_list_status</th>\n",
       "      <td>0</td>\n",
       "      <td>0.0</td>\n",
       "      <td>object</td>\n",
       "    </tr>\n",
       "    <tr>\n",
       "      <th>application_type</th>\n",
       "      <td>0</td>\n",
       "      <td>0.0</td>\n",
       "      <td>object</td>\n",
       "    </tr>\n",
       "    <tr>\n",
       "      <th>pub_rec</th>\n",
       "      <td>0</td>\n",
       "      <td>0.0</td>\n",
       "      <td>float64</td>\n",
       "    </tr>\n",
       "    <tr>\n",
       "      <th>pub_rec_bankruptcies</th>\n",
       "      <td>0</td>\n",
       "      <td>0.0</td>\n",
       "      <td>float64</td>\n",
       "    </tr>\n",
       "    <tr>\n",
       "      <th>loan_amnt</th>\n",
       "      <td>0</td>\n",
       "      <td>0.0</td>\n",
       "      <td>float64</td>\n",
       "    </tr>\n",
       "    <tr>\n",
       "      <th>mort_acc</th>\n",
       "      <td>0</td>\n",
       "      <td>0.0</td>\n",
       "      <td>float64</td>\n",
       "    </tr>\n",
       "    <tr>\n",
       "      <th>mo_sin_old_rev_tl_op</th>\n",
       "      <td>0</td>\n",
       "      <td>0.0</td>\n",
       "      <td>float64</td>\n",
       "    </tr>\n",
       "    <tr>\n",
       "      <th>open_acc</th>\n",
       "      <td>0</td>\n",
       "      <td>0.0</td>\n",
       "      <td>float64</td>\n",
       "    </tr>\n",
       "    <tr>\n",
       "      <th>earliest_cr_line_month</th>\n",
       "      <td>0</td>\n",
       "      <td>0.0</td>\n",
       "      <td>float64</td>\n",
       "    </tr>\n",
       "    <tr>\n",
       "      <th>earliest_cr_line_year</th>\n",
       "      <td>0</td>\n",
       "      <td>0.0</td>\n",
       "      <td>float64</td>\n",
       "    </tr>\n",
       "  </tbody>\n",
       "</table>\n",
       "</div>\n",
       "      <button class=\"colab-df-convert\" onclick=\"convertToInteractive('df-3cea2196-cb59-4538-a90d-b8b972ab071a')\"\n",
       "              title=\"Convert this dataframe to an interactive table.\"\n",
       "              style=\"display:none;\">\n",
       "        \n",
       "  <svg xmlns=\"http://www.w3.org/2000/svg\" height=\"24px\"viewBox=\"0 0 24 24\"\n",
       "       width=\"24px\">\n",
       "    <path d=\"M0 0h24v24H0V0z\" fill=\"none\"/>\n",
       "    <path d=\"M18.56 5.44l.94 2.06.94-2.06 2.06-.94-2.06-.94-.94-2.06-.94 2.06-2.06.94zm-11 1L8.5 8.5l.94-2.06 2.06-.94-2.06-.94L8.5 2.5l-.94 2.06-2.06.94zm10 10l.94 2.06.94-2.06 2.06-.94-2.06-.94-.94-2.06-.94 2.06-2.06.94z\"/><path d=\"M17.41 7.96l-1.37-1.37c-.4-.4-.92-.59-1.43-.59-.52 0-1.04.2-1.43.59L10.3 9.45l-7.72 7.72c-.78.78-.78 2.05 0 2.83L4 21.41c.39.39.9.59 1.41.59.51 0 1.02-.2 1.41-.59l7.78-7.78 2.81-2.81c.8-.78.8-2.07 0-2.86zM5.41 20L4 18.59l7.72-7.72 1.47 1.35L5.41 20z\"/>\n",
       "  </svg>\n",
       "      </button>\n",
       "      \n",
       "  <style>\n",
       "    .colab-df-container {\n",
       "      display:flex;\n",
       "      flex-wrap:wrap;\n",
       "      gap: 12px;\n",
       "    }\n",
       "\n",
       "    .colab-df-convert {\n",
       "      background-color: #E8F0FE;\n",
       "      border: none;\n",
       "      border-radius: 50%;\n",
       "      cursor: pointer;\n",
       "      display: none;\n",
       "      fill: #1967D2;\n",
       "      height: 32px;\n",
       "      padding: 0 0 0 0;\n",
       "      width: 32px;\n",
       "    }\n",
       "\n",
       "    .colab-df-convert:hover {\n",
       "      background-color: #E2EBFA;\n",
       "      box-shadow: 0px 1px 2px rgba(60, 64, 67, 0.3), 0px 1px 3px 1px rgba(60, 64, 67, 0.15);\n",
       "      fill: #174EA6;\n",
       "    }\n",
       "\n",
       "    [theme=dark] .colab-df-convert {\n",
       "      background-color: #3B4455;\n",
       "      fill: #D2E3FC;\n",
       "    }\n",
       "\n",
       "    [theme=dark] .colab-df-convert:hover {\n",
       "      background-color: #434B5C;\n",
       "      box-shadow: 0px 1px 3px 1px rgba(0, 0, 0, 0.15);\n",
       "      filter: drop-shadow(0px 1px 2px rgba(0, 0, 0, 0.3));\n",
       "      fill: #FFFFFF;\n",
       "    }\n",
       "  </style>\n",
       "\n",
       "      <script>\n",
       "        const buttonEl =\n",
       "          document.querySelector('#df-3cea2196-cb59-4538-a90d-b8b972ab071a button.colab-df-convert');\n",
       "        buttonEl.style.display =\n",
       "          google.colab.kernel.accessAllowed ? 'block' : 'none';\n",
       "\n",
       "        async function convertToInteractive(key) {\n",
       "          const element = document.querySelector('#df-3cea2196-cb59-4538-a90d-b8b972ab071a');\n",
       "          const dataTable =\n",
       "            await google.colab.kernel.invokeFunction('convertToInteractive',\n",
       "                                                     [key], {});\n",
       "          if (!dataTable) return;\n",
       "\n",
       "          const docLinkHtml = 'Like what you see? Visit the ' +\n",
       "            '<a target=\"_blank\" href=https://colab.research.google.com/notebooks/data_table.ipynb>data table notebook</a>'\n",
       "            + ' to learn more about interactive tables.';\n",
       "          element.innerHTML = '';\n",
       "          dataTable['output_type'] = 'display_data';\n",
       "          await google.colab.output.renderOutput(dataTable, element);\n",
       "          const docLink = document.createElement('div');\n",
       "          docLink.innerHTML = docLinkHtml;\n",
       "          element.appendChild(docLink);\n",
       "        }\n",
       "      </script>\n",
       "    </div>\n",
       "  </div>\n",
       "  "
      ],
      "text/plain": [
       "                                Number_Missing  Percent_Missing     Type\n",
       "mths_since_last_record                       0              0.0  float64\n",
       "il_util                                      0              0.0  float64\n",
       "mths_since_recent_bc_dlq                     0              0.0  float64\n",
       "mths_since_rcnt_il                           0              0.0  float64\n",
       "all_util                                     0              0.0  float64\n",
       "inq_fi                                       0              0.0  float64\n",
       "max_bal_bc                                   0              0.0  float64\n",
       "total_cu_tl                                  0              0.0  float64\n",
       "open_acc_6m                                  0              0.0  float64\n",
       "open_act_il                                  0              0.0  float64\n",
       "open_il_12m                                  0              0.0  float64\n",
       "total_bal_il                                 0              0.0  float64\n",
       "open_rv_12m                                  0              0.0  float64\n",
       "open_rv_24m                                  0              0.0  float64\n",
       "open_il_24m                                  0              0.0  float64\n",
       "inq_last_12m                                 0              0.0  float64\n",
       "mths_since_last_major_derog                  0              0.0  float64\n",
       "mths_since_recent_revol_delinq               0              0.0  float64\n",
       "mths_since_last_delinq                       0              0.0  float64\n",
       "emp_title                                    0              0.0   object\n",
       "emp_length                                   0              0.0  float64\n",
       "mo_sin_old_il_acct                           0              0.0  float64\n",
       "revol_util                                   0              0.0  float64\n",
       "dti                                          0              0.0  float64\n",
       "verification_status                          0              0.0   object\n",
       "annual_inc                                   0              0.0  float64\n",
       "home_ownership                               0              0.0   object\n",
       "sub_grade                                    0              0.0  float64\n",
       "grade                                        0              0.0   object\n",
       "term                                         0              0.0  float64\n",
       "int_rate                                     0              0.0  float64\n",
       "installment                                  0              0.0  float64\n",
       "loan_status                                  0              0.0    int64\n",
       "total_acc                                    0              0.0  float64\n",
       "purpose                                      0              0.0   object\n",
       "addr_state                                   0              0.0   object\n",
       "fico_range_low                               0              0.0  float64\n",
       "fico_range_high                              0              0.0  float64\n",
       "initial_list_status                          0              0.0   object\n",
       "application_type                             0              0.0   object\n",
       "pub_rec                                      0              0.0  float64\n",
       "pub_rec_bankruptcies                         0              0.0  float64\n",
       "loan_amnt                                    0              0.0  float64\n",
       "mort_acc                                     0              0.0  float64\n",
       "mo_sin_old_rev_tl_op                         0              0.0  float64\n",
       "open_acc                                     0              0.0  float64\n",
       "earliest_cr_line_month                       0              0.0  float64\n",
       "earliest_cr_line_year                        0              0.0  float64"
      ]
     },
     "execution_count": 14,
     "metadata": {},
     "output_type": "execute_result"
    }
   ],
   "source": [
    "pd.DataFrame({'Number_Missing': data.isna().sum(),\n",
    "              'Percent_Missing': round(data.isnull().sum() * 100 / len(data),2),\n",
    "              'Type': data.dtypes})"
   ]
  },
  {
   "cell_type": "markdown",
   "id": "fHws3YLktiwu",
   "metadata": {
    "id": "fHws3YLktiwu"
   },
   "source": [
    "Confirmamos que no quedan valores nulos en los datos con los que vamos a trabajar."
   ]
  },
  {
   "cell_type": "markdown",
   "id": "8d0d92bf",
   "metadata": {
    "id": "8d0d92bf"
   },
   "source": [
    "#### EJERCICIO 3:\n",
    "\n",
    "Transformar las variables continuas, si fuera necesario, y las categóricas correctamente. (0,5 pts)\n"
   ]
  },
  {
   "cell_type": "code",
   "execution_count": 15,
   "id": "2236d0c1",
   "metadata": {
    "executionInfo": {
     "elapsed": 48,
     "status": "ok",
     "timestamp": 1651993687951,
     "user": {
      "displayName": "Juan Sevilla Fern�ndez",
      "userId": "01090246479958160618"
     },
     "user_tz": -480
    },
    "id": "2236d0c1",
    "scrolled": true
   },
   "outputs": [],
   "source": [
    "cleanup_nums = {\"grade\": {\"A\": 7, \"B\": 6, \"C\": 5, \"D\": 4, \"E\": 3, \"F\": 2, \"G\": 1}}\n",
    "data = data.replace(cleanup_nums)"
   ]
  },
  {
   "cell_type": "markdown",
   "id": "LakqbB7ytsoN",
   "metadata": {
    "id": "LakqbB7ytsoN"
   },
   "source": [
    "La unica variable categorica que es ordinal es \"grade\" que esta puntuada en con letras y la cambiambos a numeros."
   ]
  },
  {
   "cell_type": "code",
   "execution_count": 16,
   "id": "9mEFyEz15eUk",
   "metadata": {
    "colab": {
     "base_uri": "https://localhost:8080/"
    },
    "executionInfo": {
     "elapsed": 47,
     "status": "ok",
     "timestamp": 1651993687953,
     "user": {
      "displayName": "Juan Sevilla Fern�ndez",
      "userId": "01090246479958160618"
     },
     "user_tz": -480
    },
    "id": "9mEFyEz15eUk",
    "outputId": "3468119d-efac-4b18-d779-ccc5bfa03609"
   },
   "outputs": [
    {
     "data": {
      "text/plain": [
       "SIN TITULO                         25015\n",
       "Teacher                             7980\n",
       "Manager                             7273\n",
       "Registered Nurse                    3413\n",
       "RN                                  3220\n",
       "                                   ...  \n",
       "Customer Service Representative      212\n",
       "cook                                 212\n",
       "Educator                             210\n",
       "Production Supervisor                209\n",
       "Teller                               209\n",
       "Name: emp_title, Length: 200, dtype: int64"
      ]
     },
     "execution_count": 16,
     "metadata": {},
     "output_type": "execute_result"
    }
   ],
   "source": [
    "data['emp_title'].value_counts().head(200)"
   ]
  },
  {
   "cell_type": "code",
   "execution_count": 17,
   "id": "k-aTNKJ56Qw_",
   "metadata": {
    "colab": {
     "base_uri": "https://localhost:8080/"
    },
    "executionInfo": {
     "elapsed": 36,
     "status": "ok",
     "timestamp": 1651993687954,
     "user": {
      "displayName": "Juan Sevilla Fern�ndez",
      "userId": "01090246479958160618"
     },
     "user_tz": -480
    },
    "id": "k-aTNKJ56Qw_",
    "outputId": "0162da27-1a9b-4676-a058-99491721c5a6"
   },
   "outputs": [
    {
     "data": {
      "text/plain": [
       "Other                   307409\n",
       "SIN TITULO               25015\n",
       "Teacher                   7980\n",
       "Manager                   7273\n",
       "Registered Nurse          3413\n",
       "                         ...  \n",
       "Pilot                      305\n",
       "Medical Assistant          305\n",
       "Correctional Officer       304\n",
       "Receptionist               301\n",
       "Nurse Practitioner         300\n",
       "Name: emp_title, Length: 125, dtype: int64"
      ]
     },
     "execution_count": 17,
     "metadata": {},
     "output_type": "execute_result"
    }
   ],
   "source": [
    "data.loc[data.groupby('emp_title').emp_title.transform('count').lt(300), 'emp_title'] = \"Other\"    \n",
    "data['emp_title'].value_counts()"
   ]
  },
  {
   "cell_type": "markdown",
   "id": "1zjnjnI_t7ok",
   "metadata": {
    "id": "1zjnjnI_t7ok"
   },
   "source": [
    "La variable emp_title tiene demasiadas posibilidades diferentes asi que para evitar overfitting y un numero demasiado elevado de variables al hacer one hot encoding, agrupamos todos aquellas ategorias con menos de 300 casos con la etiqueta \"Other\" que esta diferenciado de \"Sin Titulo\" que incluye los valores nulos"
   ]
  },
  {
   "cell_type": "code",
   "execution_count": 18,
   "id": "w2gY73umuGKV",
   "metadata": {
    "executionInfo": {
     "elapsed": 1182,
     "status": "ok",
     "timestamp": 1651993689109,
     "user": {
      "displayName": "Juan Sevilla Fern�ndez",
      "userId": "01090246479958160618"
     },
     "user_tz": -480
    },
    "id": "w2gY73umuGKV"
   },
   "outputs": [],
   "source": [
    "data_proc = pd.get_dummies(data)"
   ]
  },
  {
   "cell_type": "markdown",
   "id": "dBhKPAEguVG7",
   "metadata": {
    "id": "dBhKPAEguVG7"
   },
   "source": [
    "Tras procesar todas las variables categoricas relevantes, realizamos un one hot encoding mediante la funcion get_dummies() "
   ]
  },
  {
   "cell_type": "markdown",
   "id": "69e5a5fe",
   "metadata": {
    "id": "69e5a5fe"
   },
   "source": [
    "#### EJERCICIO 4:\n",
    "\n",
    "Partir el conjunto de datos en un subconjunto de entrenamiento y otro de test. Recordad, que si la variable objetivo está desbalanceada, es fundamental, realizar una partición que conserve las proporciones originales en cada subconjunto. (0,5pt)"
   ]
  },
  {
   "cell_type": "code",
   "execution_count": 19,
   "id": "fe8729ba",
   "metadata": {
    "executionInfo": {
     "elapsed": 21,
     "status": "ok",
     "timestamp": 1651993689116,
     "user": {
      "displayName": "Juan Sevilla Fern�ndez",
      "userId": "01090246479958160618"
     },
     "user_tz": -480
    },
    "id": "fe8729ba",
    "scrolled": false
   },
   "outputs": [],
   "source": [
    "data_train, data_test = train_test_split(data_proc, test_size = 0.3, \n",
    "                                         random_state = random_state, stratify=data['loan_status'])"
   ]
  },
  {
   "cell_type": "markdown",
   "id": "d6azbcC8ugNi",
   "metadata": {
    "id": "d6azbcC8ugNi"
   },
   "source": [
    "Dividimos entre train y test en 70/30, manteniendo el mismo equilibrio entre pagados y no pagados en ambos subconjuntos con el parametro stratify"
   ]
  },
  {
   "cell_type": "markdown",
   "id": "6359b9e1",
   "metadata": {
    "id": "6359b9e1"
   },
   "source": [
    "#### EJERCICIO 5: \n",
    "Vamos ha evaluar diferentes algoritmos de clasificación, para los cuales necesitaremos hacer los siguientes pasos:\n",
    "\n",
    "\t1.\tRealizar algún tipo de transformación como escalado o normalización, si el método lo necesita.\n",
    "\t2.\tEntrenar el modelo con el conjunto de datos de entrenamiento.\n",
    "\t3.\tMostrar cómo de bueno ha sido el entrenamiento.\n",
    "\t4.\tEvaluar el modelo con el conjunto de datos de test. Para ellos se pedirán las siguiente métricas:\n",
    "        ⁃\tAccuracy\n",
    "        ⁃\tPrecision\n",
    "        ⁃\tRecall\n",
    "        ⁃\tConfusion Matrix\n",
    "        ⁃\tF-SCORE\n",
    "        ⁃\tCurva ROC\n",
    "        ⁃\tArea bajo la curva."
   ]
  },
  {
   "cell_type": "code",
   "execution_count": 20,
   "id": "7970733c",
   "metadata": {
    "executionInfo": {
     "elapsed": 20,
     "status": "ok",
     "timestamp": 1651993689118,
     "user": {
      "displayName": "Juan Sevilla Fern�ndez",
      "userId": "01090246479958160618"
     },
     "user_tz": -480
    },
    "id": "7970733c"
   },
   "outputs": [],
   "source": [
    "from sklearn import metrics\n",
    "from sklearn.metrics import (roc_curve, RocCurveDisplay, auc, confusion_matrix)\n",
    "import matplotlib.pyplot as plt\n",
    "from IPython.display import display\n",
    "from sklearn.preprocessing import StandardScaler\n",
    "from sklearn.neighbors import KNeighborsClassifier"
   ]
  },
  {
   "cell_type": "code",
   "execution_count": 21,
   "id": "cfe72dc4",
   "metadata": {
    "executionInfo": {
     "elapsed": 3164,
     "status": "ok",
     "timestamp": 1651993692263,
     "user": {
      "displayName": "Juan Sevilla Fern�ndez",
      "userId": "01090246479958160618"
     },
     "user_tz": -480
    },
    "id": "cfe72dc4",
    "scrolled": false
   },
   "outputs": [],
   "source": [
    "#Normalizamos el conjunto de entrenamiento y test que seran usados si el algoritmo lo requiere\n",
    "scaler = StandardScaler()\n",
    "train_scaler = scaler.fit(data_proc)\n",
    "\n",
    "data_train_norm = pd.DataFrame(index=data_train.index,\n",
    "                               columns=data_train.columns,\n",
    "                               data=train_scaler.transform(data_train))\n",
    "\n",
    "data_test_norm = pd.DataFrame(index=data_test.index,\n",
    "                               columns=data_test.columns,\n",
    "                               data=train_scaler.transform(data_test))"
   ]
  },
  {
   "cell_type": "markdown",
   "id": "n6D5R26NuqiQ",
   "metadata": {
    "id": "n6D5R26NuqiQ"
   },
   "source": [
    "Normalizamos los datos de entrenamiento y test con el mismo scaler para mantener una media y desviacion tipica constante para ambos subvconjuntos de los datos y que asi se puean realizar tests validos de los algoritmos que requieren este tipo de datos."
   ]
  },
  {
   "cell_type": "code",
   "execution_count": 22,
   "id": "6-bXLFI2vxtO",
   "metadata": {
    "executionInfo": {
     "elapsed": 68,
     "status": "ok",
     "timestamp": 1651993692265,
     "user": {
      "displayName": "Juan Sevilla Fern�ndez",
      "userId": "01090246479958160618"
     },
     "user_tz": -480
    },
    "id": "6-bXLFI2vxtO"
   },
   "outputs": [],
   "source": [
    "X_train = data_train.drop(columns='loan_status')\n",
    "X_train_norm = data_train_norm.drop(columns='loan_status')\n",
    "Y_train = data_train['loan_status']\n",
    "\n",
    "X_test = data_test.drop(columns='loan_status')\n",
    "X_test_norm = data_test_norm.drop(columns='loan_status')\n",
    "Y_test = data_test['loan_status']"
   ]
  },
  {
   "cell_type": "markdown",
   "id": "4a436e07",
   "metadata": {
    "id": "4a436e07"
   },
   "source": [
    "Todos estos pasos serán necesarios evaluarlos para cada uno de los siguientes algoritmos:\n",
    " \n",
    "\tA.\tRegresión logística (1 pt)\n",
    "\tB.\tK-NN (1pt)\n",
    "\tC.\tArbol de decisión simple (1pt)\n",
    "\tD.\tBagging Classifier (1pt)\n",
    "\tE.\tRandom Forest (1pt)\n",
    "\tF.\tGradientBoost (1pt)\n",
    "\tG.\tXGBoost. (1pt)"
   ]
  },
  {
   "cell_type": "markdown",
   "id": "5e6b0225",
   "metadata": {
    "id": "5e6b0225"
   },
   "source": [
    "##### A. Regresión logística (1 pt)"
   ]
  },
  {
   "cell_type": "code",
   "execution_count": 23,
   "id": "c8cbcea5",
   "metadata": {
    "colab": {
     "base_uri": "https://localhost:8080/"
    },
    "executionInfo": {
     "elapsed": 12271,
     "status": "ok",
     "timestamp": 1651993704470,
     "user": {
      "displayName": "Juan Sevilla Fern�ndez",
      "userId": "01090246479958160618"
     },
     "user_tz": -480
    },
    "id": "c8cbcea5",
    "outputId": "add9070b-05ca-423a-b0f9-d954472662ec"
   },
   "outputs": [
    {
     "data": {
      "text/plain": [
       "0.7879766039587341"
      ]
     },
     "execution_count": 23,
     "metadata": {},
     "output_type": "execute_result"
    }
   ],
   "source": [
    "lr = LogisticRegression(random_state=random_state)\n",
    "lr.fit(X_train_norm, Y_train)\n",
    "lr.score(X_train_norm, Y_train)"
   ]
  },
  {
   "cell_type": "code",
   "execution_count": 24,
   "id": "12c653d0",
   "metadata": {
    "executionInfo": {
     "elapsed": 26,
     "status": "ok",
     "timestamp": 1651993704471,
     "user": {
      "displayName": "Juan Sevilla Fern�ndez",
      "userId": "01090246479958160618"
     },
     "user_tz": -480
    },
    "id": "12c653d0"
   },
   "outputs": [],
   "source": [
    "predicted_logit = lr.predict(X_test_norm)"
   ]
  },
  {
   "cell_type": "code",
   "execution_count": 25,
   "id": "7ac81309",
   "metadata": {
    "colab": {
     "base_uri": "https://localhost:8080/",
     "height": 705
    },
    "executionInfo": {
     "elapsed": 922,
     "status": "ok",
     "timestamp": 1651993705372,
     "user": {
      "displayName": "Juan Sevilla Fern�ndez",
      "userId": "01090246479958160618"
     },
     "user_tz": -480
    },
    "id": "7ac81309",
    "outputId": "1b71c53b-f99f-4539-bb5c-3db2c9448410"
   },
   "outputs": [
    {
     "name": "stdout",
     "output_type": "stream",
     "text": [
      "Las métricas del modelo logístico son:\n",
      "        ⁃ Accuracy:  0.787 \n",
      "        ⁃ Precision:  0.802 \n",
      "        ⁃ Recall:  0.966 \n",
      "        ⁃ F-SCORE:  0.876 \n",
      "        ⁃ Area bajo la curva:  0.73 \n",
      "        ⁃ Confusion Matrix y Curva ROC: : \n",
      "\n",
      "\n"
     ]
    },
    {
     "data": {
      "image/png": "[encoded data removed]",
      "text/plain": [
       "<Figure size 432x288 with 2 Axes>"
      ]
     },
     "metadata": {
      "needs_background": "light"
     },
     "output_type": "display_data"
    },
    {
     "data": {
      "image/png": "[encoded data removed]",
      "text/plain": [
       "<Figure size 432x288 with 1 Axes>"
      ]
     },
     "metadata": {
      "needs_background": "light"
     },
     "output_type": "display_data"
    }
   ],
   "source": [
    "accuracy_logit = metrics.accuracy_score(y_true = Y_test, y_pred = predicted_logit)\n",
    "precission_logit = metrics.precision_score(y_true = Y_test, y_pred = predicted_logit)\n",
    "recall_logit = metrics.recall_score(y_true = Y_test, y_pred = predicted_logit)\n",
    "f_score_logit = metrics.f1_score(y_true = Y_test, y_pred = predicted_logit)\n",
    "\n",
    "cm_logit = metrics.confusion_matrix(y_true = Y_test, y_pred = predicted_logit)\n",
    "cm_disp_logit = metrics.ConfusionMatrixDisplay(confusion_matrix=cm_logit)\n",
    "cm_disp_logit.plot()\n",
    "\n",
    "fpr, tpr, _ = roc_curve(Y_test, lr.predict_proba(X_test_norm)[:,1])\n",
    "ROC_disp_logit = RocCurveDisplay(fpr=fpr, tpr=tpr)\n",
    "ROC_disp_logit.plot()\n",
    "\n",
    "auc_logit = metrics.roc_auc_score(y_true=Y_test, y_score = lr.predict_proba(X_test_norm)[:,1])\n",
    "\n",
    "\n",
    "print(\n",
    "    \"\"\"\\\n",
    "Las métricas del modelo logístico son:\n",
    "        ⁃ Accuracy: \"\"\",round(accuracy_logit,3),\"\"\"\n",
    "        ⁃ Precision: \"\"\",round(precission_logit,3),\"\"\"\n",
    "        ⁃ Recall: \"\"\",round(recall_logit,3),\"\"\"\n",
    "        ⁃ F-SCORE: \"\"\",round(f_score_logit,3),\"\"\"\n",
    "        ⁃ Area bajo la curva: \"\"\",round(auc_logit,3),\"\"\"\n",
    "        ⁃ Confusion Matrix y Curva ROC: : \\n\n",
    "\"\"\")\n",
    "plt.show()"
   ]
  },
  {
   "cell_type": "markdown",
   "id": "a39102ea",
   "metadata": {
    "id": "a39102ea"
   },
   "source": [
    "##### B. K-NN (1pt)\n",
    "\n",
    "Este modelo ha dado muchos problemas al requqrir una gran capacidad computacional.\n",
    "\n",
    "He decidido usar un 30% de cada dataset para hacer todo el entrenamiento y test simplemente para tener una idea de los resultados. \n",
    "\n",
    "Sin embargo, debido a esta gran debilidad no recomiendo el uso de este algoritmo para datos tan grandes como los que estamos usando."
   ]
  },
  {
   "cell_type": "code",
   "execution_count": 26,
   "id": "b6RoUOhC4QcJ",
   "metadata": {
    "executionInfo": {
     "elapsed": 836,
     "status": "ok",
     "timestamp": 1651993706188,
     "user": {
      "displayName": "Juan Sevilla Fern�ndez",
      "userId": "01090246479958160618"
     },
     "user_tz": -480
    },
    "id": "b6RoUOhC4QcJ"
   },
   "outputs": [],
   "source": [
    "fr = 0.3\n",
    "KNN_X_train_norm = X_train_norm.sample(frac = fr)\n",
    "KNN_Y_train = Y_train.sample(frac = fr)\n",
    "KNN_X_test_norm = X_test_norm.sample(frac = fr)\n",
    "KNN_Y_test = Y_test.sample(frac = fr)"
   ]
  },
  {
   "cell_type": "code",
   "execution_count": 27,
   "id": "80b2d8a4",
   "metadata": {
    "colab": {
     "base_uri": "https://localhost:8080/"
    },
    "executionInfo": {
     "elapsed": 52,
     "status": "ok",
     "timestamp": 1651993706191,
     "user": {
      "displayName": "Juan Sevilla Fern�ndez",
      "userId": "01090246479958160618"
     },
     "user_tz": -480
    },
    "id": "80b2d8a4",
    "outputId": "1aa47919-58bd-4dcc-9065-14b4134832f7"
   },
   "outputs": [
    {
     "data": {
      "text/plain": [
       "KNeighborsClassifier(n_neighbors=3)"
      ]
     },
     "execution_count": 27,
     "metadata": {},
     "output_type": "execute_result"
    }
   ],
   "source": [
    "knn = KNeighborsClassifier(3)\n",
    "knn.fit(KNN_X_train_norm, KNN_Y_train)"
   ]
  },
  {
   "cell_type": "code",
   "execution_count": 28,
   "id": "Ve4x5Iec3sT8",
   "metadata": {
    "colab": {
     "base_uri": "https://localhost:8080/"
    },
    "executionInfo": {
     "elapsed": 237266,
     "status": "ok",
     "timestamp": 1651993943433,
     "user": {
      "displayName": "Juan Sevilla Fern�ndez",
      "userId": "01090246479958160618"
     },
     "user_tz": -480
    },
    "id": "Ve4x5Iec3sT8",
    "outputId": "c8d59ecf-caef-49e9-ea91-f24d789aa204"
   },
   "outputs": [
    {
     "data": {
      "text/plain": [
       "0.8292858756818989"
      ]
     },
     "execution_count": 28,
     "metadata": {},
     "output_type": "execute_result"
    }
   ],
   "source": [
    "knn.score(KNN_X_train_norm, KNN_Y_train)"
   ]
  },
  {
   "cell_type": "code",
   "execution_count": 29,
   "id": "05d4d71e",
   "metadata": {
    "executionInfo": {
     "elapsed": 96735,
     "status": "ok",
     "timestamp": 1651994040150,
     "user": {
      "displayName": "Juan Sevilla Fern�ndez",
      "userId": "01090246479958160618"
     },
     "user_tz": -480
    },
    "id": "05d4d71e"
   },
   "outputs": [],
   "source": [
    "predicted_knn = knn.predict(KNN_X_test_norm)"
   ]
  },
  {
   "cell_type": "code",
   "execution_count": 30,
   "id": "95xc3VhSPiro",
   "metadata": {
    "executionInfo": {
     "elapsed": 96042,
     "status": "ok",
     "timestamp": 1651994136159,
     "user": {
      "displayName": "Juan Sevilla Fern�ndez",
      "userId": "01090246479958160618"
     },
     "user_tz": -480
    },
    "id": "95xc3VhSPiro"
   },
   "outputs": [],
   "source": [
    "predicted_prob_knn = knn.predict_proba(KNN_X_test_norm)[:,1]"
   ]
  },
  {
   "cell_type": "code",
   "execution_count": 31,
   "id": "863080b6",
   "metadata": {
    "colab": {
     "base_uri": "https://localhost:8080/",
     "height": 701
    },
    "executionInfo": {
     "elapsed": 757,
     "status": "ok",
     "timestamp": 1651994136882,
     "user": {
      "displayName": "Juan Sevilla Fern�ndez",
      "userId": "01090246479958160618"
     },
     "user_tz": -480
    },
    "id": "863080b6",
    "outputId": "b5053ad8-527a-49a3-a7aa-aaa11995baed"
   },
   "outputs": [
    {
     "name": "stdout",
     "output_type": "stream",
     "text": [
      "Las métricas del modelo KNN son:\n",
      "        ⁃ Accuracy:  0.711 \n",
      "        ⁃ Precision:  0.781 \n",
      "        ⁃ Recall:  0.876 \n",
      "        ⁃ F-SCORE:  0.826 \n",
      "        ⁃ Area bajo la curva:  0.498 \n",
      "        ⁃ Confusion Matrix y Curva ROC: : \n",
      "\n",
      "\n"
     ]
    },
    {
     "data": {
      "image/png": "[encoded data removed]",
      "text/plain": [
       "<Figure size 432x288 with 2 Axes>"
      ]
     },
     "metadata": {
      "needs_background": "light"
     },
     "output_type": "display_data"
    },
    {
     "data": {
      "image/png": "[encoded data removed]",
      "text/plain": [
       "<Figure size 432x288 with 1 Axes>"
      ]
     },
     "metadata": {
      "needs_background": "light"
     },
     "output_type": "display_data"
    }
   ],
   "source": [
    "accuracy_knn = metrics.accuracy_score(y_true = KNN_Y_test, y_pred = predicted_knn)\n",
    "precission_knn = metrics.precision_score(y_true = KNN_Y_test, y_pred = predicted_knn)\n",
    "recall_knn = metrics.recall_score(y_true = KNN_Y_test, y_pred = predicted_knn)\n",
    "f_score_knn = metrics.f1_score(y_true = KNN_Y_test, y_pred = predicted_knn)\n",
    "\n",
    "cm_knn = metrics.confusion_matrix(y_true = KNN_Y_test, y_pred = predicted_knn)\n",
    "cm_disp_knn = metrics.ConfusionMatrixDisplay(confusion_matrix=cm_knn)\n",
    "cm_disp_knn.plot()\n",
    "\n",
    "fpr, tpr, _ = roc_curve(KNN_Y_test, predicted_prob_knn)\n",
    "ROC_disp_knn = RocCurveDisplay(fpr=fpr, tpr=tpr)\n",
    "ROC_disp_knn.plot()\n",
    "\n",
    "auc_knn = metrics.roc_auc_score(y_true=KNN_Y_test, y_score = predicted_prob_knn)\n",
    "\n",
    "\n",
    "\n",
    "print(\n",
    "    \"\"\"\\\n",
    "Las métricas del modelo KNN son:\n",
    "        ⁃ Accuracy: \"\"\",round(accuracy_knn,3),\"\"\"\n",
    "        ⁃ Precision: \"\"\",round(precission_knn,3),\"\"\"\n",
    "        ⁃ Recall: \"\"\",round(recall_knn,3),\"\"\"\n",
    "        ⁃ F-SCORE: \"\"\",round(f_score_knn,3),\"\"\"\n",
    "        ⁃ Area bajo la curva: \"\"\",round(auc_knn,3),\"\"\"\n",
    "        ⁃ Confusion Matrix y Curva ROC: : \\n\n",
    "\"\"\")\n",
    "plt.show()"
   ]
  },
  {
   "cell_type": "markdown",
   "id": "97a3cb9a",
   "metadata": {
    "id": "97a3cb9a"
   },
   "source": [
    "##### C. Arbol de decisión simple (1pt)"
   ]
  },
  {
   "cell_type": "code",
   "execution_count": 32,
   "id": "7e253335",
   "metadata": {
    "colab": {
     "base_uri": "https://localhost:8080/"
    },
    "executionInfo": {
     "elapsed": 12453,
     "status": "ok",
     "timestamp": 1651994149328,
     "user": {
      "displayName": "Juan Sevilla Fern�ndez",
      "userId": "01090246479958160618"
     },
     "user_tz": -480
    },
    "id": "7e253335",
    "outputId": "b7c6ec9a-ecad-4277-8b66-8cad6ddf9419"
   },
   "outputs": [
    {
     "data": {
      "text/plain": [
       "DecisionTreeClassifier(max_depth=10, random_state=100)"
      ]
     },
     "execution_count": 32,
     "metadata": {},
     "output_type": "execute_result"
    }
   ],
   "source": [
    "from sklearn.tree import DecisionTreeClassifier\n",
    "tree = DecisionTreeClassifier(random_state=random_state, max_depth=10)\n",
    "tree.fit(X_train, Y_train)"
   ]
  },
  {
   "cell_type": "code",
   "execution_count": 33,
   "id": "4911f5f3",
   "metadata": {
    "colab": {
     "base_uri": "https://localhost:8080/"
    },
    "executionInfo": {
     "elapsed": 494,
     "status": "ok",
     "timestamp": 1651994149798,
     "user": {
      "displayName": "Juan Sevilla Fern�ndez",
      "userId": "01090246479958160618"
     },
     "user_tz": -480
    },
    "id": "4911f5f3",
    "outputId": "064858fe-07a5-426a-cadc-f40a76aa3648"
   },
   "outputs": [
    {
     "data": {
      "text/plain": [
       "0.7928346395692649"
      ]
     },
     "execution_count": 33,
     "metadata": {},
     "output_type": "execute_result"
    }
   ],
   "source": [
    "tree.score(X_train, Y_train)"
   ]
  },
  {
   "cell_type": "code",
   "execution_count": 34,
   "id": "dc293f55",
   "metadata": {
    "executionInfo": {
     "elapsed": 8,
     "status": "ok",
     "timestamp": 1651994149800,
     "user": {
      "displayName": "Juan Sevilla Fern�ndez",
      "userId": "01090246479958160618"
     },
     "user_tz": -480
    },
    "id": "dc293f55"
   },
   "outputs": [],
   "source": [
    "predicted_tree = tree.predict(X_test)"
   ]
  },
  {
   "cell_type": "code",
   "execution_count": 35,
   "id": "2038bb74",
   "metadata": {
    "colab": {
     "base_uri": "https://localhost:8080/",
     "height": 701
    },
    "executionInfo": {
     "elapsed": 591,
     "status": "ok",
     "timestamp": 1651994150384,
     "user": {
      "displayName": "Juan Sevilla Fern�ndez",
      "userId": "01090246479958160618"
     },
     "user_tz": -480
    },
    "id": "2038bb74",
    "outputId": "7311c85d-ddfc-4da8-a328-be119efa4f65",
    "scrolled": false
   },
   "outputs": [
    {
     "name": "stdout",
     "output_type": "stream",
     "text": [
      "Las métricas del modelo tree son:\n",
      "        ⁃ Accuracy:  0.782 \n",
      "        ⁃ Precision:  0.801 \n",
      "        ⁃ Recall:  0.96 \n",
      "        ⁃ F-SCORE:  0.873 \n",
      "        ⁃ Area bajo la curva:  0.71 \n",
      "        ⁃ Confusion Matrix y Curva ROC: : \n",
      "\n",
      "\n"
     ]
    },
    {
     "data": {
      "image/png": "[encoded data removed]",
      "text/plain": [
       "<Figure size 432x288 with 2 Axes>"
      ]
     },
     "metadata": {
      "needs_background": "light"
     },
     "output_type": "display_data"
    },
    {
     "data": {
      "image/png": "[encoded data removed]",
      "text/plain": [
       "<Figure size 432x288 with 1 Axes>"
      ]
     },
     "metadata": {
      "needs_background": "light"
     },
     "output_type": "display_data"
    }
   ],
   "source": [
    "accuracy_tree = metrics.accuracy_score(y_true = Y_test, y_pred = predicted_tree)\n",
    "precission_tree = metrics.precision_score(y_true = Y_test, y_pred = predicted_tree)\n",
    "recall_tree = metrics.recall_score(y_true = Y_test, y_pred = predicted_tree)\n",
    "f_score_tree = metrics.f1_score(y_true = Y_test, y_pred = predicted_tree)\n",
    "\n",
    "cm_tree = metrics.confusion_matrix(y_true = Y_test, y_pred = predicted_tree)\n",
    "cm_disp_tree = metrics.ConfusionMatrixDisplay(confusion_matrix=cm_tree)\n",
    "cm_disp_tree.plot()\n",
    "\n",
    "fpr, tpr, _ = roc_curve(Y_test, tree.predict_proba(X_test)[:,1])\n",
    "ROC_disp_tree = RocCurveDisplay(fpr=fpr, tpr=tpr)\n",
    "ROC_disp_tree.plot()\n",
    "\n",
    "auc_tree = metrics.roc_auc_score(y_true=Y_test, y_score = tree.predict_proba(X_test)[:,1])\n",
    "\n",
    "\n",
    "\n",
    "print(\n",
    "    \"\"\"\\\n",
    "Las métricas del modelo tree son:\n",
    "        ⁃ Accuracy: \"\"\",round(accuracy_tree,3),\"\"\"\n",
    "        ⁃ Precision: \"\"\",round(precission_tree,3),\"\"\"\n",
    "        ⁃ Recall: \"\"\",round(recall_tree,3),\"\"\"\n",
    "        ⁃ F-SCORE: \"\"\",round(f_score_tree,3),\"\"\"\n",
    "        ⁃ Area bajo la curva: \"\"\",round(auc_tree,3),\"\"\"\n",
    "        ⁃ Confusion Matrix y Curva ROC: : \\n\n",
    "\"\"\")\n",
    "plt.show()"
   ]
  },
  {
   "cell_type": "markdown",
   "id": "d321eb93",
   "metadata": {
    "id": "d321eb93"
   },
   "source": [
    "##### D. Bagging Classifier (1pt)"
   ]
  },
  {
   "cell_type": "code",
   "execution_count": 36,
   "id": "ec85c193",
   "metadata": {
    "colab": {
     "base_uri": "https://localhost:8080/"
    },
    "executionInfo": {
     "elapsed": 109699,
     "status": "ok",
     "timestamp": 1651994260068,
     "user": {
      "displayName": "Juan Sevilla Fern�ndez",
      "userId": "01090246479958160618"
     },
     "user_tz": -480
    },
    "id": "ec85c193",
    "outputId": "0338ee5a-2f2a-4bb0-c709-145bb102d6c8"
   },
   "outputs": [
    {
     "data": {
      "text/plain": [
       "BaggingClassifier(n_estimators=5)"
      ]
     },
     "execution_count": 36,
     "metadata": {},
     "output_type": "execute_result"
    }
   ],
   "source": [
    "from  sklearn.ensemble import BaggingClassifier\n",
    "bagging = BaggingClassifier(n_estimators=5)\n",
    "bagging.fit(X_train, Y_train)"
   ]
  },
  {
   "cell_type": "code",
   "execution_count": 37,
   "id": "1706df4c",
   "metadata": {
    "colab": {
     "base_uri": "https://localhost:8080/"
    },
    "executionInfo": {
     "elapsed": 2931,
     "status": "ok",
     "timestamp": 1651994262972,
     "user": {
      "displayName": "Juan Sevilla Fern�ndez",
      "userId": "01090246479958160618"
     },
     "user_tz": -480
    },
    "id": "1706df4c",
    "outputId": "89131101-3096-4d4c-ef93-b48f464814f0"
   },
   "outputs": [
    {
     "data": {
      "text/plain": [
       "0.9683856473292102"
      ]
     },
     "execution_count": 37,
     "metadata": {},
     "output_type": "execute_result"
    }
   ],
   "source": [
    "bagging.score(X_train, Y_train)"
   ]
  },
  {
   "cell_type": "code",
   "execution_count": 38,
   "id": "86330cb1",
   "metadata": {
    "executionInfo": {
     "elapsed": 589,
     "status": "ok",
     "timestamp": 1651994263551,
     "user": {
      "displayName": "Juan Sevilla Fern�ndez",
      "userId": "01090246479958160618"
     },
     "user_tz": -480
    },
    "id": "86330cb1"
   },
   "outputs": [],
   "source": [
    "predicted_bagging = bagging.predict(X_test)"
   ]
  },
  {
   "cell_type": "code",
   "execution_count": 39,
   "id": "8cb24ba7",
   "metadata": {
    "colab": {
     "base_uri": "https://localhost:8080/",
     "height": 701
    },
    "executionInfo": {
     "elapsed": 2960,
     "status": "ok",
     "timestamp": 1651994266508,
     "user": {
      "displayName": "Juan Sevilla Fern�ndez",
      "userId": "01090246479958160618"
     },
     "user_tz": -480
    },
    "id": "8cb24ba7",
    "outputId": "d8448591-81a3-42de-c5bd-1bedeb77391f",
    "scrolled": false
   },
   "outputs": [
    {
     "name": "stdout",
     "output_type": "stream",
     "text": [
      "Las métricas del modelo bagging son:\n",
      "        ⁃ Accuracy:  0.751 \n",
      "        ⁃ Precision:  0.806 \n",
      "        ⁃ Recall:  0.897 \n",
      "        ⁃ F-SCORE:  0.849 \n",
      "        ⁃ Area bajo la curva:  0.634 \n",
      "        ⁃ Confusion Matrix y Curva ROC: : \n",
      "\n",
      "\n"
     ]
    },
    {
     "data": {
      "image/png": "[encoded data removed]",
      "text/plain": [
       "<Figure size 432x288 with 2 Axes>"
      ]
     },
     "metadata": {
      "needs_background": "light"
     },
     "output_type": "display_data"
    },
    {
     "data": {
      "image/png": "[encoded data removed]",
      "text/plain": [
       "<Figure size 432x288 with 1 Axes>"
      ]
     },
     "metadata": {
      "needs_background": "light"
     },
     "output_type": "display_data"
    }
   ],
   "source": [
    "accuracy_bagging = metrics.accuracy_score(y_true = Y_test, y_pred = predicted_bagging)\n",
    "precission_bagging = metrics.precision_score(y_true = Y_test, y_pred = predicted_bagging)\n",
    "recall_bagging = metrics.recall_score(y_true = Y_test, y_pred = predicted_bagging)\n",
    "f_score_bagging = metrics.f1_score(y_true = Y_test, y_pred = predicted_bagging)\n",
    "\n",
    "cm_bagging = metrics.confusion_matrix(y_true = Y_test, y_pred = predicted_bagging)\n",
    "cm_disp_bagging = metrics.ConfusionMatrixDisplay(confusion_matrix=cm_bagging)\n",
    "cm_disp_bagging.plot()\n",
    "\n",
    "fpr, tpr, _ = roc_curve(Y_test, bagging.predict_proba(X_test)[:,1])\n",
    "ROC_disp_bagging = RocCurveDisplay(fpr=fpr, tpr=tpr)\n",
    "ROC_disp_bagging.plot()\n",
    "\n",
    "auc_bagging = metrics.roc_auc_score(y_true=Y_test, y_score = bagging.predict_proba(X_test)[:,1])\n",
    "\n",
    "\n",
    "\n",
    "print(\n",
    "    \"\"\"\\\n",
    "Las métricas del modelo bagging son:\n",
    "        ⁃ Accuracy: \"\"\",round(accuracy_bagging,3),\"\"\"\n",
    "        ⁃ Precision: \"\"\",round(precission_bagging,3),\"\"\"\n",
    "        ⁃ Recall: \"\"\",round(recall_bagging,3),\"\"\"\n",
    "        ⁃ F-SCORE: \"\"\",round(f_score_bagging,3),\"\"\"\n",
    "        ⁃ Area bajo la curva: \"\"\",round(auc_bagging,3),\"\"\"\n",
    "        ⁃ Confusion Matrix y Curva ROC: : \\n\n",
    "\"\"\")\n",
    "plt.show()"
   ]
  },
  {
   "cell_type": "markdown",
   "id": "43247721",
   "metadata": {
    "id": "43247721"
   },
   "source": [
    "##### E. Random Forest (1pt)"
   ]
  },
  {
   "cell_type": "code",
   "execution_count": 40,
   "id": "6c26f1b6",
   "metadata": {
    "colab": {
     "base_uri": "https://localhost:8080/"
    },
    "executionInfo": {
     "elapsed": 150504,
     "status": "ok",
     "timestamp": 1651994416975,
     "user": {
      "displayName": "Juan Sevilla Fern�ndez",
      "userId": "01090246479958160618"
     },
     "user_tz": -480
    },
    "id": "6c26f1b6",
    "outputId": "51c05e49-570e-41b8-b28a-1f69ee911a7d"
   },
   "outputs": [
    {
     "data": {
      "text/plain": [
       "RandomForestClassifier()"
      ]
     },
     "execution_count": 40,
     "metadata": {},
     "output_type": "execute_result"
    }
   ],
   "source": [
    "from sklearn.ensemble import RandomForestClassifier\n",
    "forest = RandomForestClassifier()\n",
    "forest.fit(X_train, Y_train)"
   ]
  },
  {
   "cell_type": "code",
   "execution_count": 41,
   "id": "fe27c913",
   "metadata": {
    "colab": {
     "base_uri": "https://localhost:8080/"
    },
    "executionInfo": {
     "elapsed": 19948,
     "status": "ok",
     "timestamp": 1651994436885,
     "user": {
      "displayName": "Juan Sevilla Fern�ndez",
      "userId": "01090246479958160618"
     },
     "user_tz": -480
    },
    "id": "fe27c913",
    "outputId": "23067643-0159-4b72-e797-56a1bfb8b543"
   },
   "outputs": [
    {
     "data": {
      "text/plain": [
       "0.9999935441387235"
      ]
     },
     "execution_count": 41,
     "metadata": {},
     "output_type": "execute_result"
    }
   ],
   "source": [
    "forest.score(X_train, Y_train)"
   ]
  },
  {
   "cell_type": "code",
   "execution_count": 42,
   "id": "3dae7682",
   "metadata": {
    "executionInfo": {
     "elapsed": 9047,
     "status": "ok",
     "timestamp": 1651994445894,
     "user": {
      "displayName": "Juan Sevilla Fern�ndez",
      "userId": "01090246479958160618"
     },
     "user_tz": -480
    },
    "id": "3dae7682"
   },
   "outputs": [],
   "source": [
    "predicted_forest = forest.predict(X_test)"
   ]
  },
  {
   "cell_type": "code",
   "execution_count": 43,
   "id": "d8a59dfe",
   "metadata": {
    "colab": {
     "base_uri": "https://localhost:8080/",
     "height": 703
    },
    "executionInfo": {
     "elapsed": 17021,
     "status": "ok",
     "timestamp": 1651994462877,
     "user": {
      "displayName": "Juan Sevilla Fern�ndez",
      "userId": "01090246479958160618"
     },
     "user_tz": -480
    },
    "id": "d8a59dfe",
    "outputId": "94f8853f-308b-49d3-8bf2-5d5d50a10454",
    "scrolled": false
   },
   "outputs": [
    {
     "name": "stdout",
     "output_type": "stream",
     "text": [
      "Las métricas del modelo forest son:\n",
      "        ⁃ Accuracy:  0.787 \n",
      "        ⁃ Precision:  0.797 \n",
      "        ⁃ Recall:  0.976 \n",
      "        ⁃ F-SCORE:  0.877 \n",
      "        ⁃ Area bajo la curva:  0.718 \n",
      "        ⁃ Confusion Matrix y Curva ROC: : \n",
      "\n",
      "\n"
     ]
    },
    {
     "data": {
      "image/png": "[encoded data removed]",
      "text/plain": [
       "<Figure size 432x288 with 2 Axes>"
      ]
     },
     "metadata": {
      "needs_background": "light"
     },
     "output_type": "display_data"
    },
    {
     "data": {
      "image/png": "[encoded data removed]",
      "text/plain": [
       "<Figure size 432x288 with 1 Axes>"
      ]
     },
     "metadata": {
      "needs_background": "light"
     },
     "output_type": "display_data"
    }
   ],
   "source": [
    "accuracy_forest = metrics.accuracy_score(y_true = Y_test, y_pred = predicted_forest)\n",
    "precission_forest = metrics.precision_score(y_true = Y_test, y_pred = predicted_forest)\n",
    "recall_forest = metrics.recall_score(y_true = Y_test, y_pred = predicted_forest)\n",
    "f_score_forest = metrics.f1_score(y_true = Y_test, y_pred = predicted_forest)\n",
    "\n",
    "cm_forest = metrics.confusion_matrix(y_true = Y_test, y_pred = predicted_forest)\n",
    "cm_disp_forest = metrics.ConfusionMatrixDisplay(confusion_matrix=cm_forest)\n",
    "cm_disp_forest.plot()\n",
    "\n",
    "fpr, tpr, _ = roc_curve(Y_test, forest.predict_proba(X_test)[:,1])\n",
    "ROC_disp_forest = RocCurveDisplay(fpr=fpr, tpr=tpr)\n",
    "ROC_disp_forest.plot()\n",
    "\n",
    "auc_forest = metrics.roc_auc_score(y_true=Y_test, y_score = forest.predict_proba(X_test)[:,1])\n",
    "\n",
    "\n",
    "\n",
    "print(\n",
    "    \"\"\"\\\n",
    "Las métricas del modelo forest son:\n",
    "        ⁃ Accuracy: \"\"\",round(accuracy_forest,3),\"\"\"\n",
    "        ⁃ Precision: \"\"\",round(precission_forest,3),\"\"\"\n",
    "        ⁃ Recall: \"\"\",round(recall_forest,3),\"\"\"\n",
    "        ⁃ F-SCORE: \"\"\",round(f_score_forest,3),\"\"\"\n",
    "        ⁃ Area bajo la curva: \"\"\",round(auc_forest,3),\"\"\"\n",
    "        ⁃ Confusion Matrix y Curva ROC: : \\n\n",
    "\"\"\")\n",
    "plt.show()"
   ]
  },
  {
   "cell_type": "markdown",
   "id": "2d1a3253",
   "metadata": {
    "id": "2d1a3253"
   },
   "source": [
    "##### F. GradientBoost (1pt)"
   ]
  },
  {
   "cell_type": "code",
   "execution_count": 44,
   "id": "2a0e1895",
   "metadata": {
    "colab": {
     "base_uri": "https://localhost:8080/"
    },
    "executionInfo": {
     "elapsed": 246047,
     "status": "ok",
     "timestamp": 1651994708878,
     "user": {
      "displayName": "Juan Sevilla Fern�ndez",
      "userId": "01090246479958160618"
     },
     "user_tz": -480
    },
    "id": "2a0e1895",
    "outputId": "d151bf83-80b8-4787-d6f5-90ce0eefb6d1"
   },
   "outputs": [
    {
     "data": {
      "text/plain": [
       "GradientBoostingClassifier()"
      ]
     },
     "execution_count": 44,
     "metadata": {},
     "output_type": "execute_result"
    }
   ],
   "source": [
    "from sklearn.ensemble import GradientBoostingClassifier\n",
    "gradient = GradientBoostingClassifier()\n",
    "gradient.fit(X_train, Y_train)"
   ]
  },
  {
   "cell_type": "code",
   "execution_count": 45,
   "id": "f9c9f0e8",
   "metadata": {
    "colab": {
     "base_uri": "https://localhost:8080/"
    },
    "executionInfo": {
     "elapsed": 2498,
     "status": "ok",
     "timestamp": 1651994711321,
     "user": {
      "displayName": "Juan Sevilla Fern�ndez",
      "userId": "01090246479958160618"
     },
     "user_tz": -480
    },
    "id": "f9c9f0e8",
    "outputId": "9ff14920-c0c2-42ce-8bba-39b3763a4566"
   },
   "outputs": [
    {
     "data": {
      "text/plain": [
       "0.7887835866182907"
      ]
     },
     "execution_count": 45,
     "metadata": {},
     "output_type": "execute_result"
    }
   ],
   "source": [
    "gradient.score(X_train, Y_train)"
   ]
  },
  {
   "cell_type": "code",
   "execution_count": 46,
   "id": "b9d7999b",
   "metadata": {
    "executionInfo": {
     "elapsed": 515,
     "status": "ok",
     "timestamp": 1651994711812,
     "user": {
      "displayName": "Juan Sevilla Fern�ndez",
      "userId": "01090246479958160618"
     },
     "user_tz": -480
    },
    "id": "b9d7999b"
   },
   "outputs": [],
   "source": [
    "predicted_gradient = gradient.predict(X_test)"
   ]
  },
  {
   "cell_type": "code",
   "execution_count": 47,
   "id": "e8b6b185",
   "metadata": {
    "colab": {
     "base_uri": "https://localhost:8080/",
     "height": 703
    },
    "executionInfo": {
     "elapsed": 1940,
     "status": "ok",
     "timestamp": 1651994713744,
     "user": {
      "displayName": "Juan Sevilla Fern�ndez",
      "userId": "01090246479958160618"
     },
     "user_tz": -480
    },
    "id": "e8b6b185",
    "outputId": "d6e2001e-bdc2-4772-a8e9-94a4c2a2b3a3",
    "scrolled": false
   },
   "outputs": [
    {
     "name": "stdout",
     "output_type": "stream",
     "text": [
      "Las métricas del modelo gradient son:\n",
      "        ⁃ Accuracy:  0.787 \n",
      "        ⁃ Precision:  0.797 \n",
      "        ⁃ Recall:  0.976 \n",
      "        ⁃ F-SCORE:  0.878 \n",
      "        ⁃ Area bajo la curva:  0.726 \n",
      "        ⁃ Confusion Matrix y Curva ROC: : \n",
      "\n",
      "\n"
     ]
    },
    {
     "data": {
      "image/png": "[encoded data removed]",
      "text/plain": [
       "<Figure size 432x288 with 2 Axes>"
      ]
     },
     "metadata": {
      "needs_background": "light"
     },
     "output_type": "display_data"
    },
    {
     "data": {
      "image/png": "[encoded data removed]",
      "text/plain": [
       "<Figure size 432x288 with 1 Axes>"
      ]
     },
     "metadata": {
      "needs_background": "light"
     },
     "output_type": "display_data"
    }
   ],
   "source": [
    "accuracy_gradient = metrics.accuracy_score(y_true = Y_test, y_pred = predicted_gradient)\n",
    "precission_gradient = metrics.precision_score(y_true = Y_test, y_pred = predicted_gradient)\n",
    "recall_gradient = metrics.recall_score(y_true = Y_test, y_pred = predicted_gradient)\n",
    "f_score_gradient = metrics.f1_score(y_true = Y_test, y_pred = predicted_gradient)\n",
    "\n",
    "cm_gradient = metrics.confusion_matrix(y_true = Y_test, y_pred = predicted_gradient)\n",
    "cm_disp_gradient = metrics.ConfusionMatrixDisplay(confusion_matrix=cm_gradient)\n",
    "cm_disp_gradient.plot()\n",
    "\n",
    "fpr, tpr, _ = roc_curve(Y_test, gradient.predict_proba(X_test)[:,1])\n",
    "ROC_disp_gradient = RocCurveDisplay(fpr=fpr, tpr=tpr)\n",
    "ROC_disp_gradient.plot()\n",
    "\n",
    "auc_gradient = metrics.roc_auc_score(y_true=Y_test, y_score = gradient.predict_proba(X_test)[:,1])\n",
    "\n",
    "\n",
    "\n",
    "print(\n",
    "    \"\"\"\\\n",
    "Las métricas del modelo gradient son:\n",
    "        ⁃ Accuracy: \"\"\",round(accuracy_gradient,3),\"\"\"\n",
    "        ⁃ Precision: \"\"\",round(precission_gradient,3),\"\"\"\n",
    "        ⁃ Recall: \"\"\",round(recall_gradient,3),\"\"\"\n",
    "        ⁃ F-SCORE: \"\"\",round(f_score_gradient,3),\"\"\"\n",
    "        ⁃ Area bajo la curva: \"\"\",round(auc_gradient,3),\"\"\"\n",
    "        ⁃ Confusion Matrix y Curva ROC: : \\n\n",
    "\"\"\")\n",
    "plt.show()"
   ]
  },
  {
   "cell_type": "markdown",
   "id": "5be38999",
   "metadata": {
    "id": "5be38999"
   },
   "source": [
    "##### G. XGBoost. (1pt)"
   ]
  },
  {
   "cell_type": "code",
   "execution_count": 48,
   "id": "433ebf40",
   "metadata": {
    "colab": {
     "base_uri": "https://localhost:8080/"
    },
    "executionInfo": {
     "elapsed": 15692,
     "status": "ok",
     "timestamp": 1651994729423,
     "user": {
      "displayName": "Juan Sevilla Fern�ndez",
      "userId": "01090246479958160618"
     },
     "user_tz": -480
    },
    "id": "433ebf40",
    "outputId": "b61a9973-8f18-4570-e112-144e2d4d9c7a"
   },
   "outputs": [
    {
     "data": {
      "text/plain": [
       "XGBClassifier(n_estimators=6, objective='reg:squarederror')"
      ]
     },
     "execution_count": 48,
     "metadata": {},
     "output_type": "execute_result"
    }
   ],
   "source": [
    "import xgboost as xgb\n",
    "xgb = xgb.XGBClassifier(n_estimators=6, objective='reg:squarederror')\n",
    "xgb.fit(X_train, Y_train)"
   ]
  },
  {
   "cell_type": "code",
   "execution_count": 49,
   "id": "012bb1fd",
   "metadata": {
    "colab": {
     "base_uri": "https://localhost:8080/"
    },
    "executionInfo": {
     "elapsed": 1558,
     "status": "ok",
     "timestamp": 1651994730971,
     "user": {
      "displayName": "Juan Sevilla Fern�ndez",
      "userId": "01090246479958160618"
     },
     "user_tz": -480
    },
    "id": "012bb1fd",
    "outputId": "eaeda510-4a76-4183-ee9a-913e9c286e66"
   },
   "outputs": [
    {
     "data": {
      "text/plain": [
       "0.7825924156541724"
      ]
     },
     "execution_count": 49,
     "metadata": {},
     "output_type": "execute_result"
    }
   ],
   "source": [
    "xgb.score(X_train, Y_train)"
   ]
  },
  {
   "cell_type": "code",
   "execution_count": 50,
   "id": "99ce9d52",
   "metadata": {
    "executionInfo": {
     "elapsed": 828,
     "status": "ok",
     "timestamp": 1651994731783,
     "user": {
      "displayName": "Juan Sevilla Fern�ndez",
      "userId": "01090246479958160618"
     },
     "user_tz": -480
    },
    "id": "99ce9d52"
   },
   "outputs": [],
   "source": [
    "predicted_xgb = xgb.predict(X_test)"
   ]
  },
  {
   "cell_type": "code",
   "execution_count": 51,
   "id": "694b56d9",
   "metadata": {
    "colab": {
     "base_uri": "https://localhost:8080/",
     "height": 701
    },
    "executionInfo": {
     "elapsed": 1738,
     "status": "ok",
     "timestamp": 1651994733504,
     "user": {
      "displayName": "Juan Sevilla Fern�ndez",
      "userId": "01090246479958160618"
     },
     "user_tz": -480
    },
    "id": "694b56d9",
    "outputId": "0935bd66-d03f-4c07-821a-94f5b2cb854a",
    "scrolled": false
   },
   "outputs": [
    {
     "name": "stdout",
     "output_type": "stream",
     "text": [
      "Las métricas del modelo xgb son:\n",
      "        ⁃ Accuracy:  0.783 \n",
      "        ⁃ Precision:  0.784 \n",
      "        ⁃ Recall:  0.996 \n",
      "        ⁃ F-SCORE:  0.877 \n",
      "        ⁃ Area bajo la curva:  0.703 \n",
      "        ⁃ Confusion Matrix y Curva ROC: : \n",
      "\n",
      "\n"
     ]
    },
    {
     "data": {
      "image/png": "[encoded data removed]",
      "text/plain": [
       "<Figure size 432x288 with 2 Axes>"
      ]
     },
     "metadata": {
      "needs_background": "light"
     },
     "output_type": "display_data"
    },
    {
     "data": {
      "image/png": "[encoded data removed]",
      "text/plain": [
       "<Figure size 432x288 with 1 Axes>"
      ]
     },
     "metadata": {
      "needs_background": "light"
     },
     "output_type": "display_data"
    }
   ],
   "source": [
    "accuracy_xgb = metrics.accuracy_score(y_true = Y_test, y_pred = predicted_xgb)\n",
    "precission_xgb = metrics.precision_score(y_true = Y_test, y_pred = predicted_xgb)\n",
    "recall_xgb = metrics.recall_score(y_true = Y_test, y_pred = predicted_xgb)\n",
    "f_score_xgb = metrics.f1_score(y_true = Y_test, y_pred = predicted_xgb)\n",
    "\n",
    "cm_xgb = metrics.confusion_matrix(y_true = Y_test, y_pred = predicted_xgb)\n",
    "cm_disp_xgb = metrics.ConfusionMatrixDisplay(confusion_matrix=cm_xgb)\n",
    "cm_disp_xgb.plot()\n",
    "\n",
    "fpr, tpr, _ = roc_curve(Y_test, xgb.predict_proba(X_test)[:,1])\n",
    "ROC_disp_xgb = RocCurveDisplay(fpr=fpr, tpr=tpr)\n",
    "ROC_disp_xgb.plot()\n",
    "\n",
    "auc_xgb = metrics.roc_auc_score(y_true=Y_test, y_score = xgb.predict_proba(X_test)[:,1])\n",
    "\n",
    "\n",
    "\n",
    "print(\n",
    "    \"\"\"\\\n",
    "Las métricas del modelo xgb son:\n",
    "        ⁃ Accuracy: \"\"\",round(accuracy_xgb,3),\"\"\"\n",
    "        ⁃ Precision: \"\"\",round(precission_xgb,3),\"\"\"\n",
    "        ⁃ Recall: \"\"\",round(recall_xgb,3),\"\"\"\n",
    "        ⁃ F-SCORE: \"\"\",round(f_score_xgb,3),\"\"\"\n",
    "        ⁃ Area bajo la curva: \"\"\",round(auc_xgb,3),\"\"\"\n",
    "        ⁃ Confusion Matrix y Curva ROC: : \\n\n",
    "\"\"\")\n",
    "plt.show()"
   ]
  },
  {
   "cell_type": "markdown",
   "id": "a64261c2",
   "metadata": {
    "id": "a64261c2"
   },
   "source": [
    "#### EJERCICIO 6:\n",
    "Cual de todas las métricas crees que es la más conveniente?. Ordena todos los métodos de mejor a peor según dichas métricas. (0,5pt)"
   ]
  },
  {
   "cell_type": "code",
   "execution_count": 52,
   "id": "tuoVsKGMfNiN",
   "metadata": {
    "colab": {
     "base_uri": "https://localhost:8080/",
     "height": 257
    },
    "executionInfo": {
     "elapsed": 84,
     "status": "ok",
     "timestamp": 1651994733507,
     "user": {
      "displayName": "Juan Sevilla Fern�ndez",
      "userId": "01090246479958160618"
     },
     "user_tz": -480
    },
    "id": "tuoVsKGMfNiN",
    "outputId": "ab408c9a-24fc-4970-9699-483f59f1ebf7"
   },
   "outputs": [
    {
     "data": {
      "text/html": [
       "\n",
       "  <div id=\"df-b6c90f81-6e7d-4aef-ac3a-37810b223ae6\">\n",
       "    <div class=\"colab-df-container\">\n",
       "      <div>\n",
       "<style scoped>\n",
       "    .dataframe tbody tr th:only-of-type {\n",
       "        vertical-align: middle;\n",
       "    }\n",
       "\n",
       "    .dataframe tbody tr th {\n",
       "        vertical-align: top;\n",
       "    }\n",
       "\n",
       "    .dataframe thead th {\n",
       "        text-align: right;\n",
       "    }\n",
       "</style>\n",
       "<table border=\"1\" class=\"dataframe\">\n",
       "  <thead>\n",
       "    <tr style=\"text-align: right;\">\n",
       "      <th></th>\n",
       "      <th>Model</th>\n",
       "      <th>Accuracy</th>\n",
       "      <th>Precission</th>\n",
       "      <th>Recall</th>\n",
       "      <th>F Score</th>\n",
       "      <th>AUC</th>\n",
       "    </tr>\n",
       "  </thead>\n",
       "  <tbody>\n",
       "    <tr>\n",
       "      <th>0</th>\n",
       "      <td>Logistic</td>\n",
       "      <td>0.787439</td>\n",
       "      <td>0.802129</td>\n",
       "      <td>0.966042</td>\n",
       "      <td>0.876488</td>\n",
       "      <td>0.730177</td>\n",
       "    </tr>\n",
       "    <tr>\n",
       "      <th>1</th>\n",
       "      <td>KNN</td>\n",
       "      <td>0.711305</td>\n",
       "      <td>0.781218</td>\n",
       "      <td>0.876032</td>\n",
       "      <td>0.825913</td>\n",
       "      <td>0.497894</td>\n",
       "    </tr>\n",
       "    <tr>\n",
       "      <th>2</th>\n",
       "      <td>Decission Tree</td>\n",
       "      <td>0.782498</td>\n",
       "      <td>0.801084</td>\n",
       "      <td>0.959713</td>\n",
       "      <td>0.873253</td>\n",
       "      <td>0.710243</td>\n",
       "    </tr>\n",
       "    <tr>\n",
       "      <th>3</th>\n",
       "      <td>Bagging Classifier</td>\n",
       "      <td>0.751399</td>\n",
       "      <td>0.806284</td>\n",
       "      <td>0.897113</td>\n",
       "      <td>0.849277</td>\n",
       "      <td>0.634298</td>\n",
       "    </tr>\n",
       "    <tr>\n",
       "      <th>4</th>\n",
       "      <td>Random Forest</td>\n",
       "      <td>0.787054</td>\n",
       "      <td>0.796745</td>\n",
       "      <td>0.976306</td>\n",
       "      <td>0.877434</td>\n",
       "      <td>0.718067</td>\n",
       "    </tr>\n",
       "    <tr>\n",
       "      <th>5</th>\n",
       "      <td>Gradient Boost</td>\n",
       "      <td>0.787439</td>\n",
       "      <td>0.797248</td>\n",
       "      <td>0.975930</td>\n",
       "      <td>0.877586</td>\n",
       "      <td>0.726362</td>\n",
       "    </tr>\n",
       "    <tr>\n",
       "      <th>6</th>\n",
       "      <td>XGBoost</td>\n",
       "      <td>0.782784</td>\n",
       "      <td>0.783972</td>\n",
       "      <td>0.996315</td>\n",
       "      <td>0.877480</td>\n",
       "      <td>0.702505</td>\n",
       "    </tr>\n",
       "  </tbody>\n",
       "</table>\n",
       "</div>\n",
       "      <button class=\"colab-df-convert\" onclick=\"convertToInteractive('df-b6c90f81-6e7d-4aef-ac3a-37810b223ae6')\"\n",
       "              title=\"Convert this dataframe to an interactive table.\"\n",
       "              style=\"display:none;\">\n",
       "        \n",
       "  <svg xmlns=\"http://www.w3.org/2000/svg\" height=\"24px\"viewBox=\"0 0 24 24\"\n",
       "       width=\"24px\">\n",
       "    <path d=\"M0 0h24v24H0V0z\" fill=\"none\"/>\n",
       "    <path d=\"M18.56 5.44l.94 2.06.94-2.06 2.06-.94-2.06-.94-.94-2.06-.94 2.06-2.06.94zm-11 1L8.5 8.5l.94-2.06 2.06-.94-2.06-.94L8.5 2.5l-.94 2.06-2.06.94zm10 10l.94 2.06.94-2.06 2.06-.94-2.06-.94-.94-2.06-.94 2.06-2.06.94z\"/><path d=\"M17.41 7.96l-1.37-1.37c-.4-.4-.92-.59-1.43-.59-.52 0-1.04.2-1.43.59L10.3 9.45l-7.72 7.72c-.78.78-.78 2.05 0 2.83L4 21.41c.39.39.9.59 1.41.59.51 0 1.02-.2 1.41-.59l7.78-7.78 2.81-2.81c.8-.78.8-2.07 0-2.86zM5.41 20L4 18.59l7.72-7.72 1.47 1.35L5.41 20z\"/>\n",
       "  </svg>\n",
       "      </button>\n",
       "      \n",
       "  <style>\n",
       "    .colab-df-container {\n",
       "      display:flex;\n",
       "      flex-wrap:wrap;\n",
       "      gap: 12px;\n",
       "    }\n",
       "\n",
       "    .colab-df-convert {\n",
       "      background-color: #E8F0FE;\n",
       "      border: none;\n",
       "      border-radius: 50%;\n",
       "      cursor: pointer;\n",
       "      display: none;\n",
       "      fill: #1967D2;\n",
       "      height: 32px;\n",
       "      padding: 0 0 0 0;\n",
       "      width: 32px;\n",
       "    }\n",
       "\n",
       "    .colab-df-convert:hover {\n",
       "      background-color: #E2EBFA;\n",
       "      box-shadow: 0px 1px 2px rgba(60, 64, 67, 0.3), 0px 1px 3px 1px rgba(60, 64, 67, 0.15);\n",
       "      fill: #174EA6;\n",
       "    }\n",
       "\n",
       "    [theme=dark] .colab-df-convert {\n",
       "      background-color: #3B4455;\n",
       "      fill: #D2E3FC;\n",
       "    }\n",
       "\n",
       "    [theme=dark] .colab-df-convert:hover {\n",
       "      background-color: #434B5C;\n",
       "      box-shadow: 0px 1px 3px 1px rgba(0, 0, 0, 0.15);\n",
       "      filter: drop-shadow(0px 1px 2px rgba(0, 0, 0, 0.3));\n",
       "      fill: #FFFFFF;\n",
       "    }\n",
       "  </style>\n",
       "\n",
       "      <script>\n",
       "        const buttonEl =\n",
       "          document.querySelector('#df-b6c90f81-6e7d-4aef-ac3a-37810b223ae6 button.colab-df-convert');\n",
       "        buttonEl.style.display =\n",
       "          google.colab.kernel.accessAllowed ? 'block' : 'none';\n",
       "\n",
       "        async function convertToInteractive(key) {\n",
       "          const element = document.querySelector('#df-b6c90f81-6e7d-4aef-ac3a-37810b223ae6');\n",
       "          const dataTable =\n",
       "            await google.colab.kernel.invokeFunction('convertToInteractive',\n",
       "                                                     [key], {});\n",
       "          if (!dataTable) return;\n",
       "\n",
       "          const docLinkHtml = 'Like what you see? Visit the ' +\n",
       "            '<a target=\"_blank\" href=https://colab.research.google.com/notebooks/data_table.ipynb>data table notebook</a>'\n",
       "            + ' to learn more about interactive tables.';\n",
       "          element.innerHTML = '';\n",
       "          dataTable['output_type'] = 'display_data';\n",
       "          await google.colab.output.renderOutput(dataTable, element);\n",
       "          const docLink = document.createElement('div');\n",
       "          docLink.innerHTML = docLinkHtml;\n",
       "          element.appendChild(docLink);\n",
       "        }\n",
       "      </script>\n",
       "    </div>\n",
       "  </div>\n",
       "  "
      ],
      "text/plain": [
       "                Model  Accuracy  Precission    Recall   F Score       AUC\n",
       "0            Logistic  0.787439    0.802129  0.966042  0.876488  0.730177\n",
       "1                 KNN  0.711305    0.781218  0.876032  0.825913  0.497894\n",
       "2      Decission Tree  0.782498    0.801084  0.959713  0.873253  0.710243\n",
       "3  Bagging Classifier  0.751399    0.806284  0.897113  0.849277  0.634298\n",
       "4       Random Forest  0.787054    0.796745  0.976306  0.877434  0.718067\n",
       "5      Gradient Boost  0.787439    0.797248  0.975930  0.877586  0.726362\n",
       "6             XGBoost  0.782784    0.783972  0.996315  0.877480  0.702505"
      ]
     },
     "execution_count": 52,
     "metadata": {},
     "output_type": "execute_result"
    }
   ],
   "source": [
    "# initialize list of lists\n",
    "results = [['Logistic', accuracy_logit, precission_logit, recall_logit, f_score_logit, auc_logit],\n",
    "           ['KNN', accuracy_knn, precission_knn, recall_knn, f_score_knn, auc_knn],\n",
    "           ['Decission Tree', accuracy_tree, precission_tree, recall_tree, f_score_tree, auc_tree],\n",
    "           ['Bagging Classifier', accuracy_bagging, precission_bagging, recall_bagging, f_score_bagging, auc_bagging],\n",
    "           ['Random Forest', accuracy_forest, precission_forest, recall_forest, f_score_forest, auc_forest],\n",
    "           ['Gradient Boost', accuracy_gradient, precission_gradient, recall_gradient, f_score_gradient, auc_gradient],\n",
    "           ['XGBoost', accuracy_xgb, precission_xgb, recall_xgb, f_score_xgb, auc_xgb]]\n",
    " \n",
    "\n",
    "results_df = pd.DataFrame(results, columns = ['Model', 'Accuracy', 'Precission', 'Recall','F Score', 'AUC']) \n",
    "results_df"
   ]
  },
  {
   "cell_type": "markdown",
   "id": "_oDdottcuO2q",
   "metadata": {
    "id": "_oDdottcuO2q"
   },
   "source": [
    "The results show that all of the proposed classifying models have similar results across the different metrics. We have excluded KNN as it was the most computing demanding model without even producing the best results. The results provided with the KNN are taken from a subset of data to allow my computer to handle it. This is also why it shows a much lower score across the board than any other.\n",
    "\n",
    "The model with the highest precission was the bagging classifier, the one with the highest recall was XGBoost and the one with the highest F score was the gradient boost classifier.\n",
    "\n",
    "However, in terms of Accuracy and AUC, the logistic model has scored the best result. The simplest model has had the higest score in two of the most important metrics. This shows that no matter how the data is used to train the models, its predicting capability to forecast impairment is limited by nature and not by the predicitng model used."
   ]
  },
  {
   "cell_type": "markdown",
   "id": "581242fc",
   "metadata": {
    "id": "581242fc"
   },
   "source": [
    "#### EJERCICIO 7:\n",
    "En esta práctica no hemos abordado todavía la importancia de hacer una correcta preselección y transformación de variables antes de entrenar un modelo. Sin embargo , los ensambladores nos pueden dar una buena pista, de que variables elegir a la hora de entrenar un modelo de clasificación o regresión.  ¿Cómo medirías que importancia tiene cada variable a la hora de clasificar correctamente la variable objetivo? Haciendo uso de alguno de los métodos propuestos, Muestra una gráfica que presente de forma ordenada la importancia que tiene cada variable en la clasificación (0,5pt)"
   ]
  },
  {
   "cell_type": "code",
   "execution_count": 78,
   "id": "012f4cb3",
   "metadata": {
    "colab": {
     "base_uri": "https://localhost:8080/"
    },
    "executionInfo": {
     "elapsed": 307,
     "status": "ok",
     "timestamp": 1651996869674,
     "user": {
      "displayName": "Juan Sevilla Fern�ndez",
      "userId": "01090246479958160618"
     },
     "user_tz": -480
    },
    "id": "012f4cb3",
    "outputId": "11ea4cf2-7461-415a-a0b4-3e4c2b274124"
   },
   "outputs": [
    {
     "data": {
      "text/plain": [
       "array([0.53862744, 0.61531629, 0.6831681 , 0.72691423, 0.75601155,\n",
       "       0.77695091, 0.79680652, 0.81281136, 0.82758858, 0.84129493,\n",
       "       0.85298411, 0.8645139 , 0.87510146, 0.88561637, 0.8955637 ,\n",
       "       0.9053376 , 0.91431009, 0.92244311, 0.93014369, 0.93734887,\n",
       "       0.9420035 , 0.94590291, 0.94934915, 0.95277466])"
      ]
     },
     "execution_count": 78,
     "metadata": {},
     "output_type": "execute_result"
    }
   ],
   "source": [
    "tree_features = [(a,b) for a,b in zip(X_train.columns, tree.feature_importances_)]\n",
    "tree_features = sorted(tree_features, key= lambda c:c[1], reverse=True)\n",
    "np.cumsum([b for a,b in tree_features[:24]])"
   ]
  },
  {
   "cell_type": "markdown",
   "id": "pRKwq5oIqeI1",
   "metadata": {
    "id": "pRKwq5oIqeI1"
   },
   "source": [
    "In the case of out decission tree model, by only keeping the first 24 featuers we already have 95% of the importance covered by the feaures. In other words, the remaining variables add little to no predicting power to our model."
   ]
  },
  {
   "cell_type": "code",
   "execution_count": 77,
   "id": "0wWkZ9qkoFeU",
   "metadata": {
    "colab": {
     "base_uri": "https://localhost:8080/",
     "height": 542
    },
    "executionInfo": {
     "elapsed": 827,
     "status": "ok",
     "timestamp": 1651996823186,
     "user": {
      "displayName": "Juan Sevilla Fern�ndez",
      "userId": "01090246479958160618"
     },
     "user_tz": -480
    },
    "id": "0wWkZ9qkoFeU",
    "outputId": "4c5bb6c5-d45a-4882-eaef-db1a773f9ee3"
   },
   "outputs": [
    {
     "data": {
      "text/html": [
       "<html>\n",
       "<head><meta charset=\"utf-8\" /></head>\n",
       "<body>\n",
       "    <div>            <script src=\"https://cdnjs.cloudflare.com/ajax/libs/mathjax/2.7.5/MathJax.js?config=TeX-AMS-MML_SVG\"></script><script type=\"text/javascript\">if (window.MathJax) {MathJax.Hub.Config({SVG: {font: \"STIX-Web\"}});}</script>                <script type=\"text/javascript\">window.PlotlyConfig = {MathJaxConfig: 'local'};</script>\n",
       "        <script src=\"https://cdn.plot.ly/plotly-2.8.3.min.js\"></script>                <div id=\"42086543-e848-41b5-aeb0-4a418f9ec5ef\" class=\"plotly-graph-div\" style=\"height:525px; width:100%;\"></div>            <script type=\"text/javascript\">                                    window.PLOTLYENV=window.PLOTLYENV || {};                                    if (document.getElementById(\"42086543-e848-41b5-aeb0-4a418f9ec5ef\")) {                    Plotly.newPlot(                        \"42086543-e848-41b5-aeb0-4a418f9ec5ef\",                        [{\"alignmentgroup\":\"True\",\"hovertemplate\":\"x=%{x}<br>y=%{y}<extra></extra>\",\"legendgroup\":\"\",\"marker\":{\"color\":\"#636efa\",\"pattern\":{\"shape\":\"\"}},\"name\":\"\",\"offsetgroup\":\"\",\"orientation\":\"v\",\"showlegend\":false,\"textposition\":\"auto\",\"x\":[\"grade\",\"term\",\"dti\",\"mort_acc\",\"int_rate\",\"annual_inc\",\"home_ownership_RENT\",\"mo_sin_old_rev_tl_op\",\"sub_grade\",\"installment\",\"fico_range_high\",\"max_bal_bc\",\"mo_sin_old_il_acct\",\"revol_util\",\"emp_title_SIN TITULO\",\"fico_range_low\",\"loan_amnt\",\"open_acc\",\"mths_since_rcnt_il\",\"total_acc\",\"earliest_cr_line_year\",\"home_ownership_MORTGAGE\",\"earliest_cr_line_month\",\"mths_since_last_delinq\"],\"xaxis\":\"x\",\"y\":[0.5386274353668639,0.07668885901145991,0.06785180685497014,0.043746125671880846,0.029097319981680112,0.02093936628840658,0.019855610360871825,0.01600483161371561,0.014777225380378387,0.013706350939537563,0.011689177368961546,0.011529792737195172,0.010587559455745663,0.010514904743084965,0.00994733412757643,0.009773897417051479,0.008972489241171925,0.008133019384480617,0.007700586231701548,0.0072051796500469225,0.004654627699577812,0.003899407201596895,0.0034462458725284676,0.003425511311320577],\"yaxis\":\"y\",\"type\":\"bar\"}],                        {\"template\":{\"data\":{\"bar\":[{\"error_x\":{\"color\":\"#2a3f5f\"},\"error_y\":{\"color\":\"#2a3f5f\"},\"marker\":{\"line\":{\"color\":\"#E5ECF6\",\"width\":0.5},\"pattern\":{\"fillmode\":\"overlay\",\"size\":10,\"solidity\":0.2}},\"type\":\"bar\"}],\"barpolar\":[{\"marker\":{\"line\":{\"color\":\"#E5ECF6\",\"width\":0.5},\"pattern\":{\"fillmode\":\"overlay\",\"size\":10,\"solidity\":0.2}},\"type\":\"barpolar\"}],\"carpet\":[{\"aaxis\":{\"endlinecolor\":\"#2a3f5f\",\"gridcolor\":\"white\",\"linecolor\":\"white\",\"minorgridcolor\":\"white\",\"startlinecolor\":\"#2a3f5f\"},\"baxis\":{\"endlinecolor\":\"#2a3f5f\",\"gridcolor\":\"white\",\"linecolor\":\"white\",\"minorgridcolor\":\"white\",\"startlinecolor\":\"#2a3f5f\"},\"type\":\"carpet\"}],\"choropleth\":[{\"colorbar\":{\"outlinewidth\":0,\"ticks\":\"\"},\"type\":\"choropleth\"}],\"contour\":[{\"colorbar\":{\"outlinewidth\":0,\"ticks\":\"\"},\"colorscale\":[[0.0,\"#0d0887\"],[0.1111111111111111,\"#46039f\"],[0.2222222222222222,\"#7201a8\"],[0.3333333333333333,\"#9c179e\"],[0.4444444444444444,\"#bd3786\"],[0.5555555555555556,\"#d8576b\"],[0.6666666666666666,\"#ed7953\"],[0.7777777777777778,\"#fb9f3a\"],[0.8888888888888888,\"#fdca26\"],[1.0,\"#f0f921\"]],\"type\":\"contour\"}],\"contourcarpet\":[{\"colorbar\":{\"outlinewidth\":0,\"ticks\":\"\"},\"type\":\"contourcarpet\"}],\"heatmap\":[{\"colorbar\":{\"outlinewidth\":0,\"ticks\":\"\"},\"colorscale\":[[0.0,\"#0d0887\"],[0.1111111111111111,\"#46039f\"],[0.2222222222222222,\"#7201a8\"],[0.3333333333333333,\"#9c179e\"],[0.4444444444444444,\"#bd3786\"],[0.5555555555555556,\"#d8576b\"],[0.6666666666666666,\"#ed7953\"],[0.7777777777777778,\"#fb9f3a\"],[0.8888888888888888,\"#fdca26\"],[1.0,\"#f0f921\"]],\"type\":\"heatmap\"}],\"heatmapgl\":[{\"colorbar\":{\"outlinewidth\":0,\"ticks\":\"\"},\"colorscale\":[[0.0,\"#0d0887\"],[0.1111111111111111,\"#46039f\"],[0.2222222222222222,\"#7201a8\"],[0.3333333333333333,\"#9c179e\"],[0.4444444444444444,\"#bd3786\"],[0.5555555555555556,\"#d8576b\"],[0.6666666666666666,\"#ed7953\"],[0.7777777777777778,\"#fb9f3a\"],[0.8888888888888888,\"#fdca26\"],[1.0,\"#f0f921\"]],\"type\":\"heatmapgl\"}],\"histogram\":[{\"marker\":{\"pattern\":{\"fillmode\":\"overlay\",\"size\":10,\"solidity\":0.2}},\"type\":\"histogram\"}],\"histogram2d\":[{\"colorbar\":{\"outlinewidth\":0,\"ticks\":\"\"},\"colorscale\":[[0.0,\"#0d0887\"],[0.1111111111111111,\"#46039f\"],[0.2222222222222222,\"#7201a8\"],[0.3333333333333333,\"#9c179e\"],[0.4444444444444444,\"#bd3786\"],[0.5555555555555556,\"#d8576b\"],[0.6666666666666666,\"#ed7953\"],[0.7777777777777778,\"#fb9f3a\"],[0.8888888888888888,\"#fdca26\"],[1.0,\"#f0f921\"]],\"type\":\"histogram2d\"}],\"histogram2dcontour\":[{\"colorbar\":{\"outlinewidth\":0,\"ticks\":\"\"},\"colorscale\":[[0.0,\"#0d0887\"],[0.1111111111111111,\"#46039f\"],[0.2222222222222222,\"#7201a8\"],[0.3333333333333333,\"#9c179e\"],[0.4444444444444444,\"#bd3786\"],[0.5555555555555556,\"#d8576b\"],[0.6666666666666666,\"#ed7953\"],[0.7777777777777778,\"#fb9f3a\"],[0.8888888888888888,\"#fdca26\"],[1.0,\"#f0f921\"]],\"type\":\"histogram2dcontour\"}],\"mesh3d\":[{\"colorbar\":{\"outlinewidth\":0,\"ticks\":\"\"},\"type\":\"mesh3d\"}],\"parcoords\":[{\"line\":{\"colorbar\":{\"outlinewidth\":0,\"ticks\":\"\"}},\"type\":\"parcoords\"}],\"pie\":[{\"automargin\":true,\"type\":\"pie\"}],\"scatter\":[{\"marker\":{\"colorbar\":{\"outlinewidth\":0,\"ticks\":\"\"}},\"type\":\"scatter\"}],\"scatter3d\":[{\"line\":{\"colorbar\":{\"outlinewidth\":0,\"ticks\":\"\"}},\"marker\":{\"colorbar\":{\"outlinewidth\":0,\"ticks\":\"\"}},\"type\":\"scatter3d\"}],\"scattercarpet\":[{\"marker\":{\"colorbar\":{\"outlinewidth\":0,\"ticks\":\"\"}},\"type\":\"scattercarpet\"}],\"scattergeo\":[{\"marker\":{\"colorbar\":{\"outlinewidth\":0,\"ticks\":\"\"}},\"type\":\"scattergeo\"}],\"scattergl\":[{\"marker\":{\"colorbar\":{\"outlinewidth\":0,\"ticks\":\"\"}},\"type\":\"scattergl\"}],\"scattermapbox\":[{\"marker\":{\"colorbar\":{\"outlinewidth\":0,\"ticks\":\"\"}},\"type\":\"scattermapbox\"}],\"scatterpolar\":[{\"marker\":{\"colorbar\":{\"outlinewidth\":0,\"ticks\":\"\"}},\"type\":\"scatterpolar\"}],\"scatterpolargl\":[{\"marker\":{\"colorbar\":{\"outlinewidth\":0,\"ticks\":\"\"}},\"type\":\"scatterpolargl\"}],\"scatterternary\":[{\"marker\":{\"colorbar\":{\"outlinewidth\":0,\"ticks\":\"\"}},\"type\":\"scatterternary\"}],\"surface\":[{\"colorbar\":{\"outlinewidth\":0,\"ticks\":\"\"},\"colorscale\":[[0.0,\"#0d0887\"],[0.1111111111111111,\"#46039f\"],[0.2222222222222222,\"#7201a8\"],[0.3333333333333333,\"#9c179e\"],[0.4444444444444444,\"#bd3786\"],[0.5555555555555556,\"#d8576b\"],[0.6666666666666666,\"#ed7953\"],[0.7777777777777778,\"#fb9f3a\"],[0.8888888888888888,\"#fdca26\"],[1.0,\"#f0f921\"]],\"type\":\"surface\"}],\"table\":[{\"cells\":{\"fill\":{\"color\":\"#EBF0F8\"},\"line\":{\"color\":\"white\"}},\"header\":{\"fill\":{\"color\":\"#C8D4E3\"},\"line\":{\"color\":\"white\"}},\"type\":\"table\"}]},\"layout\":{\"annotationdefaults\":{\"arrowcolor\":\"#2a3f5f\",\"arrowhead\":0,\"arrowwidth\":1},\"autotypenumbers\":\"strict\",\"coloraxis\":{\"colorbar\":{\"outlinewidth\":0,\"ticks\":\"\"}},\"colorscale\":{\"diverging\":[[0,\"#8e0152\"],[0.1,\"#c51b7d\"],[0.2,\"#de77ae\"],[0.3,\"#f1b6da\"],[0.4,\"#fde0ef\"],[0.5,\"#f7f7f7\"],[0.6,\"#e6f5d0\"],[0.7,\"#b8e186\"],[0.8,\"#7fbc41\"],[0.9,\"#4d9221\"],[1,\"#276419\"]],\"sequential\":[[0.0,\"#0d0887\"],[0.1111111111111111,\"#46039f\"],[0.2222222222222222,\"#7201a8\"],[0.3333333333333333,\"#9c179e\"],[0.4444444444444444,\"#bd3786\"],[0.5555555555555556,\"#d8576b\"],[0.6666666666666666,\"#ed7953\"],[0.7777777777777778,\"#fb9f3a\"],[0.8888888888888888,\"#fdca26\"],[1.0,\"#f0f921\"]],\"sequentialminus\":[[0.0,\"#0d0887\"],[0.1111111111111111,\"#46039f\"],[0.2222222222222222,\"#7201a8\"],[0.3333333333333333,\"#9c179e\"],[0.4444444444444444,\"#bd3786\"],[0.5555555555555556,\"#d8576b\"],[0.6666666666666666,\"#ed7953\"],[0.7777777777777778,\"#fb9f3a\"],[0.8888888888888888,\"#fdca26\"],[1.0,\"#f0f921\"]]},\"colorway\":[\"#636efa\",\"#EF553B\",\"#00cc96\",\"#ab63fa\",\"#FFA15A\",\"#19d3f3\",\"#FF6692\",\"#B6E880\",\"#FF97FF\",\"#FECB52\"],\"font\":{\"color\":\"#2a3f5f\"},\"geo\":{\"bgcolor\":\"white\",\"lakecolor\":\"white\",\"landcolor\":\"#E5ECF6\",\"showlakes\":true,\"showland\":true,\"subunitcolor\":\"white\"},\"hoverlabel\":{\"align\":\"left\"},\"hovermode\":\"closest\",\"mapbox\":{\"style\":\"light\"},\"paper_bgcolor\":\"white\",\"plot_bgcolor\":\"#E5ECF6\",\"polar\":{\"angularaxis\":{\"gridcolor\":\"white\",\"linecolor\":\"white\",\"ticks\":\"\"},\"bgcolor\":\"#E5ECF6\",\"radialaxis\":{\"gridcolor\":\"white\",\"linecolor\":\"white\",\"ticks\":\"\"}},\"scene\":{\"xaxis\":{\"backgroundcolor\":\"#E5ECF6\",\"gridcolor\":\"white\",\"gridwidth\":2,\"linecolor\":\"white\",\"showbackground\":true,\"ticks\":\"\",\"zerolinecolor\":\"white\"},\"yaxis\":{\"backgroundcolor\":\"#E5ECF6\",\"gridcolor\":\"white\",\"gridwidth\":2,\"linecolor\":\"white\",\"showbackground\":true,\"ticks\":\"\",\"zerolinecolor\":\"white\"},\"zaxis\":{\"backgroundcolor\":\"#E5ECF6\",\"gridcolor\":\"white\",\"gridwidth\":2,\"linecolor\":\"white\",\"showbackground\":true,\"ticks\":\"\",\"zerolinecolor\":\"white\"}},\"shapedefaults\":{\"line\":{\"color\":\"#2a3f5f\"}},\"ternary\":{\"aaxis\":{\"gridcolor\":\"white\",\"linecolor\":\"white\",\"ticks\":\"\"},\"baxis\":{\"gridcolor\":\"white\",\"linecolor\":\"white\",\"ticks\":\"\"},\"bgcolor\":\"#E5ECF6\",\"caxis\":{\"gridcolor\":\"white\",\"linecolor\":\"white\",\"ticks\":\"\"}},\"title\":{\"x\":0.05},\"xaxis\":{\"automargin\":true,\"gridcolor\":\"white\",\"linecolor\":\"white\",\"ticks\":\"\",\"title\":{\"standoff\":15},\"zerolinecolor\":\"white\",\"zerolinewidth\":2},\"yaxis\":{\"automargin\":true,\"gridcolor\":\"white\",\"linecolor\":\"white\",\"ticks\":\"\",\"title\":{\"standoff\":15},\"zerolinecolor\":\"white\",\"zerolinewidth\":2}}},\"xaxis\":{\"anchor\":\"y\",\"domain\":[0.0,1.0],\"title\":{\"text\":\"x\"}},\"yaxis\":{\"anchor\":\"x\",\"domain\":[0.0,1.0],\"title\":{\"text\":\"y\"}},\"legend\":{\"tracegroupgap\":0},\"margin\":{\"t\":60},\"barmode\":\"relative\"},                        {\"responsive\": true}                    ).then(function(){\n",
       "                            \n",
       "var gd = document.getElementById('42086543-e848-41b5-aeb0-4a418f9ec5ef');\n",
       "var x = new MutationObserver(function (mutations, observer) {{\n",
       "        var display = window.getComputedStyle(gd).display;\n",
       "        if (!display || display === 'none') {{\n",
       "            console.log([gd, 'removed!']);\n",
       "            Plotly.purge(gd);\n",
       "            observer.disconnect();\n",
       "        }}\n",
       "}});\n",
       "\n",
       "// Listen for the removal of the full notebook cells\n",
       "var notebookContainer = gd.closest('#notebook-container');\n",
       "if (notebookContainer) {{\n",
       "    x.observe(notebookContainer, {childList: true});\n",
       "}}\n",
       "\n",
       "// Listen for the clearing of the current output cell\n",
       "var outputEl = gd.closest('.output');\n",
       "if (outputEl) {{\n",
       "    x.observe(outputEl, {childList: true});\n",
       "}}\n",
       "\n",
       "                        })                };                            </script>        </div>\n",
       "</body>\n",
       "</html>"
      ]
     },
     "metadata": {},
     "output_type": "display_data"
    }
   ],
   "source": [
    "import plotly.express as px\n",
    "fig = px.bar(x=[a for a,b in tree_features[:24]], y=[b for a,b in tree_features[:24]])\n",
    "fig.show()"
   ]
  },
  {
   "cell_type": "markdown",
   "id": "YYR6J_-stG22",
   "metadata": {
    "id": "YYR6J_-stG22"
   },
   "source": [
    "The most important feature in the decission tree classifier is the investment grade attributed to each loan. it has an importenace of over 50% just by itself with the next feature being the term to maturity having less than a 10% importance for the model."
   ]
  },
  {
   "cell_type": "code",
   "execution_count": 84,
   "id": "kooQWCgssStd",
   "metadata": {
    "colab": {
     "base_uri": "https://localhost:8080/"
    },
    "executionInfo": {
     "elapsed": 753,
     "status": "ok",
     "timestamp": 1651997419962,
     "user": {
      "displayName": "Juan Sevilla Fern�ndez",
      "userId": "01090246479958160618"
     },
     "user_tz": -480
    },
    "id": "kooQWCgssStd",
    "outputId": "25c6f356-fa04-4751-d40c-3f158ab03653"
   },
   "outputs": [
    {
     "data": {
      "text/plain": [
       "array([0.05585607, 0.10789463, 0.15210578, 0.19612469, 0.23997038,\n",
       "       0.28371937, 0.32645125, 0.3649137 , 0.40280957, 0.43633782,\n",
       "       0.46950316, 0.50263474, 0.53203685, 0.56035964, 0.58847892,\n",
       "       0.61574712, 0.63890515, 0.66015647, 0.68041852, 0.69949788,\n",
       "       0.71836147, 0.73634261, 0.75405398, 0.76680811, 0.7739589 ,\n",
       "       0.78103291, 0.78807941, 0.79504757, 0.80182561, 0.80788774,\n",
       "       0.81379635, 0.81966591, 0.82534166, 0.83096495, 0.83630643])"
      ]
     },
     "execution_count": 84,
     "metadata": {},
     "output_type": "execute_result"
    }
   ],
   "source": [
    "forest_features = [(a,b) for a,b in zip(X_train.columns, forest.feature_importances_)]\n",
    "forest_features = sorted(forest_features, key= lambda c:c[1], reverse=True)\n",
    "np.cumsum([b for a,b in forest_features[:35]])"
   ]
  },
  {
   "cell_type": "code",
   "execution_count": 85,
   "id": "ysDRI3FvsudD",
   "metadata": {
    "colab": {
     "base_uri": "https://localhost:8080/",
     "height": 542
    },
    "executionInfo": {
     "elapsed": 13,
     "status": "ok",
     "timestamp": 1651997424792,
     "user": {
      "displayName": "Juan Sevilla Fern�ndez",
      "userId": "01090246479958160618"
     },
     "user_tz": -480
    },
    "id": "ysDRI3FvsudD",
    "outputId": "8f1edb2b-ddcc-4978-8170-01c14a1909ac"
   },
   "outputs": [
    {
     "data": {
      "text/html": [
       "<html>\n",
       "<head><meta charset=\"utf-8\" /></head>\n",
       "<body>\n",
       "    <div>            <script src=\"https://cdnjs.cloudflare.com/ajax/libs/mathjax/2.7.5/MathJax.js?config=TeX-AMS-MML_SVG\"></script><script type=\"text/javascript\">if (window.MathJax) {MathJax.Hub.Config({SVG: {font: \"STIX-Web\"}});}</script>                <script type=\"text/javascript\">window.PlotlyConfig = {MathJaxConfig: 'local'};</script>\n",
       "        <script src=\"https://cdn.plot.ly/plotly-2.8.3.min.js\"></script>                <div id=\"a01b7958-6dfa-4a98-aea1-dd61292e52d0\" class=\"plotly-graph-div\" style=\"height:525px; width:100%;\"></div>            <script type=\"text/javascript\">                                    window.PLOTLYENV=window.PLOTLYENV || {};                                    if (document.getElementById(\"a01b7958-6dfa-4a98-aea1-dd61292e52d0\")) {                    Plotly.newPlot(                        \"a01b7958-6dfa-4a98-aea1-dd61292e52d0\",                        [{\"alignmentgroup\":\"True\",\"hovertemplate\":\"x=%{x}<br>y=%{y}<extra></extra>\",\"legendgroup\":\"\",\"marker\":{\"color\":\"#636efa\",\"pattern\":{\"shape\":\"\"}},\"name\":\"\",\"offsetgroup\":\"\",\"orientation\":\"v\",\"showlegend\":false,\"textposition\":\"auto\",\"x\":[\"int_rate\",\"dti\",\"revol_util\",\"installment\",\"mo_sin_old_rev_tl_op\",\"annual_inc\",\"mo_sin_old_il_acct\",\"loan_amnt\",\"total_acc\",\"open_acc\",\"earliest_cr_line_year\",\"grade\",\"earliest_cr_line_month\",\"fico_range_high\",\"fico_range_low\",\"mths_since_last_delinq\",\"emp_length\",\"mths_since_recent_revol_delinq\",\"mths_since_last_major_derog\",\"mort_acc\",\"sub_grade\",\"term\",\"mths_since_recent_bc_dlq\",\"mths_since_last_record\",\"purpose_debt_consolidation\",\"initial_list_status_w\",\"initial_list_status_f\",\"emp_title_Other\",\"pub_rec\",\"verification_status_Source Verified\",\"verification_status_Verified\",\"addr_state_CA\",\"verification_status_Not Verified\",\"purpose_credit_card\",\"home_ownership_RENT\"],\"xaxis\":\"x\",\"y\":[0.05585606745629156,0.05203855852829683,0.04421115391763697,0.044018912294448195,0.04384569253069034,0.0437489863312066,0.042731879345425786,0.03846244639879719,0.03789587546498787,0.03352824650995329,0.03316534137050201,0.03313157926352987,0.029402108688848475,0.028322790220949565,0.02811928270142319,0.027268196144360195,0.02315803762908589,0.021251310653658605,0.020262059079509922,0.01907935339524823,0.01886359415939749,0.01798114239916394,0.017711361732589723,0.012754129908707957,0.007150790257547212,0.007074010431866902,0.007046501084078906,0.0069681631578003105,0.006778043293431125,0.006062126338007739,0.005908612484631519,0.0058695613967775385,0.005675747585186416,0.0056232899214296046,0.00534148057587607],\"yaxis\":\"y\",\"type\":\"bar\"}],                        {\"template\":{\"data\":{\"bar\":[{\"error_x\":{\"color\":\"#2a3f5f\"},\"error_y\":{\"color\":\"#2a3f5f\"},\"marker\":{\"line\":{\"color\":\"#E5ECF6\",\"width\":0.5},\"pattern\":{\"fillmode\":\"overlay\",\"size\":10,\"solidity\":0.2}},\"type\":\"bar\"}],\"barpolar\":[{\"marker\":{\"line\":{\"color\":\"#E5ECF6\",\"width\":0.5},\"pattern\":{\"fillmode\":\"overlay\",\"size\":10,\"solidity\":0.2}},\"type\":\"barpolar\"}],\"carpet\":[{\"aaxis\":{\"endlinecolor\":\"#2a3f5f\",\"gridcolor\":\"white\",\"linecolor\":\"white\",\"minorgridcolor\":\"white\",\"startlinecolor\":\"#2a3f5f\"},\"baxis\":{\"endlinecolor\":\"#2a3f5f\",\"gridcolor\":\"white\",\"linecolor\":\"white\",\"minorgridcolor\":\"white\",\"startlinecolor\":\"#2a3f5f\"},\"type\":\"carpet\"}],\"choropleth\":[{\"colorbar\":{\"outlinewidth\":0,\"ticks\":\"\"},\"type\":\"choropleth\"}],\"contour\":[{\"colorbar\":{\"outlinewidth\":0,\"ticks\":\"\"},\"colorscale\":[[0.0,\"#0d0887\"],[0.1111111111111111,\"#46039f\"],[0.2222222222222222,\"#7201a8\"],[0.3333333333333333,\"#9c179e\"],[0.4444444444444444,\"#bd3786\"],[0.5555555555555556,\"#d8576b\"],[0.6666666666666666,\"#ed7953\"],[0.7777777777777778,\"#fb9f3a\"],[0.8888888888888888,\"#fdca26\"],[1.0,\"#f0f921\"]],\"type\":\"contour\"}],\"contourcarpet\":[{\"colorbar\":{\"outlinewidth\":0,\"ticks\":\"\"},\"type\":\"contourcarpet\"}],\"heatmap\":[{\"colorbar\":{\"outlinewidth\":0,\"ticks\":\"\"},\"colorscale\":[[0.0,\"#0d0887\"],[0.1111111111111111,\"#46039f\"],[0.2222222222222222,\"#7201a8\"],[0.3333333333333333,\"#9c179e\"],[0.4444444444444444,\"#bd3786\"],[0.5555555555555556,\"#d8576b\"],[0.6666666666666666,\"#ed7953\"],[0.7777777777777778,\"#fb9f3a\"],[0.8888888888888888,\"#fdca26\"],[1.0,\"#f0f921\"]],\"type\":\"heatmap\"}],\"heatmapgl\":[{\"colorbar\":{\"outlinewidth\":0,\"ticks\":\"\"},\"colorscale\":[[0.0,\"#0d0887\"],[0.1111111111111111,\"#46039f\"],[0.2222222222222222,\"#7201a8\"],[0.3333333333333333,\"#9c179e\"],[0.4444444444444444,\"#bd3786\"],[0.5555555555555556,\"#d8576b\"],[0.6666666666666666,\"#ed7953\"],[0.7777777777777778,\"#fb9f3a\"],[0.8888888888888888,\"#fdca26\"],[1.0,\"#f0f921\"]],\"type\":\"heatmapgl\"}],\"histogram\":[{\"marker\":{\"pattern\":{\"fillmode\":\"overlay\",\"size\":10,\"solidity\":0.2}},\"type\":\"histogram\"}],\"histogram2d\":[{\"colorbar\":{\"outlinewidth\":0,\"ticks\":\"\"},\"colorscale\":[[0.0,\"#0d0887\"],[0.1111111111111111,\"#46039f\"],[0.2222222222222222,\"#7201a8\"],[0.3333333333333333,\"#9c179e\"],[0.4444444444444444,\"#bd3786\"],[0.5555555555555556,\"#d8576b\"],[0.6666666666666666,\"#ed7953\"],[0.7777777777777778,\"#fb9f3a\"],[0.8888888888888888,\"#fdca26\"],[1.0,\"#f0f921\"]],\"type\":\"histogram2d\"}],\"histogram2dcontour\":[{\"colorbar\":{\"outlinewidth\":0,\"ticks\":\"\"},\"colorscale\":[[0.0,\"#0d0887\"],[0.1111111111111111,\"#46039f\"],[0.2222222222222222,\"#7201a8\"],[0.3333333333333333,\"#9c179e\"],[0.4444444444444444,\"#bd3786\"],[0.5555555555555556,\"#d8576b\"],[0.6666666666666666,\"#ed7953\"],[0.7777777777777778,\"#fb9f3a\"],[0.8888888888888888,\"#fdca26\"],[1.0,\"#f0f921\"]],\"type\":\"histogram2dcontour\"}],\"mesh3d\":[{\"colorbar\":{\"outlinewidth\":0,\"ticks\":\"\"},\"type\":\"mesh3d\"}],\"parcoords\":[{\"line\":{\"colorbar\":{\"outlinewidth\":0,\"ticks\":\"\"}},\"type\":\"parcoords\"}],\"pie\":[{\"automargin\":true,\"type\":\"pie\"}],\"scatter\":[{\"marker\":{\"colorbar\":{\"outlinewidth\":0,\"ticks\":\"\"}},\"type\":\"scatter\"}],\"scatter3d\":[{\"line\":{\"colorbar\":{\"outlinewidth\":0,\"ticks\":\"\"}},\"marker\":{\"colorbar\":{\"outlinewidth\":0,\"ticks\":\"\"}},\"type\":\"scatter3d\"}],\"scattercarpet\":[{\"marker\":{\"colorbar\":{\"outlinewidth\":0,\"ticks\":\"\"}},\"type\":\"scattercarpet\"}],\"scattergeo\":[{\"marker\":{\"colorbar\":{\"outlinewidth\":0,\"ticks\":\"\"}},\"type\":\"scattergeo\"}],\"scattergl\":[{\"marker\":{\"colorbar\":{\"outlinewidth\":0,\"ticks\":\"\"}},\"type\":\"scattergl\"}],\"scattermapbox\":[{\"marker\":{\"colorbar\":{\"outlinewidth\":0,\"ticks\":\"\"}},\"type\":\"scattermapbox\"}],\"scatterpolar\":[{\"marker\":{\"colorbar\":{\"outlinewidth\":0,\"ticks\":\"\"}},\"type\":\"scatterpolar\"}],\"scatterpolargl\":[{\"marker\":{\"colorbar\":{\"outlinewidth\":0,\"ticks\":\"\"}},\"type\":\"scatterpolargl\"}],\"scatterternary\":[{\"marker\":{\"colorbar\":{\"outlinewidth\":0,\"ticks\":\"\"}},\"type\":\"scatterternary\"}],\"surface\":[{\"colorbar\":{\"outlinewidth\":0,\"ticks\":\"\"},\"colorscale\":[[0.0,\"#0d0887\"],[0.1111111111111111,\"#46039f\"],[0.2222222222222222,\"#7201a8\"],[0.3333333333333333,\"#9c179e\"],[0.4444444444444444,\"#bd3786\"],[0.5555555555555556,\"#d8576b\"],[0.6666666666666666,\"#ed7953\"],[0.7777777777777778,\"#fb9f3a\"],[0.8888888888888888,\"#fdca26\"],[1.0,\"#f0f921\"]],\"type\":\"surface\"}],\"table\":[{\"cells\":{\"fill\":{\"color\":\"#EBF0F8\"},\"line\":{\"color\":\"white\"}},\"header\":{\"fill\":{\"color\":\"#C8D4E3\"},\"line\":{\"color\":\"white\"}},\"type\":\"table\"}]},\"layout\":{\"annotationdefaults\":{\"arrowcolor\":\"#2a3f5f\",\"arrowhead\":0,\"arrowwidth\":1},\"autotypenumbers\":\"strict\",\"coloraxis\":{\"colorbar\":{\"outlinewidth\":0,\"ticks\":\"\"}},\"colorscale\":{\"diverging\":[[0,\"#8e0152\"],[0.1,\"#c51b7d\"],[0.2,\"#de77ae\"],[0.3,\"#f1b6da\"],[0.4,\"#fde0ef\"],[0.5,\"#f7f7f7\"],[0.6,\"#e6f5d0\"],[0.7,\"#b8e186\"],[0.8,\"#7fbc41\"],[0.9,\"#4d9221\"],[1,\"#276419\"]],\"sequential\":[[0.0,\"#0d0887\"],[0.1111111111111111,\"#46039f\"],[0.2222222222222222,\"#7201a8\"],[0.3333333333333333,\"#9c179e\"],[0.4444444444444444,\"#bd3786\"],[0.5555555555555556,\"#d8576b\"],[0.6666666666666666,\"#ed7953\"],[0.7777777777777778,\"#fb9f3a\"],[0.8888888888888888,\"#fdca26\"],[1.0,\"#f0f921\"]],\"sequentialminus\":[[0.0,\"#0d0887\"],[0.1111111111111111,\"#46039f\"],[0.2222222222222222,\"#7201a8\"],[0.3333333333333333,\"#9c179e\"],[0.4444444444444444,\"#bd3786\"],[0.5555555555555556,\"#d8576b\"],[0.6666666666666666,\"#ed7953\"],[0.7777777777777778,\"#fb9f3a\"],[0.8888888888888888,\"#fdca26\"],[1.0,\"#f0f921\"]]},\"colorway\":[\"#636efa\",\"#EF553B\",\"#00cc96\",\"#ab63fa\",\"#FFA15A\",\"#19d3f3\",\"#FF6692\",\"#B6E880\",\"#FF97FF\",\"#FECB52\"],\"font\":{\"color\":\"#2a3f5f\"},\"geo\":{\"bgcolor\":\"white\",\"lakecolor\":\"white\",\"landcolor\":\"#E5ECF6\",\"showlakes\":true,\"showland\":true,\"subunitcolor\":\"white\"},\"hoverlabel\":{\"align\":\"left\"},\"hovermode\":\"closest\",\"mapbox\":{\"style\":\"light\"},\"paper_bgcolor\":\"white\",\"plot_bgcolor\":\"#E5ECF6\",\"polar\":{\"angularaxis\":{\"gridcolor\":\"white\",\"linecolor\":\"white\",\"ticks\":\"\"},\"bgcolor\":\"#E5ECF6\",\"radialaxis\":{\"gridcolor\":\"white\",\"linecolor\":\"white\",\"ticks\":\"\"}},\"scene\":{\"xaxis\":{\"backgroundcolor\":\"#E5ECF6\",\"gridcolor\":\"white\",\"gridwidth\":2,\"linecolor\":\"white\",\"showbackground\":true,\"ticks\":\"\",\"zerolinecolor\":\"white\"},\"yaxis\":{\"backgroundcolor\":\"#E5ECF6\",\"gridcolor\":\"white\",\"gridwidth\":2,\"linecolor\":\"white\",\"showbackground\":true,\"ticks\":\"\",\"zerolinecolor\":\"white\"},\"zaxis\":{\"backgroundcolor\":\"#E5ECF6\",\"gridcolor\":\"white\",\"gridwidth\":2,\"linecolor\":\"white\",\"showbackground\":true,\"ticks\":\"\",\"zerolinecolor\":\"white\"}},\"shapedefaults\":{\"line\":{\"color\":\"#2a3f5f\"}},\"ternary\":{\"aaxis\":{\"gridcolor\":\"white\",\"linecolor\":\"white\",\"ticks\":\"\"},\"baxis\":{\"gridcolor\":\"white\",\"linecolor\":\"white\",\"ticks\":\"\"},\"bgcolor\":\"#E5ECF6\",\"caxis\":{\"gridcolor\":\"white\",\"linecolor\":\"white\",\"ticks\":\"\"}},\"title\":{\"x\":0.05},\"xaxis\":{\"automargin\":true,\"gridcolor\":\"white\",\"linecolor\":\"white\",\"ticks\":\"\",\"title\":{\"standoff\":15},\"zerolinecolor\":\"white\",\"zerolinewidth\":2},\"yaxis\":{\"automargin\":true,\"gridcolor\":\"white\",\"linecolor\":\"white\",\"ticks\":\"\",\"title\":{\"standoff\":15},\"zerolinecolor\":\"white\",\"zerolinewidth\":2}}},\"xaxis\":{\"anchor\":\"y\",\"domain\":[0.0,1.0],\"title\":{\"text\":\"x\"}},\"yaxis\":{\"anchor\":\"x\",\"domain\":[0.0,1.0],\"title\":{\"text\":\"y\"}},\"legend\":{\"tracegroupgap\":0},\"margin\":{\"t\":60},\"barmode\":\"relative\"},                        {\"responsive\": true}                    ).then(function(){\n",
       "                            \n",
       "var gd = document.getElementById('a01b7958-6dfa-4a98-aea1-dd61292e52d0');\n",
       "var x = new MutationObserver(function (mutations, observer) {{\n",
       "        var display = window.getComputedStyle(gd).display;\n",
       "        if (!display || display === 'none') {{\n",
       "            console.log([gd, 'removed!']);\n",
       "            Plotly.purge(gd);\n",
       "            observer.disconnect();\n",
       "        }}\n",
       "}});\n",
       "\n",
       "// Listen for the removal of the full notebook cells\n",
       "var notebookContainer = gd.closest('#notebook-container');\n",
       "if (notebookContainer) {{\n",
       "    x.observe(notebookContainer, {childList: true});\n",
       "}}\n",
       "\n",
       "// Listen for the clearing of the current output cell\n",
       "var outputEl = gd.closest('.output');\n",
       "if (outputEl) {{\n",
       "    x.observe(outputEl, {childList: true});\n",
       "}}\n",
       "\n",
       "                        })                };                            </script>        </div>\n",
       "</body>\n",
       "</html>"
      ]
     },
     "metadata": {},
     "output_type": "display_data"
    }
   ],
   "source": [
    "fig = px.bar(x=[a for a,b in forest_features[:35]], y=[b for a,b in forest_features[:35]])\n",
    "fig.show()"
   ]
  },
  {
   "cell_type": "markdown",
   "id": "OEc4mMBythnl",
   "metadata": {
    "id": "OEc4mMBythnl"
   },
   "source": [
    "If we carry out the same method for the random forest model generated, we find that we neet more features than in the tree classifier to reach 95% accumulated importance. Furthermore, the features carry each a much lower individual importance with only interest rate and dti having more than a 5% importance alone."
   ]
  },
  {
   "cell_type": "code",
   "execution_count": null,
   "id": "652f3263",
   "metadata": {},
   "outputs": [],
   "source": []
  }
 ],
 "metadata": {
  "colab": {
   "collapsed_sections": [],
   "name": "Practica 1.ipynb",
   "provenance": []
  },
  "kernelspec": {
   "display_name": "Python 3 (ipykernel)",
   "language": "python",
   "name": "python3"
  },
  "language_info": {
   "codemirror_mode": {
    "name": "ipython",
    "version": 3
   },
   "file_extension": ".py",
   "mimetype": "text/x-python",
   "name": "python",
   "nbconvert_exporter": "python",
   "pygments_lexer": "ipython3",
   "version": "3.9.7"
  }
 },
 "nbformat": 4,
 "nbformat_minor": 5
}
