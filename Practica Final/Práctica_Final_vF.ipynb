{
  "cells": [
    {
      "cell_type": "markdown",
      "metadata": {
        "id": "JAcX7d35q60G"
      },
      "source": [
        "# Práctica Final\n",
        "## *Machine Learning*\n",
        "### 14 Junio 2022\n",
        "\n",
        "\n",
        "1.   Marta Jimenez Menendez\n",
        "2.   Isabel Marsa Martin\n",
        "3.   Juan Sevilla Fernandez\n",
        "\n"
      ]
    },
    {
      "cell_type": "code",
      "execution_count": 5,
      "metadata": {
        "id": "6mADlS21q60L",
        "colab": {
          "base_uri": "https://localhost:8080/"
        },
        "outputId": "22c91a39-006c-4be2-a934-25eb4bd46ccb"
      },
      "outputs": [
        {
          "output_type": "stream",
          "name": "stderr",
          "text": [
            "/usr/local/lib/python3.7/dist-packages/statsmodels/tools/_testing.py:19: FutureWarning: pandas.util.testing is deprecated. Use the functions in the public API at pandas.testing instead.\n",
            "  import pandas.util.testing as tm\n"
          ]
        }
      ],
      "source": [
        "import numpy as np\n",
        "import pandas as pd\n",
        "import matplotlib.pyplot as plt\n",
        "import warnings\n",
        "import seaborn as sns\n",
        "from scipy.stats import linregress\n",
        "from sklearn.model_selection import train_test_split\n",
        "from sklearn.linear_model import LinearRegression\n",
        "from sklearn.metrics import mean_squared_error\n",
        "import statsmodels.api as sm\n",
        "from sklearn.preprocessing import StandardScaler\n",
        "from sklearn.preprocessing import OneHotEncoder\n",
        "from tabulate import tabulate\n",
        "from sklearn.decomposition import PCA\n",
        "from sklearn.metrics import mean_squared_error\n",
        "from sklearn.metrics.pairwise import pairwise_distances\n",
        "from sklearn.model_selection import train_test_split\n",
        "import matplotlib.cm as cm\n",
        "from matplotlib.pyplot import figure\n",
        "from sklearn.neighbors import NearestNeighbors\n",
        "import xgboost as xgb \n",
        "\n",
        "\n",
        "\n",
        "random_num = 100\n",
        "warnings.filterwarnings('ignore')"
      ]
    },
    {
      "cell_type": "raw",
      "metadata": {
        "id": "hO-dtL0Hr-HO",
        "outputId": "74688cd1-0c6d-4982-dccb-0bb04b101acd"
      },
      "source": [
        ""
      ]
    },
    {
      "cell_type": "code",
      "source": [
        "from google.colab import drive\n",
        "drive.mount('/content/drive')"
      ],
      "metadata": {
        "colab": {
          "base_uri": "https://localhost:8080/"
        },
        "id": "Nn-ocD7voYwv",
        "outputId": "28a4c02f-3cd8-45b4-d7fa-a13422af8ff6"
      },
      "execution_count": 3,
      "outputs": [
        {
          "output_type": "stream",
          "name": "stdout",
          "text": [
            "Mounted at /content/drive\n"
          ]
        }
      ]
    },
    {
      "cell_type": "code",
      "execution_count": 6,
      "metadata": {
        "id": "cMS3i41Tq60O"
      },
      "outputs": [],
      "source": [
        "#data = pd.read_csv('airbnb-listings-extract.csv', sep = ';')\n",
        "data = pd.read_csv('/content/drive/MyDrive/Colab Notebooks/airbnb-listings-extract.csv', sep = ';')"
      ]
    },
    {
      "cell_type": "markdown",
      "metadata": {
        "id": "zlaMV-xyq60P"
      },
      "source": [
        "### Análisis Descriptivo\n",
        "\n",
        "El primer paso para resolver esta práctica será realizar un pequeño análisis descriptivo de la base de datos junto con la limpieza de la misma. Es una base de datos que no ha sido limpiada previamente por lo que nos centraremos en eliminar todas aquellas columnas que no nos aporten información necesaria, tratar los valores nulos, tratar la variable objetivo y cambiar el tipo de variables cuando sea necesario. \n",
        "\n",
        "Para mayor facilidad, cambiaremos el nombre de las columnas para sustituir el espacio por '_' "
      ]
    },
    {
      "cell_type": "code",
      "execution_count": 4,
      "metadata": {
        "id": "OYiLd-YJq60Q"
      },
      "outputs": [],
      "source": [
        "data.columns = data.columns.str.replace(' ', '_')"
      ]
    },
    {
      "cell_type": "markdown",
      "metadata": {
        "id": "r9RdoVnYq60Q"
      },
      "source": [
        "Uno de los primeros pasos será quedarnos solo con las viviendas de Madrid. Esto lo hacemos porque la gran mayoría de viviendas están en este mercado y la localización por ciudades va a sesgar el precio en gran medida cuando nos queremos centrar en la calidad principalmente. "
      ]
    },
    {
      "cell_type": "code",
      "execution_count": 5,
      "metadata": {
        "id": "md7FVnhXq60R"
      },
      "outputs": [],
      "source": [
        "data = data.loc[data.Market == 'Madrid']\n",
        "data = data.drop(columns ='Market')"
      ]
    },
    {
      "cell_type": "code",
      "execution_count": 6,
      "metadata": {
        "colab": {
          "base_uri": "https://localhost:8080/"
        },
        "id": "UKj2jgd3q60S",
        "outputId": "0421c770-8203-4770-ff6d-3245b2f35310",
        "scrolled": true
      },
      "outputs": [
        {
          "output_type": "execute_result",
          "data": {
            "text/plain": [
              "(13274, 88)"
            ]
          },
          "metadata": {},
          "execution_count": 6
        }
      ],
      "source": [
        "data.shape"
      ]
    },
    {
      "cell_type": "markdown",
      "metadata": {
        "id": "U9U9wjKeq60T"
      },
      "source": [
        "A continuación analizaremos la **variable objetivo**, el precio:"
      ]
    },
    {
      "cell_type": "code",
      "execution_count": 7,
      "metadata": {
        "colab": {
          "base_uri": "https://localhost:8080/"
        },
        "id": "7oGkFd-Yq60U",
        "outputId": "3a8bd55a-a872-449f-d020-e217b26bd63b"
      },
      "outputs": [
        {
          "output_type": "stream",
          "name": "stdout",
          "text": [
            "Total de datos missing en la variable Precio: 9\n"
          ]
        }
      ],
      "source": [
        "print('Total de datos missing en la variable Precio:', data['Price'].isnull().sum())"
      ]
    },
    {
      "cell_type": "markdown",
      "metadata": {
        "id": "IhPFwnVZq60V"
      },
      "source": [
        "Como solo hay 9 observaciones entre 13,274 cuyo precio es desconocido, optaremos por eliminarlas. No las sustituiremos pues es un número muy pequeño de NAs no significativo en la muestra final:"
      ]
    },
    {
      "cell_type": "code",
      "execution_count": 8,
      "metadata": {
        "id": "mDnX-my_q60V"
      },
      "outputs": [],
      "source": [
        "data = data[data['Price'].notna()]"
      ]
    },
    {
      "cell_type": "code",
      "execution_count": 9,
      "metadata": {
        "colab": {
          "base_uri": "https://localhost:8080/"
        },
        "id": "3hNN0C-Mq60W",
        "outputId": "e7a913d4-b981-4351-fea5-ba95a8d42545"
      },
      "outputs": [
        {
          "output_type": "execute_result",
          "data": {
            "text/plain": [
              "count    13265.000000\n",
              "mean        67.430833\n",
              "std         61.784819\n",
              "min          9.000000\n",
              "25%         30.000000\n",
              "50%         52.000000\n",
              "75%         80.000000\n",
              "max        875.000000\n",
              "Name: Price, dtype: float64"
            ]
          },
          "metadata": {},
          "execution_count": 9
        }
      ],
      "source": [
        "data['Price'].describe()"
      ]
    },
    {
      "cell_type": "markdown",
      "metadata": {
        "id": "hELQQVAkq60W"
      },
      "source": [
        "Como podemos observar, el precio mínimo por noche está en 9€ y el máximo en 875€. La media y la mediana están algo alejadas la una de la otra (67 y 52) esto nos indica que la muestra probablemente presenta algunos valores atípicos con precios excesivamente altos. "
      ]
    },
    {
      "cell_type": "markdown",
      "metadata": {
        "id": "jezMJRd3q60X"
      },
      "source": [
        "A continuación analizaremos los datos **missing**:"
      ]
    },
    {
      "cell_type": "code",
      "execution_count": 10,
      "metadata": {
        "colab": {
          "base_uri": "https://localhost:8080/",
          "height": 1000
        },
        "id": "T1ddxClSq60Y",
        "outputId": "5d1fbc2c-cacf-4b9e-ded8-5bab8bdcc83f"
      },
      "outputs": [
        {
          "output_type": "execute_result",
          "data": {
            "text/plain": [
              "                                Number_Missing  Percent_Missing     Type\n",
              "Jurisdiction_Names                       13265           100.00   object\n",
              "Host_Acceptance_Rate                     13265           100.00   object\n",
              "Has_Availability                         13265           100.00   object\n",
              "License                                  13016            98.12   object\n",
              "Square_Feet                              12744            96.07  float64\n",
              "Monthly_Price                             9945            74.97  float64\n",
              "Weekly_Price                              9902            74.65  float64\n",
              "Notes                                     8272            62.36   object\n",
              "Security_Deposit                          7635            57.56  float64\n",
              "Interaction                               5793            43.67   object\n",
              "Access                                    5743            43.29   object\n",
              "Cleaning_Fee                              5438            41.00  float64\n",
              "Transit                                   5058            38.13   object\n",
              "Host_About                                5018            37.83   object\n",
              "Neighborhood_Overview                     4983            37.57   object\n",
              "House_Rules                               4624            34.86   object\n",
              "Neighbourhood                             4561            34.38   object\n",
              "Space                                     3625            27.33   object\n",
              "Host_Neighbourhood                        3350            25.25   object\n",
              "Review_Scores_Value                       2906            21.91  float64\n",
              "Review_Scores_Location                    2906            21.91  float64\n",
              "Review_Scores_Checkin                     2904            21.89  float64\n",
              "Review_Scores_Accuracy                    2895            21.82  float64\n",
              "Review_Scores_Cleanliness                 2889            21.78  float64\n",
              "Review_Scores_Communication               2889            21.78  float64\n",
              "Review_Scores_Rating                      2877            21.69  float64\n",
              "Last_Review                               2757            20.78   object\n",
              "Reviews_per_Month                         2756            20.78  float64\n",
              "First_Review                              2756            20.78   object\n",
              "XL_Picture_Url                            2481            18.70   object\n",
              "Medium_Url                                2481            18.70   object\n",
              "Thumbnail_Url                             2481            18.70   object\n",
              "Host_Response_Time                        1704            12.85   object\n",
              "Host_Response_Rate                        1704            12.85  float64\n",
              "Summary                                    486             3.66   object\n",
              "Zipcode                                    444             3.35   object\n",
              "Amenities                                  160             1.21   object\n",
              "Bathrooms                                   49             0.37  float64\n",
              "Beds                                        48             0.36  float64\n",
              "State                                       47             0.35   object\n",
              "Host_Location                               42             0.32   object\n",
              "Bedrooms                                    23             0.17  float64\n",
              "Picture_Url                                 19             0.14   object\n",
              "Description                                  6             0.05   object\n",
              "City                                         6             0.05   object\n",
              "Host_Verifications                           5             0.04   object\n",
              "Host_Total_Listings_Count                    3             0.02  float64\n",
              "Host_Listings_Count                          3             0.02  float64\n",
              "Host_Picture_Url                             3             0.02   object\n",
              "Host_Since                                   3             0.02   object\n",
              "Host_Name                                    3             0.02   object\n",
              "Host_Thumbnail_Url                           3             0.02   object\n",
              "Country                                      1             0.01   object\n",
              "Neighbourhood_Group_Cleansed                 1             0.01   object\n",
              "Availability_365                             0             0.00    int64\n",
              "Availability_90                              0             0.00    int64\n",
              "Availability_60                              0             0.00    int64\n",
              "ID                                           0             0.00    int64\n",
              "Calendar_last_Scraped                        0             0.00   object\n",
              "Number_of_Reviews                            0             0.00    int64\n",
              "Cancellation_Policy                          0             0.00   object\n",
              "Calculated_host_listings_count               0             0.00  float64\n",
              "Geolocation                                  0             0.00   object\n",
              "Availability_30                              0             0.00    int64\n",
              "Latitude                                     0             0.00  float64\n",
              "Calendar_Updated                             0             0.00   object\n",
              "Country_Code                                 0             0.00   object\n",
              "Scrape_ID                                    0             0.00    int64\n",
              "Last_Scraped                                 0             0.00   object\n",
              "Name                                         0             0.00   object\n",
              "Experiences_Offered                          0             0.00   object\n",
              "Host_ID                                      0             0.00    int64\n",
              "Host_URL                                     0             0.00   object\n",
              "Street                                       0             0.00   object\n",
              "Neighbourhood_Cleansed                       0             0.00   object\n",
              "Smart_Location                               0             0.00   object\n",
              "Listing_Url                                  0             0.00   object\n",
              "Maximum_Nights                               0             0.00    int64\n",
              "Longitude                                    0             0.00  float64\n",
              "Property_Type                                0             0.00   object\n",
              "Room_Type                                    0             0.00   object\n",
              "Accommodates                                 0             0.00    int64\n",
              "Bed_Type                                     0             0.00   object\n",
              "Price                                        0             0.00  float64\n",
              "Guests_Included                              0             0.00    int64\n",
              "Extra_People                                 0             0.00    int64\n",
              "Minimum_Nights                               0             0.00    int64\n",
              "Features                                     0             0.00   object"
            ],
            "text/html": [
              "\n",
              "  <div id=\"df-b7d87b70-6b8a-4a56-9b97-1f14b76dadbe\">\n",
              "    <div class=\"colab-df-container\">\n",
              "      <div>\n",
              "<style scoped>\n",
              "    .dataframe tbody tr th:only-of-type {\n",
              "        vertical-align: middle;\n",
              "    }\n",
              "\n",
              "    .dataframe tbody tr th {\n",
              "        vertical-align: top;\n",
              "    }\n",
              "\n",
              "    .dataframe thead th {\n",
              "        text-align: right;\n",
              "    }\n",
              "</style>\n",
              "<table border=\"1\" class=\"dataframe\">\n",
              "  <thead>\n",
              "    <tr style=\"text-align: right;\">\n",
              "      <th></th>\n",
              "      <th>Number_Missing</th>\n",
              "      <th>Percent_Missing</th>\n",
              "      <th>Type</th>\n",
              "    </tr>\n",
              "  </thead>\n",
              "  <tbody>\n",
              "    <tr>\n",
              "      <th>Jurisdiction_Names</th>\n",
              "      <td>13265</td>\n",
              "      <td>100.00</td>\n",
              "      <td>object</td>\n",
              "    </tr>\n",
              "    <tr>\n",
              "      <th>Host_Acceptance_Rate</th>\n",
              "      <td>13265</td>\n",
              "      <td>100.00</td>\n",
              "      <td>object</td>\n",
              "    </tr>\n",
              "    <tr>\n",
              "      <th>Has_Availability</th>\n",
              "      <td>13265</td>\n",
              "      <td>100.00</td>\n",
              "      <td>object</td>\n",
              "    </tr>\n",
              "    <tr>\n",
              "      <th>License</th>\n",
              "      <td>13016</td>\n",
              "      <td>98.12</td>\n",
              "      <td>object</td>\n",
              "    </tr>\n",
              "    <tr>\n",
              "      <th>Square_Feet</th>\n",
              "      <td>12744</td>\n",
              "      <td>96.07</td>\n",
              "      <td>float64</td>\n",
              "    </tr>\n",
              "    <tr>\n",
              "      <th>Monthly_Price</th>\n",
              "      <td>9945</td>\n",
              "      <td>74.97</td>\n",
              "      <td>float64</td>\n",
              "    </tr>\n",
              "    <tr>\n",
              "      <th>Weekly_Price</th>\n",
              "      <td>9902</td>\n",
              "      <td>74.65</td>\n",
              "      <td>float64</td>\n",
              "    </tr>\n",
              "    <tr>\n",
              "      <th>Notes</th>\n",
              "      <td>8272</td>\n",
              "      <td>62.36</td>\n",
              "      <td>object</td>\n",
              "    </tr>\n",
              "    <tr>\n",
              "      <th>Security_Deposit</th>\n",
              "      <td>7635</td>\n",
              "      <td>57.56</td>\n",
              "      <td>float64</td>\n",
              "    </tr>\n",
              "    <tr>\n",
              "      <th>Interaction</th>\n",
              "      <td>5793</td>\n",
              "      <td>43.67</td>\n",
              "      <td>object</td>\n",
              "    </tr>\n",
              "    <tr>\n",
              "      <th>Access</th>\n",
              "      <td>5743</td>\n",
              "      <td>43.29</td>\n",
              "      <td>object</td>\n",
              "    </tr>\n",
              "    <tr>\n",
              "      <th>Cleaning_Fee</th>\n",
              "      <td>5438</td>\n",
              "      <td>41.00</td>\n",
              "      <td>float64</td>\n",
              "    </tr>\n",
              "    <tr>\n",
              "      <th>Transit</th>\n",
              "      <td>5058</td>\n",
              "      <td>38.13</td>\n",
              "      <td>object</td>\n",
              "    </tr>\n",
              "    <tr>\n",
              "      <th>Host_About</th>\n",
              "      <td>5018</td>\n",
              "      <td>37.83</td>\n",
              "      <td>object</td>\n",
              "    </tr>\n",
              "    <tr>\n",
              "      <th>Neighborhood_Overview</th>\n",
              "      <td>4983</td>\n",
              "      <td>37.57</td>\n",
              "      <td>object</td>\n",
              "    </tr>\n",
              "    <tr>\n",
              "      <th>House_Rules</th>\n",
              "      <td>4624</td>\n",
              "      <td>34.86</td>\n",
              "      <td>object</td>\n",
              "    </tr>\n",
              "    <tr>\n",
              "      <th>Neighbourhood</th>\n",
              "      <td>4561</td>\n",
              "      <td>34.38</td>\n",
              "      <td>object</td>\n",
              "    </tr>\n",
              "    <tr>\n",
              "      <th>Space</th>\n",
              "      <td>3625</td>\n",
              "      <td>27.33</td>\n",
              "      <td>object</td>\n",
              "    </tr>\n",
              "    <tr>\n",
              "      <th>Host_Neighbourhood</th>\n",
              "      <td>3350</td>\n",
              "      <td>25.25</td>\n",
              "      <td>object</td>\n",
              "    </tr>\n",
              "    <tr>\n",
              "      <th>Review_Scores_Value</th>\n",
              "      <td>2906</td>\n",
              "      <td>21.91</td>\n",
              "      <td>float64</td>\n",
              "    </tr>\n",
              "    <tr>\n",
              "      <th>Review_Scores_Location</th>\n",
              "      <td>2906</td>\n",
              "      <td>21.91</td>\n",
              "      <td>float64</td>\n",
              "    </tr>\n",
              "    <tr>\n",
              "      <th>Review_Scores_Checkin</th>\n",
              "      <td>2904</td>\n",
              "      <td>21.89</td>\n",
              "      <td>float64</td>\n",
              "    </tr>\n",
              "    <tr>\n",
              "      <th>Review_Scores_Accuracy</th>\n",
              "      <td>2895</td>\n",
              "      <td>21.82</td>\n",
              "      <td>float64</td>\n",
              "    </tr>\n",
              "    <tr>\n",
              "      <th>Review_Scores_Cleanliness</th>\n",
              "      <td>2889</td>\n",
              "      <td>21.78</td>\n",
              "      <td>float64</td>\n",
              "    </tr>\n",
              "    <tr>\n",
              "      <th>Review_Scores_Communication</th>\n",
              "      <td>2889</td>\n",
              "      <td>21.78</td>\n",
              "      <td>float64</td>\n",
              "    </tr>\n",
              "    <tr>\n",
              "      <th>Review_Scores_Rating</th>\n",
              "      <td>2877</td>\n",
              "      <td>21.69</td>\n",
              "      <td>float64</td>\n",
              "    </tr>\n",
              "    <tr>\n",
              "      <th>Last_Review</th>\n",
              "      <td>2757</td>\n",
              "      <td>20.78</td>\n",
              "      <td>object</td>\n",
              "    </tr>\n",
              "    <tr>\n",
              "      <th>Reviews_per_Month</th>\n",
              "      <td>2756</td>\n",
              "      <td>20.78</td>\n",
              "      <td>float64</td>\n",
              "    </tr>\n",
              "    <tr>\n",
              "      <th>First_Review</th>\n",
              "      <td>2756</td>\n",
              "      <td>20.78</td>\n",
              "      <td>object</td>\n",
              "    </tr>\n",
              "    <tr>\n",
              "      <th>XL_Picture_Url</th>\n",
              "      <td>2481</td>\n",
              "      <td>18.70</td>\n",
              "      <td>object</td>\n",
              "    </tr>\n",
              "    <tr>\n",
              "      <th>Medium_Url</th>\n",
              "      <td>2481</td>\n",
              "      <td>18.70</td>\n",
              "      <td>object</td>\n",
              "    </tr>\n",
              "    <tr>\n",
              "      <th>Thumbnail_Url</th>\n",
              "      <td>2481</td>\n",
              "      <td>18.70</td>\n",
              "      <td>object</td>\n",
              "    </tr>\n",
              "    <tr>\n",
              "      <th>Host_Response_Time</th>\n",
              "      <td>1704</td>\n",
              "      <td>12.85</td>\n",
              "      <td>object</td>\n",
              "    </tr>\n",
              "    <tr>\n",
              "      <th>Host_Response_Rate</th>\n",
              "      <td>1704</td>\n",
              "      <td>12.85</td>\n",
              "      <td>float64</td>\n",
              "    </tr>\n",
              "    <tr>\n",
              "      <th>Summary</th>\n",
              "      <td>486</td>\n",
              "      <td>3.66</td>\n",
              "      <td>object</td>\n",
              "    </tr>\n",
              "    <tr>\n",
              "      <th>Zipcode</th>\n",
              "      <td>444</td>\n",
              "      <td>3.35</td>\n",
              "      <td>object</td>\n",
              "    </tr>\n",
              "    <tr>\n",
              "      <th>Amenities</th>\n",
              "      <td>160</td>\n",
              "      <td>1.21</td>\n",
              "      <td>object</td>\n",
              "    </tr>\n",
              "    <tr>\n",
              "      <th>Bathrooms</th>\n",
              "      <td>49</td>\n",
              "      <td>0.37</td>\n",
              "      <td>float64</td>\n",
              "    </tr>\n",
              "    <tr>\n",
              "      <th>Beds</th>\n",
              "      <td>48</td>\n",
              "      <td>0.36</td>\n",
              "      <td>float64</td>\n",
              "    </tr>\n",
              "    <tr>\n",
              "      <th>State</th>\n",
              "      <td>47</td>\n",
              "      <td>0.35</td>\n",
              "      <td>object</td>\n",
              "    </tr>\n",
              "    <tr>\n",
              "      <th>Host_Location</th>\n",
              "      <td>42</td>\n",
              "      <td>0.32</td>\n",
              "      <td>object</td>\n",
              "    </tr>\n",
              "    <tr>\n",
              "      <th>Bedrooms</th>\n",
              "      <td>23</td>\n",
              "      <td>0.17</td>\n",
              "      <td>float64</td>\n",
              "    </tr>\n",
              "    <tr>\n",
              "      <th>Picture_Url</th>\n",
              "      <td>19</td>\n",
              "      <td>0.14</td>\n",
              "      <td>object</td>\n",
              "    </tr>\n",
              "    <tr>\n",
              "      <th>Description</th>\n",
              "      <td>6</td>\n",
              "      <td>0.05</td>\n",
              "      <td>object</td>\n",
              "    </tr>\n",
              "    <tr>\n",
              "      <th>City</th>\n",
              "      <td>6</td>\n",
              "      <td>0.05</td>\n",
              "      <td>object</td>\n",
              "    </tr>\n",
              "    <tr>\n",
              "      <th>Host_Verifications</th>\n",
              "      <td>5</td>\n",
              "      <td>0.04</td>\n",
              "      <td>object</td>\n",
              "    </tr>\n",
              "    <tr>\n",
              "      <th>Host_Total_Listings_Count</th>\n",
              "      <td>3</td>\n",
              "      <td>0.02</td>\n",
              "      <td>float64</td>\n",
              "    </tr>\n",
              "    <tr>\n",
              "      <th>Host_Listings_Count</th>\n",
              "      <td>3</td>\n",
              "      <td>0.02</td>\n",
              "      <td>float64</td>\n",
              "    </tr>\n",
              "    <tr>\n",
              "      <th>Host_Picture_Url</th>\n",
              "      <td>3</td>\n",
              "      <td>0.02</td>\n",
              "      <td>object</td>\n",
              "    </tr>\n",
              "    <tr>\n",
              "      <th>Host_Since</th>\n",
              "      <td>3</td>\n",
              "      <td>0.02</td>\n",
              "      <td>object</td>\n",
              "    </tr>\n",
              "    <tr>\n",
              "      <th>Host_Name</th>\n",
              "      <td>3</td>\n",
              "      <td>0.02</td>\n",
              "      <td>object</td>\n",
              "    </tr>\n",
              "    <tr>\n",
              "      <th>Host_Thumbnail_Url</th>\n",
              "      <td>3</td>\n",
              "      <td>0.02</td>\n",
              "      <td>object</td>\n",
              "    </tr>\n",
              "    <tr>\n",
              "      <th>Country</th>\n",
              "      <td>1</td>\n",
              "      <td>0.01</td>\n",
              "      <td>object</td>\n",
              "    </tr>\n",
              "    <tr>\n",
              "      <th>Neighbourhood_Group_Cleansed</th>\n",
              "      <td>1</td>\n",
              "      <td>0.01</td>\n",
              "      <td>object</td>\n",
              "    </tr>\n",
              "    <tr>\n",
              "      <th>Availability_365</th>\n",
              "      <td>0</td>\n",
              "      <td>0.00</td>\n",
              "      <td>int64</td>\n",
              "    </tr>\n",
              "    <tr>\n",
              "      <th>Availability_90</th>\n",
              "      <td>0</td>\n",
              "      <td>0.00</td>\n",
              "      <td>int64</td>\n",
              "    </tr>\n",
              "    <tr>\n",
              "      <th>Availability_60</th>\n",
              "      <td>0</td>\n",
              "      <td>0.00</td>\n",
              "      <td>int64</td>\n",
              "    </tr>\n",
              "    <tr>\n",
              "      <th>ID</th>\n",
              "      <td>0</td>\n",
              "      <td>0.00</td>\n",
              "      <td>int64</td>\n",
              "    </tr>\n",
              "    <tr>\n",
              "      <th>Calendar_last_Scraped</th>\n",
              "      <td>0</td>\n",
              "      <td>0.00</td>\n",
              "      <td>object</td>\n",
              "    </tr>\n",
              "    <tr>\n",
              "      <th>Number_of_Reviews</th>\n",
              "      <td>0</td>\n",
              "      <td>0.00</td>\n",
              "      <td>int64</td>\n",
              "    </tr>\n",
              "    <tr>\n",
              "      <th>Cancellation_Policy</th>\n",
              "      <td>0</td>\n",
              "      <td>0.00</td>\n",
              "      <td>object</td>\n",
              "    </tr>\n",
              "    <tr>\n",
              "      <th>Calculated_host_listings_count</th>\n",
              "      <td>0</td>\n",
              "      <td>0.00</td>\n",
              "      <td>float64</td>\n",
              "    </tr>\n",
              "    <tr>\n",
              "      <th>Geolocation</th>\n",
              "      <td>0</td>\n",
              "      <td>0.00</td>\n",
              "      <td>object</td>\n",
              "    </tr>\n",
              "    <tr>\n",
              "      <th>Availability_30</th>\n",
              "      <td>0</td>\n",
              "      <td>0.00</td>\n",
              "      <td>int64</td>\n",
              "    </tr>\n",
              "    <tr>\n",
              "      <th>Latitude</th>\n",
              "      <td>0</td>\n",
              "      <td>0.00</td>\n",
              "      <td>float64</td>\n",
              "    </tr>\n",
              "    <tr>\n",
              "      <th>Calendar_Updated</th>\n",
              "      <td>0</td>\n",
              "      <td>0.00</td>\n",
              "      <td>object</td>\n",
              "    </tr>\n",
              "    <tr>\n",
              "      <th>Country_Code</th>\n",
              "      <td>0</td>\n",
              "      <td>0.00</td>\n",
              "      <td>object</td>\n",
              "    </tr>\n",
              "    <tr>\n",
              "      <th>Scrape_ID</th>\n",
              "      <td>0</td>\n",
              "      <td>0.00</td>\n",
              "      <td>int64</td>\n",
              "    </tr>\n",
              "    <tr>\n",
              "      <th>Last_Scraped</th>\n",
              "      <td>0</td>\n",
              "      <td>0.00</td>\n",
              "      <td>object</td>\n",
              "    </tr>\n",
              "    <tr>\n",
              "      <th>Name</th>\n",
              "      <td>0</td>\n",
              "      <td>0.00</td>\n",
              "      <td>object</td>\n",
              "    </tr>\n",
              "    <tr>\n",
              "      <th>Experiences_Offered</th>\n",
              "      <td>0</td>\n",
              "      <td>0.00</td>\n",
              "      <td>object</td>\n",
              "    </tr>\n",
              "    <tr>\n",
              "      <th>Host_ID</th>\n",
              "      <td>0</td>\n",
              "      <td>0.00</td>\n",
              "      <td>int64</td>\n",
              "    </tr>\n",
              "    <tr>\n",
              "      <th>Host_URL</th>\n",
              "      <td>0</td>\n",
              "      <td>0.00</td>\n",
              "      <td>object</td>\n",
              "    </tr>\n",
              "    <tr>\n",
              "      <th>Street</th>\n",
              "      <td>0</td>\n",
              "      <td>0.00</td>\n",
              "      <td>object</td>\n",
              "    </tr>\n",
              "    <tr>\n",
              "      <th>Neighbourhood_Cleansed</th>\n",
              "      <td>0</td>\n",
              "      <td>0.00</td>\n",
              "      <td>object</td>\n",
              "    </tr>\n",
              "    <tr>\n",
              "      <th>Smart_Location</th>\n",
              "      <td>0</td>\n",
              "      <td>0.00</td>\n",
              "      <td>object</td>\n",
              "    </tr>\n",
              "    <tr>\n",
              "      <th>Listing_Url</th>\n",
              "      <td>0</td>\n",
              "      <td>0.00</td>\n",
              "      <td>object</td>\n",
              "    </tr>\n",
              "    <tr>\n",
              "      <th>Maximum_Nights</th>\n",
              "      <td>0</td>\n",
              "      <td>0.00</td>\n",
              "      <td>int64</td>\n",
              "    </tr>\n",
              "    <tr>\n",
              "      <th>Longitude</th>\n",
              "      <td>0</td>\n",
              "      <td>0.00</td>\n",
              "      <td>float64</td>\n",
              "    </tr>\n",
              "    <tr>\n",
              "      <th>Property_Type</th>\n",
              "      <td>0</td>\n",
              "      <td>0.00</td>\n",
              "      <td>object</td>\n",
              "    </tr>\n",
              "    <tr>\n",
              "      <th>Room_Type</th>\n",
              "      <td>0</td>\n",
              "      <td>0.00</td>\n",
              "      <td>object</td>\n",
              "    </tr>\n",
              "    <tr>\n",
              "      <th>Accommodates</th>\n",
              "      <td>0</td>\n",
              "      <td>0.00</td>\n",
              "      <td>int64</td>\n",
              "    </tr>\n",
              "    <tr>\n",
              "      <th>Bed_Type</th>\n",
              "      <td>0</td>\n",
              "      <td>0.00</td>\n",
              "      <td>object</td>\n",
              "    </tr>\n",
              "    <tr>\n",
              "      <th>Price</th>\n",
              "      <td>0</td>\n",
              "      <td>0.00</td>\n",
              "      <td>float64</td>\n",
              "    </tr>\n",
              "    <tr>\n",
              "      <th>Guests_Included</th>\n",
              "      <td>0</td>\n",
              "      <td>0.00</td>\n",
              "      <td>int64</td>\n",
              "    </tr>\n",
              "    <tr>\n",
              "      <th>Extra_People</th>\n",
              "      <td>0</td>\n",
              "      <td>0.00</td>\n",
              "      <td>int64</td>\n",
              "    </tr>\n",
              "    <tr>\n",
              "      <th>Minimum_Nights</th>\n",
              "      <td>0</td>\n",
              "      <td>0.00</td>\n",
              "      <td>int64</td>\n",
              "    </tr>\n",
              "    <tr>\n",
              "      <th>Features</th>\n",
              "      <td>0</td>\n",
              "      <td>0.00</td>\n",
              "      <td>object</td>\n",
              "    </tr>\n",
              "  </tbody>\n",
              "</table>\n",
              "</div>\n",
              "      <button class=\"colab-df-convert\" onclick=\"convertToInteractive('df-b7d87b70-6b8a-4a56-9b97-1f14b76dadbe')\"\n",
              "              title=\"Convert this dataframe to an interactive table.\"\n",
              "              style=\"display:none;\">\n",
              "        \n",
              "  <svg xmlns=\"http://www.w3.org/2000/svg\" height=\"24px\"viewBox=\"0 0 24 24\"\n",
              "       width=\"24px\">\n",
              "    <path d=\"M0 0h24v24H0V0z\" fill=\"none\"/>\n",
              "    <path d=\"M18.56 5.44l.94 2.06.94-2.06 2.06-.94-2.06-.94-.94-2.06-.94 2.06-2.06.94zm-11 1L8.5 8.5l.94-2.06 2.06-.94-2.06-.94L8.5 2.5l-.94 2.06-2.06.94zm10 10l.94 2.06.94-2.06 2.06-.94-2.06-.94-.94-2.06-.94 2.06-2.06.94z\"/><path d=\"M17.41 7.96l-1.37-1.37c-.4-.4-.92-.59-1.43-.59-.52 0-1.04.2-1.43.59L10.3 9.45l-7.72 7.72c-.78.78-.78 2.05 0 2.83L4 21.41c.39.39.9.59 1.41.59.51 0 1.02-.2 1.41-.59l7.78-7.78 2.81-2.81c.8-.78.8-2.07 0-2.86zM5.41 20L4 18.59l7.72-7.72 1.47 1.35L5.41 20z\"/>\n",
              "  </svg>\n",
              "      </button>\n",
              "      \n",
              "  <style>\n",
              "    .colab-df-container {\n",
              "      display:flex;\n",
              "      flex-wrap:wrap;\n",
              "      gap: 12px;\n",
              "    }\n",
              "\n",
              "    .colab-df-convert {\n",
              "      background-color: #E8F0FE;\n",
              "      border: none;\n",
              "      border-radius: 50%;\n",
              "      cursor: pointer;\n",
              "      display: none;\n",
              "      fill: #1967D2;\n",
              "      height: 32px;\n",
              "      padding: 0 0 0 0;\n",
              "      width: 32px;\n",
              "    }\n",
              "\n",
              "    .colab-df-convert:hover {\n",
              "      background-color: #E2EBFA;\n",
              "      box-shadow: 0px 1px 2px rgba(60, 64, 67, 0.3), 0px 1px 3px 1px rgba(60, 64, 67, 0.15);\n",
              "      fill: #174EA6;\n",
              "    }\n",
              "\n",
              "    [theme=dark] .colab-df-convert {\n",
              "      background-color: #3B4455;\n",
              "      fill: #D2E3FC;\n",
              "    }\n",
              "\n",
              "    [theme=dark] .colab-df-convert:hover {\n",
              "      background-color: #434B5C;\n",
              "      box-shadow: 0px 1px 3px 1px rgba(0, 0, 0, 0.15);\n",
              "      filter: drop-shadow(0px 1px 2px rgba(0, 0, 0, 0.3));\n",
              "      fill: #FFFFFF;\n",
              "    }\n",
              "  </style>\n",
              "\n",
              "      <script>\n",
              "        const buttonEl =\n",
              "          document.querySelector('#df-b7d87b70-6b8a-4a56-9b97-1f14b76dadbe button.colab-df-convert');\n",
              "        buttonEl.style.display =\n",
              "          google.colab.kernel.accessAllowed ? 'block' : 'none';\n",
              "\n",
              "        async function convertToInteractive(key) {\n",
              "          const element = document.querySelector('#df-b7d87b70-6b8a-4a56-9b97-1f14b76dadbe');\n",
              "          const dataTable =\n",
              "            await google.colab.kernel.invokeFunction('convertToInteractive',\n",
              "                                                     [key], {});\n",
              "          if (!dataTable) return;\n",
              "\n",
              "          const docLinkHtml = 'Like what you see? Visit the ' +\n",
              "            '<a target=\"_blank\" href=https://colab.research.google.com/notebooks/data_table.ipynb>data table notebook</a>'\n",
              "            + ' to learn more about interactive tables.';\n",
              "          element.innerHTML = '';\n",
              "          dataTable['output_type'] = 'display_data';\n",
              "          await google.colab.output.renderOutput(dataTable, element);\n",
              "          const docLink = document.createElement('div');\n",
              "          docLink.innerHTML = docLinkHtml;\n",
              "          element.appendChild(docLink);\n",
              "        }\n",
              "      </script>\n",
              "    </div>\n",
              "  </div>\n",
              "  "
            ]
          },
          "metadata": {},
          "execution_count": 10
        }
      ],
      "source": [
        "pd.set_option('display.max_rows', None)\n",
        "\n",
        "pd.DataFrame({'Number_Missing': data.isna().sum(),\n",
        "              'Percent_Missing': round(data.isnull().sum() * 100 / len(data),2),\n",
        "              'Type': data.dtypes}).sort_values(by = \"Percent_Missing\", ascending=False)"
      ]
    },
    {
      "cell_type": "code",
      "execution_count": 11,
      "metadata": {
        "colab": {
          "base_uri": "https://localhost:8080/",
          "height": 670
        },
        "id": "Q9gzONwyq60Y",
        "outputId": "87c0e644-3a33-44ed-9069-b6b0cc55a055",
        "scrolled": false
      },
      "outputs": [
        {
          "output_type": "execute_result",
          "data": {
            "text/plain": [
              "<matplotlib.axes._subplots.AxesSubplot at 0x7fd151764dd0>"
            ]
          },
          "metadata": {},
          "execution_count": 11
        },
        {
          "output_type": "display_data",
          "data": {
            "text/plain": [
              "<Figure size 936x576 with 1 Axes>"
            ],
            "image/png": "[encoded data removed]"
          },
          "metadata": {
            "needs_background": "light"
          }
        }
      ],
      "source": [
        "missing = data.isnull().mean()*100\n",
        "figure(figsize = (13,8))\n",
        "datos_missing =  missing[missing > 0].sort_values(ascending=False)\n",
        "datos_missing.plot.bar(title = 'Datos Missing', color='teal')\n"
      ]
    },
    {
      "cell_type": "markdown",
      "metadata": {
        "id": "t4GyIWT6q60Z"
      },
      "source": [
        "En el gráfico superior se puede observar que todos los datos de las variables Jurisdiction_Names, Has_Availability y Host_Acceptance_Rate contienen son nulos. Por otro lado, las variables License y Square_Feet también contienen un número significativo de datos missing. Estas variables, por tanto, deberán ser eliminadas ya que no aportan nada a nuestro análisis. También nos desharemos de otras variables que explicaremos más adelante."
      ]
    },
    {
      "cell_type": "markdown",
      "metadata": {
        "id": "WT7TjUOMq60a"
      },
      "source": [
        "En primer lugar se eliminarán las siguientes variables:\n",
        "\n",
        "\n",
        "        ⁃ Aquellas columnas que posean más de un 90% de datos missing las eliminaremos.\n",
        "        ⁃ Aquellas columnas que no nos aportan ninguna información por ser únicas para cada observación.\n",
        "        ⁃ Eliminaremos también aquellas variables que toman solo un valor para todas las observaciones. \n",
        "        ⁃ La variable geolocalización pues es una mezcla de las variables latitud y longitud. \n",
        "        ⁃ La variable Host_Name pues nos quedaremos solo con Host_ID.\n",
        "        ⁃ Las variables Neighbourhood y Neighbourhood_Group_Cleansed y matendremos Neighbourhood_Cleansed.\n",
        "        ⁃ Zipcode se descarta ya que toda la informcion posicional esta entre nombre del barrio, longitud y latitud.\n",
        "        ⁃ La variable Calculated_host_listings_count, ya que es idéntica a la variable Host_Listings_Count."
      ]
    },
    {
      "cell_type": "code",
      "execution_count": 12,
      "metadata": {
        "id": "nMtsski2q60a"
      },
      "outputs": [],
      "source": [
        "data = data.drop(columns = ['ID', 'Listing_Url', 'Geolocation','Scrape_ID', 'Name' , 'Experiences_Offered', 'Host_Acceptance_Rate', \n",
        "                            'Square_Feet', 'License', 'Jurisdiction_Names', 'Has_Availability', 'Last_Scraped', 'Host_Name', 'City',\n",
        "                            'Neighbourhood', 'Neighbourhood_Group_Cleansed', 'State', 'Country_Code', 'Country', \"Zipcode\", 'Calculated_host_listings_count' ])\n"
      ]
    },
    {
      "cell_type": "markdown",
      "metadata": {
        "id": "xIR1YY4rq60b"
      },
      "source": [
        "A continuación pasaremos a examinar las columnas que tienen más datos missing para tratar de encontrar una razón y sustituir los NAs por el valor más correcto. En primer lugar observamos que tanto las columnas de precio semanal como la de precio mensual tienen un 75% de datos missing. \n",
        "\n",
        "Una primera hipótesis es que aquellos que tienen valores de precio semanal y mensual es porque ofrecen un descuento por estancias largas. Si esto es cierto podemos asumir que el resto no ofrecen ese descuento y sustituir los NAs por el precio multiplicado por 7 y 30 respectivamente. "
      ]
    },
    {
      "cell_type": "code",
      "execution_count": 13,
      "metadata": {
        "id": "qgMg9as-q60b"
      },
      "outputs": [],
      "source": [
        "p = data[['Price', 'Weekly_Price', 'Monthly_Price']].dropna()\n",
        "p['Weekly_Price'] = p['Weekly_Price']/7\n",
        "p['Monthly_Price'] = p['Monthly_Price']/30\n",
        "p['Weekly_Discount'] = ((p['Weekly_Price'] - p['Price']) <= 0)\n",
        "p['Monthly_Discount'] = ((p['Monthly_Price'] - p['Price']) <= 0)"
      ]
    },
    {
      "cell_type": "code",
      "execution_count": 14,
      "metadata": {
        "id": "F-trpE__q60b"
      },
      "outputs": [],
      "source": [
        "monthly_discount= p['Monthly_Discount'].value_counts()\n",
        "weekly_discount =p['Weekly_Discount'].value_counts()"
      ]
    },
    {
      "cell_type": "code",
      "execution_count": 15,
      "metadata": {
        "colab": {
          "base_uri": "https://localhost:8080/",
          "height": 112
        },
        "id": "vQrAUq2Xq60c",
        "outputId": "38215503-5434-495e-efef-7dcaba5a2681"
      },
      "outputs": [
        {
          "output_type": "execute_result",
          "data": {
            "text/plain": [
              "       Monthly Discount  Weekly Discount\n",
              "True               2635             2146\n",
              "False               167              656"
            ],
            "text/html": [
              "\n",
              "  <div id=\"df-ada9b767-aa9e-4c9e-8bd3-1e2f5e8b8814\">\n",
              "    <div class=\"colab-df-container\">\n",
              "      <div>\n",
              "<style scoped>\n",
              "    .dataframe tbody tr th:only-of-type {\n",
              "        vertical-align: middle;\n",
              "    }\n",
              "\n",
              "    .dataframe tbody tr th {\n",
              "        vertical-align: top;\n",
              "    }\n",
              "\n",
              "    .dataframe thead th {\n",
              "        text-align: right;\n",
              "    }\n",
              "</style>\n",
              "<table border=\"1\" class=\"dataframe\">\n",
              "  <thead>\n",
              "    <tr style=\"text-align: right;\">\n",
              "      <th></th>\n",
              "      <th>Monthly Discount</th>\n",
              "      <th>Weekly Discount</th>\n",
              "    </tr>\n",
              "  </thead>\n",
              "  <tbody>\n",
              "    <tr>\n",
              "      <th>True</th>\n",
              "      <td>2635</td>\n",
              "      <td>2146</td>\n",
              "    </tr>\n",
              "    <tr>\n",
              "      <th>False</th>\n",
              "      <td>167</td>\n",
              "      <td>656</td>\n",
              "    </tr>\n",
              "  </tbody>\n",
              "</table>\n",
              "</div>\n",
              "      <button class=\"colab-df-convert\" onclick=\"convertToInteractive('df-ada9b767-aa9e-4c9e-8bd3-1e2f5e8b8814')\"\n",
              "              title=\"Convert this dataframe to an interactive table.\"\n",
              "              style=\"display:none;\">\n",
              "        \n",
              "  <svg xmlns=\"http://www.w3.org/2000/svg\" height=\"24px\"viewBox=\"0 0 24 24\"\n",
              "       width=\"24px\">\n",
              "    <path d=\"M0 0h24v24H0V0z\" fill=\"none\"/>\n",
              "    <path d=\"M18.56 5.44l.94 2.06.94-2.06 2.06-.94-2.06-.94-.94-2.06-.94 2.06-2.06.94zm-11 1L8.5 8.5l.94-2.06 2.06-.94-2.06-.94L8.5 2.5l-.94 2.06-2.06.94zm10 10l.94 2.06.94-2.06 2.06-.94-2.06-.94-.94-2.06-.94 2.06-2.06.94z\"/><path d=\"M17.41 7.96l-1.37-1.37c-.4-.4-.92-.59-1.43-.59-.52 0-1.04.2-1.43.59L10.3 9.45l-7.72 7.72c-.78.78-.78 2.05 0 2.83L4 21.41c.39.39.9.59 1.41.59.51 0 1.02-.2 1.41-.59l7.78-7.78 2.81-2.81c.8-.78.8-2.07 0-2.86zM5.41 20L4 18.59l7.72-7.72 1.47 1.35L5.41 20z\"/>\n",
              "  </svg>\n",
              "      </button>\n",
              "      \n",
              "  <style>\n",
              "    .colab-df-container {\n",
              "      display:flex;\n",
              "      flex-wrap:wrap;\n",
              "      gap: 12px;\n",
              "    }\n",
              "\n",
              "    .colab-df-convert {\n",
              "      background-color: #E8F0FE;\n",
              "      border: none;\n",
              "      border-radius: 50%;\n",
              "      cursor: pointer;\n",
              "      display: none;\n",
              "      fill: #1967D2;\n",
              "      height: 32px;\n",
              "      padding: 0 0 0 0;\n",
              "      width: 32px;\n",
              "    }\n",
              "\n",
              "    .colab-df-convert:hover {\n",
              "      background-color: #E2EBFA;\n",
              "      box-shadow: 0px 1px 2px rgba(60, 64, 67, 0.3), 0px 1px 3px 1px rgba(60, 64, 67, 0.15);\n",
              "      fill: #174EA6;\n",
              "    }\n",
              "\n",
              "    [theme=dark] .colab-df-convert {\n",
              "      background-color: #3B4455;\n",
              "      fill: #D2E3FC;\n",
              "    }\n",
              "\n",
              "    [theme=dark] .colab-df-convert:hover {\n",
              "      background-color: #434B5C;\n",
              "      box-shadow: 0px 1px 3px 1px rgba(0, 0, 0, 0.15);\n",
              "      filter: drop-shadow(0px 1px 2px rgba(0, 0, 0, 0.3));\n",
              "      fill: #FFFFFF;\n",
              "    }\n",
              "  </style>\n",
              "\n",
              "      <script>\n",
              "        const buttonEl =\n",
              "          document.querySelector('#df-ada9b767-aa9e-4c9e-8bd3-1e2f5e8b8814 button.colab-df-convert');\n",
              "        buttonEl.style.display =\n",
              "          google.colab.kernel.accessAllowed ? 'block' : 'none';\n",
              "\n",
              "        async function convertToInteractive(key) {\n",
              "          const element = document.querySelector('#df-ada9b767-aa9e-4c9e-8bd3-1e2f5e8b8814');\n",
              "          const dataTable =\n",
              "            await google.colab.kernel.invokeFunction('convertToInteractive',\n",
              "                                                     [key], {});\n",
              "          if (!dataTable) return;\n",
              "\n",
              "          const docLinkHtml = 'Like what you see? Visit the ' +\n",
              "            '<a target=\"_blank\" href=https://colab.research.google.com/notebooks/data_table.ipynb>data table notebook</a>'\n",
              "            + ' to learn more about interactive tables.';\n",
              "          element.innerHTML = '';\n",
              "          dataTable['output_type'] = 'display_data';\n",
              "          await google.colab.output.renderOutput(dataTable, element);\n",
              "          const docLink = document.createElement('div');\n",
              "          docLink.innerHTML = docLinkHtml;\n",
              "          element.appendChild(docLink);\n",
              "        }\n",
              "      </script>\n",
              "    </div>\n",
              "  </div>\n",
              "  "
            ]
          },
          "metadata": {},
          "execution_count": 15
        }
      ],
      "source": [
        "discount = pd.DataFrame({'Monthly Discount': monthly_discount, \n",
        "                        'Weekly Discount': weekly_discount})\n",
        "discount"
      ]
    },
    {
      "cell_type": "markdown",
      "metadata": {
        "id": "fh3WceLDq60c"
      },
      "source": [
        "Como podemos observar, para la gran mayoría, especialmente los de más larga estancia, la hipótesis del descuento es verdadera. Por tanto, sustituiremos el valor de estos NA por el precio diario multiplicado por 7 para el precio semanal y por 30 para el precio mensual. \n",
        "\n",
        "Además, para que estos precios semanales y mensuales no sesgen los algoritmos, computaremos el descuento semanal y mensual como porcentage y descartaremos las variables de precio mensual y semanal:"
      ]
    },
    {
      "cell_type": "code",
      "execution_count": 16,
      "metadata": {
        "id": "c80un9drq60e"
      },
      "outputs": [],
      "source": [
        "data['Weekly_Price'] = data['Weekly_Price'].fillna(data['Price']*7)\n",
        "data['Monthly_Price'] = data['Monthly_Price'].fillna(data['Price']*30)"
      ]
    },
    {
      "cell_type": "code",
      "execution_count": 17,
      "metadata": {
        "id": "7RGm3nT3q60e"
      },
      "outputs": [],
      "source": [
        "data['Weekly_Discount'] = ((data['Price']*7)-data['Weekly_Price'])/(data['Price']*7)\n",
        "data['Monthly_Discount'] = ((data['Price']*30)-data['Monthly_Price'])/(data['Price']*30)"
      ]
    },
    {
      "cell_type": "code",
      "execution_count": 18,
      "metadata": {
        "id": "i9fqDYJWq60e"
      },
      "outputs": [],
      "source": [
        "data = data.drop(columns = ['Weekly_Price', 'Monthly_Price'])"
      ]
    },
    {
      "cell_type": "markdown",
      "metadata": {
        "id": "ywW1qJ6sq60e"
      },
      "source": [
        "\n",
        "1.   La variable Notas representa aquellos comentarios adicionales que el arrendador quiere comunicar al inquilino. En caso de valor NA supondremos que viene de que el arrendador no tenga nada que añadir y sustituiremos estos valores por 'Nada'. Lo mismo haremos con las variables Summary y Description que deberían resumir el espacio.\n",
        "\n",
        "2.   Para las variables 'Space', 'Neighborhood_Overview', 'Transit', 'Access', 'Interaction', 'Host_Location', 'Host_Neighbourhood', 'Amenities', 'Host_About', 'Host_Verifications' y 'House_Rules' que deberían aportar información adicional sobre el apartamento y el arrendador cuando exista NA lo sustituiremos por 'Sin informacion'. \n",
        "\n",
        "3.   Para las variables de imagen sustituiremos los NAs por 'Sin imagen' \n",
        "Para todas las variables de fecha las sustituiremos por una fecha muy antigua. Para las variables de review con missing por un número muy alejado (500). \n",
        "\n",
        "4.   En el caso del depósito y el el servicio de limpieza, entenderemos que si no hay valor es porque no se requiere pagar uno y sustituiremos el valor NA por 0.\n",
        "\n",
        "5.   En el caso de Zipcode nos debería indicar el barrio en el que está localizado cada vivienda, como no hay manera de conocer qué valor le correspondería a los missing los sustituiremos todos por '0000'.\n",
        "\n",
        "6.   Para las variables Host_Response_Time y Host_Response_Rate como no podemos saber si los Missing vienen de un tiempo de respuesta excesivamente elevado o bajo les daremos un valor muy diferente a los que hay en el dataFrame para diferenciarlos en el análisis. Lo mismo haremos para el caso de las variables baños, habitaciones y camas."
      ]
    },
    {
      "cell_type": "code",
      "execution_count": 19,
      "metadata": {
        "id": "9rDzluRVq60f"
      },
      "outputs": [],
      "source": [
        "data['Notes'] = data['Notes'].fillna('Nada')\n",
        "data['Summary'] = data['Summary'].fillna('Nada')\n",
        "data['Description'] = data['Description'].fillna('Nada')\n",
        "\n",
        "data['Space'] = data['Space'].fillna('Sin Informacion')\n",
        "data['Neighborhood_Overview'] = data['Neighborhood_Overview'].fillna('Sin Informacion')\n",
        "data['House_Rules'] = data['House_Rules'].fillna('Sin Informacion')\n",
        "data['Interaction'] = data['Interaction'].fillna('Sin Informacion')\n",
        "data['Transit'] = data['Transit'].fillna('Sin Informacion')\n",
        "data['Access'] = data['Access'].fillna('Sin Informacion')\n",
        "data['Host_About'] = data['Host_About'].fillna('Sin Informacion')\n",
        "data['Host_Location'] = data['Host_Location'].fillna('Sin Informacion')\n",
        "data['Host_Neighbourhood'] = data['Host_Neighbourhood'].fillna('Sin Informacion')\n",
        "data['Amenities'] = data['Amenities'].fillna('Sin Informacion')\n",
        "data['Host_Verifications'] = data['Host_Verifications'].fillna('Sin Informacion')\n",
        "\n",
        "data['Thumbnail_Url'] = data['Thumbnail_Url'].fillna('Sin Imagen')\n",
        "data['Medium_Url'] = data['Medium_Url'].fillna('Sin Imagen')\n",
        "data['Picture_Url'] = data['Picture_Url'].fillna('Sin Imagen')\n",
        "data['XL_Picture_Url'] = data['XL_Picture_Url'].fillna('Sin Imagen')\n",
        "data['Host_Thumbnail_Url'] = data['Host_Thumbnail_Url'].fillna('Sin Imagen')\n",
        "data['Host_Picture_Url'] = data['Host_Picture_Url'].fillna('Sin Imagen')\n",
        "\n",
        "data['First_Review'] = data['First_Review'].fillna('1900-01-01')\n",
        "data['Last_Review'] = data['Last_Review'].fillna('1900-01-01')\n",
        "data['Host_Since'] = data['Host_Since'].fillna('1900-01-01')\n",
        "data['Review_Scores_Rating'] = data['Review_Scores_Rating'].fillna(500)\n",
        "data['Review_Scores_Accuracy'] = data['Review_Scores_Accuracy'].fillna(500)\n",
        "data['Review_Scores_Cleanliness'] = data['Review_Scores_Cleanliness'].fillna(500)\n",
        "data['Review_Scores_Checkin'] = data['Review_Scores_Checkin'].fillna(500)\n",
        "data['Review_Scores_Communication'] = data['Review_Scores_Communication'].fillna(500)\n",
        "data['Review_Scores_Location'] = data['Review_Scores_Location'].fillna(500)\n",
        "data['Review_Scores_Value'] = data['Review_Scores_Value'].fillna(500)\n",
        "data['Reviews_per_Month'] = data['Reviews_per_Month'].fillna(500)\n",
        "\n",
        "data['Security_Deposit'] = data['Security_Deposit'].fillna(0)\n",
        "data['Cleaning_Fee'] = data['Cleaning_Fee'].fillna(0)\n",
        "\n",
        "data['Host_Response_Time'] = data['Host_Response_Time'].fillna(99)\n",
        "data['Host_Response_Rate'] = data['Host_Response_Rate'].fillna(0)\n",
        "\n",
        "data['Bathrooms'] = data['Bathrooms'].fillna(99)\n",
        "data['Bedrooms'] = data['Bedrooms'].fillna(99)\n",
        "data['Beds'] = data['Beds'].fillna(99)\n",
        "\n",
        "data = data[data['Host_Listings_Count'].notna()]"
      ]
    },
    {
      "cell_type": "markdown",
      "metadata": {
        "id": "t-6WCJD7q60f"
      },
      "source": [
        "A continuación nos centraremos en cambiar los tipos confundidos."
      ]
    },
    {
      "cell_type": "code",
      "execution_count": 20,
      "metadata": {
        "colab": {
          "base_uri": "https://localhost:8080/",
          "height": 1000
        },
        "id": "cMaaGym7q60g",
        "outputId": "0ba9bb30-0d7a-4c56-bf96-ea86e0a9907a"
      },
      "outputs": [
        {
          "output_type": "execute_result",
          "data": {
            "text/plain": [
              "                       Tipo de Variable\n",
              "Summary                          object\n",
              "Space                            object\n",
              "Description                      object\n",
              "Neighborhood_Overview            object\n",
              "Notes                            object\n",
              "Transit                          object\n",
              "Access                           object\n",
              "Interaction                      object\n",
              "House_Rules                      object\n",
              "Thumbnail_Url                    object\n",
              "Medium_Url                       object\n",
              "Picture_Url                      object\n",
              "XL_Picture_Url                   object\n",
              "Host_URL                         object\n",
              "Host_Since                       object\n",
              "Host_Location                    object\n",
              "Host_About                       object\n",
              "Host_Response_Time               object\n",
              "Host_Thumbnail_Url               object\n",
              "Host_Picture_Url                 object\n",
              "Host_Neighbourhood               object\n",
              "Host_Verifications               object\n",
              "Street                           object\n",
              "Neighbourhood_Cleansed           object\n",
              "Smart_Location                   object\n",
              "Property_Type                    object\n",
              "Room_Type                        object\n",
              "Bed_Type                         object\n",
              "Amenities                        object\n",
              "Calendar_Updated                 object\n",
              "Calendar_last_Scraped            object\n",
              "First_Review                     object\n",
              "Last_Review                      object\n",
              "Cancellation_Policy              object\n",
              "Features                         object"
            ],
            "text/html": [
              "\n",
              "  <div id=\"df-9d9b93fb-adba-4415-80b9-fc43c5cf93a2\">\n",
              "    <div class=\"colab-df-container\">\n",
              "      <div>\n",
              "<style scoped>\n",
              "    .dataframe tbody tr th:only-of-type {\n",
              "        vertical-align: middle;\n",
              "    }\n",
              "\n",
              "    .dataframe tbody tr th {\n",
              "        vertical-align: top;\n",
              "    }\n",
              "\n",
              "    .dataframe thead th {\n",
              "        text-align: right;\n",
              "    }\n",
              "</style>\n",
              "<table border=\"1\" class=\"dataframe\">\n",
              "  <thead>\n",
              "    <tr style=\"text-align: right;\">\n",
              "      <th></th>\n",
              "      <th>Tipo de Variable</th>\n",
              "    </tr>\n",
              "  </thead>\n",
              "  <tbody>\n",
              "    <tr>\n",
              "      <th>Summary</th>\n",
              "      <td>object</td>\n",
              "    </tr>\n",
              "    <tr>\n",
              "      <th>Space</th>\n",
              "      <td>object</td>\n",
              "    </tr>\n",
              "    <tr>\n",
              "      <th>Description</th>\n",
              "      <td>object</td>\n",
              "    </tr>\n",
              "    <tr>\n",
              "      <th>Neighborhood_Overview</th>\n",
              "      <td>object</td>\n",
              "    </tr>\n",
              "    <tr>\n",
              "      <th>Notes</th>\n",
              "      <td>object</td>\n",
              "    </tr>\n",
              "    <tr>\n",
              "      <th>Transit</th>\n",
              "      <td>object</td>\n",
              "    </tr>\n",
              "    <tr>\n",
              "      <th>Access</th>\n",
              "      <td>object</td>\n",
              "    </tr>\n",
              "    <tr>\n",
              "      <th>Interaction</th>\n",
              "      <td>object</td>\n",
              "    </tr>\n",
              "    <tr>\n",
              "      <th>House_Rules</th>\n",
              "      <td>object</td>\n",
              "    </tr>\n",
              "    <tr>\n",
              "      <th>Thumbnail_Url</th>\n",
              "      <td>object</td>\n",
              "    </tr>\n",
              "    <tr>\n",
              "      <th>Medium_Url</th>\n",
              "      <td>object</td>\n",
              "    </tr>\n",
              "    <tr>\n",
              "      <th>Picture_Url</th>\n",
              "      <td>object</td>\n",
              "    </tr>\n",
              "    <tr>\n",
              "      <th>XL_Picture_Url</th>\n",
              "      <td>object</td>\n",
              "    </tr>\n",
              "    <tr>\n",
              "      <th>Host_URL</th>\n",
              "      <td>object</td>\n",
              "    </tr>\n",
              "    <tr>\n",
              "      <th>Host_Since</th>\n",
              "      <td>object</td>\n",
              "    </tr>\n",
              "    <tr>\n",
              "      <th>Host_Location</th>\n",
              "      <td>object</td>\n",
              "    </tr>\n",
              "    <tr>\n",
              "      <th>Host_About</th>\n",
              "      <td>object</td>\n",
              "    </tr>\n",
              "    <tr>\n",
              "      <th>Host_Response_Time</th>\n",
              "      <td>object</td>\n",
              "    </tr>\n",
              "    <tr>\n",
              "      <th>Host_Thumbnail_Url</th>\n",
              "      <td>object</td>\n",
              "    </tr>\n",
              "    <tr>\n",
              "      <th>Host_Picture_Url</th>\n",
              "      <td>object</td>\n",
              "    </tr>\n",
              "    <tr>\n",
              "      <th>Host_Neighbourhood</th>\n",
              "      <td>object</td>\n",
              "    </tr>\n",
              "    <tr>\n",
              "      <th>Host_Verifications</th>\n",
              "      <td>object</td>\n",
              "    </tr>\n",
              "    <tr>\n",
              "      <th>Street</th>\n",
              "      <td>object</td>\n",
              "    </tr>\n",
              "    <tr>\n",
              "      <th>Neighbourhood_Cleansed</th>\n",
              "      <td>object</td>\n",
              "    </tr>\n",
              "    <tr>\n",
              "      <th>Smart_Location</th>\n",
              "      <td>object</td>\n",
              "    </tr>\n",
              "    <tr>\n",
              "      <th>Property_Type</th>\n",
              "      <td>object</td>\n",
              "    </tr>\n",
              "    <tr>\n",
              "      <th>Room_Type</th>\n",
              "      <td>object</td>\n",
              "    </tr>\n",
              "    <tr>\n",
              "      <th>Bed_Type</th>\n",
              "      <td>object</td>\n",
              "    </tr>\n",
              "    <tr>\n",
              "      <th>Amenities</th>\n",
              "      <td>object</td>\n",
              "    </tr>\n",
              "    <tr>\n",
              "      <th>Calendar_Updated</th>\n",
              "      <td>object</td>\n",
              "    </tr>\n",
              "    <tr>\n",
              "      <th>Calendar_last_Scraped</th>\n",
              "      <td>object</td>\n",
              "    </tr>\n",
              "    <tr>\n",
              "      <th>First_Review</th>\n",
              "      <td>object</td>\n",
              "    </tr>\n",
              "    <tr>\n",
              "      <th>Last_Review</th>\n",
              "      <td>object</td>\n",
              "    </tr>\n",
              "    <tr>\n",
              "      <th>Cancellation_Policy</th>\n",
              "      <td>object</td>\n",
              "    </tr>\n",
              "    <tr>\n",
              "      <th>Features</th>\n",
              "      <td>object</td>\n",
              "    </tr>\n",
              "  </tbody>\n",
              "</table>\n",
              "</div>\n",
              "      <button class=\"colab-df-convert\" onclick=\"convertToInteractive('df-9d9b93fb-adba-4415-80b9-fc43c5cf93a2')\"\n",
              "              title=\"Convert this dataframe to an interactive table.\"\n",
              "              style=\"display:none;\">\n",
              "        \n",
              "  <svg xmlns=\"http://www.w3.org/2000/svg\" height=\"24px\"viewBox=\"0 0 24 24\"\n",
              "       width=\"24px\">\n",
              "    <path d=\"M0 0h24v24H0V0z\" fill=\"none\"/>\n",
              "    <path d=\"M18.56 5.44l.94 2.06.94-2.06 2.06-.94-2.06-.94-.94-2.06-.94 2.06-2.06.94zm-11 1L8.5 8.5l.94-2.06 2.06-.94-2.06-.94L8.5 2.5l-.94 2.06-2.06.94zm10 10l.94 2.06.94-2.06 2.06-.94-2.06-.94-.94-2.06-.94 2.06-2.06.94z\"/><path d=\"M17.41 7.96l-1.37-1.37c-.4-.4-.92-.59-1.43-.59-.52 0-1.04.2-1.43.59L10.3 9.45l-7.72 7.72c-.78.78-.78 2.05 0 2.83L4 21.41c.39.39.9.59 1.41.59.51 0 1.02-.2 1.41-.59l7.78-7.78 2.81-2.81c.8-.78.8-2.07 0-2.86zM5.41 20L4 18.59l7.72-7.72 1.47 1.35L5.41 20z\"/>\n",
              "  </svg>\n",
              "      </button>\n",
              "      \n",
              "  <style>\n",
              "    .colab-df-container {\n",
              "      display:flex;\n",
              "      flex-wrap:wrap;\n",
              "      gap: 12px;\n",
              "    }\n",
              "\n",
              "    .colab-df-convert {\n",
              "      background-color: #E8F0FE;\n",
              "      border: none;\n",
              "      border-radius: 50%;\n",
              "      cursor: pointer;\n",
              "      display: none;\n",
              "      fill: #1967D2;\n",
              "      height: 32px;\n",
              "      padding: 0 0 0 0;\n",
              "      width: 32px;\n",
              "    }\n",
              "\n",
              "    .colab-df-convert:hover {\n",
              "      background-color: #E2EBFA;\n",
              "      box-shadow: 0px 1px 2px rgba(60, 64, 67, 0.3), 0px 1px 3px 1px rgba(60, 64, 67, 0.15);\n",
              "      fill: #174EA6;\n",
              "    }\n",
              "\n",
              "    [theme=dark] .colab-df-convert {\n",
              "      background-color: #3B4455;\n",
              "      fill: #D2E3FC;\n",
              "    }\n",
              "\n",
              "    [theme=dark] .colab-df-convert:hover {\n",
              "      background-color: #434B5C;\n",
              "      box-shadow: 0px 1px 3px 1px rgba(0, 0, 0, 0.15);\n",
              "      filter: drop-shadow(0px 1px 2px rgba(0, 0, 0, 0.3));\n",
              "      fill: #FFFFFF;\n",
              "    }\n",
              "  </style>\n",
              "\n",
              "      <script>\n",
              "        const buttonEl =\n",
              "          document.querySelector('#df-9d9b93fb-adba-4415-80b9-fc43c5cf93a2 button.colab-df-convert');\n",
              "        buttonEl.style.display =\n",
              "          google.colab.kernel.accessAllowed ? 'block' : 'none';\n",
              "\n",
              "        async function convertToInteractive(key) {\n",
              "          const element = document.querySelector('#df-9d9b93fb-adba-4415-80b9-fc43c5cf93a2');\n",
              "          const dataTable =\n",
              "            await google.colab.kernel.invokeFunction('convertToInteractive',\n",
              "                                                     [key], {});\n",
              "          if (!dataTable) return;\n",
              "\n",
              "          const docLinkHtml = 'Like what you see? Visit the ' +\n",
              "            '<a target=\"_blank\" href=https://colab.research.google.com/notebooks/data_table.ipynb>data table notebook</a>'\n",
              "            + ' to learn more about interactive tables.';\n",
              "          element.innerHTML = '';\n",
              "          dataTable['output_type'] = 'display_data';\n",
              "          await google.colab.output.renderOutput(dataTable, element);\n",
              "          const docLink = document.createElement('div');\n",
              "          docLink.innerHTML = docLinkHtml;\n",
              "          element.appendChild(docLink);\n",
              "        }\n",
              "      </script>\n",
              "    </div>\n",
              "  </div>\n",
              "  "
            ]
          },
          "metadata": {},
          "execution_count": 20
        }
      ],
      "source": [
        "data_types=pd.DataFrame({'Tipo de Variable': data.select_dtypes(exclude=[\"float64\",\"int64\"]).dtypes})\n",
        "data_types"
      ]
    },
    {
      "cell_type": "markdown",
      "metadata": {
        "id": "vQgLR2qwq60g"
      },
      "source": [
        "Todas aquellas variables que sean de tipo fecha las pasaremos a número de días hasta la actualidad.\n",
        "\n",
        "Por otro lado, la variable Host_Response se puede transformar a ordinal numérica.  "
      ]
    },
    {
      "cell_type": "code",
      "execution_count": 21,
      "metadata": {
        "id": "tqIcB3eTq60g"
      },
      "outputs": [],
      "source": [
        "data['First_Review'] = (pd.to_datetime(\"2022-05-22\") - pd.to_datetime(data['First_Review'])).dt.days\n",
        "data['Last_Review'] = (pd.to_datetime(\"2022-05-22\") - pd.to_datetime(data['Last_Review'])).dt.days\n",
        "data['Calendar_last_Scraped'] = (pd.to_datetime(\"2022-05-22\") - pd.to_datetime(data['Calendar_last_Scraped'])).dt.days\n",
        "data['Host_Since'] = (pd.to_datetime(\"2022-05-22\") - pd.to_datetime(data['Host_Since'])).dt.days\n"
      ]
    },
    {
      "cell_type": "code",
      "execution_count": 22,
      "metadata": {
        "id": "UiVpUHfUq60h"
      },
      "outputs": [],
      "source": [
        "Host_response = {\"Host_Response_Time\": {\"within an hour\": 1, \"within a few hours\": 2, \"within a day\": 3, \"a few days or more\": 4, 99:99}}\n",
        "data=data.replace(Host_response)"
      ]
    },
    {
      "cell_type": "markdown",
      "metadata": {
        "id": "26bMjXkzq60h"
      },
      "source": [
        "Las variables Host_Neighbourhood y Neighbourhood_Cleansed tienen demasiados tipos distintos de observaciones por lo que la transformaremos de modo que si el tipo no se repite un número determinado de veces sea sustituido por \"otros\". "
      ]
    },
    {
      "cell_type": "code",
      "execution_count": 23,
      "metadata": {
        "id": "93r-g4BEq60h"
      },
      "outputs": [],
      "source": [
        "data.loc[data.groupby('Host_Neighbourhood').Host_Neighbourhood.transform('count').lt(15), 'Host_Neighbourhood'] = \"otros\"    \n",
        "data.loc[data.groupby('Neighbourhood_Cleansed').Neighbourhood_Cleansed.transform('count').lt(10), 'Neighbourhood_Cleansed'] = \"otros\"    "
      ]
    },
    {
      "cell_type": "markdown",
      "metadata": {
        "id": "VMSlgaoIq60h"
      },
      "source": [
        "La variable calendar_updated nos indica hace cuanto hace cuanto tiempo fue actualizada la información sobre el airbnb. Esta variable es de tipo *string* pero sería de mayor uso si fuera una variable numérica. Transformaremos esta variable pasándola a *numeric* y lo haremos en meses. Antes de pasarla a numérica, remplazaremos los valores por número de meses. Para ello, quitaremos la frase de 'months ago' cuando la tenga y en el caso de que sea 'weeks ago' dividiremos el número entre 4, en el caso de que sea Days ago dividiremos el número entre 30. Cuando el dato sea 'today', lo remplazaremos por 0 y cuando sea 'never' le asignaremos el valor de 100."
      ]
    },
    {
      "cell_type": "code",
      "execution_count": 24,
      "metadata": {
        "id": "Nbk-mKDdq60i"
      },
      "outputs": [],
      "source": [
        "data['Calendar_Updated'] = data['Calendar_Updated'].str.replace(' months ago', '' )\n",
        "data['Calendar_Updated'] = data['Calendar_Updated'].str.replace('1 week ago', '0.25' )\n",
        "data['Calendar_Updated'] = data['Calendar_Updated'].str.replace('a week ago', '0.25' )\n",
        "data['Calendar_Updated'] = data['Calendar_Updated'].str.replace('2 weeks ago', '0.5' )\n",
        "data['Calendar_Updated'] = data['Calendar_Updated'].str.replace('3 weeks ago',  '0.75')\n",
        "data['Calendar_Updated'] = data['Calendar_Updated'].str.replace('4 weeks ago',  '1')\n",
        "data['Calendar_Updated'] = data['Calendar_Updated'].str.replace('5 weeks ago',  '1.25')\n",
        "data['Calendar_Updated'] = data['Calendar_Updated'].str.replace('6 weeks ago',  '1.5')\n",
        "data['Calendar_Updated'] = data['Calendar_Updated'].str.replace('7 weeks ago',  '1.75')\n",
        "data['Calendar_Updated'] = data['Calendar_Updated'].str.replace('today', '0' )\n",
        "data['Calendar_Updated'] = data['Calendar_Updated'].str.replace('yesterday', '0.03' )\n",
        "data['Calendar_Updated'] = data['Calendar_Updated'].str.replace('2 days ago', '0.06' )\n",
        "data['Calendar_Updated'] = data['Calendar_Updated'].str.replace('3 days ago', '0.1' )\n",
        "data['Calendar_Updated'] = data['Calendar_Updated'].str.replace('4 days ago', '0.13' )\n",
        "data['Calendar_Updated'] = data['Calendar_Updated'].str.replace('5 days ago', '0.16' )\n",
        "data['Calendar_Updated'] = data['Calendar_Updated'].str.replace('6 days ago', '0.2' )\n",
        "data['Calendar_Updated'] = data['Calendar_Updated'].str.replace('never', '100' )\n"
      ]
    },
    {
      "cell_type": "markdown",
      "metadata": {
        "id": "Bptvli1LoH24"
      },
      "source": [
        "Una vez remplazados los valores, podemos transformar la variable en numérica:"
      ]
    },
    {
      "cell_type": "code",
      "execution_count": 25,
      "metadata": {
        "id": "WV7n4JaZoH25"
      },
      "outputs": [],
      "source": [
        "data['Calendar_Updated'] = pd.to_numeric(data['Calendar_Updated'])"
      ]
    },
    {
      "cell_type": "markdown",
      "metadata": {
        "id": "ciGqvbk4q60j"
      },
      "source": [
        "Como en esta base de datos hay muchas variables de texto con las que no tiene sentido trabajar en modelos, separaremos la base de datos en dos. Por un lado, todas aquellas variables numéricas y categóricas que puedan ser dummies y por otro lado aquellas variables de texto con las que trabajaremos posteriormente. "
      ]
    },
    {
      "cell_type": "code",
      "execution_count": 26,
      "metadata": {
        "id": "QoK8NOT0q60j"
      },
      "outputs": [],
      "source": [
        "data_num = data.drop(columns = ['Summary', 'Space', 'Description' , 'Neighborhood_Overview', 'Notes', 'Transit', 'Access', \n",
        "                                'Interaction' , 'House_Rules', 'Thumbnail_Url', 'Medium_Url', 'Picture_Url', 'XL_Picture_Url',\n",
        "                               'Host_URL', 'Host_Location', 'Host_About', 'Host_Thumbnail_Url', 'Host_Picture_Url', 'Street' , 'Neighbourhood_Cleansed',\n",
        "                               'Features', 'Amenities', 'Host_Verifications'])"
      ]
    },
    {
      "cell_type": "code",
      "execution_count": 27,
      "metadata": {
        "colab": {
          "base_uri": "https://localhost:8080/"
        },
        "id": "teTciLofq60j",
        "outputId": "9d8b6c2f-0955-4da6-e802-e83b4b45a1d9"
      },
      "outputs": [
        {
          "output_type": "execute_result",
          "data": {
            "text/plain": [
              "(13262, 44)"
            ]
          },
          "metadata": {},
          "execution_count": 27
        }
      ],
      "source": [
        "data_num.shape"
      ]
    },
    {
      "cell_type": "markdown",
      "metadata": {
        "id": "r42PnIRlbkv6"
      },
      "source": [
        "A continuación creamos un mapa de calor donde podemos observar de forma visual cómo se relacionan entre sí las variables del dataset:"
      ]
    },
    {
      "cell_type": "code",
      "execution_count": 28,
      "metadata": {
        "colab": {
          "base_uri": "https://localhost:8080/",
          "height": 694
        },
        "id": "eWI0LWW_q60k",
        "outputId": "4ccd5c3e-3cc4-4e62-a3db-d81a285b5059",
        "scrolled": true
      },
      "outputs": [
        {
          "output_type": "display_data",
          "data": {
            "text/plain": [
              "<Figure size 720x720 with 2 Axes>"
            ],
            "image/png": "[encoded data removed]"
          },
          "metadata": {
            "needs_background": "light"
          }
        }
      ],
      "source": [
        "correlations = data_num.corr()\n",
        "f, ax = plt.subplots(figsize=(10,10))\n",
        "sns.heatmap(correlations,\n",
        "    vmin=-1, vmax=1, center=0,\n",
        "    cmap=sns.diverging_palette(20, 220, n=200),\n",
        "               square=True\n",
        ")\n",
        "ax.set(title='Heatmap de Correlación')\n",
        "plt.show()"
      ]
    },
    {
      "cell_type": "markdown",
      "metadata": {
        "id": "Iv-d330OoH4G"
      },
      "source": [
        "En el heatmap se puede destacar la alta correlación entre las variables relacionadas con las reseñas de los clientes. Existe una elevada correlación positiva entre las variables First_Review, Last_Review, Review_Scores_Rating, Review_Scores_Accuracy, Review_Scores_Cleanliness, Review_Scores_Checkin, Review_Scores_Location, Review_Scores_Value y Reviews_per_Month. Estos valores son redundantes ya que normalmente cuando las reseñas de un airbnb son buenas, lo son en todos sus aspectos, menos en algún caso concreto. Se puede observar también una alta correlación entre Availability_30, Availability_60 Availability_90 y Availability_365, ya que indican el número de veces que el alojamiento ha estado disponible en 30, 60, 90 y 365 días respectivamente. También destaca la correlación entre Weekly_Discount y Monthly_Discount, lo cual tiene sentido ya que cuanto más descuento ofreza por alojarse una semana, mayor descuento ofrecerá por el mes. Estas dos variables muestran una correlación casi nula con el resto de variables.\n",
        "Las variables Accomodates y Guests_Included también muestran una correlación bastante elevada. Estas representan la capacidad que tiene la vivienda y el número de huéspedes que se incluyen respectivamente.\n",
        "\n",
        "Para analizar la variable objetivo mostramos en otro mapa de calor las correlaciones entre las variables que más se correlacionan con el precio:"
      ]
    },
    {
      "cell_type": "code",
      "execution_count": 29,
      "metadata": {
        "colab": {
          "base_uri": "https://localhost:8080/",
          "height": 405
        },
        "id": "m-NBsAPlq60k",
        "outputId": "02d430bd-0ec7-4d05-8183-d46df38828a5",
        "scrolled": true
      },
      "outputs": [
        {
          "output_type": "display_data",
          "data": {
            "text/plain": [
              "<Figure size 288x432 with 2 Axes>"
            ],
            "image/png": "[encoded data removed]"
          },
          "metadata": {
            "needs_background": "light"
          }
        }
      ],
      "source": [
        "f, ax = plt.subplots(figsize=(4, 6))\n",
        "sns.heatmap(\n",
        "    correlations[['Price']].sort_values(by='Price',ascending=False)[abs(correlations['Price'])>0.1],\n",
        "    vmin=-1, vmax=1,\n",
        "    cmap=sns.diverging_palette(20, 220, n=200),\n",
        "    annot=True\n",
        "    );\n",
        "\n",
        "ax.set_title('Variables Numéricas Correlacionadas significativamente con el Precio', fontdict={'fontsize':18}, pad=16);"
      ]
    },
    {
      "cell_type": "markdown",
      "metadata": {
        "id": "qjfzYAyKoH4I"
      },
      "source": [
        "La variable que tiene mayor coeficiente de correlación Pearson con el precio es Accomodates. Esta variable indica el número de huéspedes que se pueden alojar en el Airbnb. Esto nos indica, que cuanto más cuanto más espacio haya para más personas, mayor será el precio aunque no de forma significativa ya que el coeficiente es de 0.51 que indica una correlación positiva moderada. Por otro lado, el precio tiene una correlación de 0.45 con la variable Cleaning_Fee, que indica la tarifa que se cobra al huésped por limpieza. Las variables Guests_Included, Security_Deposit, Host_Listings_Count, Calendar_Updated y Latitude también se correlacionan de forma positiva con el precio, pero el coeficiente que presentan es muy bajo y por tanto poco significativo.\n"
      ]
    },
    {
      "cell_type": "code",
      "execution_count": 30,
      "metadata": {
        "id": "tIJMJL7Aq60k"
      },
      "outputs": [],
      "source": [
        "data_num = pd.get_dummies(data_num)"
      ]
    },
    {
      "cell_type": "markdown",
      "metadata": {
        "id": "Tjn7EBrxq60k"
      },
      "source": [
        "A continuación vamos a estudiar la variable Neighbourhood_Cleansed. Veremos en qué zonas de Madrid hay más alojamientos de Airbnb disponibles y qué nivel de precios hay en cada zona. Para ello, utilizaremos las variables Longitude y Latitude que nos indican en la zona que se encuentran."
      ]
    },
    {
      "cell_type": "code",
      "execution_count": 31,
      "metadata": {
        "colab": {
          "base_uri": "https://localhost:8080/",
          "height": 517
        },
        "id": "O8S3LptZq60l",
        "outputId": "6140da13-11de-4e6f-e013-e419cb99dc6a",
        "scrolled": false
      },
      "outputs": [
        {
          "output_type": "display_data",
          "data": {
            "text/plain": [
              "<Figure size 1080x576 with 1 Axes>"
            ],
            "image/png": "[encoded data removed]"
          },
          "metadata": {
            "needs_background": "light"
          }
        }
      ],
      "source": [
        "fig, ax = plt.subplots(figsize=(15, 8))\n",
        "with sns.plotting_context(\"notebook\", font_scale=1.5):\n",
        "    sns.scatterplot(x='Longitude',\n",
        "                    y='Latitude',\n",
        "                    size='Price',\n",
        "                    hue = 'Neighbourhood_Cleansed',\n",
        "                    palette=sns.color_palette(\"husl\", len(pd.unique(data['Neighbourhood_Cleansed']))),\n",
        "                    sizes=(10, 300), \n",
        "                    data=data, \n",
        "                    ax=ax,\n",
        "                    legend = False)\n",
        "\n",
        "ax.set_xlabel(r'$Longitude$')\n",
        "ax.set_ylabel(r'$Latitude$')\n",
        "ax.set(ylim=(40.3,40.55), xlim=(-3.9,-3.5), title='Precio por vivienda y zona en Madrid')\n",
        "\n",
        "plt.show()"
      ]
    },
    {
      "cell_type": "markdown",
      "metadata": {
        "id": "QvM-fzk6oH4a"
      },
      "source": [
        "En el gráfico superior podemos observar la cantidad de Airbnbs en cada zona y comparar el nivel de precios. Por un lado, se puede destacar que las viviendas más caras se encuentran en el noroeste de Madrid, y que hay muy poca oferta de alojamientos en esta zona. Por tanto, se puede decir que esta es una de las zonas mejor valoradas de Madrid, ya que hay poca oferta y precios elevados. En zona del centro marcada en rojo se encuentra Chamberí, donde se aprecian unos precios relativamente elevados en comparación con los precios de alrededor. El centro de Madrid es la zona que más Airbnbs tiene disponibles y puede ser por esta razón por la que los precios no son elevados, y son similares entre ellos. Por otro lado, en el sur los precios son bastante bajos por lo general menos algún caso diferente, como podemos comprobar en la zona rosa\n",
        "En cada zona hay algún Airbnb cuyo precio es mucho más elevado que el resto, que corresponderán a viviendas de lujo en esas zonas y por tanto son outliers.Por ejemplo, en la zona azul en el noreste de Madrid los precios son moderados, y destaca un Airbnb con un precio que triplica al resto.\n"
      ]
    },
    {
      "cell_type": "markdown",
      "metadata": {
        "id": "_soAiVO0q60m"
      },
      "source": [
        "## **Principal Component Analysis (PCA)**"
      ]
    },
    {
      "cell_type": "markdown",
      "metadata": {
        "id": "PMtd1Hngq60l"
      },
      "source": [
        "A continuación realizaremos un **PCA**. Esto nos ayudará no solo a reducir dimensiones en caso de que sea necesario si no a identificar la presencia de outliers"
      ]
    },
    {
      "cell_type": "markdown",
      "metadata": {
        "id": "MrSOOsPxq60m"
      },
      "source": [
        "Antes de realizar el PCA, es conviniente que normalicemos las variables de esta base de datos para poder trabajar con ellas ya que el cálculo de los componentes principales depende de las unidades de medida empleadas en las variables. Esto se debe a que cada variable está medida en una escala diferente. El problema de las escalas diferentes es que luego el análisis le va a dar mayor peso a las variables que estén en escalas mayores. Para evitar esto, lo que haremos es normalizar las variables manualmente, de manera que tengan media cero y desviación estándar uno, ya que, de lo contrario, las variables con mayor varianza dominarían al resto, aunque en el caso en que las variables estén medidas en las mismas unidades, podemos optar por no estandarizarlas. \n",
        "\n",
        "El objetivo final de realizar la normalización es reducir todas las características a una escala común sin distorsionar las diferencias en el rango de los valores. A continuación creamos un nuevo dataset con los datos normalizados:\n"
      ]
    },
    {
      "cell_type": "code",
      "execution_count": 32,
      "metadata": {
        "colab": {
          "base_uri": "https://localhost:8080/",
          "height": 317
        },
        "id": "7XYqfhIgq60m",
        "outputId": "073dfd21-bcef-4820-9fc5-6896354f76aa",
        "scrolled": false
      },
      "outputs": [
        {
          "output_type": "execute_result",
          "data": {
            "text/plain": [
              "     Host_ID  Host_Since  Host_Response_Time  Host_Response_Rate  \\\n",
              "40 -0.343929   -0.136671           -0.400766            0.039018   \n",
              "41 -0.350969   -0.128134           -0.370083            0.499207   \n",
              "42  0.868699   -0.935734           -0.400766            0.499207   \n",
              "43 -0.984237    1.314618           -0.400766            0.499207   \n",
              "44 -0.773648    0.507018           -0.400766            0.499207   \n",
              "\n",
              "    Host_Listings_Count  Host_Total_Listings_Count  Latitude  Longitude  \\\n",
              "40            -0.241816                  -0.241816 -0.643253   0.423865   \n",
              "41            -0.313712                  -0.313712  0.244734   0.247777   \n",
              "42            -0.277764                  -0.277764  0.359438   0.157593   \n",
              "43            -0.062076                  -0.062076  0.317386   0.180382   \n",
              "44            -0.277764                  -0.277764  0.374384   0.185954   \n",
              "\n",
              "    Accommodates  Bathrooms  ...  Bed_Type_Airbed  Bed_Type_Couch  \\\n",
              "40     -0.594104   0.064964  ...         -0.01942       -0.033649   \n",
              "41     -0.594104  -0.102801  ...         -0.01942       -0.033649   \n",
              "42     -0.092129  -0.102801  ...         -0.01942       -0.033649   \n",
              "43     -1.096080  -0.102801  ...         -0.01942       -0.033649   \n",
              "44      1.413798  -0.102801  ...         -0.01942       -0.033649   \n",
              "\n",
              "    Bed_Type_Futon  Bed_Type_Pull-out Sofa  Bed_Type_Real Bed  \\\n",
              "40        -0.05217               -0.134887           0.150302   \n",
              "41        -0.05217               -0.134887           0.150302   \n",
              "42        -0.05217               -0.134887           0.150302   \n",
              "43        -0.05217               -0.134887           0.150302   \n",
              "44        -0.05217               -0.134887           0.150302   \n",
              "\n",
              "    Cancellation_Policy_flexible  Cancellation_Policy_moderate  \\\n",
              "40                      1.446353                     -0.652679   \n",
              "41                     -0.691342                      1.532032   \n",
              "42                      1.446353                     -0.652679   \n",
              "43                     -0.691342                     -0.652679   \n",
              "44                     -0.691342                      1.532032   \n",
              "\n",
              "    Cancellation_Policy_strict  Cancellation_Policy_super_strict_30  \\\n",
              "40                   -0.778404                            -0.012281   \n",
              "41                   -0.778404                            -0.012281   \n",
              "42                   -0.778404                            -0.012281   \n",
              "43                    1.284584                            -0.012281   \n",
              "44                   -0.778404                            -0.012281   \n",
              "\n",
              "    Cancellation_Policy_super_strict_60  \n",
              "40                             -0.01942  \n",
              "41                             -0.01942  \n",
              "42                             -0.01942  \n",
              "43                             -0.01942  \n",
              "44                             -0.01942  \n",
              "\n",
              "[5 rows x 177 columns]"
            ],
            "text/html": [
              "\n",
              "  <div id=\"df-ee581925-5d63-4cd2-b972-3354e791e441\">\n",
              "    <div class=\"colab-df-container\">\n",
              "      <div>\n",
              "<style scoped>\n",
              "    .dataframe tbody tr th:only-of-type {\n",
              "        vertical-align: middle;\n",
              "    }\n",
              "\n",
              "    .dataframe tbody tr th {\n",
              "        vertical-align: top;\n",
              "    }\n",
              "\n",
              "    .dataframe thead th {\n",
              "        text-align: right;\n",
              "    }\n",
              "</style>\n",
              "<table border=\"1\" class=\"dataframe\">\n",
              "  <thead>\n",
              "    <tr style=\"text-align: right;\">\n",
              "      <th></th>\n",
              "      <th>Host_ID</th>\n",
              "      <th>Host_Since</th>\n",
              "      <th>Host_Response_Time</th>\n",
              "      <th>Host_Response_Rate</th>\n",
              "      <th>Host_Listings_Count</th>\n",
              "      <th>Host_Total_Listings_Count</th>\n",
              "      <th>Latitude</th>\n",
              "      <th>Longitude</th>\n",
              "      <th>Accommodates</th>\n",
              "      <th>Bathrooms</th>\n",
              "      <th>...</th>\n",
              "      <th>Bed_Type_Airbed</th>\n",
              "      <th>Bed_Type_Couch</th>\n",
              "      <th>Bed_Type_Futon</th>\n",
              "      <th>Bed_Type_Pull-out Sofa</th>\n",
              "      <th>Bed_Type_Real Bed</th>\n",
              "      <th>Cancellation_Policy_flexible</th>\n",
              "      <th>Cancellation_Policy_moderate</th>\n",
              "      <th>Cancellation_Policy_strict</th>\n",
              "      <th>Cancellation_Policy_super_strict_30</th>\n",
              "      <th>Cancellation_Policy_super_strict_60</th>\n",
              "    </tr>\n",
              "  </thead>\n",
              "  <tbody>\n",
              "    <tr>\n",
              "      <th>40</th>\n",
              "      <td>-0.343929</td>\n",
              "      <td>-0.136671</td>\n",
              "      <td>-0.400766</td>\n",
              "      <td>0.039018</td>\n",
              "      <td>-0.241816</td>\n",
              "      <td>-0.241816</td>\n",
              "      <td>-0.643253</td>\n",
              "      <td>0.423865</td>\n",
              "      <td>-0.594104</td>\n",
              "      <td>0.064964</td>\n",
              "      <td>...</td>\n",
              "      <td>-0.01942</td>\n",
              "      <td>-0.033649</td>\n",
              "      <td>-0.05217</td>\n",
              "      <td>-0.134887</td>\n",
              "      <td>0.150302</td>\n",
              "      <td>1.446353</td>\n",
              "      <td>-0.652679</td>\n",
              "      <td>-0.778404</td>\n",
              "      <td>-0.012281</td>\n",
              "      <td>-0.01942</td>\n",
              "    </tr>\n",
              "    <tr>\n",
              "      <th>41</th>\n",
              "      <td>-0.350969</td>\n",
              "      <td>-0.128134</td>\n",
              "      <td>-0.370083</td>\n",
              "      <td>0.499207</td>\n",
              "      <td>-0.313712</td>\n",
              "      <td>-0.313712</td>\n",
              "      <td>0.244734</td>\n",
              "      <td>0.247777</td>\n",
              "      <td>-0.594104</td>\n",
              "      <td>-0.102801</td>\n",
              "      <td>...</td>\n",
              "      <td>-0.01942</td>\n",
              "      <td>-0.033649</td>\n",
              "      <td>-0.05217</td>\n",
              "      <td>-0.134887</td>\n",
              "      <td>0.150302</td>\n",
              "      <td>-0.691342</td>\n",
              "      <td>1.532032</td>\n",
              "      <td>-0.778404</td>\n",
              "      <td>-0.012281</td>\n",
              "      <td>-0.01942</td>\n",
              "    </tr>\n",
              "    <tr>\n",
              "      <th>42</th>\n",
              "      <td>0.868699</td>\n",
              "      <td>-0.935734</td>\n",
              "      <td>-0.400766</td>\n",
              "      <td>0.499207</td>\n",
              "      <td>-0.277764</td>\n",
              "      <td>-0.277764</td>\n",
              "      <td>0.359438</td>\n",
              "      <td>0.157593</td>\n",
              "      <td>-0.092129</td>\n",
              "      <td>-0.102801</td>\n",
              "      <td>...</td>\n",
              "      <td>-0.01942</td>\n",
              "      <td>-0.033649</td>\n",
              "      <td>-0.05217</td>\n",
              "      <td>-0.134887</td>\n",
              "      <td>0.150302</td>\n",
              "      <td>1.446353</td>\n",
              "      <td>-0.652679</td>\n",
              "      <td>-0.778404</td>\n",
              "      <td>-0.012281</td>\n",
              "      <td>-0.01942</td>\n",
              "    </tr>\n",
              "    <tr>\n",
              "      <th>43</th>\n",
              "      <td>-0.984237</td>\n",
              "      <td>1.314618</td>\n",
              "      <td>-0.400766</td>\n",
              "      <td>0.499207</td>\n",
              "      <td>-0.062076</td>\n",
              "      <td>-0.062076</td>\n",
              "      <td>0.317386</td>\n",
              "      <td>0.180382</td>\n",
              "      <td>-1.096080</td>\n",
              "      <td>-0.102801</td>\n",
              "      <td>...</td>\n",
              "      <td>-0.01942</td>\n",
              "      <td>-0.033649</td>\n",
              "      <td>-0.05217</td>\n",
              "      <td>-0.134887</td>\n",
              "      <td>0.150302</td>\n",
              "      <td>-0.691342</td>\n",
              "      <td>-0.652679</td>\n",
              "      <td>1.284584</td>\n",
              "      <td>-0.012281</td>\n",
              "      <td>-0.01942</td>\n",
              "    </tr>\n",
              "    <tr>\n",
              "      <th>44</th>\n",
              "      <td>-0.773648</td>\n",
              "      <td>0.507018</td>\n",
              "      <td>-0.400766</td>\n",
              "      <td>0.499207</td>\n",
              "      <td>-0.277764</td>\n",
              "      <td>-0.277764</td>\n",
              "      <td>0.374384</td>\n",
              "      <td>0.185954</td>\n",
              "      <td>1.413798</td>\n",
              "      <td>-0.102801</td>\n",
              "      <td>...</td>\n",
              "      <td>-0.01942</td>\n",
              "      <td>-0.033649</td>\n",
              "      <td>-0.05217</td>\n",
              "      <td>-0.134887</td>\n",
              "      <td>0.150302</td>\n",
              "      <td>-0.691342</td>\n",
              "      <td>1.532032</td>\n",
              "      <td>-0.778404</td>\n",
              "      <td>-0.012281</td>\n",
              "      <td>-0.01942</td>\n",
              "    </tr>\n",
              "  </tbody>\n",
              "</table>\n",
              "<p>5 rows × 177 columns</p>\n",
              "</div>\n",
              "      <button class=\"colab-df-convert\" onclick=\"convertToInteractive('df-ee581925-5d63-4cd2-b972-3354e791e441')\"\n",
              "              title=\"Convert this dataframe to an interactive table.\"\n",
              "              style=\"display:none;\">\n",
              "        \n",
              "  <svg xmlns=\"http://www.w3.org/2000/svg\" height=\"24px\"viewBox=\"0 0 24 24\"\n",
              "       width=\"24px\">\n",
              "    <path d=\"M0 0h24v24H0V0z\" fill=\"none\"/>\n",
              "    <path d=\"M18.56 5.44l.94 2.06.94-2.06 2.06-.94-2.06-.94-.94-2.06-.94 2.06-2.06.94zm-11 1L8.5 8.5l.94-2.06 2.06-.94-2.06-.94L8.5 2.5l-.94 2.06-2.06.94zm10 10l.94 2.06.94-2.06 2.06-.94-2.06-.94-.94-2.06-.94 2.06-2.06.94z\"/><path d=\"M17.41 7.96l-1.37-1.37c-.4-.4-.92-.59-1.43-.59-.52 0-1.04.2-1.43.59L10.3 9.45l-7.72 7.72c-.78.78-.78 2.05 0 2.83L4 21.41c.39.39.9.59 1.41.59.51 0 1.02-.2 1.41-.59l7.78-7.78 2.81-2.81c.8-.78.8-2.07 0-2.86zM5.41 20L4 18.59l7.72-7.72 1.47 1.35L5.41 20z\"/>\n",
              "  </svg>\n",
              "      </button>\n",
              "      \n",
              "  <style>\n",
              "    .colab-df-container {\n",
              "      display:flex;\n",
              "      flex-wrap:wrap;\n",
              "      gap: 12px;\n",
              "    }\n",
              "\n",
              "    .colab-df-convert {\n",
              "      background-color: #E8F0FE;\n",
              "      border: none;\n",
              "      border-radius: 50%;\n",
              "      cursor: pointer;\n",
              "      display: none;\n",
              "      fill: #1967D2;\n",
              "      height: 32px;\n",
              "      padding: 0 0 0 0;\n",
              "      width: 32px;\n",
              "    }\n",
              "\n",
              "    .colab-df-convert:hover {\n",
              "      background-color: #E2EBFA;\n",
              "      box-shadow: 0px 1px 2px rgba(60, 64, 67, 0.3), 0px 1px 3px 1px rgba(60, 64, 67, 0.15);\n",
              "      fill: #174EA6;\n",
              "    }\n",
              "\n",
              "    [theme=dark] .colab-df-convert {\n",
              "      background-color: #3B4455;\n",
              "      fill: #D2E3FC;\n",
              "    }\n",
              "\n",
              "    [theme=dark] .colab-df-convert:hover {\n",
              "      background-color: #434B5C;\n",
              "      box-shadow: 0px 1px 3px 1px rgba(0, 0, 0, 0.15);\n",
              "      filter: drop-shadow(0px 1px 2px rgba(0, 0, 0, 0.3));\n",
              "      fill: #FFFFFF;\n",
              "    }\n",
              "  </style>\n",
              "\n",
              "      <script>\n",
              "        const buttonEl =\n",
              "          document.querySelector('#df-ee581925-5d63-4cd2-b972-3354e791e441 button.colab-df-convert');\n",
              "        buttonEl.style.display =\n",
              "          google.colab.kernel.accessAllowed ? 'block' : 'none';\n",
              "\n",
              "        async function convertToInteractive(key) {\n",
              "          const element = document.querySelector('#df-ee581925-5d63-4cd2-b972-3354e791e441');\n",
              "          const dataTable =\n",
              "            await google.colab.kernel.invokeFunction('convertToInteractive',\n",
              "                                                     [key], {});\n",
              "          if (!dataTable) return;\n",
              "\n",
              "          const docLinkHtml = 'Like what you see? Visit the ' +\n",
              "            '<a target=\"_blank\" href=https://colab.research.google.com/notebooks/data_table.ipynb>data table notebook</a>'\n",
              "            + ' to learn more about interactive tables.';\n",
              "          element.innerHTML = '';\n",
              "          dataTable['output_type'] = 'display_data';\n",
              "          await google.colab.output.renderOutput(dataTable, element);\n",
              "          const docLink = document.createElement('div');\n",
              "          docLink.innerHTML = docLinkHtml;\n",
              "          element.appendChild(docLink);\n",
              "        }\n",
              "      </script>\n",
              "    </div>\n",
              "  </div>\n",
              "  "
            ]
          },
          "metadata": {},
          "execution_count": 32
        }
      ],
      "source": [
        "data_num_norm = (data_num - data_num.mean())/data_num.std()\n",
        "data_num_norm.head(5)"
      ]
    },
    {
      "cell_type": "markdown",
      "metadata": {
        "id": "Qf3rcxYJq60m"
      },
      "source": [
        "Utilizaremos el método de PCA que nos permitirá simplificar la información aportada por las variables predictoras en pocos componentes. A continuación realizamos el primer modelo PCA con todos los componentes, excluyendo a la variable objetivo ya que solo nos interesa analizar las variables predictoras en este caso.\n",
        "Además, cuando se trabaja con las varianzas, el PCA es muy sensible a los valores atípicos, por lo que es importante estudiar si los hay. En esta sección, también detectaremos los outliers mediante el PCA.\n"
      ]
    },
    {
      "cell_type": "code",
      "execution_count": 33,
      "metadata": {
        "colab": {
          "base_uri": "https://localhost:8080/",
          "height": 315
        },
        "id": "7kaEJMzKq60m",
        "outputId": "3d4c5563-c708-4806-b0fb-33ddc626f301"
      },
      "outputs": [
        {
          "output_type": "execute_result",
          "data": {
            "text/plain": [
              "Text(0.5, 1.0, 'PCA')"
            ]
          },
          "metadata": {},
          "execution_count": 33
        },
        {
          "output_type": "display_data",
          "data": {
            "text/plain": [
              "<Figure size 432x288 with 1 Axes>"
            ],
            "image/png": "[encoded data removed]"
          },
          "metadata": {
            "needs_background": "light"
          }
        }
      ],
      "source": [
        "# Realizamos el primer modelo PCA con todos los componentes\n",
        "\n",
        "data_num_PCA = data_num_norm.drop(columns ='Price')\n",
        "\n",
        "pca = PCA(n_components = 176, whiten=False, random_state=random_num)\n",
        "data_PCA = pca.fit_transform(data_num_PCA)\n",
        "sns.scatterplot(data_PCA[:,0], data_PCA[:,1],\n",
        "                color='orange',alpha=0.7)\n",
        "\n",
        "plt.xlabel(\"Componente 1\", fontsize = 10)\n",
        "plt.ylabel(\"Componente 2\", fontsize = 10)\n",
        "plt.title('PCA', fontsize = 15)\n"
      ]
    },
    {
      "cell_type": "code",
      "execution_count": 34,
      "metadata": {
        "colab": {
          "base_uri": "https://localhost:8080/"
        },
        "id": "GgUNaDBfq60n",
        "outputId": "81677045-1458-4a54-aa5d-fcbf633099f0",
        "scrolled": false
      },
      "outputs": [
        {
          "output_type": "stream",
          "name": "stdout",
          "text": [
            "119\n"
          ]
        }
      ],
      "source": [
        "var = np.cumsum(pca.explained_variance_ratio_)\n",
        "comps = [i for i,el in enumerate(np.cumsum(pca.explained_variance_ratio_)) if el > 0.85][0]\n",
        "print(comps)"
      ]
    },
    {
      "cell_type": "markdown",
      "metadata": {
        "id": "KQ0jZQ2vq60n"
      },
      "source": [
        "Vemos que 119 componentes explican el 85% de la varianza y por tanto será suficiente quedarnos con 119 en lugar de 176. A continuación realizamos otro PCA únicamente con 119 componentes. "
      ]
    },
    {
      "cell_type": "code",
      "execution_count": 35,
      "metadata": {
        "id": "cL0o_ie-q60n"
      },
      "outputs": [],
      "source": [
        "pca = PCA(n_components = comps, whiten=False, random_state=random_num)\n",
        "data_PCA = pca.fit_transform(data_num_PCA)"
      ]
    },
    {
      "cell_type": "code",
      "execution_count": 36,
      "metadata": {
        "colab": {
          "base_uri": "https://localhost:8080/"
        },
        "id": "lsQl1zjBq60n",
        "outputId": "a341b0aa-d5e0-46ee-a158-678178632a6a",
        "scrolled": true
      },
      "outputs": [
        {
          "output_type": "stream",
          "name": "stdout",
          "text": [
            "[(0.2929771762335126, 31), (0.2928704131409173, 29), (0.2927629617077166, 28), (0.29269362681402356, 30), (0.29259951680603796, 33), (0.29259924205115606, 32), (0.2925697201002037, 27), (0.28922683519187503, 26)]\n"
          ]
        },
        {
          "output_type": "execute_result",
          "data": {
            "text/plain": [
              "['Review_Scores_Checkin',\n",
              " 'Review_Scores_Accuracy',\n",
              " 'Review_Scores_Rating',\n",
              " 'Review_Scores_Cleanliness',\n",
              " 'Review_Scores_Location',\n",
              " 'Review_Scores_Communication',\n",
              " 'Last_Review',\n",
              " 'First_Review']"
            ]
          },
          "metadata": {},
          "execution_count": 36
        }
      ],
      "source": [
        "#Variables principales del primer componente\n",
        "\n",
        "main_variables = sorted([(abs(el),i) for i,el in enumerate(pca.components_[0])], reverse=True)\n",
        "print(main_variables[:8])\n",
        "[data_num_norm.columns[i] for n,i in main_variables[:8]]"
      ]
    },
    {
      "cell_type": "markdown",
      "metadata": {
        "id": "GFmq2e39oH4v"
      },
      "source": [
        "Hemos comprobado que las ocho variables principales del primer componente son las relacionadas con las puntuaciones de las reseñas, siendo estas 'Review_Scores_Checkin', 'Review_Scores_Accuracy', 'Review_Scores_Rating', 'Review_Scores_Cleanliness', 'Review_Scores_Location', 'Review_Scores_Communication', 'Last_Review' y 'First_Review'. Estas explican respectivamente el 29.29%, 29.28%, 29.27%, 29.26%, 29.25%, 29.25%, 29.25% y 28.29% de la varianza respectivamente. En el heatmap que se ha obtenido anteriormente, hemos podido comprobar que todas estas variables están altamente correlacionadas entre sí. "
      ]
    },
    {
      "cell_type": "code",
      "execution_count": 37,
      "metadata": {
        "id": "IywRU5-Xq60o"
      },
      "outputs": [],
      "source": [
        "reverse = pca.inverse_transform(data_PCA)\n",
        "\n",
        "data_nump = data_num_PCA.to_numpy()\n",
        "\n",
        "error = (data_num_PCA - reverse)**2\n",
        "\n",
        "score = np.sum(error,1)\n",
        "score_mean = np.mean(score)\n",
        "score_std = np.std(score)\n",
        "outliers = np.where(score> score_mean + 6*score_std)"
      ]
    },
    {
      "cell_type": "code",
      "execution_count": 38,
      "metadata": {
        "colab": {
          "base_uri": "https://localhost:8080/",
          "height": 313
        },
        "id": "OB6sz7upq60o",
        "outputId": "ebff06fb-5936-4f74-fdeb-b3950678721f",
        "scrolled": false
      },
      "outputs": [
        {
          "output_type": "execute_result",
          "data": {
            "text/plain": [
              "Text(0, 0.5, 'Componente 2')"
            ]
          },
          "metadata": {},
          "execution_count": 38
        },
        {
          "output_type": "display_data",
          "data": {
            "text/plain": [
              "<Figure size 432x288 with 1 Axes>"
            ],
            "image/png": "[encoded data removed]"
          },
          "metadata": {
            "needs_background": "light"
          }
        }
      ],
      "source": [
        "mark_outlier = np.where(score> score_mean + 6*score_std, True, False)\n",
        "sns.scatterplot(data_PCA[:,0], data_PCA[:,1], hue=mark_outlier)\n",
        "plt.title('Detección de outliers con PCA')\n",
        "plt.xlabel('Componente 1')\n",
        "plt.ylabel('Componente 2')"
      ]
    },
    {
      "cell_type": "code",
      "execution_count": 39,
      "metadata": {
        "colab": {
          "base_uri": "https://localhost:8080/"
        },
        "id": "zCg8Sjz_q60o",
        "outputId": "c5a68b2d-a42e-44b4-a825-217b78b37341"
      },
      "outputs": [
        {
          "output_type": "stream",
          "name": "stdout",
          "text": [
            "Total de outliers en la base de datos detectados con PCA: 48\n"
          ]
        }
      ],
      "source": [
        "sumoutliers=np.sum(mark_outlier)\n",
        "print(\"Total de outliers en la base de datos detectados con PCA:\", sumoutliers)"
      ]
    },
    {
      "cell_type": "markdown",
      "metadata": {
        "id": "L0_fyxk6q60p"
      },
      "source": [
        "Hemos obtenido el gráfico PCA con los valores atípicos en color naranja. Para ello, hemos creado una variable llamada mark_outlier donde se generan los outliers y que cuando detecta un outlier indica que es \"False\" y cuando no lo hay se indica que es \"True\". Después creamos un diagrama de puntos con sns.scatterplot y insertamos la nueva variable creada mark_outlier dentro de hue para así indicar en un color distinto los outliers y en la leyenda aparezca cuales son los outliers (False). Estos 48 valores atípicos convendría quitarlos o examinarlos ya que podrían afectar nuestro estudio. Podemos observar que hay algún dato que esta alejado y que podría parecer un valor atípico pero lo es y no aparece de otro color porque estamos representando únicamente dos dimensiones, y pueden haber muchas más. Además, algunos datos atípicos podrían estar solapados."
      ]
    },
    {
      "cell_type": "markdown",
      "metadata": {
        "id": "PlBjvOkCDNo7"
      },
      "source": [
        "## **Entrnamiento de Modelos**"
      ]
    },
    {
      "cell_type": "markdown",
      "metadata": {
        "id": "IL8Xbqerq60v"
      },
      "source": [
        "### Train-Test Split"
      ]
    },
    {
      "cell_type": "code",
      "execution_count": 40,
      "metadata": {
        "id": "y9b-kEtqAhxZ"
      },
      "outputs": [],
      "source": [
        "data_train, data_test = train_test_split(data_num, test_size = 0.3, random_state = random_num)\n"
      ]
    },
    {
      "cell_type": "code",
      "execution_count": 41,
      "metadata": {
        "id": "GPXFBwc-AiB3"
      },
      "outputs": [],
      "source": [
        "scaler = StandardScaler()\n",
        "train_scaler = scaler.fit(data_train)\n",
        "\n",
        "data_train_norm = pd.DataFrame(index=data_train.index,\n",
        "                               columns=data_train.columns,\n",
        "                               data=train_scaler.transform(data_train))\n",
        "\n",
        "data_test_norm = pd.DataFrame(index=data_test.index,\n",
        "                               columns=data_test.columns,\n",
        "                               data=train_scaler.transform(data_test))"
      ]
    },
    {
      "cell_type": "markdown",
      "metadata": {
        "id": "FSRWCV6uoH4z"
      },
      "source": [
        "Tras dividir el conjunto de datos en train y test, hemos normalizado el conjunto de entrenamiento y de test que serán utilizados si el algoritmo lo requiere. Para realizar la normalización hemos utilizado la función de StandardScaler(). Primero lo hemos ajustado al conjunto de entrenamiento, y después al conjunto de test utilizando el Scaler que estaba entrenado con el data train."
      ]
    },
    {
      "cell_type": "code",
      "execution_count": 42,
      "metadata": {
        "id": "jmzb6QXmq60v"
      },
      "outputs": [],
      "source": [
        "columns = ['pca_comp_%i' % i for i in range(comps)]\n",
        "df_pca  = pd.DataFrame(data_PCA, columns=columns, index=data_num_PCA.index)"
      ]
    },
    {
      "cell_type": "code",
      "execution_count": 43,
      "metadata": {
        "id": "jHZFoLT7q60v"
      },
      "outputs": [],
      "source": [
        "df_pca['Price'] = data_num['Price']"
      ]
    },
    {
      "cell_type": "code",
      "execution_count": 44,
      "metadata": {
        "id": "vUcRqGGOq60v"
      },
      "outputs": [],
      "source": [
        "data_train_pca, data_test_pca = train_test_split(df_pca, test_size = 0.3, random_state = random_num)"
      ]
    },
    {
      "cell_type": "code",
      "execution_count": 45,
      "metadata": {
        "id": "ofGkvQUdAiET"
      },
      "outputs": [],
      "source": [
        "X_train = data_train.drop(columns='Price')\n",
        "X_train_norm = data_train_norm.drop(columns='Price')\n",
        "Y_train = data_train['Price']\n",
        "Y_train_norm = data_train_norm['Price']\n",
        "\n",
        "X_test = data_test.drop(columns='Price')\n",
        "X_test_norm = data_test_norm.drop(columns='Price')\n",
        "Y_test = data_test['Price']\n",
        "Y_test_norm = data_test_norm['Price']\n",
        "\n",
        "X_train_pca = data_train_pca.drop(columns='Price')\n",
        "Y_train_pca = data_train_pca['Price']\n",
        "X_test_pca = data_test_pca.drop(columns='Price')\n",
        "Y_test_pca = data_test_pca['Price']"
      ]
    },
    {
      "cell_type": "markdown",
      "metadata": {
        "id": "cwpmfO88q60w"
      },
      "source": [
        "### Regresión lineal \n"
      ]
    },
    {
      "cell_type": "markdown",
      "source": [
        "\n",
        "Este es el método más básico y trata de modelar la relación entre la variable continua y las demás variables independientes a través del ajuste de una ecuación lineal. En este caso se trata de una regresión lineal múltiple ya que la variable independiente (el precio) tiene una relación lineal con  más de un predictor. Esta regresión nos servirá de listón en nuestro análisis. La regresión lineal puede presentar potenciales problemas en el modelo, como la existencia de outliers y de colinealidad entre los predictores. De momento no realizaremos una optimización para poder ver la capacidad predictiva del modelo y usarlo como benchmark para comparar otros modelos optimizados."
      ],
      "metadata": {
        "id": "8gf6gv6JBBEn"
      }
    },
    {
      "cell_type": "code",
      "execution_count": 46,
      "metadata": {
        "colab": {
          "base_uri": "https://localhost:8080/"
        },
        "id": "dDGgDRqHAiGl",
        "outputId": "8f138b2e-b74a-4a5a-e64f-3e551265cbe2"
      },
      "outputs": [
        {
          "output_type": "stream",
          "name": "stdout",
          "text": [
            "Coeficiente de determinación: 0.5877992165230118\n"
          ]
        }
      ],
      "source": [
        "# Creación del modelo\n",
        "\n",
        "lr = LinearRegression()\n",
        "\n",
        "# Entrenamos el modelo\n",
        "\n",
        "lr.fit(X_train_norm, Y_train)\n",
        "\n",
        "# Información del modelo\n",
        "\n",
        "lr.score(X_train_norm, Y_train)\n",
        "\n",
        "print(\"Coeficiente de determinación:\", lr.score(X_train_norm, Y_train))\n"
      ]
    },
    {
      "cell_type": "markdown",
      "metadata": {
        "id": "M8q32vQBoH47"
      },
      "source": [
        "Obtenemos un coeficiente de determinación de 0.59, lo cual indica que el 59% del precio está explicado por la regresión. \n"
      ]
    },
    {
      "cell_type": "markdown",
      "source": [
        "### Random Forest "
      ],
      "metadata": {
        "id": "oquqDaKuA5FE"
      }
    },
    {
      "cell_type": "markdown",
      "metadata": {
        "id": "zVk-Na5Yq60w"
      },
      "source": [
        "En el caso de un random forest, los hiperparámetros incluyen el número de árboles de decisión y el número de features considerados por cada árbol cuando se divide el nodo. En cada nodo de decisión de cada árbol, se elegirá solo entre un subconjunto de K features o variables tomadas de forma aleatoria de entre todo el conjunto de features.\n",
        "\n",
        "Crearemos una variable llamada parameters_forest donde fijaremos una lista de parámetros antes de empezar a entrenarlo con los datos. Indicamos una profundidad máxima de crecimiento de cada árbol (max_depth) de 10, 15 o 20 y un número de árboles (n_estimators) de 150, 200 o 250. Usamos solo tres en cada parametro debido a limitaciones de computacion. Nos habria gustado poder hacer una optimizacion mas profunda.\n",
        "\n",
        "Utilizaremos GridSearchCV para buscar los mejores valores de los parámetros a partir del diccionario de parámetros definida en parameters_xgbm. Esta lista de hiperparámetros la utilizaremos tanto en Ramdom Forest como en XGBOOST para no darle un potecial beneficio a un modelo sobre otro."
      ]
    },
    {
      "cell_type": "code",
      "execution_count": 47,
      "metadata": {
        "id": "6c26f1b6"
      },
      "outputs": [],
      "source": [
        "from sklearn.ensemble import RandomForestRegressor\n",
        "from sklearn.model_selection import GridSearchCV"
      ]
    },
    {
      "cell_type": "code",
      "execution_count": 48,
      "metadata": {
        "colab": {
          "base_uri": "https://localhost:8080/"
        },
        "id": "0b5AMXlbq60w",
        "outputId": "b71d7d39-0a62-4182-ba97-e0362e7854e3"
      },
      "outputs": [
        {
          "output_type": "execute_result",
          "data": {
            "text/plain": [
              "GridSearchCV(cv=3, estimator=RandomForestRegressor(), n_jobs=4,\n",
              "             param_grid={'max_depth': [10, 15, 20],\n",
              "                         'n_estimators': [150, 200, 250]})"
            ]
          },
          "metadata": {},
          "execution_count": 48
        }
      ],
      "source": [
        "parameters_forest = ({'max_depth': [10, 15, 20],\n",
        "                      'n_estimators': [150, 200, 250]})\n",
        "# Definimos el modelo\n",
        "\n",
        "forest_grid = RandomForestRegressor()\n",
        "\n",
        "# Modelo de Grid Search\n",
        "\n",
        "clf_forest = GridSearchCV(forest_grid, parameters_forest, n_jobs=4, cv=3)\n",
        "\n",
        "# Entrenamos el modelo de Grid Search\n",
        "\n",
        "clf_forest.fit(X_train, Y_train)"
      ]
    },
    {
      "cell_type": "markdown",
      "metadata": {
        "id": "o3O46UUNoH5p"
      },
      "source": [
        " Para obtener los mejores parámetros para nuestro modelo utilizaremos el atributo best_params_ como se muestra a continuación:"
      ]
    },
    {
      "cell_type": "code",
      "execution_count": 49,
      "metadata": {
        "colab": {
          "base_uri": "https://localhost:8080/"
        },
        "id": "lxD7yN0WHmgU",
        "outputId": "24702e57-d655-4a65-d399-c9d8342a4893"
      },
      "outputs": [
        {
          "output_type": "execute_result",
          "data": {
            "text/plain": [
              "{'max_depth': 20, 'n_estimators': 250}"
            ]
          },
          "metadata": {},
          "execution_count": 49
        }
      ],
      "source": [
        "clf_forest.best_params_"
      ]
    },
    {
      "cell_type": "markdown",
      "metadata": {
        "id": "g1b6JOo1oH5q"
      },
      "source": [
        "Obtenemos que el parámetro de máxima profundidad es 20 y el número de árboles óptimo es 200. \n",
        "\n",
        "Tras obtener los hiperparámetros óptimos, volvemos a entrenar el modelo:"
      ]
    },
    {
      "cell_type": "code",
      "execution_count": 50,
      "metadata": {
        "colab": {
          "base_uri": "https://localhost:8080/"
        },
        "id": "tO62bsDjRJo2",
        "outputId": "b1f497b0-6bfc-4388-8eed-d76595c79a2c"
      },
      "outputs": [
        {
          "output_type": "stream",
          "name": "stdout",
          "text": [
            "Coeficiente de determinación: 0.9521900022941823\n"
          ]
        }
      ],
      "source": [
        "forest = RandomForestRegressor(max_depth = clf_forest.best_params_['max_depth'],\n",
        "                               n_estimators= clf_forest.best_params_['n_estimators'])\n",
        "forest.fit(X_train, Y_train)\n",
        "forest.score(X_train, Y_train)\n",
        "print(\"Coeficiente de determinación:\",forest.score(X_train, Y_train))"
      ]
    },
    {
      "cell_type": "markdown",
      "metadata": {
        "id": "lOU99zeioH5s"
      },
      "source": [
        "Obtenemos un coeficiente de determinación de 0.95, lo cual indica que según el model de Random Forest, el 95% del precio está explicado por el modelo. Esta cifra es muy elevada y quiere decir que este modelo es muy bueno en nuestro caso."
      ]
    },
    {
      "cell_type": "markdown",
      "metadata": {
        "id": "l2pkFX3Aq60x"
      },
      "source": [
        "### XGBOOST\n",
        "\n"
      ]
    },
    {
      "cell_type": "markdown",
      "source": [
        "XGBoost es una librería de gradient boosting distribuida y optimizada, diseñada para ser altamente eficiente, flexible y portable. Implementa algoritmos de aprendizaje automático bajo el marco del Gradient Boosting. El boosting es una técnica secuencial que funciona según el principio de un emsamblador. Combina un conjunto de aprendices débiles y proporciona una mayor precisión de predicción. Hemos elegido este modelo debido a que en la practica anterior proporciono los mejores resultados.\n",
        "\n",
        "Para la optimización de los parámetros del modelo utilizaremos Grid Search, como hemos realizado en el método de Random Forest. "
      ],
      "metadata": {
        "id": "IMN3KafFA8pm"
      }
    },
    {
      "cell_type": "code",
      "execution_count": 51,
      "metadata": {
        "colab": {
          "base_uri": "https://localhost:8080/"
        },
        "id": "yqiVz3Dqq60y",
        "outputId": "7a379482-1cb4-4c4a-a7d8-36b0b1f3f502"
      },
      "outputs": [
        {
          "output_type": "stream",
          "name": "stdout",
          "text": [
            "[05:39:41] WARNING: /workspace/src/objective/regression_obj.cu:152: reg:linear is now deprecated in favor of reg:squarederror.\n"
          ]
        },
        {
          "output_type": "execute_result",
          "data": {
            "text/plain": [
              "GridSearchCV(cv=3, estimator=XGBRegressor(), n_jobs=4,\n",
              "             param_grid={'max_depth': [10, 15, 20],\n",
              "                         'n_estimators': [150, 200, 250]})"
            ]
          },
          "metadata": {},
          "execution_count": 51
        }
      ],
      "source": [
        "import xgboost as xgb\n",
        "\n",
        "parameters_xgbm = ({'max_depth': [10, 15, 20],\n",
        "                    'n_estimators': [150, 200, 250]}) \n",
        "\n",
        "# Definimos el modelo\n",
        "\n",
        "xgbm_grid = xgb.XGBRegressor()\n",
        "\n",
        "# Modelo de Grid Search\n",
        "\n",
        "clf_xgbm = GridSearchCV(xgbm_grid, parameters_xgbm, n_jobs=4, cv=3)\n",
        "\n",
        "# Entrenamos el modelo de Grid Search\n",
        "\n",
        "clf_xgbm.fit(X_train, Y_train)"
      ]
    },
    {
      "cell_type": "code",
      "execution_count": 52,
      "metadata": {
        "colab": {
          "base_uri": "https://localhost:8080/"
        },
        "id": "XmL-BR4fq60y",
        "outputId": "91447971-f169-4631-9e9b-7cc40c296104",
        "scrolled": true
      },
      "outputs": [
        {
          "output_type": "execute_result",
          "data": {
            "text/plain": [
              "{'max_depth': 10, 'n_estimators': 150}"
            ]
          },
          "metadata": {},
          "execution_count": 52
        }
      ],
      "source": [
        "clf_xgbm.best_params_"
      ]
    },
    {
      "cell_type": "markdown",
      "metadata": {
        "id": "zMAlTu78oH5t"
      },
      "source": [
        "Obtenemos que el parámetro de máxima profundidad es 10 y el número de árboles óptimo es 150. Estos valores son más bajos que en el caso de Random Forest."
      ]
    },
    {
      "cell_type": "code",
      "execution_count": 53,
      "metadata": {
        "colab": {
          "base_uri": "https://localhost:8080/"
        },
        "id": "aQljie3kLUqg",
        "outputId": "8911bb37-cc58-4d83-9d14-4ee425872fd0"
      },
      "outputs": [
        {
          "output_type": "stream",
          "name": "stdout",
          "text": [
            "[05:39:59] WARNING: /workspace/src/objective/regression_obj.cu:152: reg:linear is now deprecated in favor of reg:squarederror.\n"
          ]
        },
        {
          "output_type": "execute_result",
          "data": {
            "text/plain": [
              "0.9883296841796421"
            ]
          },
          "metadata": {},
          "execution_count": 53
        }
      ],
      "source": [
        "xgbm = xgb.XGBRegressor(max_depth = clf_xgbm.best_params_['max_depth'],\n",
        "                               n_estimators= clf_xgbm.best_params_['n_estimators'])\n",
        "xgbm.fit(X_train, Y_train)\n",
        "xgbm.score(X_train, Y_train)"
      ]
    },
    {
      "cell_type": "markdown",
      "metadata": {
        "id": "_AHwsfqooH5u"
      },
      "source": [
        "El score tiene un valor de 0.99 y esto nos indica que XGBOOST es un modelo muy bueno."
      ]
    },
    {
      "cell_type": "markdown",
      "metadata": {
        "id": "aDkW-B4-WuaN"
      },
      "source": [
        "### XGBOOST - PCA"
      ]
    },
    {
      "cell_type": "code",
      "execution_count": 54,
      "metadata": {
        "colab": {
          "base_uri": "https://localhost:8080/"
        },
        "id": "HkeNgZFhWuaO",
        "outputId": "8ed7b7ce-06d6-4b00-d33c-a545a5507d8f"
      },
      "outputs": [
        {
          "output_type": "stream",
          "name": "stdout",
          "text": [
            "[06:00:20] WARNING: /workspace/src/objective/regression_obj.cu:152: reg:linear is now deprecated in favor of reg:squarederror.\n"
          ]
        },
        {
          "output_type": "execute_result",
          "data": {
            "text/plain": [
              "GridSearchCV(cv=3, estimator=XGBRegressor(), n_jobs=4,\n",
              "             param_grid={'max_depth': [10, 15, 20],\n",
              "                         'n_estimators': [150, 200, 250]})"
            ]
          },
          "metadata": {},
          "execution_count": 54
        }
      ],
      "source": [
        "xgbm_grid_pca = xgb.XGBRegressor()\n",
        "clf_xgbm_pca = GridSearchCV(xgbm_grid_pca, parameters_xgbm, n_jobs=4, cv=3)\n",
        "clf_xgbm_pca.fit(X_train_pca, Y_train_pca)"
      ]
    },
    {
      "cell_type": "code",
      "execution_count": 55,
      "metadata": {
        "colab": {
          "base_uri": "https://localhost:8080/"
        },
        "id": "P3RdqA1rWuaO",
        "outputId": "01138a09-9105-436d-f035-6fc655bf0e38"
      },
      "outputs": [
        {
          "output_type": "execute_result",
          "data": {
            "text/plain": [
              "{'max_depth': 10, 'n_estimators': 250}"
            ]
          },
          "metadata": {},
          "execution_count": 55
        }
      ],
      "source": [
        "clf_xgbm_pca.best_params_"
      ]
    },
    {
      "cell_type": "code",
      "execution_count": 56,
      "metadata": {
        "colab": {
          "base_uri": "https://localhost:8080/"
        },
        "id": "0jH_L-2QWuaP",
        "outputId": "b6fad703-9235-46cb-cd01-38ad1c76ccc7"
      },
      "outputs": [
        {
          "output_type": "stream",
          "name": "stdout",
          "text": [
            "[06:01:29] WARNING: /workspace/src/objective/regression_obj.cu:152: reg:linear is now deprecated in favor of reg:squarederror.\n"
          ]
        },
        {
          "output_type": "execute_result",
          "data": {
            "text/plain": [
              "0.9998792011974106"
            ]
          },
          "metadata": {},
          "execution_count": 56
        }
      ],
      "source": [
        "xgb_pca = xgb.XGBRegressor(max_depth = clf_xgbm_pca.best_params_['max_depth'],\n",
        "                               n_estimators= clf_xgbm_pca.best_params_['n_estimators'])\n",
        "xgb_pca.fit(X_train_pca, Y_train_pca)\n",
        "xgb_pca.score(X_train_pca, Y_train_pca)"
      ]
    },
    {
      "cell_type": "markdown",
      "metadata": {
        "id": "huDLJ_VYSPXT"
      },
      "source": [
        "### Red Neuronal"
      ]
    },
    {
      "cell_type": "markdown",
      "metadata": {
        "id": "jO058jXWoH5w"
      },
      "source": [
        "En la primera línea indicaremos qué formato y cuántos nodos tiene nuestra entrada, llamando a esta variable input. Después iremos enlazando las capas, es decir, la salida de una con la entrada de otra. La capa más popular y la que utilizaremos en este caso será la que usa MLP o Densas ya que conectan todos los nodos de entrada con los de salida. Por un lado, definimos la capa predictiva, por otro la capa dropout para evitar overfitting. Crearemos la capa de salida y llamaremos a esta variable output. Por último crearemos el modelo completo donde indicaremos las entradas y salidas."
      ]
    },
    {
      "cell_type": "code",
      "execution_count": 57,
      "metadata": {
        "id": "tFyTaFOXSa8w"
      },
      "outputs": [],
      "source": [
        "import tensorflow as tf"
      ]
    },
    {
      "cell_type": "code",
      "execution_count": 58,
      "metadata": {
        "id": "LP-PAwLyq60y"
      },
      "outputs": [],
      "source": [
        "#with tf.device('/device:GPU:0'): #para usar el GPU de Colab\n",
        "inputs = tf.keras.Input(shape=(X_train_norm.shape[1],))\n",
        "\n",
        "x = tf.keras.layers.Dense(254, activation=\"relu\")(inputs) #capa predictiva\n",
        "x = tf.keras.layers.Dropout(0.2)(x) #capa dropout para evitar overfitting\n",
        "x = tf.keras.layers.Dense(64, activation=\"relu\")(x)\n",
        "x = tf.keras.layers.Dropout(0.2)(x)\n",
        "x = tf.keras.layers.Dense(32, activation=\"relu\")(x)\n",
        "\n",
        "output = tf.keras.layers.Dense(1)(x)\n",
        "\n",
        "model = tf.keras.Model(inputs, output)"
      ]
    },
    {
      "cell_type": "markdown",
      "source": [
        "Procedemos a compliar el modelo creado.\n",
        "Despues de iterar con varios optimizadores, el mejor resultado lo ha dado el metodo Adam."
      ],
      "metadata": {
        "id": "vdO-UMMw-DCX"
      }
    },
    {
      "cell_type": "code",
      "execution_count": 59,
      "metadata": {
        "id": "0f7e67eb-c443-49f5-9f91-12f439033836"
      },
      "outputs": [],
      "source": [
        "model.compile(optimizer='adam', #metodo adam mejor reusltados\n",
        "              loss=tf.keras.losses.MeanSquaredError(),\n",
        "             metrics=tf.keras.metrics.RootMeanSquaredError(name='rmse'))"
      ]
    },
    {
      "cell_type": "markdown",
      "source": [
        "Entrenamos el modelo compilado y lo iteramos con 100 epochs para darle al modelo un numero razonable de iteraciones para encontrar el valle."
      ],
      "metadata": {
        "id": "PQkYA1osDq6l"
      }
    },
    {
      "cell_type": "code",
      "execution_count": 60,
      "metadata": {
        "colab": {
          "base_uri": "https://localhost:8080/"
        },
        "id": "d57fd495-cecb-472c-8fab-d933964c784b",
        "outputId": "087702b7-68a8-41c7-87f2-ef85b21303ac"
      },
      "outputs": [
        {
          "output_type": "stream",
          "name": "stdout",
          "text": [
            "Epoch 1/100\n",
            "291/291 [==============================] - 2s 4ms/step - loss: 2875.2861 - rmse: 53.6217 - val_loss: 3500.7866 - val_rmse: 59.1674\n",
            "Epoch 2/100\n",
            "291/291 [==============================] - 1s 4ms/step - loss: 1627.0552 - rmse: 40.3368 - val_loss: 2465.8848 - val_rmse: 49.6577\n",
            "Epoch 3/100\n",
            "291/291 [==============================] - 1s 5ms/step - loss: 1505.1875 - rmse: 38.7967 - val_loss: 2462.0007 - val_rmse: 49.6186\n",
            "Epoch 4/100\n",
            "291/291 [==============================] - 1s 5ms/step - loss: 1426.4001 - rmse: 37.7677 - val_loss: 2113.9990 - val_rmse: 45.9782\n",
            "Epoch 5/100\n",
            "291/291 [==============================] - 1s 4ms/step - loss: 1417.1193 - rmse: 37.6446 - val_loss: 2227.7129 - val_rmse: 47.1987\n",
            "Epoch 6/100\n",
            "291/291 [==============================] - 1s 4ms/step - loss: 1384.1973 - rmse: 37.2048 - val_loss: 2282.8030 - val_rmse: 47.7787\n",
            "Epoch 7/100\n",
            "291/291 [==============================] - 1s 4ms/step - loss: 1305.4838 - rmse: 36.1315 - val_loss: 2512.7332 - val_rmse: 50.1272\n",
            "Epoch 8/100\n",
            "291/291 [==============================] - 1s 5ms/step - loss: 1254.1938 - rmse: 35.4146 - val_loss: 1880.2621 - val_rmse: 43.3620\n",
            "Epoch 9/100\n",
            "291/291 [==============================] - 1s 3ms/step - loss: 1263.4601 - rmse: 35.5452 - val_loss: 2312.0247 - val_rmse: 48.0835\n",
            "Epoch 10/100\n",
            "291/291 [==============================] - 1s 3ms/step - loss: 1247.1792 - rmse: 35.3154 - val_loss: 1881.4653 - val_rmse: 43.3759\n",
            "Epoch 11/100\n",
            "291/291 [==============================] - 1s 4ms/step - loss: 1215.8042 - rmse: 34.8684 - val_loss: 2227.4985 - val_rmse: 47.1964\n",
            "Epoch 12/100\n",
            "291/291 [==============================] - 1s 3ms/step - loss: 1181.8804 - rmse: 34.3785 - val_loss: 2379.5120 - val_rmse: 48.7802\n",
            "Epoch 13/100\n",
            "291/291 [==============================] - 1s 4ms/step - loss: 1137.2003 - rmse: 33.7224 - val_loss: 1630.0806 - val_rmse: 40.3743\n",
            "Epoch 14/100\n",
            "291/291 [==============================] - 1s 3ms/step - loss: 1122.4834 - rmse: 33.5035 - val_loss: 2013.3102 - val_rmse: 44.8699\n",
            "Epoch 15/100\n",
            "291/291 [==============================] - 1s 3ms/step - loss: 1167.7977 - rmse: 34.1731 - val_loss: 2198.0112 - val_rmse: 46.8830\n",
            "Epoch 16/100\n",
            "291/291 [==============================] - 1s 4ms/step - loss: 1102.5906 - rmse: 33.2053 - val_loss: 2101.6826 - val_rmse: 45.8441\n",
            "Epoch 17/100\n",
            "291/291 [==============================] - 1s 3ms/step - loss: 1075.5289 - rmse: 32.7953 - val_loss: 1941.2285 - val_rmse: 44.0594\n",
            "Epoch 18/100\n",
            "291/291 [==============================] - 1s 4ms/step - loss: 991.6373 - rmse: 31.4903 - val_loss: 1844.3978 - val_rmse: 42.9465\n",
            "Epoch 19/100\n",
            "291/291 [==============================] - 1s 3ms/step - loss: 1005.4608 - rmse: 31.7090 - val_loss: 2234.3235 - val_rmse: 47.2686\n",
            "Epoch 20/100\n",
            "291/291 [==============================] - 1s 3ms/step - loss: 957.0187 - rmse: 30.9357 - val_loss: 2349.2209 - val_rmse: 48.4688\n",
            "Epoch 21/100\n",
            "291/291 [==============================] - 1s 3ms/step - loss: 966.2468 - rmse: 31.0845 - val_loss: 2076.5635 - val_rmse: 45.5693\n",
            "Epoch 22/100\n",
            "291/291 [==============================] - 1s 3ms/step - loss: 887.0048 - rmse: 29.7826 - val_loss: 1644.0735 - val_rmse: 40.5472\n",
            "Epoch 23/100\n",
            "291/291 [==============================] - 1s 3ms/step - loss: 902.0999 - rmse: 30.0350 - val_loss: 2135.7197 - val_rmse: 46.2138\n",
            "Epoch 24/100\n",
            "291/291 [==============================] - 1s 4ms/step - loss: 903.4126 - rmse: 30.0568 - val_loss: 2101.0610 - val_rmse: 45.8373\n",
            "Epoch 25/100\n",
            "291/291 [==============================] - 1s 3ms/step - loss: 858.7773 - rmse: 29.3049 - val_loss: 1557.5306 - val_rmse: 39.4656\n",
            "Epoch 26/100\n",
            "291/291 [==============================] - 1s 3ms/step - loss: 880.3914 - rmse: 29.6714 - val_loss: 1630.8889 - val_rmse: 40.3843\n",
            "Epoch 27/100\n",
            "291/291 [==============================] - 1s 3ms/step - loss: 811.6678 - rmse: 28.4898 - val_loss: 1826.1908 - val_rmse: 42.7340\n",
            "Epoch 28/100\n",
            "291/291 [==============================] - 1s 3ms/step - loss: 790.0493 - rmse: 28.1078 - val_loss: 1855.9700 - val_rmse: 43.0810\n",
            "Epoch 29/100\n",
            "291/291 [==============================] - 1s 3ms/step - loss: 758.8563 - rmse: 27.5473 - val_loss: 1818.4006 - val_rmse: 42.6427\n",
            "Epoch 30/100\n",
            "291/291 [==============================] - 1s 3ms/step - loss: 733.2079 - rmse: 27.0778 - val_loss: 1748.5502 - val_rmse: 41.8157\n",
            "Epoch 31/100\n",
            "291/291 [==============================] - 1s 4ms/step - loss: 744.3320 - rmse: 27.2824 - val_loss: 1878.0540 - val_rmse: 43.3365\n",
            "Epoch 32/100\n",
            "291/291 [==============================] - 1s 4ms/step - loss: 764.5823 - rmse: 27.6511 - val_loss: 1759.1339 - val_rmse: 41.9420\n",
            "Epoch 33/100\n",
            "291/291 [==============================] - 1s 4ms/step - loss: 731.0412 - rmse: 27.0378 - val_loss: 1477.0291 - val_rmse: 38.4321\n",
            "Epoch 34/100\n",
            "291/291 [==============================] - 1s 3ms/step - loss: 699.1452 - rmse: 26.4414 - val_loss: 1660.4666 - val_rmse: 40.7488\n",
            "Epoch 35/100\n",
            "291/291 [==============================] - 1s 4ms/step - loss: 683.1340 - rmse: 26.1368 - val_loss: 1760.3668 - val_rmse: 41.9567\n",
            "Epoch 36/100\n",
            "291/291 [==============================] - 1s 3ms/step - loss: 712.8617 - rmse: 26.6995 - val_loss: 1725.0392 - val_rmse: 41.5336\n",
            "Epoch 37/100\n",
            "291/291 [==============================] - 1s 4ms/step - loss: 709.2906 - rmse: 26.6325 - val_loss: 1803.3843 - val_rmse: 42.4663\n",
            "Epoch 38/100\n",
            "291/291 [==============================] - 1s 4ms/step - loss: 722.9208 - rmse: 26.8872 - val_loss: 1496.4009 - val_rmse: 38.6833\n",
            "Epoch 39/100\n",
            "291/291 [==============================] - 1s 3ms/step - loss: 653.4544 - rmse: 25.5628 - val_loss: 1654.1420 - val_rmse: 40.6711\n",
            "Epoch 40/100\n",
            "291/291 [==============================] - 1s 3ms/step - loss: 639.8056 - rmse: 25.2944 - val_loss: 1710.4620 - val_rmse: 41.3577\n",
            "Epoch 41/100\n",
            "291/291 [==============================] - 1s 4ms/step - loss: 643.1734 - rmse: 25.3609 - val_loss: 1831.2280 - val_rmse: 42.7929\n",
            "Epoch 42/100\n",
            "291/291 [==============================] - 1s 4ms/step - loss: 660.7501 - rmse: 25.7051 - val_loss: 1730.9641 - val_rmse: 41.6049\n",
            "Epoch 43/100\n",
            "291/291 [==============================] - 1s 4ms/step - loss: 682.1644 - rmse: 26.1183 - val_loss: 1586.4799 - val_rmse: 39.8306\n",
            "Epoch 44/100\n",
            "291/291 [==============================] - 1s 4ms/step - loss: 636.6848 - rmse: 25.2326 - val_loss: 1527.8204 - val_rmse: 39.0873\n",
            "Epoch 45/100\n",
            "291/291 [==============================] - 1s 4ms/step - loss: 621.2238 - rmse: 24.9244 - val_loss: 1573.3774 - val_rmse: 39.6658\n",
            "Epoch 46/100\n",
            "291/291 [==============================] - 1s 3ms/step - loss: 581.8792 - rmse: 24.1222 - val_loss: 1632.4669 - val_rmse: 40.4038\n",
            "Epoch 47/100\n",
            "291/291 [==============================] - 1s 3ms/step - loss: 611.0167 - rmse: 24.7188 - val_loss: 1623.1917 - val_rmse: 40.2889\n",
            "Epoch 48/100\n",
            "291/291 [==============================] - 1s 4ms/step - loss: 593.3394 - rmse: 24.3586 - val_loss: 1812.2368 - val_rmse: 42.5704\n",
            "Epoch 49/100\n",
            "291/291 [==============================] - 1s 4ms/step - loss: 623.9140 - rmse: 24.9783 - val_loss: 1982.9438 - val_rmse: 44.5303\n",
            "Epoch 50/100\n",
            "291/291 [==============================] - 1s 4ms/step - loss: 604.4222 - rmse: 24.5850 - val_loss: 1553.6495 - val_rmse: 39.4164\n",
            "Epoch 51/100\n",
            "291/291 [==============================] - 1s 4ms/step - loss: 577.3428 - rmse: 24.0280 - val_loss: 1613.7863 - val_rmse: 40.1720\n",
            "Epoch 52/100\n",
            "291/291 [==============================] - 1s 3ms/step - loss: 625.4779 - rmse: 25.0096 - val_loss: 1555.3143 - val_rmse: 39.4375\n",
            "Epoch 53/100\n",
            "291/291 [==============================] - 1s 4ms/step - loss: 606.9261 - rmse: 24.6359 - val_loss: 1438.7997 - val_rmse: 37.9315\n",
            "Epoch 54/100\n",
            "291/291 [==============================] - 1s 3ms/step - loss: 578.5136 - rmse: 24.0523 - val_loss: 1547.4413 - val_rmse: 39.3375\n",
            "Epoch 55/100\n",
            "291/291 [==============================] - 1s 4ms/step - loss: 542.7333 - rmse: 23.2966 - val_loss: 1507.9052 - val_rmse: 38.8318\n",
            "Epoch 56/100\n",
            "291/291 [==============================] - 1s 4ms/step - loss: 577.6292 - rmse: 24.0339 - val_loss: 1577.6299 - val_rmse: 39.7194\n",
            "Epoch 57/100\n",
            "291/291 [==============================] - 1s 3ms/step - loss: 554.4747 - rmse: 23.5473 - val_loss: 1649.1239 - val_rmse: 40.6094\n",
            "Epoch 58/100\n",
            "291/291 [==============================] - 1s 4ms/step - loss: 560.2258 - rmse: 23.6691 - val_loss: 1525.2858 - val_rmse: 39.0549\n",
            "Epoch 59/100\n",
            "291/291 [==============================] - 1s 3ms/step - loss: 594.3206 - rmse: 24.3787 - val_loss: 1721.2705 - val_rmse: 41.4882\n",
            "Epoch 60/100\n",
            "291/291 [==============================] - 1s 4ms/step - loss: 562.4298 - rmse: 23.7156 - val_loss: 1807.3705 - val_rmse: 42.5132\n",
            "Epoch 61/100\n",
            "291/291 [==============================] - 1s 3ms/step - loss: 544.2520 - rmse: 23.3292 - val_loss: 1574.7040 - val_rmse: 39.6825\n",
            "Epoch 62/100\n",
            "291/291 [==============================] - 1s 3ms/step - loss: 559.6924 - rmse: 23.6578 - val_loss: 1660.7717 - val_rmse: 40.7526\n",
            "Epoch 63/100\n",
            "291/291 [==============================] - 1s 3ms/step - loss: 570.7809 - rmse: 23.8910 - val_loss: 1702.4846 - val_rmse: 41.2612\n",
            "Epoch 64/100\n",
            "291/291 [==============================] - 1s 3ms/step - loss: 548.0490 - rmse: 23.4104 - val_loss: 1697.8771 - val_rmse: 41.2053\n",
            "Epoch 65/100\n",
            "291/291 [==============================] - 1s 3ms/step - loss: 564.1818 - rmse: 23.7525 - val_loss: 1720.9882 - val_rmse: 41.4848\n",
            "Epoch 66/100\n",
            "291/291 [==============================] - 1s 3ms/step - loss: 536.3183 - rmse: 23.1585 - val_loss: 1885.1219 - val_rmse: 43.4180\n",
            "Epoch 67/100\n",
            "291/291 [==============================] - 1s 4ms/step - loss: 556.4099 - rmse: 23.5883 - val_loss: 1784.9762 - val_rmse: 42.2490\n",
            "Epoch 68/100\n",
            "291/291 [==============================] - 1s 3ms/step - loss: 520.3411 - rmse: 22.8110 - val_loss: 1827.5021 - val_rmse: 42.7493\n",
            "Epoch 69/100\n",
            "291/291 [==============================] - 1s 4ms/step - loss: 506.4385 - rmse: 22.5042 - val_loss: 1727.1981 - val_rmse: 41.5596\n",
            "Epoch 70/100\n",
            "291/291 [==============================] - 1s 4ms/step - loss: 528.1668 - rmse: 22.9819 - val_loss: 1446.1995 - val_rmse: 38.0289\n",
            "Epoch 71/100\n",
            "291/291 [==============================] - 1s 3ms/step - loss: 556.8852 - rmse: 23.5984 - val_loss: 1779.2697 - val_rmse: 42.1814\n",
            "Epoch 72/100\n",
            "291/291 [==============================] - 1s 4ms/step - loss: 531.9490 - rmse: 23.0640 - val_loss: 1892.6407 - val_rmse: 43.5045\n",
            "Epoch 73/100\n",
            "291/291 [==============================] - 1s 4ms/step - loss: 491.2806 - rmse: 22.1649 - val_loss: 1717.7222 - val_rmse: 41.4454\n",
            "Epoch 74/100\n",
            "291/291 [==============================] - 1s 4ms/step - loss: 478.9583 - rmse: 21.8851 - val_loss: 1725.7788 - val_rmse: 41.5425\n",
            "Epoch 75/100\n",
            "291/291 [==============================] - 1s 4ms/step - loss: 509.2157 - rmse: 22.5658 - val_loss: 1760.6522 - val_rmse: 41.9601\n",
            "Epoch 76/100\n",
            "291/291 [==============================] - 1s 4ms/step - loss: 514.1776 - rmse: 22.6755 - val_loss: 1673.8958 - val_rmse: 40.9133\n",
            "Epoch 77/100\n",
            "291/291 [==============================] - 1s 4ms/step - loss: 566.7148 - rmse: 23.8058 - val_loss: 1865.5222 - val_rmse: 43.1917\n",
            "Epoch 78/100\n",
            "291/291 [==============================] - 1s 3ms/step - loss: 490.3412 - rmse: 22.1437 - val_loss: 1780.2018 - val_rmse: 42.1924\n",
            "Epoch 79/100\n",
            "291/291 [==============================] - 1s 4ms/step - loss: 513.0855 - rmse: 22.6514 - val_loss: 1694.0282 - val_rmse: 41.1586\n",
            "Epoch 80/100\n",
            "291/291 [==============================] - 1s 3ms/step - loss: 471.4949 - rmse: 21.7139 - val_loss: 1633.3120 - val_rmse: 40.4143\n",
            "Epoch 81/100\n",
            "291/291 [==============================] - 1s 3ms/step - loss: 478.5061 - rmse: 21.8748 - val_loss: 1657.8323 - val_rmse: 40.7165\n",
            "Epoch 82/100\n",
            "291/291 [==============================] - 1s 4ms/step - loss: 480.6331 - rmse: 21.9233 - val_loss: 1779.3462 - val_rmse: 42.1823\n",
            "Epoch 83/100\n",
            "291/291 [==============================] - 1s 4ms/step - loss: 514.5310 - rmse: 22.6833 - val_loss: 1924.7224 - val_rmse: 43.8717\n",
            "Epoch 84/100\n",
            "291/291 [==============================] - 1s 4ms/step - loss: 465.9062 - rmse: 21.5849 - val_loss: 1731.7928 - val_rmse: 41.6148\n",
            "Epoch 85/100\n",
            "291/291 [==============================] - 1s 3ms/step - loss: 502.2473 - rmse: 22.4109 - val_loss: 1562.7832 - val_rmse: 39.5321\n",
            "Epoch 86/100\n",
            "291/291 [==============================] - 1s 4ms/step - loss: 495.2189 - rmse: 22.2535 - val_loss: 2231.8059 - val_rmse: 47.2420\n",
            "Epoch 87/100\n",
            "291/291 [==============================] - 1s 4ms/step - loss: 465.4754 - rmse: 21.5749 - val_loss: 1690.0809 - val_rmse: 41.1106\n",
            "Epoch 88/100\n",
            "291/291 [==============================] - 1s 3ms/step - loss: 485.8545 - rmse: 22.0421 - val_loss: 1849.7861 - val_rmse: 43.0091\n",
            "Epoch 89/100\n",
            "291/291 [==============================] - 1s 3ms/step - loss: 478.4452 - rmse: 21.8734 - val_loss: 2057.0684 - val_rmse: 45.3549\n",
            "Epoch 90/100\n",
            "291/291 [==============================] - 1s 3ms/step - loss: 488.8014 - rmse: 22.1089 - val_loss: 1678.7373 - val_rmse: 40.9724\n",
            "Epoch 91/100\n",
            "291/291 [==============================] - 1s 3ms/step - loss: 459.4058 - rmse: 21.4338 - val_loss: 1772.6180 - val_rmse: 42.1025\n",
            "Epoch 92/100\n",
            "291/291 [==============================] - 1s 4ms/step - loss: 476.0087 - rmse: 21.8176 - val_loss: 1593.4084 - val_rmse: 39.9175\n",
            "Epoch 93/100\n",
            "291/291 [==============================] - 1s 4ms/step - loss: 468.6726 - rmse: 21.6488 - val_loss: 1900.1099 - val_rmse: 43.5902\n",
            "Epoch 94/100\n",
            "291/291 [==============================] - 1s 3ms/step - loss: 464.5297 - rmse: 21.5529 - val_loss: 1887.1466 - val_rmse: 43.4413\n",
            "Epoch 95/100\n",
            "291/291 [==============================] - 1s 4ms/step - loss: 479.0819 - rmse: 21.8879 - val_loss: 1739.8004 - val_rmse: 41.7109\n",
            "Epoch 96/100\n",
            "291/291 [==============================] - 1s 3ms/step - loss: 454.7622 - rmse: 21.3252 - val_loss: 1949.7490 - val_rmse: 44.1560\n",
            "Epoch 97/100\n",
            "291/291 [==============================] - 1s 3ms/step - loss: 448.1839 - rmse: 21.1704 - val_loss: 1882.6499 - val_rmse: 43.3895\n",
            "Epoch 98/100\n",
            "291/291 [==============================] - 1s 3ms/step - loss: 441.6663 - rmse: 21.0159 - val_loss: 1703.6104 - val_rmse: 41.2748\n",
            "Epoch 99/100\n",
            "291/291 [==============================] - 1s 3ms/step - loss: 437.9483 - rmse: 20.9272 - val_loss: 1488.9331 - val_rmse: 38.5867\n",
            "Epoch 100/100\n",
            "291/291 [==============================] - 1s 3ms/step - loss: 427.9640 - rmse: 20.6873 - val_loss: 1519.2064 - val_rmse: 38.9770\n"
          ]
        },
        {
          "output_type": "execute_result",
          "data": {
            "text/plain": [
              "<keras.callbacks.History at 0x7fd0df7c72d0>"
            ]
          },
          "metadata": {},
          "execution_count": 60
        }
      ],
      "source": [
        "model.fit(X_train_norm.to_numpy(),\n",
        "          Y_train.to_numpy(), \n",
        "          epochs=100, \n",
        "          validation_data=(X_test_norm.to_numpy(),Y_test.to_numpy()),\n",
        "          )"
      ]
    },
    {
      "cell_type": "markdown",
      "source": [
        "Epoch 53 tiene el minimo valor del val_loss y val_rmse"
      ],
      "metadata": {
        "id": "DLAAdLnq9elG"
      }
    },
    {
      "cell_type": "markdown",
      "metadata": {
        "id": "ExsmI79bOsIs"
      },
      "source": [
        "## **Model Testing**"
      ]
    },
    {
      "cell_type": "markdown",
      "metadata": {
        "id": "rxnZOsV3oH5x"
      },
      "source": [
        "Una vez optimizados los modeos en entrenamiento, podemos proceder a su comparacion mediante el error cuadratico medio entre la prediccion del data test y los valores reales.\n",
        "\n",
        "Este paso se ha llevado a cabo una unica vez para evitar el overfitting en test. El menor resultado sera el modelo elegido."
      ]
    },
    {
      "cell_type": "code",
      "execution_count": 61,
      "metadata": {
        "id": "_5V9LUtCPiUt"
      },
      "outputs": [],
      "source": [
        "from sklearn.metrics import mean_squared_error, mean_poisson_deviance"
      ]
    },
    {
      "cell_type": "code",
      "execution_count": 62,
      "metadata": {
        "colab": {
          "base_uri": "https://localhost:8080/"
        },
        "id": "aja5Y5hJSnSk",
        "outputId": "019c29c4-380b-4d71-9df4-5847486a7c16"
      },
      "outputs": [
        {
          "output_type": "execute_result",
          "data": {
            "text/plain": [
              "6.958922277953067e+24"
            ]
          },
          "metadata": {},
          "execution_count": 62
        }
      ],
      "source": [
        "rmse_linear = mean_squared_error(y_true = Y_test, y_pred = lr.predict(X_test_norm))\n",
        "rmse_linear "
      ]
    },
    {
      "cell_type": "code",
      "execution_count": 63,
      "metadata": {
        "colab": {
          "base_uri": "https://localhost:8080/"
        },
        "id": "lJHbNeuBPrbg",
        "outputId": "a3761199-7855-4bcb-cd29-5362c7d1787d"
      },
      "outputs": [
        {
          "output_type": "execute_result",
          "data": {
            "text/plain": [
              "1095.4302592652894"
            ]
          },
          "metadata": {},
          "execution_count": 63
        }
      ],
      "source": [
        "predicted_forest = forest.predict(X_test)\n",
        "rmse_forest = mean_squared_error(y_true = Y_test, y_pred = predicted_forest)\n",
        "rmse_forest"
      ]
    },
    {
      "cell_type": "code",
      "execution_count": 64,
      "metadata": {
        "colab": {
          "base_uri": "https://localhost:8080/"
        },
        "id": "UZSIuUFtOw0g",
        "outputId": "482aa490-7ad5-4d9a-ffaf-08715ed40ec8"
      },
      "outputs": [
        {
          "output_type": "execute_result",
          "data": {
            "text/plain": [
              "1094.2032276247128"
            ]
          },
          "metadata": {},
          "execution_count": 64
        }
      ],
      "source": [
        "predicted_xgb = xgbm.predict(X_test)\n",
        "rmse_xgb = mean_squared_error(y_true = Y_test, y_pred = predicted_xgb)\n",
        "rmse_xgb"
      ]
    },
    {
      "cell_type": "code",
      "source": [
        "predicted_xgb_pca = xgb_pca.predict(X_test_pca)\n",
        "rmse_xgb_pca = mean_squared_error(y_true = Y_test_pca, y_pred = predicted_xgb_pca)\n",
        "rmse_xgb_pca"
      ],
      "metadata": {
        "colab": {
          "base_uri": "https://localhost:8080/"
        },
        "id": "ZuL3Z-RLqfZ3",
        "outputId": "0c05c025-2310-47cf-d8f9-cb360b4a3ef5"
      },
      "execution_count": 65,
      "outputs": [
        {
          "output_type": "execute_result",
          "data": {
            "text/plain": [
              "1592.2994928658027"
            ]
          },
          "metadata": {},
          "execution_count": 65
        }
      ]
    },
    {
      "cell_type": "code",
      "execution_count": 66,
      "metadata": {
        "colab": {
          "base_uri": "https://localhost:8080/"
        },
        "id": "Y_n4e_7HTQWZ",
        "outputId": "3ce45349-148d-419b-a928-14514b0bea6a"
      },
      "outputs": [
        {
          "output_type": "execute_result",
          "data": {
            "text/plain": [
              "6770.76"
            ]
          },
          "metadata": {},
          "execution_count": 66
        }
      ],
      "source": [
        "predicted_data_norm = data_test_norm.copy()\n",
        "predicted_data_norm['Price'] = model.predict(X_test_norm.to_numpy())\n",
        "predicted_data_unorm = pd.DataFrame(index=predicted_data_norm.index, columns=predicted_data_norm.columns, data=train_scaler.inverse_transform(predicted_data_norm))\n",
        "predicted_data_unorm['Predicted_Price'] = predicted_data_unorm['Price']\n",
        "predicted_data_unorm['Price'] = data_test['Price']\n",
        "\n",
        "rmse_nn = round(np.mean(100*np.sqrt((predicted_data_unorm['Price'] - predicted_data_unorm['Predicted_Price'])**2)/predicted_data_unorm['Price']),2)\n",
        "rmse_nn"
      ]
    },
    {
      "cell_type": "markdown",
      "metadata": {
        "id": "r1l0Ba29oH5z"
      },
      "source": [
        "# **Conclusión**"
      ]
    },
    {
      "cell_type": "markdown",
      "metadata": {
        "id": "FPxs7rBxoH5y"
      },
      "source": [
        "Podemos observar en este apartado que el error cuadrático medio más elevado corresponde al método de Regresión Lineal, por lo que podemos afirmar que es el peor modelo para nuestro análisis. Esto era de esperar puesto que es el modelo mas simple y no hemos llevado ninguna optimizacion a cabo.\n",
        "\n",
        "Por otro lado, el modelo mediante red neuronal nos ha proporcionado un error mucho menor que en el modelo linel pero aun asi ha sido mucho mas elevado que el random forest y xgboost. Podriamos haber añadido mas capas o combinar con diferente numero de nodos o dropout, pero al haber corrido ya el test, seria impropio intentar reajustar el modelo.\n",
        "\n",
        "En cuanto al xgboost y el random forest, han tenido resultados muy similares despues de una optimizacion de hiperparametros mas extensa, pero el mejor en todas las iteraciones ha sido el xgboost, cuyo resultado es confirmado por el menor error cuadratico medio.\n",
        "\n",
        "Como nota adicional, hemos entrenado el modelo con un PCA de los datos para observar la perdida de capacidad predictiva al extraer varianza del modelo. Con un PCA que explica un 85% de la varianza, el modelo xgboost gana alrededor de un 50% de error en comparacion a si lo enrenamos con todos los datos. Pero aun asi es mejor que el regressor lineal o la red neuronal."
      ]
    },
    {
      "cell_type": "markdown",
      "source": [
        "# Apendice"
      ],
      "metadata": {
        "id": "10SszeCpAjLf"
      }
    },
    {
      "cell_type": "markdown",
      "source": [
        "Hemos utilizado el paquete pickle para guardar los modelos en el disco duro\n"
      ],
      "metadata": {
        "id": "U5h0JgPXEacT"
      }
    },
    {
      "cell_type": "code",
      "source": [
        "import pickle\n",
        "\n",
        "fileforest = '/content/drive/MyDrive/Colab Notebooks/forest_model.sav'\n",
        "pickle.dump(forest, open(fileforest, 'wb'))\n",
        " \n",
        "filexgb = '/content/drive/MyDrive/Colab Notebooks/xgb_model.sav'\n",
        "pickle.dump(xgbm, open(filexgb, 'wb'))\n",
        "\n",
        "filexgb_pca = '/content/drive/MyDrive/Colab Notebooks/xgb_pca_model.sav'\n",
        "pickle.dump(xgb_pca, open(filexgb_pca, 'wb'))\n",
        "\n",
        "file_nn = 'nn_model.sav'\n",
        "pickle.dump(model, open(file_nn, 'wb'))\n",
        "# some time later...\n",
        " \n",
        "# load the model from disk\n",
        "#loaded_model = pickle.load(open(filename, 'rb'))\n",
        "#result = loaded_model.score(X_test, Y_test)\n",
        "#print(result)"
      ],
      "metadata": {
        "colab": {
          "base_uri": "https://localhost:8080/"
        },
        "id": "45h1vX3PrA3i",
        "outputId": "27d965a0-7017-4388-b51c-83c1da34fe1b"
      },
      "execution_count": 68,
      "outputs": [
        {
          "output_type": "stream",
          "name": "stdout",
          "text": [
            "INFO:tensorflow:Assets written to: ram://196268d2-9838-4dfc-a31e-e65c5d9b1cf2/assets\n"
          ]
        }
      ]
    },
    {
      "cell_type": "code",
      "source": [
        ""
      ],
      "metadata": {
        "id": "7DT40wfR7TYQ"
      },
      "execution_count": null,
      "outputs": []
    }
  ],
  "metadata": {
    "colab": {
      "collapsed_sections": [],
      "name": "Práctica_Final_1406.ipynb",
      "provenance": []
    },
    "kernelspec": {
      "display_name": "Python 3 (ipykernel)",
      "language": "python",
      "name": "python3"
    },
    "language_info": {
      "codemirror_mode": {
        "name": "ipython",
        "version": 3
      },
      "file_extension": ".py",
      "mimetype": "text/x-python",
      "name": "python",
      "nbconvert_exporter": "python",
      "pygments_lexer": "ipython3",
      "version": "3.9.7"
    }
  },
  "nbformat": 4,
  "nbformat_minor": 0
}