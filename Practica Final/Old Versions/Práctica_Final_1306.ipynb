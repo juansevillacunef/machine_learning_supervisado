{
  "cells": [
    {
      "cell_type": "markdown",
      "metadata": {
        "id": "JAcX7d35q60G"
      },
      "source": [
        "## Práctica Final\n",
        "### Machine Learning"
      ]
    },
    {
      "cell_type": "code",
      "execution_count": null,
      "metadata": {
        "id": "6mADlS21q60L"
      },
      "outputs": [],
      "source": [
        "import numpy as np\n",
        "import pandas as pd\n",
        "import matplotlib.pyplot as plt\n",
        "import warnings\n",
        "import seaborn as sns\n",
        "from scipy.stats import linregress\n",
        "from sklearn.model_selection import train_test_split\n",
        "from sklearn.linear_model import LinearRegression\n",
        "from sklearn.metrics import mean_squared_error\n",
        "import statsmodels.api as sm\n",
        "from sklearn.preprocessing import StandardScaler\n",
        "from sklearn.preprocessing import OneHotEncoder\n",
        "from tabulate import tabulate\n",
        "from sklearn.decomposition import PCA\n",
        "from sklearn.metrics import mean_squared_error\n",
        "from sklearn.metrics.pairwise import pairwise_distances\n",
        "from sklearn.model_selection import train_test_split\n",
        "import matplotlib.cm as cm\n",
        "from matplotlib.pyplot import figure\n",
        "from sklearn.neighbors import NearestNeighbors\n",
        "\n",
        "\n",
        "\n",
        "random_num = 100\n",
        "warnings.filterwarnings('ignore')"
      ]
    },
    {
      "cell_type": "code",
      "source": [
        "from google.colab import drive\n",
        "drive.mount('/content/drive')"
      ],
      "metadata": {
        "id": "hO-dtL0Hr-HO",
        "colab": {
          "base_uri": "https://localhost:8080/"
        },
        "outputId": "74688cd1-0c6d-4982-dccb-0bb04b101acd"
      },
      "execution_count": null,
      "outputs": [
        {
          "output_type": "stream",
          "name": "stdout",
          "text": [
            "Drive already mounted at /content/drive; to attempt to forcibly remount, call drive.mount(\"/content/drive\", force_remount=True).\n"
          ]
        }
      ]
    },
    {
      "cell_type": "code",
      "execution_count": null,
      "metadata": {
        "id": "cMS3i41Tq60O"
      },
      "outputs": [],
      "source": [
        "data = pd.read_csv('/content/drive/MyDrive/Colab Notebooks/airbnb-listings-extract.csv', sep = ';')"
      ]
    },
    {
      "cell_type": "markdown",
      "metadata": {
        "id": "zlaMV-xyq60P"
      },
      "source": [
        "### Análisis Descriptivo\n",
        "\n",
        "El primer paso para resolver esta práctica será realizar un pequeño análisis descriptivo de la base de datos junto con la limpieza de la misma. Es una base de datos que no ha sido limpiada previamente por lo que nos centraremos en eliminar todas aquellas columnas que no nos aporten información necesaria, tratar los valores nulos, tratar la variable objetivo y cambiar el tipo de variables cuando sea necesario. \n",
        "\n",
        "Para mayor facilidad, cambiaremos el nombre de las columnas para sustituir el espacio por '_' "
      ]
    },
    {
      "cell_type": "code",
      "execution_count": null,
      "metadata": {
        "id": "OYiLd-YJq60Q"
      },
      "outputs": [],
      "source": [
        "data.columns = data.columns.str.replace(' ', '_')"
      ]
    },
    {
      "cell_type": "markdown",
      "metadata": {
        "id": "r9RdoVnYq60Q"
      },
      "source": [
        "Uno de los primeros pasos será quedarnos solo con las viviendas de Madrid. Esto lo hacemos porque la gran mayoría de viviendas están en este mercado y la localización por ciudades va a sesgar el precio en gran medida cuando nos queremos centrar en la calidad principalmente. "
      ]
    },
    {
      "cell_type": "code",
      "execution_count": null,
      "metadata": {
        "id": "md7FVnhXq60R"
      },
      "outputs": [],
      "source": [
        "data = data.loc[data.Market == 'Madrid']\n",
        "data = data.drop(columns ='Market')"
      ]
    },
    {
      "cell_type": "code",
      "execution_count": null,
      "metadata": {
        "scrolled": true,
        "id": "UKj2jgd3q60S",
        "colab": {
          "base_uri": "https://localhost:8080/"
        },
        "outputId": "cf4842e4-0637-4bb5-ee22-97fa3d8c6006"
      },
      "outputs": [
        {
          "output_type": "execute_result",
          "data": {
            "text/plain": [
              "(13274, 88)"
            ]
          },
          "metadata": {},
          "execution_count": 87
        }
      ],
      "source": [
        "data.shape"
      ]
    },
    {
      "cell_type": "markdown",
      "metadata": {
        "id": "U9U9wjKeq60T"
      },
      "source": [
        "A continuación analizaremos la **variable objetivo**, el precio:"
      ]
    },
    {
      "cell_type": "code",
      "execution_count": null,
      "metadata": {
        "id": "7oGkFd-Yq60U",
        "colab": {
          "base_uri": "https://localhost:8080/"
        },
        "outputId": "5b4a004b-3477-4918-b931-bbfef601c76d"
      },
      "outputs": [
        {
          "output_type": "stream",
          "name": "stdout",
          "text": [
            "Total de datos missing en la variable Precio: 9\n"
          ]
        }
      ],
      "source": [
        "print('Total de datos missing en la variable Precio:', data['Price'].isnull().sum())"
      ]
    },
    {
      "cell_type": "markdown",
      "metadata": {
        "id": "IhPFwnVZq60V"
      },
      "source": [
        "Como solo hay 9 observaciones cuyo precio es desconocido optaremos por eliminarlas. No las sustituiremos pues es un número muy pequeño de NAs no significativo en la muestra final:"
      ]
    },
    {
      "cell_type": "code",
      "execution_count": null,
      "metadata": {
        "id": "mDnX-my_q60V"
      },
      "outputs": [],
      "source": [
        "data = data[data['Price'].notna()]"
      ]
    },
    {
      "cell_type": "code",
      "execution_count": null,
      "metadata": {
        "id": "3hNN0C-Mq60W",
        "colab": {
          "base_uri": "https://localhost:8080/"
        },
        "outputId": "9166fa2d-c54f-4ce8-efb7-a72cfe51f463"
      },
      "outputs": [
        {
          "output_type": "execute_result",
          "data": {
            "text/plain": [
              "count    13265.000000\n",
              "mean        67.430833\n",
              "std         61.784819\n",
              "min          9.000000\n",
              "25%         30.000000\n",
              "50%         52.000000\n",
              "75%         80.000000\n",
              "max        875.000000\n",
              "Name: Price, dtype: float64"
            ]
          },
          "metadata": {},
          "execution_count": 90
        }
      ],
      "source": [
        "data['Price'].describe()"
      ]
    },
    {
      "cell_type": "markdown",
      "metadata": {
        "id": "hELQQVAkq60W"
      },
      "source": [
        "Como podemos observar, el precio mínimo por noche está en 9€ y el máximo en 875€. La media y la mediana están algo alejadas la una de la otra (67 y 52) esto nos indica que la muestra probablemente presenta algunos valores atípicos con precios excesivamente altos. "
      ]
    },
    {
      "cell_type": "markdown",
      "metadata": {
        "id": "jezMJRd3q60X"
      },
      "source": [
        "A continuación analizaremos los datos **missing**:"
      ]
    },
    {
      "cell_type": "code",
      "execution_count": null,
      "metadata": {
        "id": "T1ddxClSq60Y",
        "colab": {
          "base_uri": "https://localhost:8080/",
          "height": 1000
        },
        "outputId": "f5061f80-ecf3-4d2c-8c51-aee2115fa1f5"
      },
      "outputs": [
        {
          "output_type": "execute_result",
          "data": {
            "text/plain": [
              "                                Number_Missing  Percent_Missing     Type\n",
              "Jurisdiction_Names                       13265           100.00   object\n",
              "Host_Acceptance_Rate                     13265           100.00   object\n",
              "Has_Availability                         13265           100.00   object\n",
              "License                                  13016            98.12   object\n",
              "Square_Feet                              12744            96.07  float64\n",
              "Monthly_Price                             9945            74.97  float64\n",
              "Weekly_Price                              9902            74.65  float64\n",
              "Notes                                     8272            62.36   object\n",
              "Security_Deposit                          7635            57.56  float64\n",
              "Interaction                               5793            43.67   object\n",
              "Access                                    5743            43.29   object\n",
              "Cleaning_Fee                              5438            41.00  float64\n",
              "Transit                                   5058            38.13   object\n",
              "Host_About                                5018            37.83   object\n",
              "Neighborhood_Overview                     4983            37.57   object\n",
              "House_Rules                               4624            34.86   object\n",
              "Neighbourhood                             4561            34.38   object\n",
              "Space                                     3625            27.33   object\n",
              "Host_Neighbourhood                        3350            25.25   object\n",
              "Review_Scores_Value                       2906            21.91  float64\n",
              "Review_Scores_Location                    2906            21.91  float64\n",
              "Review_Scores_Checkin                     2904            21.89  float64\n",
              "Review_Scores_Accuracy                    2895            21.82  float64\n",
              "Review_Scores_Cleanliness                 2889            21.78  float64\n",
              "Review_Scores_Communication               2889            21.78  float64\n",
              "Review_Scores_Rating                      2877            21.69  float64\n",
              "Last_Review                               2757            20.78   object\n",
              "Reviews_per_Month                         2756            20.78  float64\n",
              "First_Review                              2756            20.78   object\n",
              "XL_Picture_Url                            2481            18.70   object\n",
              "Medium_Url                                2481            18.70   object\n",
              "Thumbnail_Url                             2481            18.70   object\n",
              "Host_Response_Time                        1704            12.85   object\n",
              "Host_Response_Rate                        1704            12.85  float64\n",
              "Summary                                    486             3.66   object\n",
              "Zipcode                                    444             3.35   object\n",
              "Amenities                                  160             1.21   object\n",
              "Bathrooms                                   49             0.37  float64\n",
              "Beds                                        48             0.36  float64\n",
              "State                                       47             0.35   object\n",
              "Host_Location                               42             0.32   object\n",
              "Bedrooms                                    23             0.17  float64\n",
              "Picture_Url                                 19             0.14   object\n",
              "Description                                  6             0.05   object\n",
              "City                                         6             0.05   object\n",
              "Host_Verifications                           5             0.04   object\n",
              "Host_Total_Listings_Count                    3             0.02  float64\n",
              "Host_Listings_Count                          3             0.02  float64\n",
              "Host_Picture_Url                             3             0.02   object\n",
              "Host_Since                                   3             0.02   object\n",
              "Host_Name                                    3             0.02   object\n",
              "Host_Thumbnail_Url                           3             0.02   object\n",
              "Country                                      1             0.01   object\n",
              "Neighbourhood_Group_Cleansed                 1             0.01   object\n",
              "Availability_365                             0             0.00    int64\n",
              "Availability_90                              0             0.00    int64\n",
              "Availability_60                              0             0.00    int64\n",
              "ID                                           0             0.00    int64\n",
              "Calendar_last_Scraped                        0             0.00   object\n",
              "Number_of_Reviews                            0             0.00    int64\n",
              "Cancellation_Policy                          0             0.00   object\n",
              "Calculated_host_listings_count               0             0.00  float64\n",
              "Geolocation                                  0             0.00   object\n",
              "Availability_30                              0             0.00    int64\n",
              "Latitude                                     0             0.00  float64\n",
              "Calendar_Updated                             0             0.00   object\n",
              "Country_Code                                 0             0.00   object\n",
              "Scrape_ID                                    0             0.00    int64\n",
              "Last_Scraped                                 0             0.00   object\n",
              "Name                                         0             0.00   object\n",
              "Experiences_Offered                          0             0.00   object\n",
              "Host_ID                                      0             0.00    int64\n",
              "Host_URL                                     0             0.00   object\n",
              "Street                                       0             0.00   object\n",
              "Neighbourhood_Cleansed                       0             0.00   object\n",
              "Smart_Location                               0             0.00   object\n",
              "Listing_Url                                  0             0.00   object\n",
              "Maximum_Nights                               0             0.00    int64\n",
              "Longitude                                    0             0.00  float64\n",
              "Property_Type                                0             0.00   object\n",
              "Room_Type                                    0             0.00   object\n",
              "Accommodates                                 0             0.00    int64\n",
              "Bed_Type                                     0             0.00   object\n",
              "Price                                        0             0.00  float64\n",
              "Guests_Included                              0             0.00    int64\n",
              "Extra_People                                 0             0.00    int64\n",
              "Minimum_Nights                               0             0.00    int64\n",
              "Features                                     0             0.00   object"
            ],
            "text/html": [
              "\n",
              "  <div id=\"df-33151b03-5c37-4dd5-a598-873aa68cfa06\">\n",
              "    <div class=\"colab-df-container\">\n",
              "      <div>\n",
              "<style scoped>\n",
              "    .dataframe tbody tr th:only-of-type {\n",
              "        vertical-align: middle;\n",
              "    }\n",
              "\n",
              "    .dataframe tbody tr th {\n",
              "        vertical-align: top;\n",
              "    }\n",
              "\n",
              "    .dataframe thead th {\n",
              "        text-align: right;\n",
              "    }\n",
              "</style>\n",
              "<table border=\"1\" class=\"dataframe\">\n",
              "  <thead>\n",
              "    <tr style=\"text-align: right;\">\n",
              "      <th></th>\n",
              "      <th>Number_Missing</th>\n",
              "      <th>Percent_Missing</th>\n",
              "      <th>Type</th>\n",
              "    </tr>\n",
              "  </thead>\n",
              "  <tbody>\n",
              "    <tr>\n",
              "      <th>Jurisdiction_Names</th>\n",
              "      <td>13265</td>\n",
              "      <td>100.00</td>\n",
              "      <td>object</td>\n",
              "    </tr>\n",
              "    <tr>\n",
              "      <th>Host_Acceptance_Rate</th>\n",
              "      <td>13265</td>\n",
              "      <td>100.00</td>\n",
              "      <td>object</td>\n",
              "    </tr>\n",
              "    <tr>\n",
              "      <th>Has_Availability</th>\n",
              "      <td>13265</td>\n",
              "      <td>100.00</td>\n",
              "      <td>object</td>\n",
              "    </tr>\n",
              "    <tr>\n",
              "      <th>License</th>\n",
              "      <td>13016</td>\n",
              "      <td>98.12</td>\n",
              "      <td>object</td>\n",
              "    </tr>\n",
              "    <tr>\n",
              "      <th>Square_Feet</th>\n",
              "      <td>12744</td>\n",
              "      <td>96.07</td>\n",
              "      <td>float64</td>\n",
              "    </tr>\n",
              "    <tr>\n",
              "      <th>Monthly_Price</th>\n",
              "      <td>9945</td>\n",
              "      <td>74.97</td>\n",
              "      <td>float64</td>\n",
              "    </tr>\n",
              "    <tr>\n",
              "      <th>Weekly_Price</th>\n",
              "      <td>9902</td>\n",
              "      <td>74.65</td>\n",
              "      <td>float64</td>\n",
              "    </tr>\n",
              "    <tr>\n",
              "      <th>Notes</th>\n",
              "      <td>8272</td>\n",
              "      <td>62.36</td>\n",
              "      <td>object</td>\n",
              "    </tr>\n",
              "    <tr>\n",
              "      <th>Security_Deposit</th>\n",
              "      <td>7635</td>\n",
              "      <td>57.56</td>\n",
              "      <td>float64</td>\n",
              "    </tr>\n",
              "    <tr>\n",
              "      <th>Interaction</th>\n",
              "      <td>5793</td>\n",
              "      <td>43.67</td>\n",
              "      <td>object</td>\n",
              "    </tr>\n",
              "    <tr>\n",
              "      <th>Access</th>\n",
              "      <td>5743</td>\n",
              "      <td>43.29</td>\n",
              "      <td>object</td>\n",
              "    </tr>\n",
              "    <tr>\n",
              "      <th>Cleaning_Fee</th>\n",
              "      <td>5438</td>\n",
              "      <td>41.00</td>\n",
              "      <td>float64</td>\n",
              "    </tr>\n",
              "    <tr>\n",
              "      <th>Transit</th>\n",
              "      <td>5058</td>\n",
              "      <td>38.13</td>\n",
              "      <td>object</td>\n",
              "    </tr>\n",
              "    <tr>\n",
              "      <th>Host_About</th>\n",
              "      <td>5018</td>\n",
              "      <td>37.83</td>\n",
              "      <td>object</td>\n",
              "    </tr>\n",
              "    <tr>\n",
              "      <th>Neighborhood_Overview</th>\n",
              "      <td>4983</td>\n",
              "      <td>37.57</td>\n",
              "      <td>object</td>\n",
              "    </tr>\n",
              "    <tr>\n",
              "      <th>House_Rules</th>\n",
              "      <td>4624</td>\n",
              "      <td>34.86</td>\n",
              "      <td>object</td>\n",
              "    </tr>\n",
              "    <tr>\n",
              "      <th>Neighbourhood</th>\n",
              "      <td>4561</td>\n",
              "      <td>34.38</td>\n",
              "      <td>object</td>\n",
              "    </tr>\n",
              "    <tr>\n",
              "      <th>Space</th>\n",
              "      <td>3625</td>\n",
              "      <td>27.33</td>\n",
              "      <td>object</td>\n",
              "    </tr>\n",
              "    <tr>\n",
              "      <th>Host_Neighbourhood</th>\n",
              "      <td>3350</td>\n",
              "      <td>25.25</td>\n",
              "      <td>object</td>\n",
              "    </tr>\n",
              "    <tr>\n",
              "      <th>Review_Scores_Value</th>\n",
              "      <td>2906</td>\n",
              "      <td>21.91</td>\n",
              "      <td>float64</td>\n",
              "    </tr>\n",
              "    <tr>\n",
              "      <th>Review_Scores_Location</th>\n",
              "      <td>2906</td>\n",
              "      <td>21.91</td>\n",
              "      <td>float64</td>\n",
              "    </tr>\n",
              "    <tr>\n",
              "      <th>Review_Scores_Checkin</th>\n",
              "      <td>2904</td>\n",
              "      <td>21.89</td>\n",
              "      <td>float64</td>\n",
              "    </tr>\n",
              "    <tr>\n",
              "      <th>Review_Scores_Accuracy</th>\n",
              "      <td>2895</td>\n",
              "      <td>21.82</td>\n",
              "      <td>float64</td>\n",
              "    </tr>\n",
              "    <tr>\n",
              "      <th>Review_Scores_Cleanliness</th>\n",
              "      <td>2889</td>\n",
              "      <td>21.78</td>\n",
              "      <td>float64</td>\n",
              "    </tr>\n",
              "    <tr>\n",
              "      <th>Review_Scores_Communication</th>\n",
              "      <td>2889</td>\n",
              "      <td>21.78</td>\n",
              "      <td>float64</td>\n",
              "    </tr>\n",
              "    <tr>\n",
              "      <th>Review_Scores_Rating</th>\n",
              "      <td>2877</td>\n",
              "      <td>21.69</td>\n",
              "      <td>float64</td>\n",
              "    </tr>\n",
              "    <tr>\n",
              "      <th>Last_Review</th>\n",
              "      <td>2757</td>\n",
              "      <td>20.78</td>\n",
              "      <td>object</td>\n",
              "    </tr>\n",
              "    <tr>\n",
              "      <th>Reviews_per_Month</th>\n",
              "      <td>2756</td>\n",
              "      <td>20.78</td>\n",
              "      <td>float64</td>\n",
              "    </tr>\n",
              "    <tr>\n",
              "      <th>First_Review</th>\n",
              "      <td>2756</td>\n",
              "      <td>20.78</td>\n",
              "      <td>object</td>\n",
              "    </tr>\n",
              "    <tr>\n",
              "      <th>XL_Picture_Url</th>\n",
              "      <td>2481</td>\n",
              "      <td>18.70</td>\n",
              "      <td>object</td>\n",
              "    </tr>\n",
              "    <tr>\n",
              "      <th>Medium_Url</th>\n",
              "      <td>2481</td>\n",
              "      <td>18.70</td>\n",
              "      <td>object</td>\n",
              "    </tr>\n",
              "    <tr>\n",
              "      <th>Thumbnail_Url</th>\n",
              "      <td>2481</td>\n",
              "      <td>18.70</td>\n",
              "      <td>object</td>\n",
              "    </tr>\n",
              "    <tr>\n",
              "      <th>Host_Response_Time</th>\n",
              "      <td>1704</td>\n",
              "      <td>12.85</td>\n",
              "      <td>object</td>\n",
              "    </tr>\n",
              "    <tr>\n",
              "      <th>Host_Response_Rate</th>\n",
              "      <td>1704</td>\n",
              "      <td>12.85</td>\n",
              "      <td>float64</td>\n",
              "    </tr>\n",
              "    <tr>\n",
              "      <th>Summary</th>\n",
              "      <td>486</td>\n",
              "      <td>3.66</td>\n",
              "      <td>object</td>\n",
              "    </tr>\n",
              "    <tr>\n",
              "      <th>Zipcode</th>\n",
              "      <td>444</td>\n",
              "      <td>3.35</td>\n",
              "      <td>object</td>\n",
              "    </tr>\n",
              "    <tr>\n",
              "      <th>Amenities</th>\n",
              "      <td>160</td>\n",
              "      <td>1.21</td>\n",
              "      <td>object</td>\n",
              "    </tr>\n",
              "    <tr>\n",
              "      <th>Bathrooms</th>\n",
              "      <td>49</td>\n",
              "      <td>0.37</td>\n",
              "      <td>float64</td>\n",
              "    </tr>\n",
              "    <tr>\n",
              "      <th>Beds</th>\n",
              "      <td>48</td>\n",
              "      <td>0.36</td>\n",
              "      <td>float64</td>\n",
              "    </tr>\n",
              "    <tr>\n",
              "      <th>State</th>\n",
              "      <td>47</td>\n",
              "      <td>0.35</td>\n",
              "      <td>object</td>\n",
              "    </tr>\n",
              "    <tr>\n",
              "      <th>Host_Location</th>\n",
              "      <td>42</td>\n",
              "      <td>0.32</td>\n",
              "      <td>object</td>\n",
              "    </tr>\n",
              "    <tr>\n",
              "      <th>Bedrooms</th>\n",
              "      <td>23</td>\n",
              "      <td>0.17</td>\n",
              "      <td>float64</td>\n",
              "    </tr>\n",
              "    <tr>\n",
              "      <th>Picture_Url</th>\n",
              "      <td>19</td>\n",
              "      <td>0.14</td>\n",
              "      <td>object</td>\n",
              "    </tr>\n",
              "    <tr>\n",
              "      <th>Description</th>\n",
              "      <td>6</td>\n",
              "      <td>0.05</td>\n",
              "      <td>object</td>\n",
              "    </tr>\n",
              "    <tr>\n",
              "      <th>City</th>\n",
              "      <td>6</td>\n",
              "      <td>0.05</td>\n",
              "      <td>object</td>\n",
              "    </tr>\n",
              "    <tr>\n",
              "      <th>Host_Verifications</th>\n",
              "      <td>5</td>\n",
              "      <td>0.04</td>\n",
              "      <td>object</td>\n",
              "    </tr>\n",
              "    <tr>\n",
              "      <th>Host_Total_Listings_Count</th>\n",
              "      <td>3</td>\n",
              "      <td>0.02</td>\n",
              "      <td>float64</td>\n",
              "    </tr>\n",
              "    <tr>\n",
              "      <th>Host_Listings_Count</th>\n",
              "      <td>3</td>\n",
              "      <td>0.02</td>\n",
              "      <td>float64</td>\n",
              "    </tr>\n",
              "    <tr>\n",
              "      <th>Host_Picture_Url</th>\n",
              "      <td>3</td>\n",
              "      <td>0.02</td>\n",
              "      <td>object</td>\n",
              "    </tr>\n",
              "    <tr>\n",
              "      <th>Host_Since</th>\n",
              "      <td>3</td>\n",
              "      <td>0.02</td>\n",
              "      <td>object</td>\n",
              "    </tr>\n",
              "    <tr>\n",
              "      <th>Host_Name</th>\n",
              "      <td>3</td>\n",
              "      <td>0.02</td>\n",
              "      <td>object</td>\n",
              "    </tr>\n",
              "    <tr>\n",
              "      <th>Host_Thumbnail_Url</th>\n",
              "      <td>3</td>\n",
              "      <td>0.02</td>\n",
              "      <td>object</td>\n",
              "    </tr>\n",
              "    <tr>\n",
              "      <th>Country</th>\n",
              "      <td>1</td>\n",
              "      <td>0.01</td>\n",
              "      <td>object</td>\n",
              "    </tr>\n",
              "    <tr>\n",
              "      <th>Neighbourhood_Group_Cleansed</th>\n",
              "      <td>1</td>\n",
              "      <td>0.01</td>\n",
              "      <td>object</td>\n",
              "    </tr>\n",
              "    <tr>\n",
              "      <th>Availability_365</th>\n",
              "      <td>0</td>\n",
              "      <td>0.00</td>\n",
              "      <td>int64</td>\n",
              "    </tr>\n",
              "    <tr>\n",
              "      <th>Availability_90</th>\n",
              "      <td>0</td>\n",
              "      <td>0.00</td>\n",
              "      <td>int64</td>\n",
              "    </tr>\n",
              "    <tr>\n",
              "      <th>Availability_60</th>\n",
              "      <td>0</td>\n",
              "      <td>0.00</td>\n",
              "      <td>int64</td>\n",
              "    </tr>\n",
              "    <tr>\n",
              "      <th>ID</th>\n",
              "      <td>0</td>\n",
              "      <td>0.00</td>\n",
              "      <td>int64</td>\n",
              "    </tr>\n",
              "    <tr>\n",
              "      <th>Calendar_last_Scraped</th>\n",
              "      <td>0</td>\n",
              "      <td>0.00</td>\n",
              "      <td>object</td>\n",
              "    </tr>\n",
              "    <tr>\n",
              "      <th>Number_of_Reviews</th>\n",
              "      <td>0</td>\n",
              "      <td>0.00</td>\n",
              "      <td>int64</td>\n",
              "    </tr>\n",
              "    <tr>\n",
              "      <th>Cancellation_Policy</th>\n",
              "      <td>0</td>\n",
              "      <td>0.00</td>\n",
              "      <td>object</td>\n",
              "    </tr>\n",
              "    <tr>\n",
              "      <th>Calculated_host_listings_count</th>\n",
              "      <td>0</td>\n",
              "      <td>0.00</td>\n",
              "      <td>float64</td>\n",
              "    </tr>\n",
              "    <tr>\n",
              "      <th>Geolocation</th>\n",
              "      <td>0</td>\n",
              "      <td>0.00</td>\n",
              "      <td>object</td>\n",
              "    </tr>\n",
              "    <tr>\n",
              "      <th>Availability_30</th>\n",
              "      <td>0</td>\n",
              "      <td>0.00</td>\n",
              "      <td>int64</td>\n",
              "    </tr>\n",
              "    <tr>\n",
              "      <th>Latitude</th>\n",
              "      <td>0</td>\n",
              "      <td>0.00</td>\n",
              "      <td>float64</td>\n",
              "    </tr>\n",
              "    <tr>\n",
              "      <th>Calendar_Updated</th>\n",
              "      <td>0</td>\n",
              "      <td>0.00</td>\n",
              "      <td>object</td>\n",
              "    </tr>\n",
              "    <tr>\n",
              "      <th>Country_Code</th>\n",
              "      <td>0</td>\n",
              "      <td>0.00</td>\n",
              "      <td>object</td>\n",
              "    </tr>\n",
              "    <tr>\n",
              "      <th>Scrape_ID</th>\n",
              "      <td>0</td>\n",
              "      <td>0.00</td>\n",
              "      <td>int64</td>\n",
              "    </tr>\n",
              "    <tr>\n",
              "      <th>Last_Scraped</th>\n",
              "      <td>0</td>\n",
              "      <td>0.00</td>\n",
              "      <td>object</td>\n",
              "    </tr>\n",
              "    <tr>\n",
              "      <th>Name</th>\n",
              "      <td>0</td>\n",
              "      <td>0.00</td>\n",
              "      <td>object</td>\n",
              "    </tr>\n",
              "    <tr>\n",
              "      <th>Experiences_Offered</th>\n",
              "      <td>0</td>\n",
              "      <td>0.00</td>\n",
              "      <td>object</td>\n",
              "    </tr>\n",
              "    <tr>\n",
              "      <th>Host_ID</th>\n",
              "      <td>0</td>\n",
              "      <td>0.00</td>\n",
              "      <td>int64</td>\n",
              "    </tr>\n",
              "    <tr>\n",
              "      <th>Host_URL</th>\n",
              "      <td>0</td>\n",
              "      <td>0.00</td>\n",
              "      <td>object</td>\n",
              "    </tr>\n",
              "    <tr>\n",
              "      <th>Street</th>\n",
              "      <td>0</td>\n",
              "      <td>0.00</td>\n",
              "      <td>object</td>\n",
              "    </tr>\n",
              "    <tr>\n",
              "      <th>Neighbourhood_Cleansed</th>\n",
              "      <td>0</td>\n",
              "      <td>0.00</td>\n",
              "      <td>object</td>\n",
              "    </tr>\n",
              "    <tr>\n",
              "      <th>Smart_Location</th>\n",
              "      <td>0</td>\n",
              "      <td>0.00</td>\n",
              "      <td>object</td>\n",
              "    </tr>\n",
              "    <tr>\n",
              "      <th>Listing_Url</th>\n",
              "      <td>0</td>\n",
              "      <td>0.00</td>\n",
              "      <td>object</td>\n",
              "    </tr>\n",
              "    <tr>\n",
              "      <th>Maximum_Nights</th>\n",
              "      <td>0</td>\n",
              "      <td>0.00</td>\n",
              "      <td>int64</td>\n",
              "    </tr>\n",
              "    <tr>\n",
              "      <th>Longitude</th>\n",
              "      <td>0</td>\n",
              "      <td>0.00</td>\n",
              "      <td>float64</td>\n",
              "    </tr>\n",
              "    <tr>\n",
              "      <th>Property_Type</th>\n",
              "      <td>0</td>\n",
              "      <td>0.00</td>\n",
              "      <td>object</td>\n",
              "    </tr>\n",
              "    <tr>\n",
              "      <th>Room_Type</th>\n",
              "      <td>0</td>\n",
              "      <td>0.00</td>\n",
              "      <td>object</td>\n",
              "    </tr>\n",
              "    <tr>\n",
              "      <th>Accommodates</th>\n",
              "      <td>0</td>\n",
              "      <td>0.00</td>\n",
              "      <td>int64</td>\n",
              "    </tr>\n",
              "    <tr>\n",
              "      <th>Bed_Type</th>\n",
              "      <td>0</td>\n",
              "      <td>0.00</td>\n",
              "      <td>object</td>\n",
              "    </tr>\n",
              "    <tr>\n",
              "      <th>Price</th>\n",
              "      <td>0</td>\n",
              "      <td>0.00</td>\n",
              "      <td>float64</td>\n",
              "    </tr>\n",
              "    <tr>\n",
              "      <th>Guests_Included</th>\n",
              "      <td>0</td>\n",
              "      <td>0.00</td>\n",
              "      <td>int64</td>\n",
              "    </tr>\n",
              "    <tr>\n",
              "      <th>Extra_People</th>\n",
              "      <td>0</td>\n",
              "      <td>0.00</td>\n",
              "      <td>int64</td>\n",
              "    </tr>\n",
              "    <tr>\n",
              "      <th>Minimum_Nights</th>\n",
              "      <td>0</td>\n",
              "      <td>0.00</td>\n",
              "      <td>int64</td>\n",
              "    </tr>\n",
              "    <tr>\n",
              "      <th>Features</th>\n",
              "      <td>0</td>\n",
              "      <td>0.00</td>\n",
              "      <td>object</td>\n",
              "    </tr>\n",
              "  </tbody>\n",
              "</table>\n",
              "</div>\n",
              "      <button class=\"colab-df-convert\" onclick=\"convertToInteractive('df-33151b03-5c37-4dd5-a598-873aa68cfa06')\"\n",
              "              title=\"Convert this dataframe to an interactive table.\"\n",
              "              style=\"display:none;\">\n",
              "        \n",
              "  <svg xmlns=\"http://www.w3.org/2000/svg\" height=\"24px\"viewBox=\"0 0 24 24\"\n",
              "       width=\"24px\">\n",
              "    <path d=\"M0 0h24v24H0V0z\" fill=\"none\"/>\n",
              "    <path d=\"M18.56 5.44l.94 2.06.94-2.06 2.06-.94-2.06-.94-.94-2.06-.94 2.06-2.06.94zm-11 1L8.5 8.5l.94-2.06 2.06-.94-2.06-.94L8.5 2.5l-.94 2.06-2.06.94zm10 10l.94 2.06.94-2.06 2.06-.94-2.06-.94-.94-2.06-.94 2.06-2.06.94z\"/><path d=\"M17.41 7.96l-1.37-1.37c-.4-.4-.92-.59-1.43-.59-.52 0-1.04.2-1.43.59L10.3 9.45l-7.72 7.72c-.78.78-.78 2.05 0 2.83L4 21.41c.39.39.9.59 1.41.59.51 0 1.02-.2 1.41-.59l7.78-7.78 2.81-2.81c.8-.78.8-2.07 0-2.86zM5.41 20L4 18.59l7.72-7.72 1.47 1.35L5.41 20z\"/>\n",
              "  </svg>\n",
              "      </button>\n",
              "      \n",
              "  <style>\n",
              "    .colab-df-container {\n",
              "      display:flex;\n",
              "      flex-wrap:wrap;\n",
              "      gap: 12px;\n",
              "    }\n",
              "\n",
              "    .colab-df-convert {\n",
              "      background-color: #E8F0FE;\n",
              "      border: none;\n",
              "      border-radius: 50%;\n",
              "      cursor: pointer;\n",
              "      display: none;\n",
              "      fill: #1967D2;\n",
              "      height: 32px;\n",
              "      padding: 0 0 0 0;\n",
              "      width: 32px;\n",
              "    }\n",
              "\n",
              "    .colab-df-convert:hover {\n",
              "      background-color: #E2EBFA;\n",
              "      box-shadow: 0px 1px 2px rgba(60, 64, 67, 0.3), 0px 1px 3px 1px rgba(60, 64, 67, 0.15);\n",
              "      fill: #174EA6;\n",
              "    }\n",
              "\n",
              "    [theme=dark] .colab-df-convert {\n",
              "      background-color: #3B4455;\n",
              "      fill: #D2E3FC;\n",
              "    }\n",
              "\n",
              "    [theme=dark] .colab-df-convert:hover {\n",
              "      background-color: #434B5C;\n",
              "      box-shadow: 0px 1px 3px 1px rgba(0, 0, 0, 0.15);\n",
              "      filter: drop-shadow(0px 1px 2px rgba(0, 0, 0, 0.3));\n",
              "      fill: #FFFFFF;\n",
              "    }\n",
              "  </style>\n",
              "\n",
              "      <script>\n",
              "        const buttonEl =\n",
              "          document.querySelector('#df-33151b03-5c37-4dd5-a598-873aa68cfa06 button.colab-df-convert');\n",
              "        buttonEl.style.display =\n",
              "          google.colab.kernel.accessAllowed ? 'block' : 'none';\n",
              "\n",
              "        async function convertToInteractive(key) {\n",
              "          const element = document.querySelector('#df-33151b03-5c37-4dd5-a598-873aa68cfa06');\n",
              "          const dataTable =\n",
              "            await google.colab.kernel.invokeFunction('convertToInteractive',\n",
              "                                                     [key], {});\n",
              "          if (!dataTable) return;\n",
              "\n",
              "          const docLinkHtml = 'Like what you see? Visit the ' +\n",
              "            '<a target=\"_blank\" href=https://colab.research.google.com/notebooks/data_table.ipynb>data table notebook</a>'\n",
              "            + ' to learn more about interactive tables.';\n",
              "          element.innerHTML = '';\n",
              "          dataTable['output_type'] = 'display_data';\n",
              "          await google.colab.output.renderOutput(dataTable, element);\n",
              "          const docLink = document.createElement('div');\n",
              "          docLink.innerHTML = docLinkHtml;\n",
              "          element.appendChild(docLink);\n",
              "        }\n",
              "      </script>\n",
              "    </div>\n",
              "  </div>\n",
              "  "
            ]
          },
          "metadata": {},
          "execution_count": 91
        }
      ],
      "source": [
        "pd.set_option('display.max_rows', None)\n",
        "\n",
        "pd.DataFrame({'Number_Missing': data.isna().sum(),\n",
        "              'Percent_Missing': round(data.isnull().sum() * 100 / len(data),2),\n",
        "              'Type': data.dtypes}).sort_values(by = \"Percent_Missing\", ascending=False)"
      ]
    },
    {
      "cell_type": "code",
      "execution_count": null,
      "metadata": {
        "scrolled": false,
        "id": "Q9gzONwyq60Y",
        "colab": {
          "base_uri": "https://localhost:8080/",
          "height": 670
        },
        "outputId": "6c6de926-1d28-4867-9782-d0938c28b6cd"
      },
      "outputs": [
        {
          "output_type": "execute_result",
          "data": {
            "text/plain": [
              "<matplotlib.axes._subplots.AxesSubplot at 0x7faeaa86c810>"
            ]
          },
          "metadata": {},
          "execution_count": 92
        },
        {
          "output_type": "display_data",
          "data": {
            "text/plain": [
              "<Figure size 936x576 with 1 Axes>"
            ],
            "image/png": "[encoded data removed]"
          },
          "metadata": {
            "needs_background": "light"
          }
        }
      ],
      "source": [
        "missing = data.isnull().mean()*100\n",
        "figure(figsize = (13,8))\n",
        "datos_missing =  missing[missing > 0].sort_values(ascending=False)\n",
        "datos_missing.plot.bar(title = 'Datos Missing', color='teal')\n"
      ]
    },
    {
      "cell_type": "markdown",
      "metadata": {
        "id": "t4GyIWT6q60Z"
      },
      "source": [
        "En el gráfico superior se puede observar que todos los datos de las variables Jurisdiction_Names, Has_Availability y Host_Acceptance_Rate contienen son nulos. Por otro lado, las variables License y Square_Feet también contienen un número significativo de datos missing. Estas columnas, por tanto, deberán ser eliminadas ya que no aportan nada en nuestro análisis. También nos desharemos de otras variables que explicaremos más adelante."
      ]
    },
    {
      "cell_type": "markdown",
      "metadata": {
        "id": "WT7TjUOMq60a"
      },
      "source": [
        "En primer lugar eliminaré las siguientes variables:\n",
        "\n",
        "\n",
        "        ⁃ Aquellas columnas que posean más de un 90% de datos missing las eliminaremos.\n",
        "        ⁃ Aquellas columnas que no nos aportan ninguna información por ser únicas para cada observación.\n",
        "        ⁃ Eliminaremos también aquellas variables que toman solo un valor para todas las observaciones. \n",
        "        ⁃ La variable geolocalización pues es una mezcla de las variables latitud y longitud. \n",
        "        ⁃ La variable Host_Name pues nos quedaremos solo con Host_ID\n",
        "        ⁃ Las variables Neighbourhood y Neighbourhood_Group_Cleansed y matendremos Neighbourhood_Cleansed\n",
        "        ⁃ Zipcode se descarta ya que toda la informcion posicional esta entre nombre del barrio, longitud y latitud"
      ]
    },
    {
      "cell_type": "code",
      "execution_count": null,
      "metadata": {
        "id": "nMtsski2q60a"
      },
      "outputs": [],
      "source": [
        "data = data.drop(columns = ['ID', 'Listing_Url', 'Geolocation','Scrape_ID', 'Name' , 'Experiences_Offered', 'Host_Acceptance_Rate', \n",
        "                            'Square_Feet', 'License', 'Jurisdiction_Names', 'Has_Availability', 'Last_Scraped', 'Host_Name', 'City',\n",
        "                            'Neighbourhood', 'Neighbourhood_Group_Cleansed', 'State', 'Country_Code', 'Country', \"Zipcode\" ])\n"
      ]
    },
    {
      "cell_type": "markdown",
      "metadata": {
        "id": "xIR1YY4rq60b"
      },
      "source": [
        "A continuación pasaremos a examinar las columnas que tienen más datos missing para tratar de encontrar una razón y sustituir los NAs por el valor más correcto. En primer lugar observamos que tanto las columnas de precio semanal como la de precio mensual tienen un 75% de datos missing. \n",
        "\n",
        "Una primera hipótesis es que aquellos que tienen valores de precio semanal y mensual es porque ofrecen un descuento por estancias largas. Si esto es cierto podemos asumir que el resto no ofrecen ese descuento y sustituir los NAs por el precio multiplicado por 7 y 30 respectivamente. "
      ]
    },
    {
      "cell_type": "code",
      "execution_count": null,
      "metadata": {
        "id": "qgMg9as-q60b"
      },
      "outputs": [],
      "source": [
        "p = data[['Price', 'Weekly_Price', 'Monthly_Price']].dropna()\n",
        "p['Weekly_Price'] = p['Weekly_Price']/7\n",
        "p['Monthly_Price'] = p['Monthly_Price']/30\n",
        "p['Weekly_Discount'] = ((p['Weekly_Price'] - p['Price']) <= 0)\n",
        "p['Monthly_Discount'] = ((p['Monthly_Price'] - p['Price']) <= 0)"
      ]
    },
    {
      "cell_type": "code",
      "execution_count": null,
      "metadata": {
        "id": "F-trpE__q60b"
      },
      "outputs": [],
      "source": [
        "monthly_discount= p['Monthly_Discount'].value_counts()\n",
        "weekly_discount =p['Weekly_Discount'].value_counts()"
      ]
    },
    {
      "cell_type": "code",
      "execution_count": null,
      "metadata": {
        "id": "vQrAUq2Xq60c",
        "colab": {
          "base_uri": "https://localhost:8080/",
          "height": 112
        },
        "outputId": "e53bb087-1d12-4abf-f2cf-a094c59a3285"
      },
      "outputs": [
        {
          "output_type": "execute_result",
          "data": {
            "text/plain": [
              "       Monthly Discount  Weekly Discount\n",
              "True               2635             2146\n",
              "False               167              656"
            ],
            "text/html": [
              "\n",
              "  <div id=\"df-7c142789-0acb-4ffb-aa5a-75cf7f27ce5a\">\n",
              "    <div class=\"colab-df-container\">\n",
              "      <div>\n",
              "<style scoped>\n",
              "    .dataframe tbody tr th:only-of-type {\n",
              "        vertical-align: middle;\n",
              "    }\n",
              "\n",
              "    .dataframe tbody tr th {\n",
              "        vertical-align: top;\n",
              "    }\n",
              "\n",
              "    .dataframe thead th {\n",
              "        text-align: right;\n",
              "    }\n",
              "</style>\n",
              "<table border=\"1\" class=\"dataframe\">\n",
              "  <thead>\n",
              "    <tr style=\"text-align: right;\">\n",
              "      <th></th>\n",
              "      <th>Monthly Discount</th>\n",
              "      <th>Weekly Discount</th>\n",
              "    </tr>\n",
              "  </thead>\n",
              "  <tbody>\n",
              "    <tr>\n",
              "      <th>True</th>\n",
              "      <td>2635</td>\n",
              "      <td>2146</td>\n",
              "    </tr>\n",
              "    <tr>\n",
              "      <th>False</th>\n",
              "      <td>167</td>\n",
              "      <td>656</td>\n",
              "    </tr>\n",
              "  </tbody>\n",
              "</table>\n",
              "</div>\n",
              "      <button class=\"colab-df-convert\" onclick=\"convertToInteractive('df-7c142789-0acb-4ffb-aa5a-75cf7f27ce5a')\"\n",
              "              title=\"Convert this dataframe to an interactive table.\"\n",
              "              style=\"display:none;\">\n",
              "        \n",
              "  <svg xmlns=\"http://www.w3.org/2000/svg\" height=\"24px\"viewBox=\"0 0 24 24\"\n",
              "       width=\"24px\">\n",
              "    <path d=\"M0 0h24v24H0V0z\" fill=\"none\"/>\n",
              "    <path d=\"M18.56 5.44l.94 2.06.94-2.06 2.06-.94-2.06-.94-.94-2.06-.94 2.06-2.06.94zm-11 1L8.5 8.5l.94-2.06 2.06-.94-2.06-.94L8.5 2.5l-.94 2.06-2.06.94zm10 10l.94 2.06.94-2.06 2.06-.94-2.06-.94-.94-2.06-.94 2.06-2.06.94z\"/><path d=\"M17.41 7.96l-1.37-1.37c-.4-.4-.92-.59-1.43-.59-.52 0-1.04.2-1.43.59L10.3 9.45l-7.72 7.72c-.78.78-.78 2.05 0 2.83L4 21.41c.39.39.9.59 1.41.59.51 0 1.02-.2 1.41-.59l7.78-7.78 2.81-2.81c.8-.78.8-2.07 0-2.86zM5.41 20L4 18.59l7.72-7.72 1.47 1.35L5.41 20z\"/>\n",
              "  </svg>\n",
              "      </button>\n",
              "      \n",
              "  <style>\n",
              "    .colab-df-container {\n",
              "      display:flex;\n",
              "      flex-wrap:wrap;\n",
              "      gap: 12px;\n",
              "    }\n",
              "\n",
              "    .colab-df-convert {\n",
              "      background-color: #E8F0FE;\n",
              "      border: none;\n",
              "      border-radius: 50%;\n",
              "      cursor: pointer;\n",
              "      display: none;\n",
              "      fill: #1967D2;\n",
              "      height: 32px;\n",
              "      padding: 0 0 0 0;\n",
              "      width: 32px;\n",
              "    }\n",
              "\n",
              "    .colab-df-convert:hover {\n",
              "      background-color: #E2EBFA;\n",
              "      box-shadow: 0px 1px 2px rgba(60, 64, 67, 0.3), 0px 1px 3px 1px rgba(60, 64, 67, 0.15);\n",
              "      fill: #174EA6;\n",
              "    }\n",
              "\n",
              "    [theme=dark] .colab-df-convert {\n",
              "      background-color: #3B4455;\n",
              "      fill: #D2E3FC;\n",
              "    }\n",
              "\n",
              "    [theme=dark] .colab-df-convert:hover {\n",
              "      background-color: #434B5C;\n",
              "      box-shadow: 0px 1px 3px 1px rgba(0, 0, 0, 0.15);\n",
              "      filter: drop-shadow(0px 1px 2px rgba(0, 0, 0, 0.3));\n",
              "      fill: #FFFFFF;\n",
              "    }\n",
              "  </style>\n",
              "\n",
              "      <script>\n",
              "        const buttonEl =\n",
              "          document.querySelector('#df-7c142789-0acb-4ffb-aa5a-75cf7f27ce5a button.colab-df-convert');\n",
              "        buttonEl.style.display =\n",
              "          google.colab.kernel.accessAllowed ? 'block' : 'none';\n",
              "\n",
              "        async function convertToInteractive(key) {\n",
              "          const element = document.querySelector('#df-7c142789-0acb-4ffb-aa5a-75cf7f27ce5a');\n",
              "          const dataTable =\n",
              "            await google.colab.kernel.invokeFunction('convertToInteractive',\n",
              "                                                     [key], {});\n",
              "          if (!dataTable) return;\n",
              "\n",
              "          const docLinkHtml = 'Like what you see? Visit the ' +\n",
              "            '<a target=\"_blank\" href=https://colab.research.google.com/notebooks/data_table.ipynb>data table notebook</a>'\n",
              "            + ' to learn more about interactive tables.';\n",
              "          element.innerHTML = '';\n",
              "          dataTable['output_type'] = 'display_data';\n",
              "          await google.colab.output.renderOutput(dataTable, element);\n",
              "          const docLink = document.createElement('div');\n",
              "          docLink.innerHTML = docLinkHtml;\n",
              "          element.appendChild(docLink);\n",
              "        }\n",
              "      </script>\n",
              "    </div>\n",
              "  </div>\n",
              "  "
            ]
          },
          "metadata": {},
          "execution_count": 96
        }
      ],
      "source": [
        "discount = pd.DataFrame({'Monthly Discount': monthly_discount, \n",
        "                        'Weekly Discount': weekly_discount})\n",
        "discount"
      ]
    },
    {
      "cell_type": "markdown",
      "metadata": {
        "id": "fh3WceLDq60c"
      },
      "source": [
        "Como podemos observar, para la gran mayoría, especialmente los de más larga estancia, la hipótesis del descuento es verdadera. Por tanto, sustituiremos el valor de estos NA por el precio diario multiplicado por 7 para el precio semanal y por 30 para el precio mensual. \n",
        "\n",
        "Ademas, para que estos precios semanales y mensuales no sesgen los algoritmos, computaremos el descuento semanal y mensual como porcentage y descartaremos las variables de precio mensual y semanal"
      ]
    },
    {
      "cell_type": "code",
      "execution_count": null,
      "metadata": {
        "id": "c80un9drq60e"
      },
      "outputs": [],
      "source": [
        "data['Weekly_Price'] = data['Weekly_Price'].fillna(data['Price']*7)\n",
        "data['Monthly_Price'] = data['Monthly_Price'].fillna(data['Price']*30)"
      ]
    },
    {
      "cell_type": "code",
      "execution_count": null,
      "metadata": {
        "id": "7RGm3nT3q60e"
      },
      "outputs": [],
      "source": [
        "data['Weekly_Dsicount'] = ((data['Price']*7)-data['Weekly_Price'])/(data['Price']*7)\n",
        "data['Monthly_Dsicount'] = ((data['Price']*30)-data['Monthly_Price'])/(data['Price']*30)"
      ]
    },
    {
      "cell_type": "code",
      "execution_count": null,
      "metadata": {
        "id": "i9fqDYJWq60e"
      },
      "outputs": [],
      "source": [
        "data = data.drop(columns = ['Weekly_Price', 'Monthly_Price'])"
      ]
    },
    {
      "cell_type": "markdown",
      "metadata": {
        "id": "ywW1qJ6sq60e"
      },
      "source": [
        "\n",
        "1.   La variable Notas representa aquellos comentarios adicionales que el arrendador quiere comunicar al inquilino. En caso de valor NA supondremos que viene de que el arrendador no tenga nada que añadir y sustituiremos estos valores por 'Nada'. Lo mismo haremos con las variables Summary y Description que deberían resumir el espacio.\n",
        "\n",
        "2.   Para las variables 'Space', 'Neighborhood_Overview', 'Transit', 'Access', 'Interaction', 'Host_Location', 'Host_Neighbourhood', 'Amenities', 'Host_About', 'Host_Verifications' y 'House_Rules' que deberían aportar información adicional sobre el apartamento y el arrendador cuando exista NA lo sustituiremos por 'Sin informacion'. \n",
        "\n",
        "3.   Para las variables de imagen sustituiremos los NAs por 'Sin imagen' \n",
        "Para todas las variables de fecha las sustituiremos por una fecha muy antigua. Para las variables de review con missing por un número muy alejado (500). \n",
        "\n",
        "4.   En el caso del depósito y el el servicio de limpieza, entenderemos que si no hay valor es porque no se requiere pagar uno y sustituiremos el valor NA por 0.\n",
        "\n",
        "5.   En el caso de Zipcode nos debería indicar el barrio en el que está localizado cada bivienda, como no hay manera de conocer qué valor le correspondería a los missing los sustituiremos todos por '0000'.\n",
        "\n",
        "6.   Para las variables Host_Response_Time y Host_Response_Rate como no podemos saber si los Missing vienen de un tiempo de respuesta excesivamente elevado o bajo les daremos un valor muy diferente a los que hay en el dataFrame para diferenciarlos en el análisis. Lo mismo haremos para el caso de las variables baños, habitaciones y camas."
      ]
    },
    {
      "cell_type": "code",
      "execution_count": null,
      "metadata": {
        "id": "9rDzluRVq60f"
      },
      "outputs": [],
      "source": [
        "data['Notes'] = data['Notes'].fillna('Nada')\n",
        "data['Summary'] = data['Summary'].fillna('Nada')\n",
        "data['Description'] = data['Description'].fillna('Nada')\n",
        "\n",
        "data['Space'] = data['Space'].fillna('Sin Informacion')\n",
        "data['Neighborhood_Overview'] = data['Neighborhood_Overview'].fillna('Sin Informacion')\n",
        "data['House_Rules'] = data['House_Rules'].fillna('Sin Informacion')\n",
        "data['Interaction'] = data['Interaction'].fillna('Sin Informacion')\n",
        "data['Transit'] = data['Transit'].fillna('Sin Informacion')\n",
        "data['Access'] = data['Access'].fillna('Sin Informacion')\n",
        "data['Host_About'] = data['Host_About'].fillna('Sin Informacion')\n",
        "data['Host_Location'] = data['Host_Location'].fillna('Sin Informacion')\n",
        "data['Host_Neighbourhood'] = data['Host_Neighbourhood'].fillna('Sin Informacion')\n",
        "data['Amenities'] = data['Amenities'].fillna('Sin Informacion')\n",
        "data['Host_Verifications'] = data['Host_Verifications'].fillna('Sin Informacion')\n",
        "\n",
        "data['Thumbnail_Url'] = data['Thumbnail_Url'].fillna('Sin Imagen')\n",
        "data['Medium_Url'] = data['Medium_Url'].fillna('Sin Imagen')\n",
        "data['Picture_Url'] = data['Picture_Url'].fillna('Sin Imagen')\n",
        "data['XL_Picture_Url'] = data['XL_Picture_Url'].fillna('Sin Imagen')\n",
        "data['Host_Thumbnail_Url'] = data['Host_Thumbnail_Url'].fillna('Sin Imagen')\n",
        "data['Host_Picture_Url'] = data['Host_Picture_Url'].fillna('Sin Imagen')\n",
        "\n",
        "data['First_Review'] = data['First_Review'].fillna('1900-01-01')\n",
        "data['Last_Review'] = data['Last_Review'].fillna('1900-01-01')\n",
        "data['Host_Since'] = data['Host_Since'].fillna('1900-01-01')\n",
        "data['Review_Scores_Rating'] = data['Review_Scores_Rating'].fillna(500)\n",
        "data['Review_Scores_Accuracy'] = data['Review_Scores_Accuracy'].fillna(500)\n",
        "data['Review_Scores_Cleanliness'] = data['Review_Scores_Cleanliness'].fillna(500)\n",
        "data['Review_Scores_Checkin'] = data['Review_Scores_Checkin'].fillna(500)\n",
        "data['Review_Scores_Communication'] = data['Review_Scores_Communication'].fillna(500)\n",
        "data['Review_Scores_Location'] = data['Review_Scores_Location'].fillna(500)\n",
        "data['Review_Scores_Value'] = data['Review_Scores_Value'].fillna(500)\n",
        "data['Reviews_per_Month'] = data['Reviews_per_Month'].fillna(500)\n",
        "\n",
        "data['Security_Deposit'] = data['Security_Deposit'].fillna(0)\n",
        "data['Cleaning_Fee'] = data['Cleaning_Fee'].fillna(0)\n",
        "\n",
        "data['Host_Response_Time'] = data['Host_Response_Time'].fillna(99)\n",
        "data['Host_Response_Rate'] = data['Host_Response_Rate'].fillna(0)\n",
        "\n",
        "data['Bathrooms'] = data['Bathrooms'].fillna(99)\n",
        "data['Bedrooms'] = data['Bedrooms'].fillna(99)\n",
        "data['Beds'] = data['Beds'].fillna(99)\n",
        "\n",
        "data = data[data['Host_Listings_Count'].notna()]"
      ]
    },
    {
      "cell_type": "markdown",
      "metadata": {
        "id": "t-6WCJD7q60f"
      },
      "source": [
        "A continuación nos centraremos en cambiar los tipos confundidos."
      ]
    },
    {
      "cell_type": "code",
      "execution_count": null,
      "metadata": {
        "id": "cMaaGym7q60g",
        "colab": {
          "base_uri": "https://localhost:8080/",
          "height": 1000
        },
        "outputId": "b905fc27-08b6-4f08-bcaa-3cd06b56b5db"
      },
      "outputs": [
        {
          "output_type": "execute_result",
          "data": {
            "text/plain": [
              "                       Tipo de Variable\n",
              "Summary                          object\n",
              "Space                            object\n",
              "Description                      object\n",
              "Neighborhood_Overview            object\n",
              "Notes                            object\n",
              "Transit                          object\n",
              "Access                           object\n",
              "Interaction                      object\n",
              "House_Rules                      object\n",
              "Thumbnail_Url                    object\n",
              "Medium_Url                       object\n",
              "Picture_Url                      object\n",
              "XL_Picture_Url                   object\n",
              "Host_URL                         object\n",
              "Host_Since                       object\n",
              "Host_Location                    object\n",
              "Host_About                       object\n",
              "Host_Response_Time               object\n",
              "Host_Thumbnail_Url               object\n",
              "Host_Picture_Url                 object\n",
              "Host_Neighbourhood               object\n",
              "Host_Verifications               object\n",
              "Street                           object\n",
              "Neighbourhood_Cleansed           object\n",
              "Smart_Location                   object\n",
              "Property_Type                    object\n",
              "Room_Type                        object\n",
              "Bed_Type                         object\n",
              "Amenities                        object\n",
              "Calendar_Updated                 object\n",
              "Calendar_last_Scraped            object\n",
              "First_Review                     object\n",
              "Last_Review                      object\n",
              "Cancellation_Policy              object\n",
              "Features                         object"
            ],
            "text/html": [
              "\n",
              "  <div id=\"df-e2f6e3a9-a0ee-4e4e-91b7-29ea0fb62304\">\n",
              "    <div class=\"colab-df-container\">\n",
              "      <div>\n",
              "<style scoped>\n",
              "    .dataframe tbody tr th:only-of-type {\n",
              "        vertical-align: middle;\n",
              "    }\n",
              "\n",
              "    .dataframe tbody tr th {\n",
              "        vertical-align: top;\n",
              "    }\n",
              "\n",
              "    .dataframe thead th {\n",
              "        text-align: right;\n",
              "    }\n",
              "</style>\n",
              "<table border=\"1\" class=\"dataframe\">\n",
              "  <thead>\n",
              "    <tr style=\"text-align: right;\">\n",
              "      <th></th>\n",
              "      <th>Tipo de Variable</th>\n",
              "    </tr>\n",
              "  </thead>\n",
              "  <tbody>\n",
              "    <tr>\n",
              "      <th>Summary</th>\n",
              "      <td>object</td>\n",
              "    </tr>\n",
              "    <tr>\n",
              "      <th>Space</th>\n",
              "      <td>object</td>\n",
              "    </tr>\n",
              "    <tr>\n",
              "      <th>Description</th>\n",
              "      <td>object</td>\n",
              "    </tr>\n",
              "    <tr>\n",
              "      <th>Neighborhood_Overview</th>\n",
              "      <td>object</td>\n",
              "    </tr>\n",
              "    <tr>\n",
              "      <th>Notes</th>\n",
              "      <td>object</td>\n",
              "    </tr>\n",
              "    <tr>\n",
              "      <th>Transit</th>\n",
              "      <td>object</td>\n",
              "    </tr>\n",
              "    <tr>\n",
              "      <th>Access</th>\n",
              "      <td>object</td>\n",
              "    </tr>\n",
              "    <tr>\n",
              "      <th>Interaction</th>\n",
              "      <td>object</td>\n",
              "    </tr>\n",
              "    <tr>\n",
              "      <th>House_Rules</th>\n",
              "      <td>object</td>\n",
              "    </tr>\n",
              "    <tr>\n",
              "      <th>Thumbnail_Url</th>\n",
              "      <td>object</td>\n",
              "    </tr>\n",
              "    <tr>\n",
              "      <th>Medium_Url</th>\n",
              "      <td>object</td>\n",
              "    </tr>\n",
              "    <tr>\n",
              "      <th>Picture_Url</th>\n",
              "      <td>object</td>\n",
              "    </tr>\n",
              "    <tr>\n",
              "      <th>XL_Picture_Url</th>\n",
              "      <td>object</td>\n",
              "    </tr>\n",
              "    <tr>\n",
              "      <th>Host_URL</th>\n",
              "      <td>object</td>\n",
              "    </tr>\n",
              "    <tr>\n",
              "      <th>Host_Since</th>\n",
              "      <td>object</td>\n",
              "    </tr>\n",
              "    <tr>\n",
              "      <th>Host_Location</th>\n",
              "      <td>object</td>\n",
              "    </tr>\n",
              "    <tr>\n",
              "      <th>Host_About</th>\n",
              "      <td>object</td>\n",
              "    </tr>\n",
              "    <tr>\n",
              "      <th>Host_Response_Time</th>\n",
              "      <td>object</td>\n",
              "    </tr>\n",
              "    <tr>\n",
              "      <th>Host_Thumbnail_Url</th>\n",
              "      <td>object</td>\n",
              "    </tr>\n",
              "    <tr>\n",
              "      <th>Host_Picture_Url</th>\n",
              "      <td>object</td>\n",
              "    </tr>\n",
              "    <tr>\n",
              "      <th>Host_Neighbourhood</th>\n",
              "      <td>object</td>\n",
              "    </tr>\n",
              "    <tr>\n",
              "      <th>Host_Verifications</th>\n",
              "      <td>object</td>\n",
              "    </tr>\n",
              "    <tr>\n",
              "      <th>Street</th>\n",
              "      <td>object</td>\n",
              "    </tr>\n",
              "    <tr>\n",
              "      <th>Neighbourhood_Cleansed</th>\n",
              "      <td>object</td>\n",
              "    </tr>\n",
              "    <tr>\n",
              "      <th>Smart_Location</th>\n",
              "      <td>object</td>\n",
              "    </tr>\n",
              "    <tr>\n",
              "      <th>Property_Type</th>\n",
              "      <td>object</td>\n",
              "    </tr>\n",
              "    <tr>\n",
              "      <th>Room_Type</th>\n",
              "      <td>object</td>\n",
              "    </tr>\n",
              "    <tr>\n",
              "      <th>Bed_Type</th>\n",
              "      <td>object</td>\n",
              "    </tr>\n",
              "    <tr>\n",
              "      <th>Amenities</th>\n",
              "      <td>object</td>\n",
              "    </tr>\n",
              "    <tr>\n",
              "      <th>Calendar_Updated</th>\n",
              "      <td>object</td>\n",
              "    </tr>\n",
              "    <tr>\n",
              "      <th>Calendar_last_Scraped</th>\n",
              "      <td>object</td>\n",
              "    </tr>\n",
              "    <tr>\n",
              "      <th>First_Review</th>\n",
              "      <td>object</td>\n",
              "    </tr>\n",
              "    <tr>\n",
              "      <th>Last_Review</th>\n",
              "      <td>object</td>\n",
              "    </tr>\n",
              "    <tr>\n",
              "      <th>Cancellation_Policy</th>\n",
              "      <td>object</td>\n",
              "    </tr>\n",
              "    <tr>\n",
              "      <th>Features</th>\n",
              "      <td>object</td>\n",
              "    </tr>\n",
              "  </tbody>\n",
              "</table>\n",
              "</div>\n",
              "      <button class=\"colab-df-convert\" onclick=\"convertToInteractive('df-e2f6e3a9-a0ee-4e4e-91b7-29ea0fb62304')\"\n",
              "              title=\"Convert this dataframe to an interactive table.\"\n",
              "              style=\"display:none;\">\n",
              "        \n",
              "  <svg xmlns=\"http://www.w3.org/2000/svg\" height=\"24px\"viewBox=\"0 0 24 24\"\n",
              "       width=\"24px\">\n",
              "    <path d=\"M0 0h24v24H0V0z\" fill=\"none\"/>\n",
              "    <path d=\"M18.56 5.44l.94 2.06.94-2.06 2.06-.94-2.06-.94-.94-2.06-.94 2.06-2.06.94zm-11 1L8.5 8.5l.94-2.06 2.06-.94-2.06-.94L8.5 2.5l-.94 2.06-2.06.94zm10 10l.94 2.06.94-2.06 2.06-.94-2.06-.94-.94-2.06-.94 2.06-2.06.94z\"/><path d=\"M17.41 7.96l-1.37-1.37c-.4-.4-.92-.59-1.43-.59-.52 0-1.04.2-1.43.59L10.3 9.45l-7.72 7.72c-.78.78-.78 2.05 0 2.83L4 21.41c.39.39.9.59 1.41.59.51 0 1.02-.2 1.41-.59l7.78-7.78 2.81-2.81c.8-.78.8-2.07 0-2.86zM5.41 20L4 18.59l7.72-7.72 1.47 1.35L5.41 20z\"/>\n",
              "  </svg>\n",
              "      </button>\n",
              "      \n",
              "  <style>\n",
              "    .colab-df-container {\n",
              "      display:flex;\n",
              "      flex-wrap:wrap;\n",
              "      gap: 12px;\n",
              "    }\n",
              "\n",
              "    .colab-df-convert {\n",
              "      background-color: #E8F0FE;\n",
              "      border: none;\n",
              "      border-radius: 50%;\n",
              "      cursor: pointer;\n",
              "      display: none;\n",
              "      fill: #1967D2;\n",
              "      height: 32px;\n",
              "      padding: 0 0 0 0;\n",
              "      width: 32px;\n",
              "    }\n",
              "\n",
              "    .colab-df-convert:hover {\n",
              "      background-color: #E2EBFA;\n",
              "      box-shadow: 0px 1px 2px rgba(60, 64, 67, 0.3), 0px 1px 3px 1px rgba(60, 64, 67, 0.15);\n",
              "      fill: #174EA6;\n",
              "    }\n",
              "\n",
              "    [theme=dark] .colab-df-convert {\n",
              "      background-color: #3B4455;\n",
              "      fill: #D2E3FC;\n",
              "    }\n",
              "\n",
              "    [theme=dark] .colab-df-convert:hover {\n",
              "      background-color: #434B5C;\n",
              "      box-shadow: 0px 1px 3px 1px rgba(0, 0, 0, 0.15);\n",
              "      filter: drop-shadow(0px 1px 2px rgba(0, 0, 0, 0.3));\n",
              "      fill: #FFFFFF;\n",
              "    }\n",
              "  </style>\n",
              "\n",
              "      <script>\n",
              "        const buttonEl =\n",
              "          document.querySelector('#df-e2f6e3a9-a0ee-4e4e-91b7-29ea0fb62304 button.colab-df-convert');\n",
              "        buttonEl.style.display =\n",
              "          google.colab.kernel.accessAllowed ? 'block' : 'none';\n",
              "\n",
              "        async function convertToInteractive(key) {\n",
              "          const element = document.querySelector('#df-e2f6e3a9-a0ee-4e4e-91b7-29ea0fb62304');\n",
              "          const dataTable =\n",
              "            await google.colab.kernel.invokeFunction('convertToInteractive',\n",
              "                                                     [key], {});\n",
              "          if (!dataTable) return;\n",
              "\n",
              "          const docLinkHtml = 'Like what you see? Visit the ' +\n",
              "            '<a target=\"_blank\" href=https://colab.research.google.com/notebooks/data_table.ipynb>data table notebook</a>'\n",
              "            + ' to learn more about interactive tables.';\n",
              "          element.innerHTML = '';\n",
              "          dataTable['output_type'] = 'display_data';\n",
              "          await google.colab.output.renderOutput(dataTable, element);\n",
              "          const docLink = document.createElement('div');\n",
              "          docLink.innerHTML = docLinkHtml;\n",
              "          element.appendChild(docLink);\n",
              "        }\n",
              "      </script>\n",
              "    </div>\n",
              "  </div>\n",
              "  "
            ]
          },
          "metadata": {},
          "execution_count": 101
        }
      ],
      "source": [
        "data_types=pd.DataFrame({'Tipo de Variable': data.select_dtypes(exclude=[\"float64\",\"int64\"]).dtypes})\n",
        "data_types"
      ]
    },
    {
      "cell_type": "markdown",
      "metadata": {
        "id": "vQgLR2qwq60g"
      },
      "source": [
        "Todas aquellas variables que sean de tipo fecha las pasaremos a número de días hasta la actualidad.\n",
        "\n",
        "Por otro lado, la variable Host_Response se puede transformar a ordinal numérica.  "
      ]
    },
    {
      "cell_type": "code",
      "execution_count": null,
      "metadata": {
        "id": "tqIcB3eTq60g"
      },
      "outputs": [],
      "source": [
        "data['First_Review'] = (pd.to_datetime(\"2022-05-22\") - pd.to_datetime(data['First_Review'])).dt.days\n",
        "data['Last_Review'] = (pd.to_datetime(\"2022-05-22\") - pd.to_datetime(data['Last_Review'])).dt.days\n",
        "data['Calendar_last_Scraped'] = (pd.to_datetime(\"2022-05-22\") - pd.to_datetime(data['Calendar_last_Scraped'])).dt.days\n",
        "data['Host_Since'] = (pd.to_datetime(\"2022-05-22\") - pd.to_datetime(data['Host_Since'])).dt.days\n"
      ]
    },
    {
      "cell_type": "code",
      "execution_count": null,
      "metadata": {
        "id": "UiVpUHfUq60h"
      },
      "outputs": [],
      "source": [
        "Host_response = {\"Host_Response_Time\": {\"within an hour\": 1, \"within a few hours\": 2, \"within a day\": 3, \"a few days or more\": 4, 99:99}}\n",
        "data=data.replace(Host_response)"
      ]
    },
    {
      "cell_type": "markdown",
      "metadata": {
        "id": "26bMjXkzq60h"
      },
      "source": [
        "Las variables Host_Neighbourhood y Neighbourhood_Cleansed tienen demasiados tipos distintos de observaciones por lo que la transformaremos de modo que si el tipo no se repite un número determinado de veces sea sustituido por \"otros\". "
      ]
    },
    {
      "cell_type": "code",
      "execution_count": null,
      "metadata": {
        "id": "93r-g4BEq60h"
      },
      "outputs": [],
      "source": [
        "data.loc[data.groupby('Host_Neighbourhood').Host_Neighbourhood.transform('count').lt(15), 'Host_Neighbourhood'] = \"otros\"    \n",
        "data.loc[data.groupby('Neighbourhood_Cleansed').Neighbourhood_Cleansed.transform('count').lt(10), 'Neighbourhood_Cleansed'] = \"otros\"    "
      ]
    },
    {
      "cell_type": "markdown",
      "metadata": {
        "id": "VMSlgaoIq60h"
      },
      "source": [
        "#ISA\n",
        "La variable calendar_updated es un string pero sería de mayor uso si fuera una variable numérica. Para pasarla a numérica lo haremos en meses, para ello quitaremos la frase de ' months ago' cuando la tenga y en el caso de que sea weeks ago dividiremos el número entre 4, en el caso de que sea Days ago dividiremos el número entre 30. "
      ]
    },
    {
      "cell_type": "markdown",
      "metadata": {
        "id": "jTssECt0q60h"
      },
      "source": [
        "En las dos figuras superirores podemos observar que las zonas con más oferta de Airbnbs en Madrid son Embajadores, Universidad y Palacio."
      ]
    },
    {
      "cell_type": "code",
      "execution_count": null,
      "metadata": {
        "id": "SslQqIRzq60i"
      },
      "outputs": [],
      "source": [
        "data = data.drop(columns = ['Calendar_Updated'])"
      ]
    },
    {
      "cell_type": "markdown",
      "metadata": {
        "id": "2o4tgcFiq60i"
      },
      "source": [
        "data['Calendar_Updated_months'] = data['Calendar_Updated'].str.replace(' months ago', '' )\n",
        "data['Calendar_Updated_weeks'] = data['Calendar_Updated'].str.replace(' weeks ago', \"\"/4)\n",
        "data['Calendar_Updated_weeks']\n",
        "data['Calendar_Updated'] = data['Calendar_Updated_weeks']/4 if data['Calendar_Updated_weeks'].notna() else data['Calendar_Updated']"
      ]
    },
    {
      "cell_type": "raw",
      "metadata": {
        "id": "Nbk-mKDdq60i"
      },
      "source": [
        "LO MIRA JUAN\n",
        "data['Calendar_Updated'] = data['Calendar_Updated'].str.replace(' months ago', '' )\n",
        "data['Calendar_Updated'] = data['Calendar_Updated'].str.replace('1 week ago', 0.25 )\n",
        "data['Calendar_Updated'] = data['Calendar_Updated'].str.replace('a week ago', 0.25 )\n",
        "data['Calendar_Updated'] = data['Calendar_Updated'].str.replace('2 weeks ago', 0.5 )\n",
        "data['Calendar_Updated'] = data['Calendar_Updated'].str.replace('3 weeks ago',  0.75)\n",
        "data['Calendar_Updated'] = data['Calendar_Updated'].str.replace('4 weeks ago',  1)\n",
        "data['Calendar_Updated'] = data['Calendar_Updated'].str.replace('5 weeks ago',  1.25)\n",
        "data['Calendar_Updated'] = data['Calendar_Updated'].str.replace('6 weeks ago',  1.5)\n",
        "data['Calendar_Updated'] = data['Calendar_Updated'].str.replace('7 weeks ago',  1.75)\n",
        "data['Calendar_Updated'] = data['Calendar_Updated'].str.replace('today', 0 )\n",
        "data['Calendar_Updated'] = data['Calendar_Updated'].str.replace('yesterday', 0.03 )\n",
        "data['Calendar_Updated'] = data['Calendar_Updated'].str.replace('2 days ago', 0.06 )\n",
        "data['Calendar_Updated'] = data['Calendar_Updated'].str.replace('3 days ago', 0.1 )\n",
        "data['Calendar_Updated'] = data['Calendar_Updated'].str.replace('4 days ago', 0.13 )\n",
        "data['Calendar_Updated'] = data['Calendar_Updated'].str.replace('5 days ago', 0.16 )\n",
        "data['Calendar_Updated'] = data['Calendar_Updated'].str.replace('6 days ago', 0.2 )\n",
        "data['Calendar_Updated'] = data['Calendar_Updated'].str.replace('never', 100 )\n",
        "\n"
      ]
    },
    {
      "cell_type": "code",
      "execution_count": null,
      "metadata": {
        "id": "2cxlehygq60i"
      },
      "outputs": [],
      "source": [
        "from datetime import datetime\n",
        "\n",
        "currentMonth = datetime.now().month"
      ]
    },
    {
      "cell_type": "raw",
      "metadata": {
        "id": "qrzwWZ12q60j"
      },
      "source": [
        "data['month'] = currentMonth-data['Calendar_Updated'] #redondear para q 4.25 x ejemplo, sea =5"
      ]
    },
    {
      "cell_type": "markdown",
      "metadata": {
        "id": "ciGqvbk4q60j"
      },
      "source": [
        "Como en esta base de datos hay muchas variables de texto con las que no tiene sentido trabajar en modelos, separaremos la base de datos en dos. Por un lado, todas aquellas variables numéricas y categóricas que puedan ser dummies y por otro lado aquellas variables de texto con las que trabajaremos posteriormente. "
      ]
    },
    {
      "cell_type": "code",
      "execution_count": null,
      "metadata": {
        "id": "QoK8NOT0q60j"
      },
      "outputs": [],
      "source": [
        "data_num = data.drop(columns = ['Summary', 'Space', 'Description' , 'Neighborhood_Overview', 'Notes', 'Transit', 'Access', \n",
        "                                'Interaction' , 'House_Rules', 'Thumbnail_Url', 'Medium_Url', 'Picture_Url', 'XL_Picture_Url',\n",
        "                               'Host_URL', 'Host_Location', 'Host_About', 'Host_Thumbnail_Url', 'Host_Picture_Url', 'Street' , 'Neighbourhood_Cleansed',\n",
        "                               'Features', 'Amenities', 'Host_Verifications'])"
      ]
    },
    {
      "cell_type": "code",
      "execution_count": null,
      "metadata": {
        "id": "teTciLofq60j",
        "colab": {
          "base_uri": "https://localhost:8080/"
        },
        "outputId": "0d24f4d3-6ea5-46c1-b265-bfb336ed122a"
      },
      "outputs": [
        {
          "output_type": "execute_result",
          "data": {
            "text/plain": [
              "(13262, 44)"
            ]
          },
          "metadata": {},
          "execution_count": 108
        }
      ],
      "source": [
        "data_num.shape"
      ]
    },
    {
      "cell_type": "markdown",
      "source": [
        "#ISA\n",
        "Comentar"
      ],
      "metadata": {
        "id": "r42PnIRlbkv6"
      }
    },
    {
      "cell_type": "code",
      "execution_count": null,
      "metadata": {
        "scrolled": false,
        "id": "eWI0LWW_q60k",
        "colab": {
          "base_uri": "https://localhost:8080/",
          "height": 694
        },
        "outputId": "fcbfe43c-b62b-4128-8ae6-bf605237283a"
      },
      "outputs": [
        {
          "output_type": "display_data",
          "data": {
            "text/plain": [
              "<Figure size 720x720 with 2 Axes>"
            ],
            "image/png": "[encoded data removed]"
          },
          "metadata": {
            "needs_background": "light"
          }
        }
      ],
      "source": [
        "correlations = data_num.corr()\n",
        "f, ax = plt.subplots(figsize=(10,10))\n",
        "sns.heatmap(correlations,\n",
        "    vmin=-1, vmax=1, center=0,\n",
        "    cmap=sns.diverging_palette(20, 220, n=200),\n",
        "               square=True\n",
        ")\n",
        "ax.set(title='Heatmap de Correlación')\n",
        "plt.show()"
      ]
    },
    {
      "cell_type": "code",
      "execution_count": null,
      "metadata": {
        "scrolled": false,
        "id": "m-NBsAPlq60k",
        "colab": {
          "base_uri": "https://localhost:8080/",
          "height": 404
        },
        "outputId": "406b7999-c71c-4cf0-f3cc-eacb5b4851d1"
      },
      "outputs": [
        {
          "output_type": "display_data",
          "data": {
            "text/plain": [
              "<Figure size 288x432 with 2 Axes>"
            ],
            "image/png": "[encoded data removed]"
          },
          "metadata": {
            "needs_background": "light"
          }
        }
      ],
      "source": [
        "f, ax = plt.subplots(figsize=(4, 6))\n",
        "sns.heatmap(\n",
        "    correlations[['Price']].sort_values(by='Price',ascending=False)[abs(correlations['Price'])>0.1],\n",
        "    vmin=-1, vmax=1,\n",
        "    cmap=sns.diverging_palette(20, 220, n=200),\n",
        "    annot=True\n",
        "    );\n",
        "\n",
        "ax.set_title('Numeric Features Correlating significantly with Price', fontdict={'fontsize':18}, pad=16);"
      ]
    },
    {
      "cell_type": "code",
      "execution_count": null,
      "metadata": {
        "id": "tIJMJL7Aq60k"
      },
      "outputs": [],
      "source": [
        "data_num = pd.get_dummies(data_num)"
      ]
    },
    {
      "cell_type": "markdown",
      "metadata": {
        "id": "Tjn7EBrxq60k"
      },
      "source": [
        "A continuación vamos a estudiar la variable Neighbourhood_Cleansed. Veremos en qué zonas de Madrid hay más alojamientos de Airbnb disponibles. Para ello, utilizaremos las variables Longitude y Latitude que nos indican en qué zona se encuentra."
      ]
    },
    {
      "cell_type": "code",
      "execution_count": null,
      "metadata": {
        "id": "O8S3LptZq60l",
        "colab": {
          "base_uri": "https://localhost:8080/",
          "height": 517
        },
        "outputId": "ce22b02f-1316-4cd9-b817-954323f6bcd4"
      },
      "outputs": [
        {
          "output_type": "display_data",
          "data": {
            "text/plain": [
              "<Figure size 1080x576 with 1 Axes>"
            ],
            "image/png": "[encoded data removed]"
          },
          "metadata": {
            "needs_background": "light"
          }
        }
      ],
      "source": [
        "#Queremos ver que neigbourhood tiene más oferta de Airbnbs \n",
        "#- ?le podríamos meter un mapa detras con mplleaflet\n",
        "\n",
        "fig, ax = plt.subplots(figsize=(15, 8))\n",
        "with sns.plotting_context(\"notebook\", font_scale=1.5):\n",
        "    sns.scatterplot(x='Longitude',\n",
        "                    y='Latitude',\n",
        "                    size='Price',\n",
        "                    hue = 'Neighbourhood_Cleansed',\n",
        "                    palette=sns.color_palette(\"husl\", len(pd.unique(data['Neighbourhood_Cleansed']))),\n",
        "                    sizes=(10, 300), \n",
        "                    data=data, \n",
        "                    ax=ax,\n",
        "                    legend = False)\n",
        "\n",
        "ax.set_xlabel(r'$Longitude$')\n",
        "ax.set_ylabel(r'$Latitude$')\n",
        "ax.set(ylim=(40.3,40.55), xlim=(-3.9,-3.5), title='Precio por vivienda y zona en Madrid')\n",
        "\n",
        "plt.show()"
      ]
    },
    {
      "cell_type": "markdown",
      "metadata": {
        "id": "_soAiVO0q60m"
      },
      "source": [
        "## Principal Component Analysis (PCA)"
      ]
    },
    {
      "cell_type": "markdown",
      "metadata": {
        "id": "PMtd1Hngq60l"
      },
      "source": [
        "A continuación realizaremos un **PCA**. Esto nos ayudará no solo a reducir dimensiones en caso de que sea necesario si no a identificar la presencia de outliers"
      ]
    },
    {
      "cell_type": "markdown",
      "metadata": {
        "id": "MrSOOsPxq60m"
      },
      "source": [
        "Es conviniente que normalicemos las variables de esta base de datos para poder trabajar con ellas ya que el cálculo de los componentes principales depende de las unidades de medida empleadas en las variables. Esto se debe a que cada variable está medida en una escala diferente. El problema de las escalas diferentes es que luego el análisis le va a dar mayor peso a las variables que estén en escalas mayores. Para evitar esto, lo que haremos es normalizar las variables manualmente, de manera que tengan media cero y desviación estándar uno, ya que, de lo contrario, las variables con mayor varianza dominarían al resto, aunque en el caso en que las variables estén medidas en las mismas unidades, podemos optar por no estandarizarlas. \n",
        "\n",
        "El objetivo final de realizar la normalización es reducir todas las características a una escala común sin distorsionar las diferencias en el rango de los valores. El proceso de PCA consiste en identificar las direcciones donde la sea mayor la varianza. La varianza de una variable se mide en su escala elevada al cuadrado. Si antes de calcular los componentes no se normalizan las las variables, las variables cuya escala sea mayor predominarán. Por ello es recomendable estandarizar siempre los datos. A continuación creamos un nuevo dataset con los datos normalizados:\n"
      ]
    },
    {
      "cell_type": "code",
      "execution_count": null,
      "metadata": {
        "scrolled": false,
        "id": "7XYqfhIgq60m",
        "outputId": "487c844c-ef25-41d5-ec4c-2ac16ad8269b",
        "colab": {
          "base_uri": "https://localhost:8080/",
          "height": 317
        }
      },
      "outputs": [
        {
          "output_type": "execute_result",
          "data": {
            "text/plain": [
              "     Host_ID  Host_Since  Host_Response_Time  Host_Response_Rate  \\\n",
              "40 -0.343929   -0.136671           -0.400766            0.039018   \n",
              "41 -0.350969   -0.128134           -0.370083            0.499207   \n",
              "42  0.868699   -0.935734           -0.400766            0.499207   \n",
              "43 -0.984237    1.314618           -0.400766            0.499207   \n",
              "44 -0.773648    0.507018           -0.400766            0.499207   \n",
              "\n",
              "    Host_Listings_Count  Host_Total_Listings_Count  Latitude  Longitude  \\\n",
              "40            -0.241816                  -0.241816 -0.643253   0.423865   \n",
              "41            -0.313712                  -0.313712  0.244734   0.247777   \n",
              "42            -0.277764                  -0.277764  0.359438   0.157593   \n",
              "43            -0.062076                  -0.062076  0.317386   0.180382   \n",
              "44            -0.277764                  -0.277764  0.374384   0.185954   \n",
              "\n",
              "    Accommodates  Bathrooms  ...  Bed_Type_Airbed  Bed_Type_Couch  \\\n",
              "40     -0.594104   0.064964  ...         -0.01942       -0.033649   \n",
              "41     -0.594104  -0.102801  ...         -0.01942       -0.033649   \n",
              "42     -0.092129  -0.102801  ...         -0.01942       -0.033649   \n",
              "43     -1.096080  -0.102801  ...         -0.01942       -0.033649   \n",
              "44      1.413798  -0.102801  ...         -0.01942       -0.033649   \n",
              "\n",
              "    Bed_Type_Futon  Bed_Type_Pull-out Sofa  Bed_Type_Real Bed  \\\n",
              "40        -0.05217               -0.134887           0.150302   \n",
              "41        -0.05217               -0.134887           0.150302   \n",
              "42        -0.05217               -0.134887           0.150302   \n",
              "43        -0.05217               -0.134887           0.150302   \n",
              "44        -0.05217               -0.134887           0.150302   \n",
              "\n",
              "    Cancellation_Policy_flexible  Cancellation_Policy_moderate  \\\n",
              "40                      1.446353                     -0.652679   \n",
              "41                     -0.691342                      1.532032   \n",
              "42                      1.446353                     -0.652679   \n",
              "43                     -0.691342                     -0.652679   \n",
              "44                     -0.691342                      1.532032   \n",
              "\n",
              "    Cancellation_Policy_strict  Cancellation_Policy_super_strict_30  \\\n",
              "40                   -0.778404                            -0.012281   \n",
              "41                   -0.778404                            -0.012281   \n",
              "42                   -0.778404                            -0.012281   \n",
              "43                    1.284584                            -0.012281   \n",
              "44                   -0.778404                            -0.012281   \n",
              "\n",
              "    Cancellation_Policy_super_strict_60  \n",
              "40                             -0.01942  \n",
              "41                             -0.01942  \n",
              "42                             -0.01942  \n",
              "43                             -0.01942  \n",
              "44                             -0.01942  \n",
              "\n",
              "[5 rows x 177 columns]"
            ],
            "text/html": [
              "\n",
              "  <div id=\"df-64391031-4a90-4e2f-a64c-01df56d5777e\">\n",
              "    <div class=\"colab-df-container\">\n",
              "      <div>\n",
              "<style scoped>\n",
              "    .dataframe tbody tr th:only-of-type {\n",
              "        vertical-align: middle;\n",
              "    }\n",
              "\n",
              "    .dataframe tbody tr th {\n",
              "        vertical-align: top;\n",
              "    }\n",
              "\n",
              "    .dataframe thead th {\n",
              "        text-align: right;\n",
              "    }\n",
              "</style>\n",
              "<table border=\"1\" class=\"dataframe\">\n",
              "  <thead>\n",
              "    <tr style=\"text-align: right;\">\n",
              "      <th></th>\n",
              "      <th>Host_ID</th>\n",
              "      <th>Host_Since</th>\n",
              "      <th>Host_Response_Time</th>\n",
              "      <th>Host_Response_Rate</th>\n",
              "      <th>Host_Listings_Count</th>\n",
              "      <th>Host_Total_Listings_Count</th>\n",
              "      <th>Latitude</th>\n",
              "      <th>Longitude</th>\n",
              "      <th>Accommodates</th>\n",
              "      <th>Bathrooms</th>\n",
              "      <th>...</th>\n",
              "      <th>Bed_Type_Airbed</th>\n",
              "      <th>Bed_Type_Couch</th>\n",
              "      <th>Bed_Type_Futon</th>\n",
              "      <th>Bed_Type_Pull-out Sofa</th>\n",
              "      <th>Bed_Type_Real Bed</th>\n",
              "      <th>Cancellation_Policy_flexible</th>\n",
              "      <th>Cancellation_Policy_moderate</th>\n",
              "      <th>Cancellation_Policy_strict</th>\n",
              "      <th>Cancellation_Policy_super_strict_30</th>\n",
              "      <th>Cancellation_Policy_super_strict_60</th>\n",
              "    </tr>\n",
              "  </thead>\n",
              "  <tbody>\n",
              "    <tr>\n",
              "      <th>40</th>\n",
              "      <td>-0.343929</td>\n",
              "      <td>-0.136671</td>\n",
              "      <td>-0.400766</td>\n",
              "      <td>0.039018</td>\n",
              "      <td>-0.241816</td>\n",
              "      <td>-0.241816</td>\n",
              "      <td>-0.643253</td>\n",
              "      <td>0.423865</td>\n",
              "      <td>-0.594104</td>\n",
              "      <td>0.064964</td>\n",
              "      <td>...</td>\n",
              "      <td>-0.01942</td>\n",
              "      <td>-0.033649</td>\n",
              "      <td>-0.05217</td>\n",
              "      <td>-0.134887</td>\n",
              "      <td>0.150302</td>\n",
              "      <td>1.446353</td>\n",
              "      <td>-0.652679</td>\n",
              "      <td>-0.778404</td>\n",
              "      <td>-0.012281</td>\n",
              "      <td>-0.01942</td>\n",
              "    </tr>\n",
              "    <tr>\n",
              "      <th>41</th>\n",
              "      <td>-0.350969</td>\n",
              "      <td>-0.128134</td>\n",
              "      <td>-0.370083</td>\n",
              "      <td>0.499207</td>\n",
              "      <td>-0.313712</td>\n",
              "      <td>-0.313712</td>\n",
              "      <td>0.244734</td>\n",
              "      <td>0.247777</td>\n",
              "      <td>-0.594104</td>\n",
              "      <td>-0.102801</td>\n",
              "      <td>...</td>\n",
              "      <td>-0.01942</td>\n",
              "      <td>-0.033649</td>\n",
              "      <td>-0.05217</td>\n",
              "      <td>-0.134887</td>\n",
              "      <td>0.150302</td>\n",
              "      <td>-0.691342</td>\n",
              "      <td>1.532032</td>\n",
              "      <td>-0.778404</td>\n",
              "      <td>-0.012281</td>\n",
              "      <td>-0.01942</td>\n",
              "    </tr>\n",
              "    <tr>\n",
              "      <th>42</th>\n",
              "      <td>0.868699</td>\n",
              "      <td>-0.935734</td>\n",
              "      <td>-0.400766</td>\n",
              "      <td>0.499207</td>\n",
              "      <td>-0.277764</td>\n",
              "      <td>-0.277764</td>\n",
              "      <td>0.359438</td>\n",
              "      <td>0.157593</td>\n",
              "      <td>-0.092129</td>\n",
              "      <td>-0.102801</td>\n",
              "      <td>...</td>\n",
              "      <td>-0.01942</td>\n",
              "      <td>-0.033649</td>\n",
              "      <td>-0.05217</td>\n",
              "      <td>-0.134887</td>\n",
              "      <td>0.150302</td>\n",
              "      <td>1.446353</td>\n",
              "      <td>-0.652679</td>\n",
              "      <td>-0.778404</td>\n",
              "      <td>-0.012281</td>\n",
              "      <td>-0.01942</td>\n",
              "    </tr>\n",
              "    <tr>\n",
              "      <th>43</th>\n",
              "      <td>-0.984237</td>\n",
              "      <td>1.314618</td>\n",
              "      <td>-0.400766</td>\n",
              "      <td>0.499207</td>\n",
              "      <td>-0.062076</td>\n",
              "      <td>-0.062076</td>\n",
              "      <td>0.317386</td>\n",
              "      <td>0.180382</td>\n",
              "      <td>-1.096080</td>\n",
              "      <td>-0.102801</td>\n",
              "      <td>...</td>\n",
              "      <td>-0.01942</td>\n",
              "      <td>-0.033649</td>\n",
              "      <td>-0.05217</td>\n",
              "      <td>-0.134887</td>\n",
              "      <td>0.150302</td>\n",
              "      <td>-0.691342</td>\n",
              "      <td>-0.652679</td>\n",
              "      <td>1.284584</td>\n",
              "      <td>-0.012281</td>\n",
              "      <td>-0.01942</td>\n",
              "    </tr>\n",
              "    <tr>\n",
              "      <th>44</th>\n",
              "      <td>-0.773648</td>\n",
              "      <td>0.507018</td>\n",
              "      <td>-0.400766</td>\n",
              "      <td>0.499207</td>\n",
              "      <td>-0.277764</td>\n",
              "      <td>-0.277764</td>\n",
              "      <td>0.374384</td>\n",
              "      <td>0.185954</td>\n",
              "      <td>1.413798</td>\n",
              "      <td>-0.102801</td>\n",
              "      <td>...</td>\n",
              "      <td>-0.01942</td>\n",
              "      <td>-0.033649</td>\n",
              "      <td>-0.05217</td>\n",
              "      <td>-0.134887</td>\n",
              "      <td>0.150302</td>\n",
              "      <td>-0.691342</td>\n",
              "      <td>1.532032</td>\n",
              "      <td>-0.778404</td>\n",
              "      <td>-0.012281</td>\n",
              "      <td>-0.01942</td>\n",
              "    </tr>\n",
              "  </tbody>\n",
              "</table>\n",
              "<p>5 rows × 177 columns</p>\n",
              "</div>\n",
              "      <button class=\"colab-df-convert\" onclick=\"convertToInteractive('df-64391031-4a90-4e2f-a64c-01df56d5777e')\"\n",
              "              title=\"Convert this dataframe to an interactive table.\"\n",
              "              style=\"display:none;\">\n",
              "        \n",
              "  <svg xmlns=\"http://www.w3.org/2000/svg\" height=\"24px\"viewBox=\"0 0 24 24\"\n",
              "       width=\"24px\">\n",
              "    <path d=\"M0 0h24v24H0V0z\" fill=\"none\"/>\n",
              "    <path d=\"M18.56 5.44l.94 2.06.94-2.06 2.06-.94-2.06-.94-.94-2.06-.94 2.06-2.06.94zm-11 1L8.5 8.5l.94-2.06 2.06-.94-2.06-.94L8.5 2.5l-.94 2.06-2.06.94zm10 10l.94 2.06.94-2.06 2.06-.94-2.06-.94-.94-2.06-.94 2.06-2.06.94z\"/><path d=\"M17.41 7.96l-1.37-1.37c-.4-.4-.92-.59-1.43-.59-.52 0-1.04.2-1.43.59L10.3 9.45l-7.72 7.72c-.78.78-.78 2.05 0 2.83L4 21.41c.39.39.9.59 1.41.59.51 0 1.02-.2 1.41-.59l7.78-7.78 2.81-2.81c.8-.78.8-2.07 0-2.86zM5.41 20L4 18.59l7.72-7.72 1.47 1.35L5.41 20z\"/>\n",
              "  </svg>\n",
              "      </button>\n",
              "      \n",
              "  <style>\n",
              "    .colab-df-container {\n",
              "      display:flex;\n",
              "      flex-wrap:wrap;\n",
              "      gap: 12px;\n",
              "    }\n",
              "\n",
              "    .colab-df-convert {\n",
              "      background-color: #E8F0FE;\n",
              "      border: none;\n",
              "      border-radius: 50%;\n",
              "      cursor: pointer;\n",
              "      display: none;\n",
              "      fill: #1967D2;\n",
              "      height: 32px;\n",
              "      padding: 0 0 0 0;\n",
              "      width: 32px;\n",
              "    }\n",
              "\n",
              "    .colab-df-convert:hover {\n",
              "      background-color: #E2EBFA;\n",
              "      box-shadow: 0px 1px 2px rgba(60, 64, 67, 0.3), 0px 1px 3px 1px rgba(60, 64, 67, 0.15);\n",
              "      fill: #174EA6;\n",
              "    }\n",
              "\n",
              "    [theme=dark] .colab-df-convert {\n",
              "      background-color: #3B4455;\n",
              "      fill: #D2E3FC;\n",
              "    }\n",
              "\n",
              "    [theme=dark] .colab-df-convert:hover {\n",
              "      background-color: #434B5C;\n",
              "      box-shadow: 0px 1px 3px 1px rgba(0, 0, 0, 0.15);\n",
              "      filter: drop-shadow(0px 1px 2px rgba(0, 0, 0, 0.3));\n",
              "      fill: #FFFFFF;\n",
              "    }\n",
              "  </style>\n",
              "\n",
              "      <script>\n",
              "        const buttonEl =\n",
              "          document.querySelector('#df-64391031-4a90-4e2f-a64c-01df56d5777e button.colab-df-convert');\n",
              "        buttonEl.style.display =\n",
              "          google.colab.kernel.accessAllowed ? 'block' : 'none';\n",
              "\n",
              "        async function convertToInteractive(key) {\n",
              "          const element = document.querySelector('#df-64391031-4a90-4e2f-a64c-01df56d5777e');\n",
              "          const dataTable =\n",
              "            await google.colab.kernel.invokeFunction('convertToInteractive',\n",
              "                                                     [key], {});\n",
              "          if (!dataTable) return;\n",
              "\n",
              "          const docLinkHtml = 'Like what you see? Visit the ' +\n",
              "            '<a target=\"_blank\" href=https://colab.research.google.com/notebooks/data_table.ipynb>data table notebook</a>'\n",
              "            + ' to learn more about interactive tables.';\n",
              "          element.innerHTML = '';\n",
              "          dataTable['output_type'] = 'display_data';\n",
              "          await google.colab.output.renderOutput(dataTable, element);\n",
              "          const docLink = document.createElement('div');\n",
              "          docLink.innerHTML = docLinkHtml;\n",
              "          element.appendChild(docLink);\n",
              "        }\n",
              "      </script>\n",
              "    </div>\n",
              "  </div>\n",
              "  "
            ]
          },
          "metadata": {},
          "execution_count": 113
        }
      ],
      "source": [
        "data_num_norm = (data_num - data_num.mean())/data_num.std()\n",
        "data_num_norm.head(5)"
      ]
    },
    {
      "cell_type": "markdown",
      "metadata": {
        "id": "Qf3rcxYJq60m"
      },
      "source": [
        "El PCA descubre las combinaciones lineales de características que capturan la cantidad más grande de variación. Cada componente principal representa la dirección en que los predictores tienen la mayor varianza. El PCA alinea los componentes principales con los ejes. Con el gráfico PCA podemos comprobar que el primer componente explica la mayor parte de la varianza. Los eigenvectors de una matriz son los vectores que al multiplicarlos por esa matriz, resultan en el mismo vector o en un múltiplo entero del vector. Todos los eigenvectors de una matriz son ortogonales entre ellos, independientemente de las dimensiones que tengan. En el método PCA, cada una de las componentes se corresponde con un eigenvector, y el orden de componente se establece por orden decreciente de eigenvalue. Así pues, la primera componente es el eigenvector con el eigenvalue asociado más alto. Cada componente principal se obtiene por combinación lineal de las variables originales.\n",
        "\n",
        "El vector que define la primera componente principal (Componente 1) sigue la dirección en la que las observaciones varían más. La proyección de cada observación sobre esa dirección equivale al valor de la primera componente para dicha observación. La segunda componente (Componente 2) sigue la segunda dirección en la que los datos muestran mayor varianza y que no está correlacionada con la primera componente. La condición de no correlación entre componentes principales equivale a decir que sus direcciones son ortogonales.\n",
        "\n",
        "La función de sklearn .fit_transform() ajusta el modelo creado de PCA, con los datos de entrenamiento, data_num_norm en nuestro caso y aplica la reducción de la dimensionalidad. Es decir, entrena el modelo PCA con los datos de entrada. La función fit_transform() se utiliza en los datos de entrenamiento para que podamos escalar los datos de entrenamiento y también aprender los parámetros de escalado de esos datos. Aquí, el modelo construido por nosotros aprenderá la media y la varianza de las características del conjunto de entrenamiento. Estos parámetros aprendidos se utilizan para escalar nuestros datos de prueba. La diferencia entre fit() y fit_transform() es que el método fit consiste en calcular la media y la varianza de cada una de las características presentes en nuestros datos y el método de fit_transform transforma todas las características utilizando la media y la varianza respectivas.\n",
        "\n",
        "El método de PCA permite simplificar la información aportada por muchas variables en pocos componentes. Esto lo convierte en un método muy útil de aplicar previa utilización de otras técnicas estadísticas que utilizaremos más adelante como por ejemplo clustering.\n",
        "\n",
        "Cuando se trabaja con las varianzas, el PCA es muy sensible a los valores atípicos, por lo que es importante estudiar si los hay. En esta sección, también detectaremos los outliers mediante el PCA.\n"
      ]
    },
    {
      "cell_type": "code",
      "execution_count": null,
      "metadata": {
        "id": "7kaEJMzKq60m",
        "outputId": "4f1dca3a-4974-4c6b-ba99-73097b42bbad",
        "colab": {
          "base_uri": "https://localhost:8080/",
          "height": 315
        }
      },
      "outputs": [
        {
          "output_type": "execute_result",
          "data": {
            "text/plain": [
              "Text(0.5, 1.0, 'PCA')"
            ]
          },
          "metadata": {},
          "execution_count": 114
        },
        {
          "output_type": "display_data",
          "data": {
            "text/plain": [
              "<Figure size 432x288 with 1 Axes>"
            ],
            "image/png": "[encoded data removed]"
          },
          "metadata": {
            "needs_background": "light"
          }
        }
      ],
      "source": [
        "# Realizamos el primer modelo PCA con todos los componentes\n",
        "\n",
        "data_num_PCA = data_num_norm.drop(columns ='Price')\n",
        "\n",
        "pca = PCA(n_components = 176, whiten=False, random_state=random_num)\n",
        "data_PCA = pca.fit_transform(data_num_PCA)\n",
        "sns.scatterplot(data_PCA[:,0], data_PCA[:,1],\n",
        "                color='orange',alpha=0.7)\n",
        "\n",
        "plt.xlabel(\"Componente 1\", fontsize = 10)\n",
        "plt.ylabel(\"Componente 2\", fontsize = 10)\n",
        "plt.title('PCA', fontsize = 15)\n"
      ]
    },
    {
      "cell_type": "code",
      "execution_count": null,
      "metadata": {
        "scrolled": false,
        "id": "GgUNaDBfq60n",
        "outputId": "a5d238d6-d2b2-4e38-e857-0e9d49941655",
        "colab": {
          "base_uri": "https://localhost:8080/"
        }
      },
      "outputs": [
        {
          "output_type": "stream",
          "name": "stdout",
          "text": [
            "118\n"
          ]
        }
      ],
      "source": [
        "var = np.cumsum(pca.explained_variance_ratio_)\n",
        "comps = [i for i,el in enumerate(np.cumsum(pca.explained_variance_ratio_)) if el > 0.85][0]\n",
        "print(comps)"
      ]
    },
    {
      "cell_type": "markdown",
      "metadata": {
        "id": "KQ0jZQ2vq60n"
      },
      "source": [
        "Vemos que 119 componentes explican el 85% de la varianza y por tanto será suficiente quedarnos con 119 en lugar de 180. "
      ]
    },
    {
      "cell_type": "code",
      "execution_count": null,
      "metadata": {
        "id": "cL0o_ie-q60n"
      },
      "outputs": [],
      "source": [
        "pca = PCA(n_components = comps, whiten=False, random_state=random_num)\n",
        "data_PCA = pca.fit_transform(data_num_PCA)"
      ]
    },
    {
      "cell_type": "code",
      "execution_count": null,
      "metadata": {
        "id": "lsQl1zjBq60n",
        "outputId": "2a438e62-3372-4eb7-e223-64758f4a4958",
        "colab": {
          "base_uri": "https://localhost:8080/"
        }
      },
      "outputs": [
        {
          "output_type": "stream",
          "name": "stdout",
          "text": [
            "[(0.2948106615582756, 30), (0.29470325422220756, 28), (0.29457776743804465, 27), (0.29451367186488436, 29), (0.29442008216740656, 31), (0.2944175648447229, 32), (0.2943864649874548, 26), (0.2910424342217889, 25)]\n"
          ]
        },
        {
          "output_type": "execute_result",
          "data": {
            "text/plain": [
              "['Review_Scores_Checkin',\n",
              " 'Review_Scores_Accuracy',\n",
              " 'Review_Scores_Rating',\n",
              " 'Review_Scores_Cleanliness',\n",
              " 'Review_Scores_Communication',\n",
              " 'Review_Scores_Location',\n",
              " 'Last_Review',\n",
              " 'First_Review']"
            ]
          },
          "metadata": {},
          "execution_count": 117
        }
      ],
      "source": [
        "#Variables principales del primer componente\n",
        "\n",
        "main_variables = sorted([(abs(el),i) for i,el in enumerate(pca.components_[0])], reverse=True)\n",
        "print(main_variables[:8])\n",
        "[data_num_norm.columns[i] for n,i in main_variables[:8]]"
      ]
    },
    {
      "cell_type": "code",
      "execution_count": null,
      "metadata": {
        "id": "IywRU5-Xq60o"
      },
      "outputs": [],
      "source": [
        "reverse = pca.inverse_transform(data_PCA)\n",
        "\n",
        "data_nump = data_num_PCA.to_numpy()\n",
        "\n",
        "error = (data_num_PCA - reverse)**2\n",
        "\n",
        "score = np.sum(error,1)\n",
        "score_mean = np.mean(score)\n",
        "score_std = np.std(score)\n",
        "outliers = np.where(score> score_mean + 5*score_std)"
      ]
    },
    {
      "cell_type": "code",
      "execution_count": null,
      "metadata": {
        "scrolled": false,
        "id": "OB6sz7upq60o",
        "outputId": "f3be752d-02be-4073-d040-8780ae08a3f4",
        "colab": {
          "base_uri": "https://localhost:8080/",
          "height": 313
        }
      },
      "outputs": [
        {
          "output_type": "execute_result",
          "data": {
            "text/plain": [
              "Text(0, 0.5, 'Componente 2')"
            ]
          },
          "metadata": {},
          "execution_count": 119
        },
        {
          "output_type": "display_data",
          "data": {
            "text/plain": [
              "<Figure size 432x288 with 1 Axes>"
            ],
            "image/png": "[encoded data removed]"
          },
          "metadata": {
            "needs_background": "light"
          }
        }
      ],
      "source": [
        "mark_outlier = np.where(score> score_mean + 5*score_std, True, False)\n",
        "sns.scatterplot(data_PCA[:,0], data_PCA[:,1], hue=mark_outlier)\n",
        "plt.title('Detección de outliers con PCA')\n",
        "plt.xlabel('Componente 1')\n",
        "plt.ylabel('Componente 2')"
      ]
    },
    {
      "cell_type": "code",
      "execution_count": null,
      "metadata": {
        "id": "zCg8Sjz_q60o",
        "outputId": "1b803e06-9294-4735-c6c0-0808953f26bc",
        "colab": {
          "base_uri": "https://localhost:8080/"
        }
      },
      "outputs": [
        {
          "output_type": "stream",
          "name": "stdout",
          "text": [
            "Total de outliers en la base de datos detectados con PCA: 63\n"
          ]
        }
      ],
      "source": [
        "sumoutliers=np.sum(mark_outlier)\n",
        "print(\"Total de outliers en la base de datos detectados con PCA:\", sumoutliers)"
      ]
    },
    {
      "cell_type": "markdown",
      "metadata": {
        "id": "L0_fyxk6q60p"
      },
      "source": [
        "Hemos obtenido el gráfico PCA con los valores atípicos en color naranja. Para ello, hemos creado una variable llamada mark_outlier donde se generan los outliers y que cuando detecta un outlier indica que es \"False\" y cuando no lo hay se indica que es \"True\". Después creamos un diagrama de puntos con sns.scatterplot y insertamos la nueva variable creada mark_outlier dentro de hue para así indicar en un color distinto los outliers y en la leyenda aparezca cuales son los outliers (False). Estos valores atípicos convendría quitarlos o examinarlos ya que podrían afectar nuestro estudio. Podemos observar que hay algún dato que esta alejado y que podría parecer un valor atípico pero lo es y no aparece de otro color porque estamos representando únicamente dos dimensiones, y pueden haber muchas más. Además, algunos datos atípicos podrían estar solapados."
      ]
    },
    {
      "cell_type": "markdown",
      "metadata": {
        "id": "daVvXqTUq60v"
      },
      "source": [
        "Por hacer: \n",
        "\n",
        "    - Host_Verifications --> ?? \n",
        "    - Calendar_Updated\n",
        "    - Clusterización\n",
        "    - Busqueda de outliers con DBscan\n",
        "    - Borrar Zipcode\n"
      ]
    },
    {
      "cell_type": "markdown",
      "source": [
        "## **Entrnamiento de Modelos**"
      ],
      "metadata": {
        "id": "PlBjvOkCDNo7"
      }
    },
    {
      "cell_type": "markdown",
      "metadata": {
        "id": "IL8Xbqerq60v"
      },
      "source": [
        "### Train-Test Split"
      ]
    },
    {
      "cell_type": "code",
      "source": [
        "data_train, data_test = train_test_split(data_num, test_size = 0.3, random_state = random_num)\n"
      ],
      "metadata": {
        "id": "y9b-kEtqAhxZ"
      },
      "execution_count": null,
      "outputs": []
    },
    {
      "cell_type": "code",
      "source": [
        "#Normalizamos el conjunto de entrenamiento y test que seran usados si el algoritmo lo requiere\n",
        "scaler = StandardScaler()\n",
        "train_scaler = scaler.fit(data_train)\n",
        "\n",
        "data_train_norm = pd.DataFrame(index=data_train.index,\n",
        "                               columns=data_train.columns,\n",
        "                               data=train_scaler.transform(data_train))\n",
        "\n",
        "data_test_norm = pd.DataFrame(index=data_test.index,\n",
        "                               columns=data_test.columns,\n",
        "                               data=train_scaler.transform(data_test)) #normalizamos usando el Scaler de train"
      ],
      "metadata": {
        "id": "GPXFBwc-AiB3"
      },
      "execution_count": null,
      "outputs": []
    },
    {
      "cell_type": "code",
      "execution_count": null,
      "metadata": {
        "id": "jmzb6QXmq60v"
      },
      "outputs": [],
      "source": [
        "columns = ['pca_comp_%i' % i for i in range(comps)]\n",
        "df_pca  = pd.DataFrame(data_PCA, columns=columns, index=data_num_PCA.index)"
      ]
    },
    {
      "cell_type": "code",
      "execution_count": null,
      "metadata": {
        "id": "jHZFoLT7q60v"
      },
      "outputs": [],
      "source": [
        "df_pca['Price'] = data_num['Price']"
      ]
    },
    {
      "cell_type": "code",
      "execution_count": null,
      "metadata": {
        "id": "vUcRqGGOq60v"
      },
      "outputs": [],
      "source": [
        "data_train_pca, data_test_pca = train_test_split(df_pca, test_size = 0.3, random_state = random_num)"
      ]
    },
    {
      "cell_type": "code",
      "source": [
        "X_train = data_train.drop(columns='Price')\n",
        "X_train_norm = data_train_norm.drop(columns='Price')\n",
        "Y_train = data_train['Price']\n",
        "Y_train_norm = data_train_norm['Price']\n",
        "\n",
        "X_test = data_test.drop(columns='Price')\n",
        "X_test_norm = data_test_norm.drop(columns='Price')\n",
        "Y_test = data_test['Price']\n",
        "Y_test_norm = data_test_norm['Price']\n",
        "\n",
        "X_train_pca = data_train_pca.drop(columns='Price')\n",
        "Y_train_pca = data_train_pca['Price']\n",
        "X_test_pca = data_test_pca.drop(columns='Price')\n",
        "Y_test_pca = data_test_pca['Price']"
      ],
      "metadata": {
        "id": "ofGkvQUdAiET"
      },
      "execution_count": null,
      "outputs": []
    },
    {
      "cell_type": "markdown",
      "metadata": {
        "id": "cwpmfO88q60w"
      },
      "source": [
        "### Regresión lineal \n",
        "\n",
        "mas basica\n",
        "sirve de liston\n",
        "no optimizamos para ver capacidad predictiva de mas basic"
      ]
    },
    {
      "cell_type": "code",
      "source": [
        "lr = LinearRegression()\n",
        "lr.fit(X_train_norm, Y_train)\n",
        "lr.score(X_train_norm, Y_train)"
      ],
      "metadata": {
        "colab": {
          "base_uri": "https://localhost:8080/"
        },
        "id": "dDGgDRqHAiGl",
        "outputId": "7b68a78a-e14b-4f8d-ef3f-b1095237520d"
      },
      "execution_count": null,
      "outputs": [
        {
          "output_type": "execute_result",
          "data": {
            "text/plain": [
              "0.592358818709285"
            ]
          },
          "metadata": {},
          "execution_count": 128
        }
      ]
    },
    {
      "cell_type": "markdown",
      "metadata": {
        "id": "zVk-Na5Yq60w"
      },
      "source": [
        "### Random Forest "
      ]
    },
    {
      "cell_type": "code",
      "execution_count": null,
      "metadata": {
        "id": "6c26f1b6"
      },
      "outputs": [],
      "source": [
        "from sklearn.ensemble import RandomForestRegressor\n",
        "from sklearn.model_selection import GridSearchCV"
      ]
    },
    {
      "cell_type": "code",
      "execution_count": null,
      "metadata": {
        "id": "0b5AMXlbq60w",
        "colab": {
          "base_uri": "https://localhost:8080/"
        },
        "outputId": "38b20acc-51d9-4658-bbd2-df50ee6f6c20"
      },
      "outputs": [
        {
          "output_type": "execute_result",
          "data": {
            "text/plain": [
              "GridSearchCV(cv=3, estimator=RandomForestRegressor(), n_jobs=4,\n",
              "             param_grid={'max_depth': [10, 15, 20],\n",
              "                         'n_estimators': [150, 200, 250]})"
            ]
          },
          "metadata": {},
          "execution_count": 130
        }
      ],
      "source": [
        "parameters_forest = ({'max_depth': [10, 15, 20],\n",
        "                      'n_estimators': [150, 200, 250]})\n",
        "forest_grid = RandomForestRegressor()\n",
        "\n",
        "clf_forest = GridSearchCV(forest_grid, parameters_forest, n_jobs=4, cv=3)\n",
        "clf_forest.fit(X_train, Y_train)"
      ]
    },
    {
      "cell_type": "code",
      "source": [
        "clf_forest.best_params_"
      ],
      "metadata": {
        "colab": {
          "base_uri": "https://localhost:8080/"
        },
        "id": "lxD7yN0WHmgU",
        "outputId": "82f7660a-01e9-43ae-8018-1e3697c6c185"
      },
      "execution_count": null,
      "outputs": [
        {
          "output_type": "execute_result",
          "data": {
            "text/plain": [
              "{'max_depth': 20, 'n_estimators': 250}"
            ]
          },
          "metadata": {},
          "execution_count": 131
        }
      ]
    },
    {
      "cell_type": "code",
      "source": [
        "forest = RandomForestRegressor(max_depth = clf_forest.best_params_['max_depth'],\n",
        "                               n_estimators= clf_forest.best_params_['n_estimators'])\n",
        "forest.fit(X_train, Y_train)\n",
        "forest.score(X_train, Y_train)"
      ],
      "metadata": {
        "colab": {
          "base_uri": "https://localhost:8080/"
        },
        "id": "tO62bsDjRJo2",
        "outputId": "5ada7555-4a72-4c09-edc0-07a7d947c3b5"
      },
      "execution_count": null,
      "outputs": [
        {
          "output_type": "execute_result",
          "data": {
            "text/plain": [
              "0.9515325577687759"
            ]
          },
          "metadata": {},
          "execution_count": 132
        }
      ]
    },
    {
      "cell_type": "markdown",
      "metadata": {
        "id": "l2pkFX3Aq60x"
      },
      "source": [
        "### XGBOOST"
      ]
    },
    {
      "cell_type": "code",
      "execution_count": null,
      "metadata": {
        "id": "yqiVz3Dqq60y",
        "colab": {
          "base_uri": "https://localhost:8080/"
        },
        "outputId": "0657d334-9874-4003-d463-918f2b352527"
      },
      "outputs": [
        {
          "output_type": "stream",
          "name": "stdout",
          "text": [
            "[03:57:17] WARNING: /workspace/src/objective/regression_obj.cu:152: reg:linear is now deprecated in favor of reg:squarederror.\n"
          ]
        },
        {
          "output_type": "execute_result",
          "data": {
            "text/plain": [
              "GridSearchCV(cv=3, estimator=XGBRegressor(), n_jobs=4,\n",
              "             param_grid={'max_depth': [10, 15, 20],\n",
              "                         'n_estimators': [150, 200, 250]})"
            ]
          },
          "metadata": {},
          "execution_count": 140
        }
      ],
      "source": [
        "import xgboost as xgb\n",
        "\n",
        "parameters_xgb = ({'max_depth': [10, 15, 20],\n",
        "                    'n_estimators': [150, 200, 250]}) #mismos hiperparametros para que sea comparale\n",
        "xgb_grid = xgb.XGBRegressor()\n",
        "\n",
        "clf_xgb = GridSearchCV(xgb_grid, parameters_xgb, n_jobs=4, cv=3)\n",
        "clf_xgb.fit(X_train, Y_train)"
      ]
    },
    {
      "cell_type": "code",
      "execution_count": null,
      "metadata": {
        "id": "XmL-BR4fq60y",
        "colab": {
          "base_uri": "https://localhost:8080/"
        },
        "outputId": "3f5c8131-0e6a-4c5e-e671-c8c208aeffb9"
      },
      "outputs": [
        {
          "output_type": "execute_result",
          "data": {
            "text/plain": [
              "{'max_depth': 10, 'n_estimators': 200}"
            ]
          },
          "metadata": {},
          "execution_count": 141
        }
      ],
      "source": [
        "clf_xgb.best_params_"
      ]
    },
    {
      "cell_type": "code",
      "source": [
        "xgb = xgb.XGBRegressor(max_depth = clf_xgb.best_params_['max_depth'],\n",
        "                               n_estimators= clf_xgb.best_params_['n_estimators'])\n",
        "xgb.fit(X_train, Y_train)\n",
        "xgb.score(X_train, Y_train)"
      ],
      "metadata": {
        "colab": {
          "base_uri": "https://localhost:8080/"
        },
        "id": "aQljie3kLUqg",
        "outputId": "eb292905-0631-43e2-d7ab-c994db93dfa8"
      },
      "execution_count": null,
      "outputs": [
        {
          "output_type": "stream",
          "name": "stdout",
          "text": [
            "[03:59:51] WARNING: /workspace/src/objective/regression_obj.cu:152: reg:linear is now deprecated in favor of reg:squarederror.\n"
          ]
        },
        {
          "output_type": "execute_result",
          "data": {
            "text/plain": [
              "0.9904225473883396"
            ]
          },
          "metadata": {},
          "execution_count": 142
        }
      ]
    },
    {
      "cell_type": "markdown",
      "metadata": {
        "id": "aDkW-B4-WuaN"
      },
      "source": [
        "### XGBOOST - PCA"
      ]
    },
    {
      "cell_type": "code",
      "execution_count": null,
      "metadata": {
        "colab": {
          "base_uri": "https://localhost:8080/",
          "height": 443
        },
        "outputId": "78cb213d-4ddc-45c5-a676-b1f8eb32a5e2",
        "id": "HkeNgZFhWuaO"
      },
      "outputs": [
        {
          "output_type": "error",
          "ename": "KeyboardInterrupt",
          "evalue": "ignored",
          "traceback": [
            "\u001b[0;31m---------------------------------------------------------------------------\u001b[0m",
            "\u001b[0;31mKeyboardInterrupt\u001b[0m                         Traceback (most recent call last)",
            "\u001b[0;32m/usr/local/lib/python3.7/dist-packages/joblib/parallel.py\u001b[0m in \u001b[0;36mretrieve\u001b[0;34m(self)\u001b[0m\n\u001b[1;32m    934\u001b[0m                 \u001b[0;32mif\u001b[0m \u001b[0mgetattr\u001b[0m\u001b[0;34m(\u001b[0m\u001b[0mself\u001b[0m\u001b[0;34m.\u001b[0m\u001b[0m_backend\u001b[0m\u001b[0;34m,\u001b[0m \u001b[0;34m'supports_timeout'\u001b[0m\u001b[0;34m,\u001b[0m \u001b[0;32mFalse\u001b[0m\u001b[0;34m)\u001b[0m\u001b[0;34m:\u001b[0m\u001b[0;34m\u001b[0m\u001b[0;34m\u001b[0m\u001b[0m\n\u001b[0;32m--> 935\u001b[0;31m                     \u001b[0mself\u001b[0m\u001b[0;34m.\u001b[0m\u001b[0m_output\u001b[0m\u001b[0;34m.\u001b[0m\u001b[0mextend\u001b[0m\u001b[0;34m(\u001b[0m\u001b[0mjob\u001b[0m\u001b[0;34m.\u001b[0m\u001b[0mget\u001b[0m\u001b[0;34m(\u001b[0m\u001b[0mtimeout\u001b[0m\u001b[0;34m=\u001b[0m\u001b[0mself\u001b[0m\u001b[0;34m.\u001b[0m\u001b[0mtimeout\u001b[0m\u001b[0;34m)\u001b[0m\u001b[0;34m)\u001b[0m\u001b[0;34m\u001b[0m\u001b[0;34m\u001b[0m\u001b[0m\n\u001b[0m\u001b[1;32m    936\u001b[0m                 \u001b[0;32melse\u001b[0m\u001b[0;34m:\u001b[0m\u001b[0;34m\u001b[0m\u001b[0;34m\u001b[0m\u001b[0m\n",
            "\u001b[0;32m/usr/local/lib/python3.7/dist-packages/joblib/_parallel_backends.py\u001b[0m in \u001b[0;36mwrap_future_result\u001b[0;34m(future, timeout)\u001b[0m\n\u001b[1;32m    541\u001b[0m         \u001b[0;32mtry\u001b[0m\u001b[0;34m:\u001b[0m\u001b[0;34m\u001b[0m\u001b[0;34m\u001b[0m\u001b[0m\n\u001b[0;32m--> 542\u001b[0;31m             \u001b[0;32mreturn\u001b[0m \u001b[0mfuture\u001b[0m\u001b[0;34m.\u001b[0m\u001b[0mresult\u001b[0m\u001b[0;34m(\u001b[0m\u001b[0mtimeout\u001b[0m\u001b[0;34m=\u001b[0m\u001b[0mtimeout\u001b[0m\u001b[0;34m)\u001b[0m\u001b[0;34m\u001b[0m\u001b[0;34m\u001b[0m\u001b[0m\n\u001b[0m\u001b[1;32m    543\u001b[0m         \u001b[0;32mexcept\u001b[0m \u001b[0mCfTimeoutError\u001b[0m \u001b[0;32mas\u001b[0m \u001b[0me\u001b[0m\u001b[0;34m:\u001b[0m\u001b[0;34m\u001b[0m\u001b[0;34m\u001b[0m\u001b[0m\n",
            "\u001b[0;32m/usr/lib/python3.7/concurrent/futures/_base.py\u001b[0m in \u001b[0;36mresult\u001b[0;34m(self, timeout)\u001b[0m\n\u001b[1;32m    429\u001b[0m \u001b[0;34m\u001b[0m\u001b[0m\n\u001b[0;32m--> 430\u001b[0;31m             \u001b[0mself\u001b[0m\u001b[0;34m.\u001b[0m\u001b[0m_condition\u001b[0m\u001b[0;34m.\u001b[0m\u001b[0mwait\u001b[0m\u001b[0;34m(\u001b[0m\u001b[0mtimeout\u001b[0m\u001b[0;34m)\u001b[0m\u001b[0;34m\u001b[0m\u001b[0;34m\u001b[0m\u001b[0m\n\u001b[0m\u001b[1;32m    431\u001b[0m \u001b[0;34m\u001b[0m\u001b[0m\n",
            "\u001b[0;32m/usr/lib/python3.7/threading.py\u001b[0m in \u001b[0;36mwait\u001b[0;34m(self, timeout)\u001b[0m\n\u001b[1;32m    295\u001b[0m             \u001b[0;32mif\u001b[0m \u001b[0mtimeout\u001b[0m \u001b[0;32mis\u001b[0m \u001b[0;32mNone\u001b[0m\u001b[0;34m:\u001b[0m\u001b[0;34m\u001b[0m\u001b[0;34m\u001b[0m\u001b[0m\n\u001b[0;32m--> 296\u001b[0;31m                 \u001b[0mwaiter\u001b[0m\u001b[0;34m.\u001b[0m\u001b[0macquire\u001b[0m\u001b[0;34m(\u001b[0m\u001b[0;34m)\u001b[0m\u001b[0;34m\u001b[0m\u001b[0;34m\u001b[0m\u001b[0m\n\u001b[0m\u001b[1;32m    297\u001b[0m                 \u001b[0mgotit\u001b[0m \u001b[0;34m=\u001b[0m \u001b[0;32mTrue\u001b[0m\u001b[0;34m\u001b[0m\u001b[0;34m\u001b[0m\u001b[0m\n",
            "\u001b[0;31mKeyboardInterrupt\u001b[0m: ",
            "\nDuring handling of the above exception, another exception occurred:\n",
            "\u001b[0;31mKeyboardInterrupt\u001b[0m                         Traceback (most recent call last)",
            "\u001b[0;32m<ipython-input-170-d9d2997d9f05>\u001b[0m in \u001b[0;36m<module>\u001b[0;34m()\u001b[0m\n\u001b[1;32m      6\u001b[0m \u001b[0;34m\u001b[0m\u001b[0m\n\u001b[1;32m      7\u001b[0m \u001b[0mclf_xgb\u001b[0m \u001b[0;34m=\u001b[0m \u001b[0mGridSearchCV\u001b[0m\u001b[0;34m(\u001b[0m\u001b[0mxgb_grid\u001b[0m\u001b[0;34m,\u001b[0m \u001b[0mparameters_xgb\u001b[0m\u001b[0;34m,\u001b[0m \u001b[0mn_jobs\u001b[0m\u001b[0;34m=\u001b[0m\u001b[0;36m4\u001b[0m\u001b[0;34m,\u001b[0m \u001b[0mcv\u001b[0m\u001b[0;34m=\u001b[0m\u001b[0;36m3\u001b[0m\u001b[0;34m)\u001b[0m\u001b[0;34m\u001b[0m\u001b[0;34m\u001b[0m\u001b[0m\n\u001b[0;32m----> 8\u001b[0;31m \u001b[0mclf_xgb\u001b[0m\u001b[0;34m.\u001b[0m\u001b[0mfit\u001b[0m\u001b[0;34m(\u001b[0m\u001b[0mX_train_pca\u001b[0m\u001b[0;34m,\u001b[0m \u001b[0mY_train_pca\u001b[0m\u001b[0;34m)\u001b[0m\u001b[0;34m\u001b[0m\u001b[0;34m\u001b[0m\u001b[0m\n\u001b[0m",
            "\u001b[0;32m/usr/local/lib/python3.7/dist-packages/sklearn/model_selection/_search.py\u001b[0m in \u001b[0;36mfit\u001b[0;34m(self, X, y, groups, **fit_params)\u001b[0m\n\u001b[1;32m    889\u001b[0m                 \u001b[0;32mreturn\u001b[0m \u001b[0mresults\u001b[0m\u001b[0;34m\u001b[0m\u001b[0;34m\u001b[0m\u001b[0m\n\u001b[1;32m    890\u001b[0m \u001b[0;34m\u001b[0m\u001b[0m\n\u001b[0;32m--> 891\u001b[0;31m             \u001b[0mself\u001b[0m\u001b[0;34m.\u001b[0m\u001b[0m_run_search\u001b[0m\u001b[0;34m(\u001b[0m\u001b[0mevaluate_candidates\u001b[0m\u001b[0;34m)\u001b[0m\u001b[0;34m\u001b[0m\u001b[0;34m\u001b[0m\u001b[0m\n\u001b[0m\u001b[1;32m    892\u001b[0m \u001b[0;34m\u001b[0m\u001b[0m\n\u001b[1;32m    893\u001b[0m             \u001b[0;31m# multimetric is determined here because in the case of a callable\u001b[0m\u001b[0;34m\u001b[0m\u001b[0;34m\u001b[0m\u001b[0;34m\u001b[0m\u001b[0m\n",
            "\u001b[0;32m/usr/local/lib/python3.7/dist-packages/sklearn/model_selection/_search.py\u001b[0m in \u001b[0;36m_run_search\u001b[0;34m(self, evaluate_candidates)\u001b[0m\n\u001b[1;32m   1390\u001b[0m     \u001b[0;32mdef\u001b[0m \u001b[0m_run_search\u001b[0m\u001b[0;34m(\u001b[0m\u001b[0mself\u001b[0m\u001b[0;34m,\u001b[0m \u001b[0mevaluate_candidates\u001b[0m\u001b[0;34m)\u001b[0m\u001b[0;34m:\u001b[0m\u001b[0;34m\u001b[0m\u001b[0;34m\u001b[0m\u001b[0m\n\u001b[1;32m   1391\u001b[0m         \u001b[0;34m\"\"\"Search all candidates in param_grid\"\"\"\u001b[0m\u001b[0;34m\u001b[0m\u001b[0;34m\u001b[0m\u001b[0m\n\u001b[0;32m-> 1392\u001b[0;31m         \u001b[0mevaluate_candidates\u001b[0m\u001b[0;34m(\u001b[0m\u001b[0mParameterGrid\u001b[0m\u001b[0;34m(\u001b[0m\u001b[0mself\u001b[0m\u001b[0;34m.\u001b[0m\u001b[0mparam_grid\u001b[0m\u001b[0;34m)\u001b[0m\u001b[0;34m)\u001b[0m\u001b[0;34m\u001b[0m\u001b[0;34m\u001b[0m\u001b[0m\n\u001b[0m\u001b[1;32m   1393\u001b[0m \u001b[0;34m\u001b[0m\u001b[0m\n\u001b[1;32m   1394\u001b[0m \u001b[0;34m\u001b[0m\u001b[0m\n",
            "\u001b[0;32m/usr/local/lib/python3.7/dist-packages/sklearn/model_selection/_search.py\u001b[0m in \u001b[0;36mevaluate_candidates\u001b[0;34m(candidate_params, cv, more_results)\u001b[0m\n\u001b[1;32m    849\u001b[0m                     )\n\u001b[1;32m    850\u001b[0m                     for (cand_idx, parameters), (split_idx, (train, test)) in product(\n\u001b[0;32m--> 851\u001b[0;31m                         \u001b[0menumerate\u001b[0m\u001b[0;34m(\u001b[0m\u001b[0mcandidate_params\u001b[0m\u001b[0;34m)\u001b[0m\u001b[0;34m,\u001b[0m \u001b[0menumerate\u001b[0m\u001b[0;34m(\u001b[0m\u001b[0mcv\u001b[0m\u001b[0;34m.\u001b[0m\u001b[0msplit\u001b[0m\u001b[0;34m(\u001b[0m\u001b[0mX\u001b[0m\u001b[0;34m,\u001b[0m \u001b[0my\u001b[0m\u001b[0;34m,\u001b[0m \u001b[0mgroups\u001b[0m\u001b[0;34m)\u001b[0m\u001b[0;34m)\u001b[0m\u001b[0;34m\u001b[0m\u001b[0;34m\u001b[0m\u001b[0m\n\u001b[0m\u001b[1;32m    852\u001b[0m                     )\n\u001b[1;32m    853\u001b[0m                 )\n",
            "\u001b[0;32m/usr/local/lib/python3.7/dist-packages/joblib/parallel.py\u001b[0m in \u001b[0;36m__call__\u001b[0;34m(self, iterable)\u001b[0m\n\u001b[1;32m   1054\u001b[0m \u001b[0;34m\u001b[0m\u001b[0m\n\u001b[1;32m   1055\u001b[0m             \u001b[0;32mwith\u001b[0m \u001b[0mself\u001b[0m\u001b[0;34m.\u001b[0m\u001b[0m_backend\u001b[0m\u001b[0;34m.\u001b[0m\u001b[0mretrieval_context\u001b[0m\u001b[0;34m(\u001b[0m\u001b[0;34m)\u001b[0m\u001b[0;34m:\u001b[0m\u001b[0;34m\u001b[0m\u001b[0;34m\u001b[0m\u001b[0m\n\u001b[0;32m-> 1056\u001b[0;31m                 \u001b[0mself\u001b[0m\u001b[0;34m.\u001b[0m\u001b[0mretrieve\u001b[0m\u001b[0;34m(\u001b[0m\u001b[0;34m)\u001b[0m\u001b[0;34m\u001b[0m\u001b[0;34m\u001b[0m\u001b[0m\n\u001b[0m\u001b[1;32m   1057\u001b[0m             \u001b[0;31m# Make sure that we get a last message telling us we are done\u001b[0m\u001b[0;34m\u001b[0m\u001b[0;34m\u001b[0m\u001b[0;34m\u001b[0m\u001b[0m\n\u001b[1;32m   1058\u001b[0m             \u001b[0melapsed_time\u001b[0m \u001b[0;34m=\u001b[0m \u001b[0mtime\u001b[0m\u001b[0;34m.\u001b[0m\u001b[0mtime\u001b[0m\u001b[0;34m(\u001b[0m\u001b[0;34m)\u001b[0m \u001b[0;34m-\u001b[0m \u001b[0mself\u001b[0m\u001b[0;34m.\u001b[0m\u001b[0m_start_time\u001b[0m\u001b[0;34m\u001b[0m\u001b[0;34m\u001b[0m\u001b[0m\n",
            "\u001b[0;32m/usr/local/lib/python3.7/dist-packages/joblib/parallel.py\u001b[0m in \u001b[0;36mretrieve\u001b[0;34m(self)\u001b[0m\n\u001b[1;32m    955\u001b[0m                     \u001b[0;31m# scheduling.\u001b[0m\u001b[0;34m\u001b[0m\u001b[0;34m\u001b[0m\u001b[0;34m\u001b[0m\u001b[0m\n\u001b[1;32m    956\u001b[0m                     \u001b[0mensure_ready\u001b[0m \u001b[0;34m=\u001b[0m \u001b[0mself\u001b[0m\u001b[0;34m.\u001b[0m\u001b[0m_managed_backend\u001b[0m\u001b[0;34m\u001b[0m\u001b[0;34m\u001b[0m\u001b[0m\n\u001b[0;32m--> 957\u001b[0;31m                     \u001b[0mbackend\u001b[0m\u001b[0;34m.\u001b[0m\u001b[0mabort_everything\u001b[0m\u001b[0;34m(\u001b[0m\u001b[0mensure_ready\u001b[0m\u001b[0;34m=\u001b[0m\u001b[0mensure_ready\u001b[0m\u001b[0;34m)\u001b[0m\u001b[0;34m\u001b[0m\u001b[0;34m\u001b[0m\u001b[0m\n\u001b[0m\u001b[1;32m    958\u001b[0m                 \u001b[0;32mraise\u001b[0m\u001b[0;34m\u001b[0m\u001b[0;34m\u001b[0m\u001b[0m\n\u001b[1;32m    959\u001b[0m \u001b[0;34m\u001b[0m\u001b[0m\n",
            "\u001b[0;32m/usr/local/lib/python3.7/dist-packages/joblib/_parallel_backends.py\u001b[0m in \u001b[0;36mabort_everything\u001b[0;34m(self, ensure_ready)\u001b[0m\n\u001b[1;32m    559\u001b[0m         \"\"\"Shutdown the workers and restart a new one with the same parameters\n\u001b[1;32m    560\u001b[0m         \"\"\"\n\u001b[0;32m--> 561\u001b[0;31m         \u001b[0mself\u001b[0m\u001b[0;34m.\u001b[0m\u001b[0m_workers\u001b[0m\u001b[0;34m.\u001b[0m\u001b[0mterminate\u001b[0m\u001b[0;34m(\u001b[0m\u001b[0mkill_workers\u001b[0m\u001b[0;34m=\u001b[0m\u001b[0;32mTrue\u001b[0m\u001b[0;34m)\u001b[0m\u001b[0;34m\u001b[0m\u001b[0;34m\u001b[0m\u001b[0m\n\u001b[0m\u001b[1;32m    562\u001b[0m         \u001b[0mself\u001b[0m\u001b[0;34m.\u001b[0m\u001b[0m_workers\u001b[0m \u001b[0;34m=\u001b[0m \u001b[0;32mNone\u001b[0m\u001b[0;34m\u001b[0m\u001b[0;34m\u001b[0m\u001b[0m\n\u001b[1;32m    563\u001b[0m \u001b[0;34m\u001b[0m\u001b[0m\n",
            "\u001b[0;32m/usr/local/lib/python3.7/dist-packages/joblib/executor.py\u001b[0m in \u001b[0;36mterminate\u001b[0;34m(self, kill_workers)\u001b[0m\n\u001b[1;32m     72\u001b[0m \u001b[0;34m\u001b[0m\u001b[0m\n\u001b[1;32m     73\u001b[0m     \u001b[0;32mdef\u001b[0m \u001b[0mterminate\u001b[0m\u001b[0;34m(\u001b[0m\u001b[0mself\u001b[0m\u001b[0;34m,\u001b[0m \u001b[0mkill_workers\u001b[0m\u001b[0;34m=\u001b[0m\u001b[0;32mFalse\u001b[0m\u001b[0;34m)\u001b[0m\u001b[0;34m:\u001b[0m\u001b[0;34m\u001b[0m\u001b[0;34m\u001b[0m\u001b[0m\n\u001b[0;32m---> 74\u001b[0;31m         \u001b[0mself\u001b[0m\u001b[0;34m.\u001b[0m\u001b[0mshutdown\u001b[0m\u001b[0;34m(\u001b[0m\u001b[0mkill_workers\u001b[0m\u001b[0;34m=\u001b[0m\u001b[0mkill_workers\u001b[0m\u001b[0;34m)\u001b[0m\u001b[0;34m\u001b[0m\u001b[0;34m\u001b[0m\u001b[0m\n\u001b[0m\u001b[1;32m     75\u001b[0m         \u001b[0;32mif\u001b[0m \u001b[0mkill_workers\u001b[0m\u001b[0;34m:\u001b[0m\u001b[0;34m\u001b[0m\u001b[0;34m\u001b[0m\u001b[0m\n\u001b[1;32m     76\u001b[0m             \u001b[0;31m# When workers are killed in such a brutal manner, they cannot\u001b[0m\u001b[0;34m\u001b[0m\u001b[0;34m\u001b[0m\u001b[0;34m\u001b[0m\u001b[0m\n",
            "\u001b[0;32m/usr/local/lib/python3.7/dist-packages/joblib/externals/loky/process_executor.py\u001b[0m in \u001b[0;36mshutdown\u001b[0;34m(self, wait, kill_workers)\u001b[0m\n\u001b[1;32m   1183\u001b[0m \u001b[0;34m\u001b[0m\u001b[0m\n\u001b[1;32m   1184\u001b[0m         \u001b[0;32mif\u001b[0m \u001b[0mexecutor_manager_thread\u001b[0m \u001b[0;32mis\u001b[0m \u001b[0;32mnot\u001b[0m \u001b[0;32mNone\u001b[0m \u001b[0;32mand\u001b[0m \u001b[0mwait\u001b[0m\u001b[0;34m:\u001b[0m\u001b[0;34m\u001b[0m\u001b[0;34m\u001b[0m\u001b[0m\n\u001b[0;32m-> 1185\u001b[0;31m             \u001b[0mexecutor_manager_thread\u001b[0m\u001b[0;34m.\u001b[0m\u001b[0mjoin\u001b[0m\u001b[0;34m(\u001b[0m\u001b[0;34m)\u001b[0m\u001b[0;34m\u001b[0m\u001b[0;34m\u001b[0m\u001b[0m\n\u001b[0m\u001b[1;32m   1186\u001b[0m \u001b[0;34m\u001b[0m\u001b[0m\n\u001b[1;32m   1187\u001b[0m         \u001b[0;31m# To reduce the risk of opening too many files, remove references to\u001b[0m\u001b[0;34m\u001b[0m\u001b[0;34m\u001b[0m\u001b[0;34m\u001b[0m\u001b[0m\n",
            "\u001b[0;32m/usr/lib/python3.7/threading.py\u001b[0m in \u001b[0;36mjoin\u001b[0;34m(self, timeout)\u001b[0m\n\u001b[1;32m   1042\u001b[0m \u001b[0;34m\u001b[0m\u001b[0m\n\u001b[1;32m   1043\u001b[0m         \u001b[0;32mif\u001b[0m \u001b[0mtimeout\u001b[0m \u001b[0;32mis\u001b[0m \u001b[0;32mNone\u001b[0m\u001b[0;34m:\u001b[0m\u001b[0;34m\u001b[0m\u001b[0;34m\u001b[0m\u001b[0m\n\u001b[0;32m-> 1044\u001b[0;31m             \u001b[0mself\u001b[0m\u001b[0;34m.\u001b[0m\u001b[0m_wait_for_tstate_lock\u001b[0m\u001b[0;34m(\u001b[0m\u001b[0;34m)\u001b[0m\u001b[0;34m\u001b[0m\u001b[0;34m\u001b[0m\u001b[0m\n\u001b[0m\u001b[1;32m   1045\u001b[0m         \u001b[0;32melse\u001b[0m\u001b[0;34m:\u001b[0m\u001b[0;34m\u001b[0m\u001b[0;34m\u001b[0m\u001b[0m\n\u001b[1;32m   1046\u001b[0m             \u001b[0;31m# the behavior of a negative timeout isn't documented, but\u001b[0m\u001b[0;34m\u001b[0m\u001b[0;34m\u001b[0m\u001b[0;34m\u001b[0m\u001b[0m\n",
            "\u001b[0;32m/usr/lib/python3.7/threading.py\u001b[0m in \u001b[0;36m_wait_for_tstate_lock\u001b[0;34m(self, block, timeout)\u001b[0m\n\u001b[1;32m   1058\u001b[0m         \u001b[0;32mif\u001b[0m \u001b[0mlock\u001b[0m \u001b[0;32mis\u001b[0m \u001b[0;32mNone\u001b[0m\u001b[0;34m:\u001b[0m  \u001b[0;31m# already determined that the C code is done\u001b[0m\u001b[0;34m\u001b[0m\u001b[0;34m\u001b[0m\u001b[0m\n\u001b[1;32m   1059\u001b[0m             \u001b[0;32massert\u001b[0m \u001b[0mself\u001b[0m\u001b[0;34m.\u001b[0m\u001b[0m_is_stopped\u001b[0m\u001b[0;34m\u001b[0m\u001b[0;34m\u001b[0m\u001b[0m\n\u001b[0;32m-> 1060\u001b[0;31m         \u001b[0;32melif\u001b[0m \u001b[0mlock\u001b[0m\u001b[0;34m.\u001b[0m\u001b[0macquire\u001b[0m\u001b[0;34m(\u001b[0m\u001b[0mblock\u001b[0m\u001b[0;34m,\u001b[0m \u001b[0mtimeout\u001b[0m\u001b[0;34m)\u001b[0m\u001b[0;34m:\u001b[0m\u001b[0;34m\u001b[0m\u001b[0;34m\u001b[0m\u001b[0m\n\u001b[0m\u001b[1;32m   1061\u001b[0m             \u001b[0mlock\u001b[0m\u001b[0;34m.\u001b[0m\u001b[0mrelease\u001b[0m\u001b[0;34m(\u001b[0m\u001b[0;34m)\u001b[0m\u001b[0;34m\u001b[0m\u001b[0;34m\u001b[0m\u001b[0m\n\u001b[1;32m   1062\u001b[0m             \u001b[0mself\u001b[0m\u001b[0;34m.\u001b[0m\u001b[0m_stop\u001b[0m\u001b[0;34m(\u001b[0m\u001b[0;34m)\u001b[0m\u001b[0;34m\u001b[0m\u001b[0;34m\u001b[0m\u001b[0m\n",
            "\u001b[0;31mKeyboardInterrupt\u001b[0m: "
          ]
        }
      ],
      "source": [
        "xgb_grid_pca = xgb.XGBRegressor()\n",
        "\n",
        "clf_xgb_pca = GridSearchCV(xgb_grid_pca, parameters_xgb, n_jobs=4, cv=3)\n",
        "clf_xgb_pca.fit(X_train_pca, Y_train_pca)"
      ]
    },
    {
      "cell_type": "code",
      "execution_count": null,
      "metadata": {
        "colab": {
          "base_uri": "https://localhost:8080/"
        },
        "outputId": "3f5c8131-0e6a-4c5e-e671-c8c208aeffb9",
        "id": "P3RdqA1rWuaO"
      },
      "outputs": [
        {
          "output_type": "execute_result",
          "data": {
            "text/plain": [
              "{'max_depth': 10, 'n_estimators': 200}"
            ]
          },
          "metadata": {},
          "execution_count": 141
        }
      ],
      "source": [
        "clf_xgb_pca.best_params_"
      ]
    },
    {
      "cell_type": "code",
      "source": [
        "xgb_pca = xgb.XGBRegressor(max_depth = clf_xgb_pca.best_params_['max_depth'],\n",
        "                               n_estimators= clf_xgb_pca.best_params_['n_estimators'])\n",
        "xgb_pca.fit(X_train_pca, Y_train_pca)\n",
        "xgb_pca.score(X_train_pca, Y_train_pca)"
      ],
      "metadata": {
        "colab": {
          "base_uri": "https://localhost:8080/"
        },
        "outputId": "eb292905-0631-43e2-d7ab-c994db93dfa8",
        "id": "0jH_L-2QWuaP"
      },
      "execution_count": null,
      "outputs": [
        {
          "output_type": "stream",
          "name": "stdout",
          "text": [
            "[03:59:51] WARNING: /workspace/src/objective/regression_obj.cu:152: reg:linear is now deprecated in favor of reg:squarederror.\n"
          ]
        },
        {
          "output_type": "execute_result",
          "data": {
            "text/plain": [
              "0.9904225473883396"
            ]
          },
          "metadata": {},
          "execution_count": 142
        }
      ]
    },
    {
      "cell_type": "markdown",
      "metadata": {
        "id": "huDLJ_VYSPXT"
      },
      "source": [
        "### Red Neuronal"
      ]
    },
    {
      "cell_type": "code",
      "source": [
        "import tensorflow as tf"
      ],
      "metadata": {
        "id": "tFyTaFOXSa8w"
      },
      "execution_count": null,
      "outputs": []
    },
    {
      "cell_type": "code",
      "execution_count": null,
      "metadata": {
        "id": "LP-PAwLyq60y"
      },
      "outputs": [],
      "source": [
        "#with tf.device('/device:GPU:0'):\n",
        "#Le indicamos cual es el formato de nuestra entrada. Cuantos nodos tiene\n",
        "inputs = tf.keras.Input(shape=(X_train_norm.shape[1],))\n",
        "\n",
        "# A partir de aquí vamos enlazando las capas, la salida de una con la entrada de otra\n",
        "# en la propia definición de las capas podemos decir que función de activación usamos.\n",
        "# La capa más común, y la que utilizaremos en este ejercicio son las que usa MLP, o Densas\n",
        "# ya que conectan todos los nodos de entrada con los de salida\n",
        "x = tf.keras.layers.Dense(254, activation=\"relu\")(inputs) #capa predictiva\n",
        "x = tf.keras.layers.Dropout(0.2)(x) #capa dropout para evitar overfitting\n",
        "x = tf.keras.layers.Dense(64, activation=\"relu\")(x)\n",
        "x = tf.keras.layers.Dropout(0.2)(x)\n",
        "x = tf.keras.layers.Dense(32, activation=\"relu\")(x)\n",
        "\n",
        "# Por último, construimos nuestra capa de salida\n",
        "output = tf.keras.layers.Dense(1)(x)\n",
        "\n",
        "#Y creamos nuestro modelo completo donde le indicamos las salidas y las entradas.\n",
        "# Hay que crear un objeto modelo, ya que este es el que nos permite ser entrenado y evaluado.\n",
        "model = tf.keras.Model(inputs, output)"
      ]
    },
    {
      "cell_type": "code",
      "execution_count": null,
      "metadata": {
        "id": "0f7e67eb-c443-49f5-9f91-12f439033836"
      },
      "outputs": [],
      "source": [
        "model.compile(optimizer='adam', #metodo adam mejor reusltados\n",
        "              loss=tf.keras.losses.MeanSquaredError(),\n",
        "             metrics=tf.keras.metrics.RootMeanSquaredError(name='rmse'))"
      ]
    },
    {
      "cell_type": "code",
      "execution_count": null,
      "metadata": {
        "id": "d57fd495-cecb-472c-8fab-d933964c784b",
        "outputId": "32fb3928-5fdd-4f15-a264-99798615f85a",
        "colab": {
          "base_uri": "https://localhost:8080/"
        }
      },
      "outputs": [
        {
          "output_type": "stream",
          "name": "stdout",
          "text": [
            "Epoch 1/100\n",
            "291/291 [==============================] - 2s 4ms/step - loss: 2944.3000 - rmse: 54.2614 - val_loss: 4246.9565 - val_rmse: 65.1687\n",
            "Epoch 2/100\n",
            "291/291 [==============================] - 1s 4ms/step - loss: 1738.7050 - rmse: 41.6978 - val_loss: 2775.5625 - val_rmse: 52.6836\n",
            "Epoch 3/100\n",
            "291/291 [==============================] - 1s 3ms/step - loss: 1593.8528 - rmse: 39.9231 - val_loss: 2116.2913 - val_rmse: 46.0032\n",
            "Epoch 4/100\n",
            "291/291 [==============================] - 1s 4ms/step - loss: 1531.3077 - rmse: 39.1319 - val_loss: 2434.8022 - val_rmse: 49.3437\n",
            "Epoch 5/100\n",
            "291/291 [==============================] - 1s 4ms/step - loss: 1490.9036 - rmse: 38.6122 - val_loss: 2205.7664 - val_rmse: 46.9656\n",
            "Epoch 6/100\n",
            "291/291 [==============================] - 1s 4ms/step - loss: 1461.1768 - rmse: 38.2253 - val_loss: 2292.1172 - val_rmse: 47.8761\n",
            "Epoch 7/100\n",
            "291/291 [==============================] - 1s 3ms/step - loss: 1435.8052 - rmse: 37.8920 - val_loss: 2042.2305 - val_rmse: 45.1910\n",
            "Epoch 8/100\n",
            "291/291 [==============================] - 1s 3ms/step - loss: 1360.2943 - rmse: 36.8822 - val_loss: 2031.0911 - val_rmse: 45.0676\n",
            "Epoch 9/100\n",
            "291/291 [==============================] - 1s 4ms/step - loss: 1389.7151 - rmse: 37.2789 - val_loss: 2108.3069 - val_rmse: 45.9163\n",
            "Epoch 10/100\n",
            "291/291 [==============================] - 1s 3ms/step - loss: 1346.1565 - rmse: 36.6900 - val_loss: 1984.1821 - val_rmse: 44.5442\n",
            "Epoch 11/100\n",
            "291/291 [==============================] - 1s 3ms/step - loss: 1382.3395 - rmse: 37.1798 - val_loss: 2166.6799 - val_rmse: 46.5476\n",
            "Epoch 12/100\n",
            "291/291 [==============================] - 1s 3ms/step - loss: 1299.0220 - rmse: 36.0419 - val_loss: 1843.4515 - val_rmse: 42.9354\n",
            "Epoch 13/100\n",
            "291/291 [==============================] - 1s 4ms/step - loss: 1295.1104 - rmse: 35.9876 - val_loss: 1919.8517 - val_rmse: 43.8161\n",
            "Epoch 14/100\n",
            "291/291 [==============================] - 1s 3ms/step - loss: 1214.5092 - rmse: 34.8498 - val_loss: 1788.0161 - val_rmse: 42.2849\n",
            "Epoch 15/100\n",
            "291/291 [==============================] - 1s 3ms/step - loss: 1217.8767 - rmse: 34.8981 - val_loss: 2029.2946 - val_rmse: 45.0477\n",
            "Epoch 16/100\n",
            "291/291 [==============================] - 1s 3ms/step - loss: 1199.9393 - rmse: 34.6401 - val_loss: 2074.6179 - val_rmse: 45.5480\n",
            "Epoch 17/100\n",
            "291/291 [==============================] - 1s 3ms/step - loss: 1163.7167 - rmse: 34.1133 - val_loss: 2087.0974 - val_rmse: 45.6848\n",
            "Epoch 18/100\n",
            "291/291 [==============================] - 1s 3ms/step - loss: 1104.7747 - rmse: 33.2382 - val_loss: 1723.7100 - val_rmse: 41.5176\n",
            "Epoch 19/100\n",
            "291/291 [==============================] - 1s 3ms/step - loss: 1148.0177 - rmse: 33.8824 - val_loss: 2013.2108 - val_rmse: 44.8688\n",
            "Epoch 20/100\n",
            "291/291 [==============================] - 1s 3ms/step - loss: 1094.4517 - rmse: 33.0825 - val_loss: 1530.5426 - val_rmse: 39.1222\n",
            "Epoch 21/100\n",
            "291/291 [==============================] - 1s 3ms/step - loss: 1088.8793 - rmse: 32.9982 - val_loss: 1503.2385 - val_rmse: 38.7716\n",
            "Epoch 22/100\n",
            "291/291 [==============================] - 1s 3ms/step - loss: 992.1362 - rmse: 31.4982 - val_loss: 1504.9500 - val_rmse: 38.7937\n",
            "Epoch 23/100\n",
            "291/291 [==============================] - 1s 3ms/step - loss: 983.5840 - rmse: 31.3621 - val_loss: 1446.9054 - val_rmse: 38.0382\n",
            "Epoch 24/100\n",
            "291/291 [==============================] - 1s 4ms/step - loss: 929.0154 - rmse: 30.4798 - val_loss: 1794.0693 - val_rmse: 42.3565\n",
            "Epoch 25/100\n",
            "291/291 [==============================] - 1s 4ms/step - loss: 955.7354 - rmse: 30.9150 - val_loss: 1986.4351 - val_rmse: 44.5694\n",
            "Epoch 26/100\n",
            "291/291 [==============================] - 1s 4ms/step - loss: 924.0641 - rmse: 30.3984 - val_loss: 1931.5216 - val_rmse: 43.9491\n",
            "Epoch 27/100\n",
            "291/291 [==============================] - 1s 4ms/step - loss: 961.1257 - rmse: 31.0020 - val_loss: 1536.1321 - val_rmse: 39.1935\n",
            "Epoch 28/100\n",
            "291/291 [==============================] - 1s 3ms/step - loss: 870.8665 - rmse: 29.5104 - val_loss: 1873.4281 - val_rmse: 43.2831\n",
            "Epoch 29/100\n",
            "291/291 [==============================] - 1s 3ms/step - loss: 849.3203 - rmse: 29.1431 - val_loss: 1563.2213 - val_rmse: 39.5376\n",
            "Epoch 30/100\n",
            "291/291 [==============================] - 1s 3ms/step - loss: 901.8730 - rmse: 30.0312 - val_loss: 1792.6689 - val_rmse: 42.3399\n",
            "Epoch 31/100\n",
            "291/291 [==============================] - 1s 3ms/step - loss: 945.8924 - rmse: 30.7554 - val_loss: 1488.0154 - val_rmse: 38.5748\n",
            "Epoch 32/100\n",
            "291/291 [==============================] - 1s 5ms/step - loss: 853.1979 - rmse: 29.2096 - val_loss: 1652.4459 - val_rmse: 40.6503\n",
            "Epoch 33/100\n",
            "291/291 [==============================] - 2s 5ms/step - loss: 845.2885 - rmse: 29.0738 - val_loss: 1468.7894 - val_rmse: 38.3248\n",
            "Epoch 34/100\n",
            "291/291 [==============================] - 2s 5ms/step - loss: 847.6486 - rmse: 29.1144 - val_loss: 1615.0144 - val_rmse: 40.1872\n",
            "Epoch 35/100\n",
            "291/291 [==============================] - 1s 4ms/step - loss: 768.8260 - rmse: 27.7277 - val_loss: 1409.7053 - val_rmse: 37.5460\n",
            "Epoch 36/100\n",
            "291/291 [==============================] - 1s 4ms/step - loss: 797.8970 - rmse: 28.2471 - val_loss: 1592.0680 - val_rmse: 39.9007\n",
            "Epoch 37/100\n",
            "291/291 [==============================] - 1s 3ms/step - loss: 798.3085 - rmse: 28.2544 - val_loss: 1465.5652 - val_rmse: 38.2827\n",
            "Epoch 38/100\n",
            "291/291 [==============================] - 1s 3ms/step - loss: 778.6664 - rmse: 27.9046 - val_loss: 1472.5961 - val_rmse: 38.3744\n",
            "Epoch 39/100\n",
            "291/291 [==============================] - 1s 4ms/step - loss: 804.4992 - rmse: 28.3637 - val_loss: 1639.4791 - val_rmse: 40.4905\n",
            "Epoch 40/100\n",
            "291/291 [==============================] - 1s 4ms/step - loss: 812.6407 - rmse: 28.5069 - val_loss: 1266.3159 - val_rmse: 35.5853\n",
            "Epoch 41/100\n",
            "291/291 [==============================] - 1s 3ms/step - loss: 772.7753 - rmse: 27.7988 - val_loss: 1328.5201 - val_rmse: 36.4489\n",
            "Epoch 42/100\n",
            "291/291 [==============================] - 1s 4ms/step - loss: 706.6849 - rmse: 26.5835 - val_loss: 1557.8873 - val_rmse: 39.4701\n",
            "Epoch 43/100\n",
            "291/291 [==============================] - 1s 3ms/step - loss: 683.2211 - rmse: 26.1385 - val_loss: 1516.6069 - val_rmse: 38.9436\n",
            "Epoch 44/100\n",
            "291/291 [==============================] - 1s 3ms/step - loss: 712.7615 - rmse: 26.6976 - val_loss: 1299.1228 - val_rmse: 36.0433\n",
            "Epoch 45/100\n",
            "291/291 [==============================] - 1s 3ms/step - loss: 711.5422 - rmse: 26.6747 - val_loss: 1380.5796 - val_rmse: 37.1562\n",
            "Epoch 46/100\n",
            "291/291 [==============================] - 1s 3ms/step - loss: 687.9265 - rmse: 26.2284 - val_loss: 1461.0961 - val_rmse: 38.2243\n",
            "Epoch 47/100\n",
            "291/291 [==============================] - 1s 4ms/step - loss: 699.4116 - rmse: 26.4464 - val_loss: 1461.2361 - val_rmse: 38.2261\n",
            "Epoch 48/100\n",
            "291/291 [==============================] - 1s 3ms/step - loss: 657.0424 - rmse: 25.6328 - val_loss: 1431.2909 - val_rmse: 37.8324\n",
            "Epoch 49/100\n",
            "291/291 [==============================] - 1s 4ms/step - loss: 692.7491 - rmse: 26.3201 - val_loss: 1487.9760 - val_rmse: 38.5743\n",
            "Epoch 50/100\n",
            "291/291 [==============================] - 1s 4ms/step - loss: 708.1091 - rmse: 26.6103 - val_loss: 1492.3253 - val_rmse: 38.6306\n",
            "Epoch 51/100\n",
            "291/291 [==============================] - 1s 4ms/step - loss: 682.7871 - rmse: 26.1302 - val_loss: 1434.7834 - val_rmse: 37.8785\n",
            "Epoch 52/100\n",
            "291/291 [==============================] - 1s 4ms/step - loss: 706.9842 - rmse: 26.5892 - val_loss: 1683.9739 - val_rmse: 41.0363\n",
            "Epoch 53/100\n",
            "291/291 [==============================] - 1s 4ms/step - loss: 710.6323 - rmse: 26.6577 - val_loss: 1409.0181 - val_rmse: 37.5369\n",
            "Epoch 54/100\n",
            "291/291 [==============================] - 1s 3ms/step - loss: 659.9626 - rmse: 25.6897 - val_loss: 1350.5929 - val_rmse: 36.7504\n",
            "Epoch 55/100\n",
            "291/291 [==============================] - 1s 3ms/step - loss: 667.3555 - rmse: 25.8332 - val_loss: 1402.9719 - val_rmse: 37.4563\n",
            "Epoch 56/100\n",
            "291/291 [==============================] - 1s 4ms/step - loss: 655.7660 - rmse: 25.6079 - val_loss: 1411.9155 - val_rmse: 37.5755\n",
            "Epoch 57/100\n",
            "291/291 [==============================] - 1s 3ms/step - loss: 641.7286 - rmse: 25.3324 - val_loss: 1250.3905 - val_rmse: 35.3609\n",
            "Epoch 58/100\n",
            "291/291 [==============================] - 2s 6ms/step - loss: 628.4416 - rmse: 25.0687 - val_loss: 1474.5410 - val_rmse: 38.3998\n",
            "Epoch 59/100\n",
            "291/291 [==============================] - 2s 7ms/step - loss: 665.9269 - rmse: 25.8056 - val_loss: 1479.5024 - val_rmse: 38.4643\n",
            "Epoch 60/100\n",
            "291/291 [==============================] - 2s 8ms/step - loss: 596.3894 - rmse: 24.4211 - val_loss: 1338.0586 - val_rmse: 36.5795\n",
            "Epoch 61/100\n",
            "291/291 [==============================] - 2s 8ms/step - loss: 660.8431 - rmse: 25.7069 - val_loss: 1632.6515 - val_rmse: 40.4061\n",
            "Epoch 62/100\n",
            "291/291 [==============================] - 2s 8ms/step - loss: 597.6050 - rmse: 24.4460 - val_loss: 1638.5165 - val_rmse: 40.4786\n",
            "Epoch 63/100\n",
            "291/291 [==============================] - 3s 11ms/step - loss: 625.0248 - rmse: 25.0005 - val_loss: 1565.8329 - val_rmse: 39.5706\n",
            "Epoch 64/100\n",
            "291/291 [==============================] - 2s 6ms/step - loss: 651.9657 - rmse: 25.5336 - val_loss: 1475.8303 - val_rmse: 38.4165\n",
            "Epoch 65/100\n",
            "291/291 [==============================] - 2s 7ms/step - loss: 581.1243 - rmse: 24.1065 - val_loss: 1593.7473 - val_rmse: 39.9218\n",
            "Epoch 66/100\n",
            "291/291 [==============================] - 1s 4ms/step - loss: 639.1644 - rmse: 25.2817 - val_loss: 1479.4890 - val_rmse: 38.4641\n",
            "Epoch 67/100\n",
            "291/291 [==============================] - 1s 3ms/step - loss: 593.5149 - rmse: 24.3622 - val_loss: 1636.2542 - val_rmse: 40.4506\n",
            "Epoch 68/100\n",
            "291/291 [==============================] - 1s 4ms/step - loss: 583.7877 - rmse: 24.1617 - val_loss: 1732.6117 - val_rmse: 41.6247\n",
            "Epoch 69/100\n",
            "291/291 [==============================] - 1s 3ms/step - loss: 575.8107 - rmse: 23.9961 - val_loss: 1504.3512 - val_rmse: 38.7860\n",
            "Epoch 70/100\n",
            "291/291 [==============================] - 1s 3ms/step - loss: 603.0709 - rmse: 24.5575 - val_loss: 1369.1993 - val_rmse: 37.0027\n",
            "Epoch 71/100\n",
            "291/291 [==============================] - 1s 4ms/step - loss: 586.3972 - rmse: 24.2156 - val_loss: 1390.2764 - val_rmse: 37.2864\n",
            "Epoch 72/100\n",
            "291/291 [==============================] - 1s 4ms/step - loss: 575.2894 - rmse: 23.9852 - val_loss: 1592.3036 - val_rmse: 39.9037\n",
            "Epoch 73/100\n",
            "291/291 [==============================] - 1s 3ms/step - loss: 568.8907 - rmse: 23.8514 - val_loss: 1742.8500 - val_rmse: 41.7475\n",
            "Epoch 74/100\n",
            "291/291 [==============================] - 1s 3ms/step - loss: 570.3760 - rmse: 23.8825 - val_loss: 1420.1340 - val_rmse: 37.6847\n",
            "Epoch 75/100\n",
            "291/291 [==============================] - 1s 4ms/step - loss: 591.4645 - rmse: 24.3200 - val_loss: 1662.3203 - val_rmse: 40.7716\n",
            "Epoch 76/100\n",
            "291/291 [==============================] - 1s 4ms/step - loss: 556.4353 - rmse: 23.5889 - val_loss: 1679.1973 - val_rmse: 40.9780\n",
            "Epoch 77/100\n",
            "291/291 [==============================] - 1s 3ms/step - loss: 575.4579 - rmse: 23.9887 - val_loss: 1695.7122 - val_rmse: 41.1790\n",
            "Epoch 78/100\n",
            "291/291 [==============================] - 1s 4ms/step - loss: 569.4020 - rmse: 23.8621 - val_loss: 1547.9601 - val_rmse: 39.3441\n",
            "Epoch 79/100\n",
            "291/291 [==============================] - 1s 3ms/step - loss: 609.2482 - rmse: 24.6830 - val_loss: 1784.8387 - val_rmse: 42.2474\n",
            "Epoch 80/100\n",
            "291/291 [==============================] - 1s 3ms/step - loss: 544.2596 - rmse: 23.3294 - val_loss: 1367.6777 - val_rmse: 36.9821\n",
            "Epoch 81/100\n",
            "291/291 [==============================] - 1s 3ms/step - loss: 522.0047 - rmse: 22.8474 - val_loss: 1532.8555 - val_rmse: 39.1517\n",
            "Epoch 82/100\n",
            "291/291 [==============================] - 1s 3ms/step - loss: 569.4805 - rmse: 23.8638 - val_loss: 1723.6959 - val_rmse: 41.5174\n",
            "Epoch 83/100\n",
            "291/291 [==============================] - 1s 4ms/step - loss: 524.9881 - rmse: 22.9126 - val_loss: 1623.2250 - val_rmse: 40.2893\n",
            "Epoch 84/100\n",
            "291/291 [==============================] - 1s 3ms/step - loss: 555.7955 - rmse: 23.5753 - val_loss: 1602.3702 - val_rmse: 40.0296\n",
            "Epoch 85/100\n",
            "291/291 [==============================] - 1s 3ms/step - loss: 543.0762 - rmse: 23.3040 - val_loss: 1628.7188 - val_rmse: 40.3574\n",
            "Epoch 86/100\n",
            "291/291 [==============================] - 1s 3ms/step - loss: 548.2980 - rmse: 23.4158 - val_loss: 1441.4253 - val_rmse: 37.9661\n",
            "Epoch 87/100\n",
            "291/291 [==============================] - 1s 3ms/step - loss: 565.2761 - rmse: 23.7755 - val_loss: 1670.2190 - val_rmse: 40.8683\n",
            "Epoch 88/100\n",
            "291/291 [==============================] - 1s 3ms/step - loss: 547.1018 - rmse: 23.3902 - val_loss: 1557.7366 - val_rmse: 39.4682\n",
            "Epoch 89/100\n",
            "291/291 [==============================] - 1s 3ms/step - loss: 519.3802 - rmse: 22.7899 - val_loss: 1679.4512 - val_rmse: 40.9811\n",
            "Epoch 90/100\n",
            "291/291 [==============================] - 1s 4ms/step - loss: 500.1536 - rmse: 22.3641 - val_loss: 1627.1965 - val_rmse: 40.3385\n",
            "Epoch 91/100\n",
            "291/291 [==============================] - 1s 3ms/step - loss: 524.9547 - rmse: 22.9119 - val_loss: 1640.3365 - val_rmse: 40.5011\n",
            "Epoch 92/100\n",
            "291/291 [==============================] - 1s 3ms/step - loss: 496.3863 - rmse: 22.2797 - val_loss: 1747.3060 - val_rmse: 41.8008\n",
            "Epoch 93/100\n",
            "291/291 [==============================] - 1s 3ms/step - loss: 510.6158 - rmse: 22.5968 - val_loss: 1518.0618 - val_rmse: 38.9623\n",
            "Epoch 94/100\n",
            "291/291 [==============================] - 1s 3ms/step - loss: 538.3833 - rmse: 23.2031 - val_loss: 1496.8300 - val_rmse: 38.6889\n",
            "Epoch 95/100\n",
            "291/291 [==============================] - 1s 4ms/step - loss: 515.6226 - rmse: 22.7073 - val_loss: 1565.6627 - val_rmse: 39.5685\n",
            "Epoch 96/100\n",
            "291/291 [==============================] - 1s 3ms/step - loss: 493.7641 - rmse: 22.2208 - val_loss: 1583.8210 - val_rmse: 39.7972\n",
            "Epoch 97/100\n",
            "291/291 [==============================] - 1s 3ms/step - loss: 473.0128 - rmse: 21.7489 - val_loss: 1717.5837 - val_rmse: 41.4437\n",
            "Epoch 98/100\n",
            "291/291 [==============================] - 1s 4ms/step - loss: 513.5019 - rmse: 22.6606 - val_loss: 1782.4148 - val_rmse: 42.2187\n",
            "Epoch 99/100\n",
            "291/291 [==============================] - 1s 4ms/step - loss: 540.5145 - rmse: 23.2490 - val_loss: 1757.1810 - val_rmse: 41.9187\n",
            "Epoch 100/100\n",
            "291/291 [==============================] - 1s 3ms/step - loss: 554.9077 - rmse: 23.5565 - val_loss: 1635.4279 - val_rmse: 40.4404\n"
          ]
        },
        {
          "output_type": "execute_result",
          "data": {
            "text/plain": [
              "<keras.callbacks.History at 0x7fae37e9aa10>"
            ]
          },
          "metadata": {},
          "execution_count": 136
        }
      ],
      "source": [
        "model.fit(X_train_norm.to_numpy(),\n",
        "          Y_train.to_numpy(), \n",
        "          epochs=100, \n",
        "          validation_data=(X_test_norm.to_numpy(),Y_test.to_numpy()),\n",
        "          )"
      ]
    },
    {
      "cell_type": "markdown",
      "source": [
        "## **Model Testing**"
      ],
      "metadata": {
        "id": "ExsmI79bOsIs"
      }
    },
    {
      "cell_type": "code",
      "source": [
        "from sklearn.metrics import mean_squared_error, mean_poisson_deviance"
      ],
      "metadata": {
        "id": "_5V9LUtCPiUt"
      },
      "execution_count": null,
      "outputs": []
    },
    {
      "cell_type": "code",
      "source": [
        "rmse_forest = mean_squared_error(y_true = Y_test, y_pred = lr.predict(X_test_norm))\n",
        "rmse_forest"
      ],
      "metadata": {
        "colab": {
          "base_uri": "https://localhost:8080/"
        },
        "id": "aja5Y5hJSnSk",
        "outputId": "7aeb1869-8f4a-4315-a7ed-e0004ea735e7"
      },
      "execution_count": null,
      "outputs": [
        {
          "output_type": "execute_result",
          "data": {
            "text/plain": [
              "4.439138916502344e+24"
            ]
          },
          "metadata": {},
          "execution_count": 160
        }
      ]
    },
    {
      "cell_type": "code",
      "source": [
        "predicted_forest = forest.predict(X_test)\n",
        "rmse_forest = mean_squared_error(y_true = Y_test, y_pred = predicted_forest)\n",
        "rmse_forest"
      ],
      "metadata": {
        "colab": {
          "base_uri": "https://localhost:8080/"
        },
        "id": "lJHbNeuBPrbg",
        "outputId": "eb5062cc-7d95-42b7-d8ae-9985165bf31e"
      },
      "execution_count": null,
      "outputs": [
        {
          "output_type": "execute_result",
          "data": {
            "text/plain": [
              "1095.3816484178005"
            ]
          },
          "metadata": {},
          "execution_count": 154
        }
      ]
    },
    {
      "cell_type": "code",
      "source": [
        "predicted_xgb = xgb.predict(X_test)\n",
        "rmse_xgb = mean_squared_error(y_true = Y_test, y_pred = predicted_xgb)\n",
        "rmse_xgb"
      ],
      "metadata": {
        "colab": {
          "base_uri": "https://localhost:8080/"
        },
        "id": "UZSIuUFtOw0g",
        "outputId": "accf978c-fcf2-461b-a852-bf3a7e3ffa8b"
      },
      "execution_count": null,
      "outputs": [
        {
          "output_type": "execute_result",
          "data": {
            "text/plain": [
              "1083.3330894257779"
            ]
          },
          "metadata": {},
          "execution_count": 148
        }
      ]
    },
    {
      "cell_type": "code",
      "source": [
        "predicted_data_norm = data_test_norm.copy()\n",
        "predicted_data_norm['Price'] = model.predict(X_test_norm.to_numpy())\n",
        "predicted_data_unorm = pd.DataFrame(index=predicted_data_norm.index, columns=predicted_data_norm.columns, data=train_scaler.inverse_transform(predicted_data_norm))\n",
        "predicted_data_unorm['Predicted_Price'] = predicted_data_unorm['Price']\n",
        "predicted_data_unorm['Price'] = data_test['Price']\n",
        "\n",
        "rmse_nn = round(np.mean(100*np.sqrt((predicted_data_unorm['Price'] - predicted_data_unorm['Predicted_Price'])**2)/predicted_data_unorm['Price']),2)\n",
        "rmse_nn"
      ],
      "metadata": {
        "id": "Y_n4e_7HTQWZ",
        "colab": {
          "base_uri": "https://localhost:8080/"
        },
        "outputId": "223cb870-6126-4abb-bacd-bce9e98c5f28"
      },
      "execution_count": null,
      "outputs": [
        {
          "output_type": "execute_result",
          "data": {
            "text/plain": [
              "5884.5"
            ]
          },
          "metadata": {},
          "execution_count": 138
        }
      ]
    }
  ],
  "metadata": {
    "kernelspec": {
      "display_name": "Python 3 (ipykernel)",
      "language": "python",
      "name": "python3"
    },
    "language_info": {
      "codemirror_mode": {
        "name": "ipython",
        "version": 3
      },
      "file_extension": ".py",
      "mimetype": "text/x-python",
      "name": "python",
      "nbconvert_exporter": "python",
      "pygments_lexer": "ipython3",
      "version": "3.9.7"
    },
    "colab": {
      "name": "Práctica Final_1306.ipynb",
      "provenance": [],
      "collapsed_sections": []
    }
  },
  "nbformat": 4,
  "nbformat_minor": 0
}